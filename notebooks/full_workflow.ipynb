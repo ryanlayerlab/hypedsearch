{
 "cells": [
  {
   "cell_type": "code",
   "execution_count": 34,
   "metadata": {},
   "outputs": [
    {
     "name": "stdout",
     "output_type": "stream",
     "text": [
      "cwd = /Users/erjo3868/repos/hypedsearch/hypedsearch\n"
     ]
    }
   ],
   "source": [
    "import os \n",
    "import warnings\n",
    "\n",
    "warnings.filterwarnings(\"ignore\")\n",
    "os.chdir(\"/Users/erjo3868/repos/hypedsearch/hypedsearch\")\n",
    "print(f\"cwd = {os.getcwd()}\")\n",
    "\n",
    "from src.lookups.protein_kmer_db import (\n",
    "    ProteinKmerDb,\n",
    "    prepare_protein_kmer_database\n",
    ")\n",
    "import time\n",
    "from src.erik import (\n",
    "    query_database,\n",
    "    parse_mzml,\n",
    "    get_indices_of_largest_elements\n",
    ")\n",
    "import numpy as np"
   ]
  },
  {
   "cell_type": "code",
   "execution_count": 26,
   "metadata": {},
   "outputs": [],
   "source": [
    "mzml_path = \"data/spectra/BMEM_AspN_Fxn4.mzML\"\n",
    "spectra = list(parse_mzml(mzml_path=mzml_path))"
   ]
  },
  {
   "cell_type": "code",
   "execution_count": null,
   "metadata": {},
   "outputs": [
    {
     "name": "stdout",
     "output_type": "stream",
     "text": [
      "Preparing the database took 0.02 secs = 0.0 mins\n"
     ]
    },
    {
     "data": {
      "text/plain": [
       "50"
      ]
     },
     "execution_count": 39,
     "metadata": {},
     "output_type": "execute_result"
    }
   ],
   "source": [
    "fasta_path = \"tests/test.fasta\"\n",
    "db_path = \"dbs/test.fasta.db\"\n",
    "max_kmer_len = 50\n",
    "charges_to_consider = [1, 2, 3]\n",
    "top_n_most_abundant = 50\n",
    "\n",
    "t0 = time.time()\n",
    "db = prepare_protein_kmer_database(\n",
    "    db_path=db_path,\n",
    "    fasta_path=fasta_path,\n",
    "    max_kmer_len=max_kmer_len,\n",
    "    charges_to_consider=charges_to_consider\n",
    ")\n",
    "t1 = time.time()\n",
    "duration = round(t1 - t0, 2)\n",
    "print(f\"Preparing the database took {duration} secs = {round(duration/60, 2)} mins\")\n",
    "\n",
    "# query = \"\"\"SELECT name\n",
    "# FROM sqlite_master\n",
    "# WHERE type = 'table';\"\"\"\n",
    "# t0 = time.time()\n",
    "# query_database(query=query, db_path=db_path)\n",
    "# t1 = time.time()\n",
    "\n",
    "# query = f\"PRAGMA table_info(proteins);\"\n",
    "# query_database(query=query, db_path=db_path)\n",
    "\n",
    "# query = f\"PRAGMA table_info(kmers);\"\n",
    "# query_database(query=query, db_path=db_path)\n",
    "\n",
    "for spectrum in spectra:\n",
    "    # Look at most abundant \n",
    "    abundances = [peak.abundance for peak in spectrum.peaks]\n",
    "    indices = get_indices_of_largest_elements(array=abundances, top_n=top_n_most_abundant)\n",
    "    peaks = np.array(spectrum.peaks)\n",
    "    top_n_peaks = peaks[indices]\n",
    "\n",
    "    # \n",
    "    for peak in top_n_peaks:\n",
    "    \n",
    "\n",
    "\n",
    "    break\n"
   ]
  },
  {
   "cell_type": "code",
   "execution_count": 33,
   "metadata": {},
   "outputs": [
    {
     "ename": "TypeError",
     "evalue": "list indices must be integers or slices, not list",
     "output_type": "error",
     "traceback": [
      "\u001b[0;31m---------------------------------------------------------------------------\u001b[0m",
      "\u001b[0;31mTypeError\u001b[0m                                 Traceback (most recent call last)",
      "Cell \u001b[0;32mIn[33], line 1\u001b[0m\n\u001b[0;32m----> 1\u001b[0m \u001b[43mabundances\u001b[49m\u001b[43m[\u001b[49m\u001b[43m[\u001b[49m\u001b[38;5;241;43m1\u001b[39;49m\u001b[43m,\u001b[49m\u001b[38;5;241;43m2\u001b[39;49m\u001b[43m]\u001b[49m\u001b[43m]\u001b[49m\n",
      "\u001b[0;31mTypeError\u001b[0m: list indices must be integers or slices, not list"
     ]
    }
   ],
   "source": [
    "abundances[[1,2]]"
   ]
  },
  {
   "cell_type": "code",
   "execution_count": null,
   "metadata": {},
   "outputs": [],
   "source": []
  }
 ],
 "metadata": {
  "kernelspec": {
   "display_name": "hypedsearch",
   "language": "python",
   "name": "python3"
  },
  "language_info": {
   "codemirror_mode": {
    "name": "ipython",
    "version": 3
   },
   "file_extension": ".py",
   "mimetype": "text/x-python",
   "name": "python",
   "nbconvert_exporter": "python",
   "pygments_lexer": "ipython3",
   "version": "3.11.11"
  }
 },
 "nbformat": 4,
 "nbformat_minor": 2
}

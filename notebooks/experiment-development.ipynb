{
 "cells": [
  {
   "cell_type": "markdown",
   "metadata": {},
   "source": [
    "# Set working dir"
   ]
  },
  {
   "cell_type": "code",
   "execution_count": 2,
   "metadata": {},
   "outputs": [],
   "source": [
    "import os \n",
    "import warnings\n",
    "import platform\n",
    "\n",
    "warnings.filterwarnings(\"ignore\")\n",
    "if \"macOS\" in platform.platform():\n",
    "    os.chdir(\"/Users/erjo3868/repos/hypedsearch/hypedsearch\")\n",
    "# Running on Fiji\n",
    "else:\n",
    "    os.chdir(\"/scratch/Shares/layer/hypedsearch/hypedsearch\")\n"
   ]
  },
  {
   "cell_type": "markdown",
   "metadata": {},
   "source": [
    "# Index protein-product ion DB"
   ]
  },
  {
   "cell_type": "code",
   "execution_count": null,
   "metadata": {},
   "outputs": [
    {
     "name": "stdout",
     "output_type": "stream",
     "text": [
      "DB size BEFORE indexing = 56.392478942871094\n"
     ]
    }
   ],
   "source": [
    "%%time\n",
    "from src.lookups.protein_product_ion_db import load_existing_protein_product_ion_db\n",
    "import os\n",
    "db_path = \"dbs/Uniprot_mouse.fasta_max_k=30_charges=(1, 2, 3).db\"\n",
    "size_gb = os.path.getsize(db_path) / (1024 ** 3)\n",
    "print(f\"DB size BEFORE indexing = {size_gb}\")\n",
    "\n",
    "db = load_existing_protein_product_ion_db(db_path=db_path)\n",
    "db.create_index_on_product_ion_mass()\n",
    "\n",
    "size_gb = os.path.getsize(db_path) / (1024 ** 3)\n",
    "print(f\"DB size AFTER indexing = {size_gb}\")"
   ]
  },
  {
   "cell_type": "code",
   "execution_count": null,
   "metadata": {},
   "outputs": [],
   "source": []
  },
  {
   "cell_type": "markdown",
   "metadata": {},
   "source": [
    "# Create protein-product ion DBs"
   ]
  },
  {
   "cell_type": "code",
   "execution_count": null,
   "metadata": {},
   "outputs": [],
   "source": [
    "import pandas as pd\n",
    "from src.erik import load_comet_data\n",
    "from src.constants import PRODUCT_ION_TABLE\n",
    "from src.fasta_utils import get_proteins_from_fasta, get_specific_protein_from_fasta\n",
    "from src.lookups.protein_product_ion_db import create_protein_product_ion_db, get_average_mass_search_time\n",
    "from experiments.ions_per_mass import main\n",
    "\n",
    "fasta_path = \"fastas/Uniprot_mouse.fasta\"\n",
    "db_path = \"dbs/test.proteinproduction.db\""
   ]
  },
  {
   "cell_type": "code",
   "execution_count": null,
   "metadata": {},
   "outputs": [],
   "source": [
    "proteins = list(get_proteins_from_fasta(fasta_path=fasta_path))\n",
    "proteins = proteins[:10]\n",
    "\n",
    "# protein_name = \"sp|P99027|RLA2_MOUSE\"\n",
    "# protein = get_specific_protein_from_fasta(fasta_path=fasta_path, protein_name=protein_name)\n",
    "db = create_protein_product_ion_db(\n",
    "    db_path=db_path,\n",
    "    protein_seqs=[protein.sequence for protein in proteins[:10]],\n",
    "    charges_to_consider=[1, 2],\n",
    "    max_kmer_len=30,\n",
    ")"
   ]
  },
  {
   "cell_type": "code",
   "execution_count": 5,
   "metadata": {},
   "outputs": [
    {
     "name": "stdout",
     "output_type": "stream",
     "text": [
      "Generating random sample...\n",
      "Finished generating random sample\n",
      "Ion 1 of 10\n",
      "Ion 2 of 10\n",
      "Ion 3 of 10\n",
      "Ion 4 of 10\n",
      "Ion 5 of 10\n",
      "Ion 6 of 10\n",
      "Ion 7 of 10\n",
      "Ion 8 of 10\n",
      "Ion 9 of 10\n",
      "Ion 10 of 10\n"
     ]
    },
    {
     "data": {
      "text/html": [
       "<div>\n",
       "<style scoped>\n",
       "    .dataframe tbody tr th:only-of-type {\n",
       "        vertical-align: middle;\n",
       "    }\n",
       "\n",
       "    .dataframe tbody tr th {\n",
       "        vertical-align: top;\n",
       "    }\n",
       "\n",
       "    .dataframe thead th {\n",
       "        text-align: right;\n",
       "    }\n",
       "</style>\n",
       "<table border=\"1\" class=\"dataframe\">\n",
       "  <thead>\n",
       "    <tr style=\"text-align: right;\">\n",
       "      <th></th>\n",
       "      <th>mass</th>\n",
       "      <th>time</th>\n",
       "      <th>num_matching_ions</th>\n",
       "      <th>len_search_ion</th>\n",
       "      <th>num_matching_ions_by_charge</th>\n",
       "    </tr>\n",
       "  </thead>\n",
       "  <tbody>\n",
       "    <tr>\n",
       "      <th>0</th>\n",
       "      <td>2527.323138</td>\n",
       "      <td>0.823784</td>\n",
       "      <td>24</td>\n",
       "      <td>23</td>\n",
       "      <td>{1: 24}</td>\n",
       "    </tr>\n",
       "    <tr>\n",
       "      <th>1</th>\n",
       "      <td>982.411230</td>\n",
       "      <td>0.417797</td>\n",
       "      <td>8</td>\n",
       "      <td>8</td>\n",
       "      <td>{1: 7, 2: 1}</td>\n",
       "    </tr>\n",
       "    <tr>\n",
       "      <th>2</th>\n",
       "      <td>1631.340411</td>\n",
       "      <td>0.208170</td>\n",
       "      <td>18</td>\n",
       "      <td>28</td>\n",
       "      <td>{2: 18}</td>\n",
       "    </tr>\n",
       "    <tr>\n",
       "      <th>3</th>\n",
       "      <td>3724.859914</td>\n",
       "      <td>0.415554</td>\n",
       "      <td>3</td>\n",
       "      <td>30</td>\n",
       "      <td>{1: 3}</td>\n",
       "    </tr>\n",
       "    <tr>\n",
       "      <th>4</th>\n",
       "      <td>1719.840417</td>\n",
       "      <td>0.817771</td>\n",
       "      <td>19</td>\n",
       "      <td>15</td>\n",
       "      <td>{2: 5, 1: 14}</td>\n",
       "    </tr>\n",
       "    <tr>\n",
       "      <th>5</th>\n",
       "      <td>1868.837106</td>\n",
       "      <td>1.221565</td>\n",
       "      <td>10</td>\n",
       "      <td>16</td>\n",
       "      <td>{1: 10}</td>\n",
       "    </tr>\n",
       "    <tr>\n",
       "      <th>6</th>\n",
       "      <td>50.541483</td>\n",
       "      <td>0.819681</td>\n",
       "      <td>310</td>\n",
       "      <td>1</td>\n",
       "      <td>{2: 310}</td>\n",
       "    </tr>\n",
       "    <tr>\n",
       "      <th>7</th>\n",
       "      <td>3390.959707</td>\n",
       "      <td>0.807122</td>\n",
       "      <td>2</td>\n",
       "      <td>30</td>\n",
       "      <td>{1: 2}</td>\n",
       "    </tr>\n",
       "    <tr>\n",
       "      <th>8</th>\n",
       "      <td>487.248152</td>\n",
       "      <td>1.229158</td>\n",
       "      <td>24</td>\n",
       "      <td>8</td>\n",
       "      <td>{1: 15, 2: 9}</td>\n",
       "    </tr>\n",
       "    <tr>\n",
       "      <th>9</th>\n",
       "      <td>455.738771</td>\n",
       "      <td>0.832291</td>\n",
       "      <td>11</td>\n",
       "      <td>8</td>\n",
       "      <td>{2: 11}</td>\n",
       "    </tr>\n",
       "  </tbody>\n",
       "</table>\n",
       "</div>"
      ],
      "text/plain": [
       "          mass      time  num_matching_ions  len_search_ion  \\\n",
       "0  2527.323138  0.823784                 24              23   \n",
       "1   982.411230  0.417797                  8               8   \n",
       "2  1631.340411  0.208170                 18              28   \n",
       "3  3724.859914  0.415554                  3              30   \n",
       "4  1719.840417  0.817771                 19              15   \n",
       "5  1868.837106  1.221565                 10              16   \n",
       "6    50.541483  0.819681                310               1   \n",
       "7  3390.959707  0.807122                  2              30   \n",
       "8   487.248152  1.229158                 24               8   \n",
       "9   455.738771  0.832291                 11               8   \n",
       "\n",
       "  num_matching_ions_by_charge  \n",
       "0                     {1: 24}  \n",
       "1                {1: 7, 2: 1}  \n",
       "2                     {2: 18}  \n",
       "3                      {1: 3}  \n",
       "4               {2: 5, 1: 14}  \n",
       "5                     {1: 10}  \n",
       "6                    {2: 310}  \n",
       "7                      {1: 2}  \n",
       "8               {1: 15, 2: 9}  \n",
       "9                     {2: 11}  "
      ]
     },
     "execution_count": 5,
     "metadata": {},
     "output_type": "execute_result"
    }
   ],
   "source": [
    "df = main(db_path=db_path, sample_size=10, ppm_tolerance=10, output_dir=None)\n",
    "df"
   ]
  },
  {
   "cell_type": "code",
   "execution_count": null,
   "metadata": {},
   "outputs": [
    {
     "name": "stdout",
     "output_type": "stream",
     "text": [
      "Generating random sample...\n"
     ]
    }
   ],
   "source": [
    "db_path = \"dbs/Uniprot_mouse.fasta_max_k=30_charges=(1, 2, 3).db\"\n",
    "df = main(db_path=db_path, sample_size=10, ppm_tolerance=10, output_dir=None)"
   ]
  },
  {
   "cell_type": "markdown",
   "metadata": {},
   "source": [
    "# How long does it take to query the protein-product ion DB by mass? "
   ]
  },
  {
   "cell_type": "code",
   "execution_count": 2,
   "metadata": {},
   "outputs": [],
   "source": [
    "from src.lookups.protein_product_ion_db import load_existing_protein_product_ion_db\n",
    "\n",
    "db_path = \"dbs/Uniprot_mouse.fasta_max_k=30_charges=(1, 2, 3).db\"\n",
    "db = load_existing_protein_product_ion_db(db_path=db_path)\n",
    "# query = f\"SELECT {MASS} FROM {PRODUCT_ION_TABLE} ORDER BY RANDOM() LIMIT {sample_size};\"\n",
    "# db.run_query(query=query)"
   ]
  },
  {
   "cell_type": "code",
   "execution_count": null,
   "metadata": {},
   "outputs": [],
   "source": [
    "db.get_charges_in_db()"
   ]
  },
  {
   "cell_type": "code",
   "execution_count": null,
   "metadata": {},
   "outputs": [],
   "source": [
    "df = main(db_path=db_path, sample_size=10, ppm_tolerance=10, output_dir=None)"
   ]
  },
  {
   "cell_type": "markdown",
   "metadata": {},
   "source": [
    "# Get all k-mers in FASTA"
   ]
  },
  {
   "cell_type": "code",
   "execution_count": null,
   "metadata": {},
   "outputs": [],
   "source": [
    "# Imports\n",
    "from src.erik import generate_kmers\n",
    "from src.constants import MOUSE_PROTEOME\n",
    "from src.fasta_utils import get_proteins_from_fasta\n",
    "from tqdm import tqdm\n",
    "from Bio import SeqIO\n",
    "import numpy as np"
   ]
  },
  {
   "cell_type": "code",
   "execution_count": null,
   "metadata": {},
   "outputs": [
    {
     "name": "stderr",
     "output_type": "stream",
     "text": [
      " 49%|████▉     | 10644/21759 [08:57<05:11, 35.71it/s]  "
     ]
    }
   ],
   "source": [
    "proteins = list(get_proteins_from_fasta(fasta_path=MOUSE_PROTEOME))\n",
    "\n",
    "max_k = 30\n",
    "uniq_kmers = set()\n",
    "for protein in tqdm(proteins):\n",
    "    # kmers = set([kmer.seq for kmer in generate_kmers(peptide=protein.sequence, max_k=max_k)])\n"
   ]
  },
  {
   "cell_type": "markdown",
   "metadata": {},
   "source": [
    "The above was really slow.\n",
    "Let's try ChatGPT's suggested way"
   ]
  },
  {
   "cell_type": "code",
   "execution_count": 21,
   "metadata": {},
   "outputs": [
    {
     "name": "stderr",
     "output_type": "stream",
     "text": [
      "100%|██████████| 30/30 [01:21<00:00,  2.71s/it]\n"
     ]
    }
   ],
   "source": [
    "from Bio import SeqIO\n",
    "from src.constants import MOUSE_PROTEOME\n",
    "\n",
    "proteins = list(get_proteins_from_fasta(fasta_path=MOUSE_PROTEOME))\n",
    "\n",
    "def get_unique_kmers(fasta_file, k):\n",
    "    unique_kmers = set()\n",
    "    \n",
    "    # Read FASTA sequences one at a time\n",
    "    for record in SeqIO.parse(fasta_file, \"fasta\"):\n",
    "        seq = str(record.seq)\n",
    "        \n",
    "        # Generate kmers using a sliding window\n",
    "        for i in range(len(seq) - k + 1):\n",
    "            kmer = seq[i:i + k]\n",
    "            unique_kmers.add(kmer)  # Sets automatically store only unique kmers\n",
    "    \n",
    "    return unique_kmers\n",
    "\n",
    "uniq_kmers = {}\n",
    "for k in tqdm(np.arange(1, 31)):\n",
    "    uniq_kmers[k] = get_unique_kmers(fasta_file=MOUSE_PROTEOME, k=k)\n",
    "\n"
   ]
  },
  {
   "cell_type": "code",
   "execution_count": 23,
   "metadata": {},
   "outputs": [
    {
     "data": {
      "text/plain": [
       "(1, 24)"
      ]
     },
     "execution_count": 23,
     "metadata": {},
     "output_type": "execute_result"
    }
   ],
   "source": [
    "cum_sum = {}\n",
    "for k, kmers in uniq_kmers.items():\n",
    "    k, len(kmers)\n",
    "    break"
   ]
  }
 ],
 "metadata": {
  "kernelspec": {
   "display_name": "hypedsearch",
   "language": "python",
   "name": "python3"
  },
  "language_info": {
   "codemirror_mode": {
    "name": "ipython",
    "version": 3
   },
   "file_extension": ".py",
   "mimetype": "text/x-python",
   "name": "python",
   "nbconvert_exporter": "python",
   "pygments_lexer": "ipython3",
   "version": "3.11.9"
  }
 },
 "nbformat": 4,
 "nbformat_minor": 4
}

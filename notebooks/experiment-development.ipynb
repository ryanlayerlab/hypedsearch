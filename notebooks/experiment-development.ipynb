{
 "cells": [
  {
   "cell_type": "markdown",
   "metadata": {},
   "source": [
    "# Set working dir"
   ]
  },
  {
   "cell_type": "code",
   "execution_count": 1,
   "metadata": {},
   "outputs": [],
   "source": [
    "import os \n",
    "import warnings\n",
    "import platform\n",
    "\n",
    "warnings.filterwarnings(\"ignore\")\n",
    "if \"macOS\" in platform.platform():\n",
    "    os.chdir(\"/Users/erjo3868/repos/hypedsearch/hypedsearch\")\n",
    "# Running on Fiji\n",
    "else:\n",
    "    os.chdir(\"/scratch/Shares/layer/hypedsearch/hypedsearch\")\n"
   ]
  },
  {
   "cell_type": "markdown",
   "metadata": {},
   "source": [
    "# Index protein-product ion DB"
   ]
  },
  {
   "cell_type": "code",
   "execution_count": 15,
   "metadata": {},
   "outputs": [
    {
     "ename": "ModuleNotFoundError",
     "evalue": "No module named 'src.lookups'",
     "output_type": "error",
     "traceback": [
      "\u001b[0;31m---------------------------------------------------------------------------\u001b[0m",
      "\u001b[0;31mModuleNotFoundError\u001b[0m                       Traceback (most recent call last)",
      "File \u001b[0;32m<timed exec>:1\u001b[0m\n",
      "\u001b[0;31mModuleNotFoundError\u001b[0m: No module named 'src.lookups'"
     ]
    }
   ],
   "source": [
    "%%time\n",
    "from src.lookups.protein_product_ion_db import load_existing_protein_product_ion_db\n",
    "import os\n",
    "db_path = \"dbs/Uniprot_mouse.fasta_max_k=30_charges=(1, 2, 3).db\"\n",
    "size_gb = os.path.getsize(db_path) / (1024 ** 3)\n",
    "print(f\"DB size BEFORE indexing = {size_gb}\")\n",
    "\n",
    "db = load_existing_protein_product_ion_db(db_path=db_path)\n",
    "db.create_index_on_product_ion_mass()\n",
    "\n",
    "size_gb = os.path.getsize(db_path) / (1024 ** 3)\n",
    "print(f\"DB size AFTER indexing = {size_gb}\")"
   ]
  },
  {
   "cell_type": "code",
   "execution_count": null,
   "metadata": {},
   "outputs": [],
   "source": []
  },
  {
   "cell_type": "markdown",
   "metadata": {},
   "source": [
    "# Protein-product ion database"
   ]
  },
  {
   "cell_type": "markdown",
   "metadata": {},
   "source": [
    "## Time it takes to make and query the database"
   ]
  },
  {
   "cell_type": "code",
   "execution_count": 5,
   "metadata": {},
   "outputs": [
    {
     "name": "stdout",
     "output_type": "stream",
     "text": [
      "|peptides| = 10; |time delta| = 0\n",
      "|peptides| = 20; |time delta| = 5.9879701137542725\n",
      "|peptides| = 30; |time delta| = 10.874977111816406\n"
     ]
    }
   ],
   "source": [
    "import random\n",
    "from time import time\n",
    "\n",
    "import pandas as pd\n",
    "from src.constants import MOUSE_PROTEOME, NEUTRAL_MASS, PRODUCT_ION_TABLE, RESULTS_DIR, IonTypes\n",
    "from src.peptides_and_ions import Peptide\n",
    "from src.protein_product_ion_database import create_and_populate_protein_and_product_ion_database\n",
    "from src.utils import pickle_and_compress\n",
    "\n",
    "\n",
    "\n",
    "\n",
    "peptides = Peptide.from_fasta(fasta_path=MOUSE_PROTEOME)\n",
    "\n",
    "max_num_mins = 0.2\n",
    "prev_time_delta = 0\n",
    "idx = 1\n",
    "peptide_step = 10\n",
    "charges, ion_types = [1, 2, 3], [IonTypes.B_ION_TYPE, IonTypes.Y_ION_TYPE]\n",
    "data = []\n",
    "num_repeats = 1\n",
    "while prev_time_delta < 60*max_num_mins:\n",
    "    num_peptides = idx*peptide_step\n",
    "    print(f\"|peptides| = {num_peptides}; |time delta| = {prev_time_delta}\")\n",
    "    for _ in range(num_repeats):\n",
    "        # Sample peptides\n",
    "        peptide_sample = random.sample(peptides, num_peptides)\n",
    "\n",
    "        # Create and index database\n",
    "        t0 = time()\n",
    "        db = create_and_populate_protein_and_product_ion_database(\n",
    "            charges=charges,\n",
    "            ion_types=ion_types,\n",
    "            peptides=peptide_sample,\n",
    "        )\n",
    "        db.add_index(table_name=PRODUCT_ION_TABLE, index_name=\"mass_idx\", colms_to_index=[NEUTRAL_MASS])\n",
    "        prev_time_delta = time() - t0\n",
    "\n",
    "        # Validation\n",
    "        assert len(db.get_proteins()) == num_peptides\n",
    "\n",
    "        # Updates\n",
    "        data.append([num_peptides, prev_time_delta, len(db.get_product_ions())])\n",
    "    idx += 1\n",
    "\n",
    "data = pd.DataFrame(data, columns=[\"num_peptides\", \"create_and_index_time_delta\", \"num_product_ions\"])\n",
    "\n",
    "pickle_and_compress(obj=data, file_path=RESULTS_DIR / f\"db_creation_timing_charge={charges}.pkl\")\n",
    "# FOR TESTING\n",
    "# charges, ion_types = [1, 2, 3], [IonTypes.B_ION_TYPE, IonTypes.Y_ION_TYPE]\n",
    "# # with caplog.at_level(logging.INFO):\n",
    "# start_time = time()\n",
    "# db = create_and_populate_protein_and_product_ion_database(\n",
    "#     charges=charges,\n",
    "#     ion_types=ion_types,\n",
    "#     peptides=peptides,\n",
    "# )\n",
    "# db.add_index(table_name=PRODUCT_ION_TABLE, index_name=\"mass_idx\", colms_to_index=[NEUTRAL_MASS])\n",
    "# time() - start_time"
   ]
  },
  {
   "cell_type": "code",
   "execution_count": 7,
   "metadata": {},
   "outputs": [
    {
     "data": {
      "text/plain": [
       "192750"
      ]
     },
     "execution_count": 7,
     "metadata": {},
     "output_type": "execute_result"
    }
   ],
   "source": [
    "len(db.get_product_ions())"
   ]
  },
  {
   "cell_type": "code",
   "execution_count": null,
   "metadata": {},
   "outputs": [],
   "source": [
    "fasta_proteins = list(get_proteins_from_fasta(fasta_path=fasta_path))\n",
    "fasta_proteins = fasta_proteins[:10]\n",
    "\n",
    "# protein_name = \"sp|P99027|RLA2_MOUSE\"\n",
    "# protein = get_specific_protein_from_fasta(fasta_path=fasta_path, protein_name=protein_name)\n",
    "db = create_protein_product_ion_db(\n",
    "    db_path=db_path,\n",
    "    protein_seqs=[protein.sequence for protein in fasta_proteins[:10]],\n",
    "    charges_to_consider=[1, 2],\n",
    "    max_kmer_len=30,\n",
    ")"
   ]
  },
  {
   "cell_type": "code",
   "execution_count": null,
   "metadata": {},
   "outputs": [
    {
     "name": "stdout",
     "output_type": "stream",
     "text": [
      "Generating random sample...\n",
      "Finished generating random sample\n",
      "Ion 1 of 10\n",
      "Ion 2 of 10\n",
      "Ion 3 of 10\n",
      "Ion 4 of 10\n",
      "Ion 5 of 10\n",
      "Ion 6 of 10\n",
      "Ion 7 of 10\n",
      "Ion 8 of 10\n",
      "Ion 9 of 10\n",
      "Ion 10 of 10\n"
     ]
    },
    {
     "data": {
      "text/html": [
       "<div>\n",
       "<style scoped>\n",
       "    .dataframe tbody tr th:only-of-type {\n",
       "        vertical-align: middle;\n",
       "    }\n",
       "\n",
       "    .dataframe tbody tr th {\n",
       "        vertical-align: top;\n",
       "    }\n",
       "\n",
       "    .dataframe thead th {\n",
       "        text-align: right;\n",
       "    }\n",
       "</style>\n",
       "<table border=\"1\" class=\"dataframe\">\n",
       "  <thead>\n",
       "    <tr style=\"text-align: right;\">\n",
       "      <th></th>\n",
       "      <th>mass</th>\n",
       "      <th>time</th>\n",
       "      <th>num_matching_ions</th>\n",
       "      <th>len_search_ion</th>\n",
       "      <th>num_matching_ions_by_charge</th>\n",
       "    </tr>\n",
       "  </thead>\n",
       "  <tbody>\n",
       "    <tr>\n",
       "      <th>0</th>\n",
       "      <td>2527.323138</td>\n",
       "      <td>0.823784</td>\n",
       "      <td>24</td>\n",
       "      <td>23</td>\n",
       "      <td>{1: 24}</td>\n",
       "    </tr>\n",
       "    <tr>\n",
       "      <th>1</th>\n",
       "      <td>982.411230</td>\n",
       "      <td>0.417797</td>\n",
       "      <td>8</td>\n",
       "      <td>8</td>\n",
       "      <td>{1: 7, 2: 1}</td>\n",
       "    </tr>\n",
       "    <tr>\n",
       "      <th>2</th>\n",
       "      <td>1631.340411</td>\n",
       "      <td>0.208170</td>\n",
       "      <td>18</td>\n",
       "      <td>28</td>\n",
       "      <td>{2: 18}</td>\n",
       "    </tr>\n",
       "    <tr>\n",
       "      <th>3</th>\n",
       "      <td>3724.859914</td>\n",
       "      <td>0.415554</td>\n",
       "      <td>3</td>\n",
       "      <td>30</td>\n",
       "      <td>{1: 3}</td>\n",
       "    </tr>\n",
       "    <tr>\n",
       "      <th>4</th>\n",
       "      <td>1719.840417</td>\n",
       "      <td>0.817771</td>\n",
       "      <td>19</td>\n",
       "      <td>15</td>\n",
       "      <td>{2: 5, 1: 14}</td>\n",
       "    </tr>\n",
       "    <tr>\n",
       "      <th>5</th>\n",
       "      <td>1868.837106</td>\n",
       "      <td>1.221565</td>\n",
       "      <td>10</td>\n",
       "      <td>16</td>\n",
       "      <td>{1: 10}</td>\n",
       "    </tr>\n",
       "    <tr>\n",
       "      <th>6</th>\n",
       "      <td>50.541483</td>\n",
       "      <td>0.819681</td>\n",
       "      <td>310</td>\n",
       "      <td>1</td>\n",
       "      <td>{2: 310}</td>\n",
       "    </tr>\n",
       "    <tr>\n",
       "      <th>7</th>\n",
       "      <td>3390.959707</td>\n",
       "      <td>0.807122</td>\n",
       "      <td>2</td>\n",
       "      <td>30</td>\n",
       "      <td>{1: 2}</td>\n",
       "    </tr>\n",
       "    <tr>\n",
       "      <th>8</th>\n",
       "      <td>487.248152</td>\n",
       "      <td>1.229158</td>\n",
       "      <td>24</td>\n",
       "      <td>8</td>\n",
       "      <td>{1: 15, 2: 9}</td>\n",
       "    </tr>\n",
       "    <tr>\n",
       "      <th>9</th>\n",
       "      <td>455.738771</td>\n",
       "      <td>0.832291</td>\n",
       "      <td>11</td>\n",
       "      <td>8</td>\n",
       "      <td>{2: 11}</td>\n",
       "    </tr>\n",
       "  </tbody>\n",
       "</table>\n",
       "</div>"
      ],
      "text/plain": [
       "          mass      time  num_matching_ions  len_search_ion  \\\n",
       "0  2527.323138  0.823784                 24              23   \n",
       "1   982.411230  0.417797                  8               8   \n",
       "2  1631.340411  0.208170                 18              28   \n",
       "3  3724.859914  0.415554                  3              30   \n",
       "4  1719.840417  0.817771                 19              15   \n",
       "5  1868.837106  1.221565                 10              16   \n",
       "6    50.541483  0.819681                310               1   \n",
       "7  3390.959707  0.807122                  2              30   \n",
       "8   487.248152  1.229158                 24               8   \n",
       "9   455.738771  0.832291                 11               8   \n",
       "\n",
       "  num_matching_ions_by_charge  \n",
       "0                     {1: 24}  \n",
       "1                {1: 7, 2: 1}  \n",
       "2                     {2: 18}  \n",
       "3                      {1: 3}  \n",
       "4               {2: 5, 1: 14}  \n",
       "5                     {1: 10}  \n",
       "6                    {2: 310}  \n",
       "7                      {1: 2}  \n",
       "8               {1: 15, 2: 9}  \n",
       "9                     {2: 11}  "
      ]
     },
     "execution_count": 5,
     "metadata": {},
     "output_type": "execute_result"
    }
   ],
   "source": [
    "df = main(db_path=db_path, sample_size=10, ppm_tolerance=10, output_dir=None)\n",
    "df"
   ]
  },
  {
   "cell_type": "code",
   "execution_count": null,
   "metadata": {},
   "outputs": [
    {
     "name": "stdout",
     "output_type": "stream",
     "text": [
      "Generating random sample...\n"
     ]
    }
   ],
   "source": [
    "db_path = \"dbs/Uniprot_mouse.fasta_max_k=30_charges=(1, 2, 3).db\"\n",
    "df = main(db_path=db_path, sample_size=10, ppm_tolerance=10, output_dir=None)"
   ]
  },
  {
   "cell_type": "markdown",
   "metadata": {},
   "source": [
    "# How long does it take to query the protein-product ion DB by mass? "
   ]
  },
  {
   "cell_type": "code",
   "execution_count": null,
   "metadata": {},
   "outputs": [],
   "source": [
    "from src.lookups.protein_product_ion_db import load_existing_protein_product_ion_db\n",
    "\n",
    "db_path = \"dbs/Uniprot_mouse.fasta_max_k=30_charges=(1, 2, 3).db\"\n",
    "db = load_existing_protein_product_ion_db(db_path=db_path)\n",
    "# query = f\"SELECT {MASS} FROM {PRODUCT_ION_TABLE} ORDER BY RANDOM() LIMIT {sample_size};\"\n",
    "# db.run_query(query=query)"
   ]
  },
  {
   "cell_type": "code",
   "execution_count": null,
   "metadata": {},
   "outputs": [],
   "source": [
    "db.get_charges_in_db()"
   ]
  },
  {
   "cell_type": "code",
   "execution_count": null,
   "metadata": {},
   "outputs": [],
   "source": [
    "df = main(db_path=db_path, sample_size=10, ppm_tolerance=10, output_dir=None)"
   ]
  },
  {
   "cell_type": "markdown",
   "metadata": {},
   "source": [
    "The above was really slow.\n",
    "Let's try ChatGPT's suggested way"
   ]
  },
  {
   "cell_type": "code",
   "execution_count": null,
   "metadata": {},
   "outputs": [
    {
     "name": "stderr",
     "output_type": "stream",
     "text": [
      "100%|██████████| 30/30 [01:21<00:00,  2.71s/it]\n"
     ]
    }
   ],
   "source": [
    "from Bio import SeqIO\n",
    "from src.constants import MOUSE_PROTEOME\n",
    "\n",
    "fasta_proteins = list(get_proteins_from_fasta(fasta_path=MOUSE_PROTEOME))\n",
    "\n",
    "def get_unique_kmers(fasta_file, k):\n",
    "    unique_kmers = set()\n",
    "    \n",
    "    # Read FASTA sequences one at a time\n",
    "    for record in SeqIO.parse(fasta_file, \"fasta\"):\n",
    "        seq = str(record.seq)\n",
    "        \n",
    "        # Generate kmers using a sliding window\n",
    "        for i in range(len(seq) - k + 1):\n",
    "            kmer = seq[i:i + k]\n",
    "            unique_kmers.add(kmer)  # Sets automatically store only unique kmers\n",
    "    \n",
    "    return unique_kmers\n",
    "\n",
    "uniq_kmers = {}\n",
    "for k in tqdm(np.arange(1, 31)):\n",
    "    uniq_kmers[k] = get_unique_kmers(fasta_file=MOUSE_PROTEOME, k=k)\n",
    "\n"
   ]
  },
  {
   "cell_type": "code",
   "execution_count": null,
   "metadata": {},
   "outputs": [
    {
     "data": {
      "text/plain": [
       "(1, 24)"
      ]
     },
     "execution_count": 23,
     "metadata": {},
     "output_type": "execute_result"
    }
   ],
   "source": [
    "cum_sum = {}\n",
    "for k, kmers in uniq_kmers.items():\n",
    "    k, len(kmers)\n",
    "    break"
   ]
  },
  {
   "cell_type": "markdown",
   "metadata": {},
   "source": [
    "# Compare spectrum to DB"
   ]
  },
  {
   "cell_type": "code",
   "execution_count": null,
   "metadata": {},
   "outputs": [
    {
     "data": {
      "text/plain": [
       "DbProtein(id=0, seq='ACDE')"
      ]
     },
     "execution_count": 27,
     "metadata": {},
     "output_type": "execute_result"
    },
    {
     "data": {
      "text/plain": [
       "src.protein_product_ion_database.DbProtein"
      ]
     },
     "execution_count": 27,
     "metadata": {},
     "output_type": "execute_result"
    },
    {
     "ename": "AttributeError",
     "evalue": "'DbProtein' object has no attribute 'make_table_query'",
     "output_type": "error",
     "traceback": [
      "\u001b[0;31m---------------------------------------------------------------------------\u001b[0m",
      "\u001b[0;31mAttributeError\u001b[0m                            Traceback (most recent call last)",
      "Cell \u001b[0;32mIn[27], line 26\u001b[0m\n\u001b[1;32m     18\u001b[0m db \u001b[38;5;241m=\u001b[39m ProteinProductIonDb(\n\u001b[1;32m     19\u001b[0m     min_k\u001b[38;5;241m=\u001b[39mmin_k,\n\u001b[1;32m     20\u001b[0m     max_k\u001b[38;5;241m=\u001b[39mmax_k,\n\u001b[1;32m     21\u001b[0m     charges\u001b[38;5;241m=\u001b[39mcharges,\n\u001b[1;32m     22\u001b[0m     ion_types\u001b[38;5;241m=\u001b[39mion_types,\n\u001b[1;32m     23\u001b[0m )\n\u001b[1;32m     25\u001b[0m x \u001b[38;5;241m=\u001b[39m DbProtein(\u001b[38;5;28mid\u001b[39m\u001b[38;5;241m=\u001b[39m\u001b[38;5;241m0\u001b[39m, seq\u001b[38;5;241m=\u001b[39m\u001b[38;5;124m\"\u001b[39m\u001b[38;5;124mACDE\u001b[39m\u001b[38;5;124m\"\u001b[39m)\n\u001b[0;32m---> 26\u001b[0m \u001b[43mx\u001b[49m\u001b[38;5;241;43m.\u001b[39;49m\u001b[43mmake_table_query\u001b[49m(db\u001b[38;5;241m=\u001b[39mdb)\n",
      "\u001b[0;31mAttributeError\u001b[0m: 'DbProtein' object has no attribute 'make_table_query'"
     ]
    }
   ],
   "source": [
    "\n",
    "\n",
    "\n",
    "from dataclasses import dataclass\n",
    "from src.constants import IonTypes\n",
    "from src.protein_product_ion_database import ProteinProductIonDb, DbProtein\n",
    "\n",
    "@dataclass\n",
    "class MinimalProductIon:\n",
    "    protein_id: int\n",
    "    charge: int\n",
    "    neutral_mass: int\n",
    "    inclusive_start: int\n",
    "\n",
    "DbProtein(id=0, seq=\"ACDE\")\n",
    "\n",
    "DbProtein\n",
    "min_k, max_k = 2, 2\n",
    "charges = [1]\n",
    "ion_types = [IonTypes.B_ION_TYPE]\n",
    "db = ProteinProductIonDb(\n",
    "    min_k=min_k,\n",
    "    max_k=max_k,\n",
    "    charges=charges,\n",
    "    ion_types=ion_types,\n",
    ")\n",
    "\n",
    "x = DbProtein(id=0, seq=\"ACDE\")\n",
    "x.make_table_query(db=db)"
   ]
  },
  {
   "cell_type": "markdown",
   "metadata": {},
   "source": [
    "# Number of total k-mers vs unique k-mers in mouse proteome"
   ]
  },
  {
   "cell_type": "code",
   "execution_count": null,
   "metadata": {},
   "outputs": [
    {
     "name": "stderr",
     "output_type": "stream",
     "text": [
      "100%|██████████| 25/25 [11:24<00:00, 27.37s/it]\n"
     ]
    }
   ],
   "source": [
    "from tqdm import tqdm\n",
    "from src.peptides_and_ions import Peptide, get_unique_kmers\n",
    "from src.constants import MOUSE_PROTEOME\n",
    "import pandas as pd\n",
    "\n",
    "peptides = Peptide.from_fasta(fasta_path=MOUSE_PROTEOME)\n",
    "\n",
    "k_vals = list(range(1, 26))\n",
    "rows = []\n",
    "for k in tqdm(k_vals):\n",
    "    num_total_kmers = sum([\n",
    "        (len(peptide.seq) - k +  1) \n",
    "        for peptide in peptides\n",
    "    ])\n",
    "    num_uniq_kmers = len(get_unique_kmers(peptides=peptides, k=k))\n",
    "    rows.append([k, num_total_kmers, num_uniq_kmers])\n",
    "    df = pd.DataFrame(rows, columns=[\"k\", \"total_kmers\", \"uniq_kmers\"])"
   ]
  },
  {
   "cell_type": "code",
   "execution_count": null,
   "metadata": {},
   "outputs": [],
   "source": [
    "from src.plot_utils import fig_setup, finalize, set_"
   ]
  },
  {
   "cell_type": "code",
   "execution_count": null,
   "metadata": {},
   "outputs": [
    {
     "data": {
      "text/plain": [
       "[<matplotlib.lines.Line2D at 0x1689a5450>]"
      ]
     },
     "execution_count": 16,
     "metadata": {},
     "output_type": "execute_result"
    },
    {
     "data": {
      "text/plain": [
       "[<matplotlib.lines.Line2D at 0x1689088d0>]"
      ]
     },
     "execution_count": 16,
     "metadata": {},
     "output_type": "execute_result"
    },
    {
     "data": {
      "image/png": "[encoded data removed]",
      "text/plain": [
       "<Figure size 600x400 with 1 Axes>"
      ]
     },
     "metadata": {},
     "output_type": "display_data"
    }
   ],
   "source": [
    "from src.plot_utils import fig_setup, finalize, set_title_axes_labels\n",
    "\n",
    "_, axs = fig_setup()\n",
    "ax = axs[0]\n",
    "\n",
    "ax.plot(df[\"k\"], df[\"uniq_kmers\"], label=\"unique kmers\")\n",
    "ax.plot(df[\"k\"], df[\"total_kmers\"], label=\"total kmers\")\n",
    "set_title_axes_labels(ax=ax, xlabel=\"k\", ylabel=\"Number of kmers\", title=\"kmers in mouse proteome\")\n",
    "finalize(axs)\n",
    "\n"
   ]
  },
  {
   "cell_type": "markdown",
   "metadata": {},
   "source": [
    "# Proteins in mouse proteome vs Comet run 1"
   ]
  },
  {
   "cell_type": "code",
   "execution_count": null,
   "metadata": {},
   "outputs": [
    {
     "name": "stdout",
     "output_type": "stream",
     "text": [
      "Reading data for BMEM_AspN_Fxn4\n",
      "Reading data for BMEM_AspN_Fxn5\n",
      "Reading data for BMEM_AspN_Fxn6\n",
      "Reading data for BMEM_AspN_Fxn7\n",
      "Reading data for BMEM_AspN_Fxn8\n",
      "Reading data for BMEM_AspN_Fxn9\n"
     ]
    }
   ],
   "source": [
    "from src.comet_utils import load_comet_data, CometRow\n",
    "from src.peptides_and_ions import get_proteins_from_fasta\n",
    "from src.utils import flatten_list_of_lists\n",
    "\n",
    "comet_df = load_comet_data()\n",
    "# comet_df.head(2)\n",
    "comet_rows = CometRow.from_dataframe(comet_df)\n",
    "all_comet_proteins = flatten_list_of_lists([row.proteins for row in comet_rows])\n",
    "uniq_comet_proteins = set(all_comet_proteins)\n",
    "fasta_proteins = get_proteins_from_fasta(fasta_path=MOUSE_PROTEOME)\n"
   ]
  },
  {
   "cell_type": "code",
   "execution_count": null,
   "metadata": {},
   "outputs": [
    {
     "name": "stdout",
     "output_type": "stream",
     "text": [
      "Number of unique Comet proteins = 16174\n",
      "Minimum Comet protein abundance = 1, max = 971\n",
      "Number of proteins in mouse proteome = 21759\n"
     ]
    },
    {
     "data": {
      "text/html": [
       "<div>\n",
       "<style scoped>\n",
       "    .dataframe tbody tr th:only-of-type {\n",
       "        vertical-align: middle;\n",
       "    }\n",
       "\n",
       "    .dataframe tbody tr th {\n",
       "        vertical-align: top;\n",
       "    }\n",
       "\n",
       "    .dataframe thead th {\n",
       "        text-align: right;\n",
       "    }\n",
       "</style>\n",
       "<table border=\"1\" class=\"dataframe\">\n",
       "  <thead>\n",
       "    <tr style=\"text-align: right;\">\n",
       "      <th></th>\n",
       "      <th>x</th>\n",
       "      <th>number_proteins_gt_x-1_le_x</th>\n",
       "    </tr>\n",
       "  </thead>\n",
       "  <tbody>\n",
       "    <tr>\n",
       "      <th>0</th>\n",
       "      <td>1</td>\n",
       "      <td>4369</td>\n",
       "    </tr>\n",
       "    <tr>\n",
       "      <th>1</th>\n",
       "      <td>2</td>\n",
       "      <td>3040</td>\n",
       "    </tr>\n",
       "  </tbody>\n",
       "</table>\n",
       "</div>"
      ],
      "text/plain": [
       "   x  number_proteins_gt_x-1_le_x\n",
       "0  1                         4369\n",
       "1  2                         3040"
      ]
     },
     "execution_count": 108,
     "metadata": {},
     "output_type": "execute_result"
    },
    {
     "data": {
      "text/plain": [
       "(0.0, 50.0)"
      ]
     },
     "execution_count": 108,
     "metadata": {},
     "output_type": "execute_result"
    },
    {
     "data": {
      "text/html": [
       "<div>\n",
       "<style scoped>\n",
       "    .dataframe tbody tr th:only-of-type {\n",
       "        vertical-align: middle;\n",
       "    }\n",
       "\n",
       "    .dataframe tbody tr th {\n",
       "        vertical-align: top;\n",
       "    }\n",
       "\n",
       "    .dataframe thead th {\n",
       "        text-align: right;\n",
       "    }\n",
       "</style>\n",
       "<table border=\"1\" class=\"dataframe\">\n",
       "  <thead>\n",
       "    <tr style=\"text-align: right;\">\n",
       "      <th></th>\n",
       "      <th>x</th>\n",
       "      <th>number_proteins_gt_x</th>\n",
       "    </tr>\n",
       "  </thead>\n",
       "  <tbody>\n",
       "    <tr>\n",
       "      <th>0</th>\n",
       "      <td>0</td>\n",
       "      <td>16174</td>\n",
       "    </tr>\n",
       "    <tr>\n",
       "      <th>1</th>\n",
       "      <td>1</td>\n",
       "      <td>11805</td>\n",
       "    </tr>\n",
       "  </tbody>\n",
       "</table>\n",
       "</div>"
      ],
      "text/plain": [
       "   x  number_proteins_gt_x\n",
       "0  0                 16174\n",
       "1  1                 11805"
      ]
     },
     "execution_count": 108,
     "metadata": {},
     "output_type": "execute_result"
    },
    {
     "data": {
      "text/plain": [
       "(10.0, 50.0)"
      ]
     },
     "execution_count": 108,
     "metadata": {},
     "output_type": "execute_result"
    },
    {
     "data": {
      "text/plain": [
       "(-1.0, 1000.0)"
      ]
     },
     "execution_count": 108,
     "metadata": {},
     "output_type": "execute_result"
    },
    {
     "data": {
      "text/plain": [
       "Text(0.5, 0.98, 'Comet run 1 data')"
      ]
     },
     "execution_count": 108,
     "metadata": {},
     "output_type": "execute_result"
    },
    {
     "data": {
      "image/png": "[encoded data removed]",
      "text/plain": [
       "<Figure size 1800x400 with 3 Axes>"
      ]
     },
     "metadata": {},
     "output_type": "display_data"
    }
   ],
   "source": [
    "from typing import Counter\n",
    "from matplotlib import pyplot as plt\n",
    "import numpy as np\n",
    "import seaborn as sns\n",
    "\n",
    "print(f\"Number of unique Comet proteins = {len(uniq_comet_proteins)}\")\n",
    "assert len(fasta_proteins) == len(set([protein.name for protein in fasta_proteins])), \"Why aren't the number of proteins in the fasta the same as the number of unique proteins?\"\n",
    "comet_protein_abundances = np.array(list(Counter(all_comet_proteins).values()))\n",
    "print(f\"Minimum Comet protein abundance = {min(comet_protein_abundances)}, max = {max(comet_protein_abundances)}\")\n",
    "print(f\"Number of proteins in mouse proteome = {len(fasta_proteins)}\")\n",
    "\n",
    "_, axs = fig_setup(1, 3)\n",
    "ax = axs[0]\n",
    "_=ax.plot(\n",
    "    comet_protein_abundances,\n",
    "    \"bo\",\n",
    "    ms=1,\n",
    ")\n",
    "set_title_axes_labels(\n",
    "    ax=ax, \n",
    "    xlabel=\"protein index\", \n",
    "    ylabel=\"protein appearances\",\n",
    "    # title=\"Number of times protein appears in Comet run 1 data\"\n",
    ")\n",
    "finalize(axs)\n",
    "\n",
    "precursor_charges = []\n",
    "prev_val = 0\n",
    "for val in range(1, 1001):\n",
    "    precursor_charges.append([val, sum((comet_protein_abundances>prev_val) & (comet_protein_abundances<=val))])\n",
    "    # data.append([val, sum((comet_protein_abundances<=val))])\n",
    "    prev_val = val\n",
    "colm1, colm2 = \"x\", \"number_proteins_gt_x-1_le_x\"\n",
    "precursor_charges = pd.DataFrame(precursor_charges, columns=[colm1, colm2])\n",
    "precursor_charges.head(2)\n",
    "\n",
    "# _, axs = fig_setup()\n",
    "ax = axs[1]\n",
    "_=ax.plot(\n",
    "    precursor_charges[colm1], precursor_charges[colm2],\n",
    "    \"bo\",\n",
    "    ms=2\n",
    ")\n",
    "set_title_axes_labels(\n",
    "    ax=ax, \n",
    "    xlabel=\"x\", \n",
    "    ylabel=\"Number of Comet proteins with\\nabundance <=x, >x-1\",\n",
    "    # title=\"Number of times protein appears in Comet run 1 data\"\n",
    ")\n",
    "ax.set_ylim(0, 50)\n",
    "finalize(axs)\n",
    "\n",
    "precursor_charges = []\n",
    "for val in range(0, 1001):\n",
    "    precursor_charges.append([val, sum((comet_protein_abundances>val))])\n",
    "colm1, colm2 = \"x\", \"number_proteins_gt_x\"\n",
    "precursor_charges = pd.DataFrame(precursor_charges, columns=[colm1, colm2])\n",
    "precursor_charges.head(2)\n",
    "\n",
    "# _, axs = fig_setup()\n",
    "ax = axs[2]\n",
    "_=ax.plot(\n",
    "    precursor_charges[colm1], precursor_charges[colm2],\n",
    "    \"bo\",\n",
    "    ms=2\n",
    ")\n",
    "set_title_axes_labels(\n",
    "    ax=ax, \n",
    "    xlabel=\"x\", \n",
    "    ylabel=\"Number of Comet proteins with\\nabundance >x\",\n",
    "    # title=\"Number of times protein appears in Comet run 1 data\"\n",
    ")\n",
    "plt.xlim(left=10, right=50)\n",
    "plt.ylim(top=1000, bottom=-1)\n",
    "plt.subplots_adjust(wspace=0.3, hspace=0.3)\n",
    "plt.suptitle(\"Comet run 1 data\")\n",
    "finalize(axs)\n"
   ]
  },
  {
   "cell_type": "markdown",
   "metadata": {},
   "source": [
    "# Analyze Comet PSMs"
   ]
  },
  {
   "cell_type": "code",
   "execution_count": 3,
   "metadata": {},
   "outputs": [
    {
     "name": "stdout",
     "output_type": "stream",
     "text": [
      "Reading data for BMEM_AspN_Fxn4\n",
      "Reading data for BMEM_AspN_Fxn5\n",
      "Reading data for BMEM_AspN_Fxn6\n",
      "Reading data for BMEM_AspN_Fxn7\n",
      "Reading data for BMEM_AspN_Fxn8\n",
      "Reading data for BMEM_AspN_Fxn9\n"
     ]
    },
    {
     "data": {
      "text/html": [
       "<div>\n",
       "<style scoped>\n",
       "    .dataframe tbody tr th:only-of-type {\n",
       "        vertical-align: middle;\n",
       "    }\n",
       "\n",
       "    .dataframe tbody tr th {\n",
       "        vertical-align: top;\n",
       "    }\n",
       "\n",
       "    .dataframe thead th {\n",
       "        text-align: right;\n",
       "    }\n",
       "</style>\n",
       "<table border=\"1\" class=\"dataframe\">\n",
       "  <thead>\n",
       "    <tr style=\"text-align: right;\">\n",
       "      <th></th>\n",
       "      <th>scan</th>\n",
       "      <th>num</th>\n",
       "      <th>charge</th>\n",
       "      <th>exp_neutral_mass</th>\n",
       "      <th>calc_neutral_mass</th>\n",
       "      <th>e-value</th>\n",
       "      <th>xcorr</th>\n",
       "      <th>delta_cn</th>\n",
       "      <th>sp_score</th>\n",
       "      <th>ions_matched</th>\n",
       "      <th>...</th>\n",
       "      <th>plain_peptide</th>\n",
       "      <th>modified_peptide</th>\n",
       "      <th>prev_aa</th>\n",
       "      <th>next_aa</th>\n",
       "      <th>protein</th>\n",
       "      <th>protein_count</th>\n",
       "      <th>modifications</th>\n",
       "      <th>retention_time_sec</th>\n",
       "      <th>sp_rank</th>\n",
       "      <th>sample</th>\n",
       "    </tr>\n",
       "  </thead>\n",
       "  <tbody>\n",
       "    <tr>\n",
       "      <th>0</th>\n",
       "      <td>7</td>\n",
       "      <td>1</td>\n",
       "      <td>3</td>\n",
       "      <td>1525.774133</td>\n",
       "      <td>1525.773636</td>\n",
       "      <td>0.000202</td>\n",
       "      <td>2.187</td>\n",
       "      <td>0.4294</td>\n",
       "      <td>229.0</td>\n",
       "      <td>15</td>\n",
       "      <td>...</td>\n",
       "      <td>SAAPAAGSAPAAAEEKK</td>\n",
       "      <td>G.SAAPAAGSAPAAAEEKK.D</td>\n",
       "      <td>G</td>\n",
       "      <td>D</td>\n",
       "      <td>tr|A0A5F8MPY2|A0A5F8MPY2_MOUSE,sp|P99027|RLA2_...</td>\n",
       "      <td>2</td>\n",
       "      <td>-</td>\n",
       "      <td>714.0</td>\n",
       "      <td>1</td>\n",
       "      <td>BMEM_AspN_Fxn4</td>\n",
       "    </tr>\n",
       "    <tr>\n",
       "      <th>1</th>\n",
       "      <td>7</td>\n",
       "      <td>2</td>\n",
       "      <td>3</td>\n",
       "      <td>1525.774133</td>\n",
       "      <td>1525.773636</td>\n",
       "      <td>2.030000</td>\n",
       "      <td>1.248</td>\n",
       "      <td>0.0200</td>\n",
       "      <td>26.0</td>\n",
       "      <td>6</td>\n",
       "      <td>...</td>\n",
       "      <td>AAQTPGSGEAVLSKNP</td>\n",
       "      <td>T.AAQTPGSGEAVLSKNP.N</td>\n",
       "      <td>T</td>\n",
       "      <td>N</td>\n",
       "      <td>sp|Q8BI84|TGO1_MOUSE</td>\n",
       "      <td>1</td>\n",
       "      <td>-</td>\n",
       "      <td>714.0</td>\n",
       "      <td>16</td>\n",
       "      <td>BMEM_AspN_Fxn4</td>\n",
       "    </tr>\n",
       "  </tbody>\n",
       "</table>\n",
       "<p>2 rows × 21 columns</p>\n",
       "</div>"
      ],
      "text/plain": [
       "   scan  num  charge  exp_neutral_mass  calc_neutral_mass   e-value  xcorr  \\\n",
       "0     7    1       3       1525.774133        1525.773636  0.000202  2.187   \n",
       "1     7    2       3       1525.774133        1525.773636  2.030000  1.248   \n",
       "\n",
       "   delta_cn  sp_score  ions_matched  ...      plain_peptide  \\\n",
       "0    0.4294     229.0            15  ...  SAAPAAGSAPAAAEEKK   \n",
       "1    0.0200      26.0             6  ...   AAQTPGSGEAVLSKNP   \n",
       "\n",
       "        modified_peptide prev_aa next_aa  \\\n",
       "0  G.SAAPAAGSAPAAAEEKK.D       G       D   \n",
       "1   T.AAQTPGSGEAVLSKNP.N       T       N   \n",
       "\n",
       "                                             protein protein_count  \\\n",
       "0  tr|A0A5F8MPY2|A0A5F8MPY2_MOUSE,sp|P99027|RLA2_...             2   \n",
       "1                               sp|Q8BI84|TGO1_MOUSE             1   \n",
       "\n",
       "   modifications retention_time_sec  sp_rank          sample  \n",
       "0              -              714.0        1  BMEM_AspN_Fxn4  \n",
       "1              -              714.0       16  BMEM_AspN_Fxn4  \n",
       "\n",
       "[2 rows x 21 columns]"
      ]
     },
     "execution_count": 3,
     "metadata": {},
     "output_type": "execute_result"
    }
   ],
   "source": [
    "from src.comet_utils import CometRow, load_comet_data\n",
    "from src.constants import IONS_MATCHED, PLAIN_PEPTIDE, PROTEIN, PROTEIN_COUNT, SAMPLE, SCAN\n",
    "comet_df = load_comet_data()\n",
    "comet_df.head(2)\n",
    "comet_rows = CometRow.from_dataframe(comet_df)\n"
   ]
  },
  {
   "cell_type": "code",
   "execution_count": 10,
   "metadata": {},
   "outputs": [
    {
     "name": "stderr",
     "output_type": "stream",
     "text": [
      "2it [00:09,  4.91s/it]\n"
     ]
    }
   ],
   "source": [
    "\n",
    "from src.constants import PLAIN_PEPTIDE, RESULTS_DIR, IonTypes\n",
    "from src.peptide_spectrum_comparison import PeptideSpectrumComparison, compare_peptide_to_spectrum\n",
    "from src.peptides_and_ions import Peptide\n",
    "from src.comet_utils import CometRow\n",
    "from src.utils import decompress_and_unpickle, pickle_and_compress\n",
    "from dataclasses import dataclass\n",
    "from tqdm import tqdm\n",
    "\n",
    "testing = True\n",
    "peak_filtering = True\n",
    "top_n_peaks = 50\n",
    "ppm_tolerance = 10\n",
    "ion_types = [IonTypes.B_ION_TYPE, IonTypes.Y_ION_TYPE]\n",
    "\n",
    "@dataclass\n",
    "class PSM:\n",
    "    comet_row: CometRow\n",
    "    psm: PeptideSpectrumComparison\n",
    "\n",
    "psms = []\n",
    "for row_num, row in tqdm(enumerate(comet_rows)):\n",
    "# for row_num, row in df.iterrows():\n",
    "    peptide = Peptide(seq=row.proposed_peptide)\n",
    "    spectrum = row.get_corresponding_spectrum()\n",
    "\n",
    "    # Peak filtering\n",
    "    if peak_filtering:\n",
    "        spectrum.filter_to_top_n_peaks(n=top_n_peaks)\n",
    "        assert spectrum.peaks_preprocessed\n",
    "\n",
    "    comparison = compare_peptide_to_spectrum(\n",
    "        peptide=peptide, \n",
    "        spectrum=spectrum, \n",
    "        ppm_tolerance=ppm_tolerance,\n",
    "        ion_types=ion_types\n",
    "    )\n",
    "    psms.append(\n",
    "        PSM(\n",
    "        comet_row=row,\n",
    "        psm=comparison)\n",
    "    )\n",
    "    if testing:\n",
    "        if row_num >= 2:\n",
    "            break\n",
    "\n",
    "if testing:\n",
    "    path = RESULTS_DIR / f\"TESTING_comet_run_1_psms_ppmTol={ppm_tolerance}_peakFiltering={peak_filtering}_topN={top_n_peaks}.pkl\"\n",
    "else:\n",
    "    path = RESULTS_DIR / f\"comet_run_1_psms_ppmTol={ppm_tolerance}_peakFiltering={peak_filtering}_topN={top_n_peaks}.pkl\"\n",
    "pickle_and_compress(obj=psms, file_path=path)\n",
    "# decompress_and_unpickle(file_path=path)"
   ]
  },
  {
   "cell_type": "code",
   "execution_count": null,
   "metadata": {},
   "outputs": [],
   "source": []
  },
  {
   "cell_type": "code",
   "execution_count": 5,
   "metadata": {},
   "outputs": [
    {
     "data": {
      "text/plain": [
       "[PSM(comet_row=CometRow(sample='BMEM_AspN_Fxn4', scan=7, ions_matched=15, proteins=['tr|A0A5F8MPY2|A0A5F8MPY2_MOUSE', 'sp|P99027|RLA2_MOUSE'], protein_count=2, proposed_peptide='SAAPAAGSAPAAAEEKK'), psm=PeptideSpectrumComparison(num_peaks=50, num_peaks_with_a_product_ion_match=12, num_product_ions=34, num_product_ions_with_match=10, num_peaks_matching_product_ion={('S', 'b'): 0, ('SA', 'b'): 1, ('SAA', 'b'): 1, ('SAAP', 'b'): 0, ('SAAPA', 'b'): 0, ('SAAPAA', 'b'): 0, ('SAAPAAG', 'b'): 0, ('SAAPAAGS', 'b'): 0, ('SAAPAAGSA', 'b'): 0, ('SAAPAAGSAP', 'b'): 0, ('SAAPAAGSAPA', 'b'): 0, ('SAAPAAGSAPAA', 'b'): 0, ('SAAPAAGSAPAAA', 'b'): 0, ('SAAPAAGSAPAAAE', 'b'): 0, ('SAAPAAGSAPAAAEE', 'b'): 0, ('SAAPAAGSAPAAAEEK', 'b'): 0, ('SAAPAAGSAPAAAEEKK', 'b'): 0, ('SAAPAAGSAPAAAEEKK', 'y'): 1, ('AAPAAGSAPAAAEEKK', 'y'): 1, ('APAAGSAPAAAEEKK', 'y'): 2, ('PAAGSAPAAAEEKK', 'y'): 2, ('AAGSAPAAAEEKK', 'y'): 1, ('AGSAPAAAEEKK', 'y'): 1, ('GSAPAAAEEKK', 'y'): 0, ('SAPAAAEEKK', 'y'): 0, ('APAAAEEKK', 'y'): 1, ('PAAAEEKK', 'y'): 1, ('AAAEEKK', 'y'): 0, ('AAEEKK', 'y'): 0, ('AEEKK', 'y'): 0, ('EEKK', 'y'): 0, ('EKK', 'y'): 0, ('KK', 'y'): 0, ('K', 'y'): 0})),\n",
       " PSM(comet_row=CometRow(sample='BMEM_AspN_Fxn4', scan=7, ions_matched=6, proteins=['sp|Q8BI84|TGO1_MOUSE'], protein_count=1, proposed_peptide='AAQTPGSGEAVLSKNP'), psm=PeptideSpectrumComparison(num_peaks=50, num_peaks_with_a_product_ion_match=6, num_product_ions=32, num_product_ions_with_match=5, num_peaks_matching_product_ion={('A', 'b'): 0, ('AA', 'b'): 1, ('AAQ', 'b'): 0, ('AAQT', 'b'): 0, ('AAQTP', 'b'): 0, ('AAQTPG', 'b'): 0, ('AAQTPGS', 'b'): 0, ('AAQTPGSG', 'b'): 0, ('AAQTPGSGE', 'b'): 0, ('AAQTPGSGEA', 'b'): 0, ('AAQTPGSGEAV', 'b'): 0, ('AAQTPGSGEAVL', 'b'): 0, ('AAQTPGSGEAVLS', 'b'): 0, ('AAQTPGSGEAVLSK', 'b'): 2, ('AAQTPGSGEAVLSKN', 'b'): 0, ('AAQTPGSGEAVLSKNP', 'b'): 0, ('AAQTPGSGEAVLSKNP', 'y'): 1, ('AQTPGSGEAVLSKNP', 'y'): 0, ('QTPGSGEAVLSKNP', 'y'): 0, ('TPGSGEAVLSKNP', 'y'): 0, ('PGSGEAVLSKNP', 'y'): 0, ('GSGEAVLSKNP', 'y'): 0, ('SGEAVLSKNP', 'y'): 0, ('GEAVLSKNP', 'y'): 1, ('EAVLSKNP', 'y'): 0, ('AVLSKNP', 'y'): 0, ('VLSKNP', 'y'): 0, ('LSKNP', 'y'): 0, ('SKNP', 'y'): 0, ('KNP', 'y'): 0, ('NP', 'y'): 1, ('P', 'y'): 0})),\n",
       " PSM(comet_row=CometRow(sample='BMEM_AspN_Fxn4', scan=7, ions_matched=7, proteins=['sp|Q8R070|G6PT2_MOUSE'], protein_count=1, proposed_peptide='PELQCLLLSDGKNP'), psm=PeptideSpectrumComparison(num_peaks=50, num_peaks_with_a_product_ion_match=6, num_product_ions=28, num_product_ions_with_match=5, num_peaks_matching_product_ion={('P', 'b'): 0, ('PE', 'b'): 0, ('PEL', 'b'): 0, ('PELQ', 'b'): 0, ('PELQC', 'b'): 0, ('PELQCL', 'b'): 0, ('PELQCLL', 'b'): 0, ('PELQCLLL', 'b'): 0, ('PELQCLLLS', 'b'): 0, ('PELQCLLLSD', 'b'): 0, ('PELQCLLLSDG', 'b'): 0, ('PELQCLLLSDGK', 'b'): 2, ('PELQCLLLSDGKN', 'b'): 0, ('PELQCLLLSDGKNP', 'b'): 0, ('PELQCLLLSDGKNP', 'y'): 1, ('ELQCLLLSDGKNP', 'y'): 0, ('LQCLLLSDGKNP', 'y'): 0, ('QCLLLSDGKNP', 'y'): 0, ('CLLLSDGKNP', 'y'): 0, ('LLLSDGKNP', 'y'): 0, ('LLSDGKNP', 'y'): 1, ('LSDGKNP', 'y'): 0, ('SDGKNP', 'y'): 0, ('DGKNP', 'y'): 1, ('GKNP', 'y'): 0, ('KNP', 'y'): 0, ('NP', 'y'): 1, ('P', 'y'): 0}))]"
      ]
     },
     "execution_count": 5,
     "metadata": {},
     "output_type": "execute_result"
    }
   ],
   "source": [
    "decompress_and_unpickle(file_path=path)"
   ]
  },
  {
   "cell_type": "markdown",
   "metadata": {},
   "source": [
    "# Comet EDA"
   ]
  },
  {
   "cell_type": "code",
   "execution_count": 45,
   "metadata": {},
   "outputs": [
    {
     "data": {
      "text/html": [
       "<div>\n",
       "<style scoped>\n",
       "    .dataframe tbody tr th:only-of-type {\n",
       "        vertical-align: middle;\n",
       "    }\n",
       "\n",
       "    .dataframe tbody tr th {\n",
       "        vertical-align: top;\n",
       "    }\n",
       "\n",
       "    .dataframe thead th {\n",
       "        text-align: right;\n",
       "    }\n",
       "</style>\n",
       "<table border=\"1\" class=\"dataframe\">\n",
       "  <thead>\n",
       "    <tr style=\"text-align: right;\">\n",
       "      <th></th>\n",
       "      <th>scan</th>\n",
       "      <th>num</th>\n",
       "      <th>charge</th>\n",
       "      <th>exp_neutral_mass</th>\n",
       "      <th>calc_neutral_mass</th>\n",
       "      <th>e-value</th>\n",
       "      <th>xcorr</th>\n",
       "      <th>delta_cn</th>\n",
       "      <th>sp_score</th>\n",
       "      <th>ions_matched</th>\n",
       "      <th>...</th>\n",
       "      <th>plain_peptide</th>\n",
       "      <th>modified_peptide</th>\n",
       "      <th>prev_aa</th>\n",
       "      <th>next_aa</th>\n",
       "      <th>protein</th>\n",
       "      <th>protein_count</th>\n",
       "      <th>modifications</th>\n",
       "      <th>retention_time_sec</th>\n",
       "      <th>sp_rank</th>\n",
       "      <th>sample</th>\n",
       "    </tr>\n",
       "  </thead>\n",
       "  <tbody>\n",
       "    <tr>\n",
       "      <th>0</th>\n",
       "      <td>7</td>\n",
       "      <td>1</td>\n",
       "      <td>3</td>\n",
       "      <td>1525.774133</td>\n",
       "      <td>1525.773636</td>\n",
       "      <td>0.000202</td>\n",
       "      <td>2.187</td>\n",
       "      <td>0.4294</td>\n",
       "      <td>229.0</td>\n",
       "      <td>15</td>\n",
       "      <td>...</td>\n",
       "      <td>SAAPAAGSAPAAAEEKK</td>\n",
       "      <td>G.SAAPAAGSAPAAAEEKK.D</td>\n",
       "      <td>G</td>\n",
       "      <td>D</td>\n",
       "      <td>tr|A0A5F8MPY2|A0A5F8MPY2_MOUSE,sp|P99027|RLA2_...</td>\n",
       "      <td>2</td>\n",
       "      <td>-</td>\n",
       "      <td>714.0</td>\n",
       "      <td>1</td>\n",
       "      <td>BMEM_AspN_Fxn4</td>\n",
       "    </tr>\n",
       "    <tr>\n",
       "      <th>1</th>\n",
       "      <td>7</td>\n",
       "      <td>2</td>\n",
       "      <td>3</td>\n",
       "      <td>1525.774133</td>\n",
       "      <td>1525.773636</td>\n",
       "      <td>2.030000</td>\n",
       "      <td>1.248</td>\n",
       "      <td>0.0200</td>\n",
       "      <td>26.0</td>\n",
       "      <td>6</td>\n",
       "      <td>...</td>\n",
       "      <td>AAQTPGSGEAVLSKNP</td>\n",
       "      <td>T.AAQTPGSGEAVLSKNP.N</td>\n",
       "      <td>T</td>\n",
       "      <td>N</td>\n",
       "      <td>sp|Q8BI84|TGO1_MOUSE</td>\n",
       "      <td>1</td>\n",
       "      <td>-</td>\n",
       "      <td>714.0</td>\n",
       "      <td>16</td>\n",
       "      <td>BMEM_AspN_Fxn4</td>\n",
       "    </tr>\n",
       "  </tbody>\n",
       "</table>\n",
       "<p>2 rows × 21 columns</p>\n",
       "</div>"
      ],
      "text/plain": [
       "   scan  num  charge  exp_neutral_mass  calc_neutral_mass   e-value  xcorr  \\\n",
       "0     7    1       3       1525.774133        1525.773636  0.000202  2.187   \n",
       "1     7    2       3       1525.774133        1525.773636  2.030000  1.248   \n",
       "\n",
       "   delta_cn  sp_score  ions_matched  ...      plain_peptide  \\\n",
       "0    0.4294     229.0            15  ...  SAAPAAGSAPAAAEEKK   \n",
       "1    0.0200      26.0             6  ...   AAQTPGSGEAVLSKNP   \n",
       "\n",
       "        modified_peptide prev_aa next_aa  \\\n",
       "0  G.SAAPAAGSAPAAAEEKK.D       G       D   \n",
       "1   T.AAQTPGSGEAVLSKNP.N       T       N   \n",
       "\n",
       "                                             protein protein_count  \\\n",
       "0  tr|A0A5F8MPY2|A0A5F8MPY2_MOUSE,sp|P99027|RLA2_...             2   \n",
       "1                               sp|Q8BI84|TGO1_MOUSE             1   \n",
       "\n",
       "   modifications retention_time_sec  sp_rank          sample  \n",
       "0              -              714.0        1  BMEM_AspN_Fxn4  \n",
       "1              -              714.0       16  BMEM_AspN_Fxn4  \n",
       "\n",
       "[2 rows x 21 columns]"
      ]
     },
     "execution_count": 45,
     "metadata": {},
     "output_type": "execute_result"
    },
    {
     "data": {
      "text/plain": [
       "(62323, 21)"
      ]
     },
     "execution_count": 45,
     "metadata": {},
     "output_type": "execute_result"
    },
    {
     "data": {
      "text/plain": [
       "(2, 21)"
      ]
     },
     "execution_count": 45,
     "metadata": {},
     "output_type": "execute_result"
    },
    {
     "data": {
      "text/plain": [
       "12566"
      ]
     },
     "execution_count": 45,
     "metadata": {},
     "output_type": "execute_result"
    }
   ],
   "source": [
    "comet_df = load_comet_data()\n",
    "comet_df.head(2)\n",
    "comet_df.shape\n",
    "\n",
    "list(comet_df.groupby([\"scan\", \"sample\"]))[0][1].shape\n",
    "len(list(comet_df.groupby([\"scan\", \"sample\"])))\n",
    "# for name, group in comet_df.groupby([\"scan\", \"sample\"]):\n",
    "\n",
    "#     name, group\n",
    "#     break"
   ]
  },
  {
   "cell_type": "code",
   "execution_count": null,
   "metadata": {},
   "outputs": [
    {
     "data": {
      "text/html": [
       "<div>\n",
       "<style scoped>\n",
       "    .dataframe tbody tr th:only-of-type {\n",
       "        vertical-align: middle;\n",
       "    }\n",
       "\n",
       "    .dataframe tbody tr th {\n",
       "        vertical-align: top;\n",
       "    }\n",
       "\n",
       "    .dataframe thead th {\n",
       "        text-align: right;\n",
       "    }\n",
       "</style>\n",
       "<table border=\"1\" class=\"dataframe\">\n",
       "  <thead>\n",
       "    <tr style=\"text-align: right;\">\n",
       "      <th></th>\n",
       "      <th>scan</th>\n",
       "      <th>num</th>\n",
       "      <th>charge</th>\n",
       "      <th>exp_neutral_mass</th>\n",
       "      <th>calc_neutral_mass</th>\n",
       "      <th>e-value</th>\n",
       "      <th>xcorr</th>\n",
       "      <th>delta_cn</th>\n",
       "      <th>sp_score</th>\n",
       "      <th>ions_matched</th>\n",
       "      <th>...</th>\n",
       "      <th>plain_peptide</th>\n",
       "      <th>modified_peptide</th>\n",
       "      <th>prev_aa</th>\n",
       "      <th>next_aa</th>\n",
       "      <th>protein</th>\n",
       "      <th>protein_count</th>\n",
       "      <th>modifications</th>\n",
       "      <th>retention_time_sec</th>\n",
       "      <th>sp_rank</th>\n",
       "      <th>sample</th>\n",
       "    </tr>\n",
       "  </thead>\n",
       "  <tbody>\n",
       "    <tr>\n",
       "      <th>0</th>\n",
       "      <td>7</td>\n",
       "      <td>1</td>\n",
       "      <td>3</td>\n",
       "      <td>1525.774133</td>\n",
       "      <td>1525.773636</td>\n",
       "      <td>0.000202</td>\n",
       "      <td>2.187</td>\n",
       "      <td>0.4294</td>\n",
       "      <td>229.0</td>\n",
       "      <td>15</td>\n",
       "      <td>...</td>\n",
       "      <td>SAAPAAGSAPAAAEEKK</td>\n",
       "      <td>G.SAAPAAGSAPAAAEEKK.D</td>\n",
       "      <td>G</td>\n",
       "      <td>D</td>\n",
       "      <td>tr|A0A5F8MPY2|A0A5F8MPY2_MOUSE,sp|P99027|RLA2_...</td>\n",
       "      <td>2</td>\n",
       "      <td>-</td>\n",
       "      <td>714.0</td>\n",
       "      <td>1</td>\n",
       "      <td>BMEM_AspN_Fxn4</td>\n",
       "    </tr>\n",
       "    <tr>\n",
       "      <th>1</th>\n",
       "      <td>7</td>\n",
       "      <td>2</td>\n",
       "      <td>3</td>\n",
       "      <td>1525.774133</td>\n",
       "      <td>1525.773636</td>\n",
       "      <td>2.030000</td>\n",
       "      <td>1.248</td>\n",
       "      <td>0.0200</td>\n",
       "      <td>26.0</td>\n",
       "      <td>6</td>\n",
       "      <td>...</td>\n",
       "      <td>AAQTPGSGEAVLSKNP</td>\n",
       "      <td>T.AAQTPGSGEAVLSKNP.N</td>\n",
       "      <td>T</td>\n",
       "      <td>N</td>\n",
       "      <td>sp|Q8BI84|TGO1_MOUSE</td>\n",
       "      <td>1</td>\n",
       "      <td>-</td>\n",
       "      <td>714.0</td>\n",
       "      <td>16</td>\n",
       "      <td>BMEM_AspN_Fxn4</td>\n",
       "    </tr>\n",
       "  </tbody>\n",
       "</table>\n",
       "<p>2 rows × 21 columns</p>\n",
       "</div>"
      ],
      "text/plain": [
       "   scan  num  charge  exp_neutral_mass  calc_neutral_mass   e-value  xcorr  \\\n",
       "0     7    1       3       1525.774133        1525.773636  0.000202  2.187   \n",
       "1     7    2       3       1525.774133        1525.773636  2.030000  1.248   \n",
       "\n",
       "   delta_cn  sp_score  ions_matched  ...      plain_peptide  \\\n",
       "0    0.4294     229.0            15  ...  SAAPAAGSAPAAAEEKK   \n",
       "1    0.0200      26.0             6  ...   AAQTPGSGEAVLSKNP   \n",
       "\n",
       "        modified_peptide prev_aa next_aa  \\\n",
       "0  G.SAAPAAGSAPAAAEEKK.D       G       D   \n",
       "1   T.AAQTPGSGEAVLSKNP.N       T       N   \n",
       "\n",
       "                                             protein protein_count  \\\n",
       "0  tr|A0A5F8MPY2|A0A5F8MPY2_MOUSE,sp|P99027|RLA2_...             2   \n",
       "1                               sp|Q8BI84|TGO1_MOUSE             1   \n",
       "\n",
       "   modifications retention_time_sec  sp_rank          sample  \n",
       "0              -              714.0        1  BMEM_AspN_Fxn4  \n",
       "1              -              714.0       16  BMEM_AspN_Fxn4  \n",
       "\n",
       "[2 rows x 21 columns]"
      ]
     },
     "execution_count": 37,
     "metadata": {},
     "output_type": "execute_result"
    },
    {
     "data": {
      "text/plain": [
       "<seaborn.axisgrid.PairGrid at 0x381a90450>"
      ]
     },
     "execution_count": 37,
     "metadata": {},
     "output_type": "execute_result"
    },
    {
     "data": {
      "image/png": "[encoded data removed]",
      "text/plain": [
       "<Figure size 750x750 with 9 Axes>"
      ]
     },
     "metadata": {},
     "output_type": "display_data"
    }
   ],
   "source": [
    "colms_to_plot = [\"xcorr\", \"e-value\", \"delta_cn\"]\n",
    "sns.pairplot(\n",
    "    comet_df[colms_to_plot],\n",
    "    corner=True, \n",
    "    plot_kws={'s': 5}\n",
    ")\n"
   ]
  },
  {
   "cell_type": "markdown",
   "metadata": {},
   "source": [
    "# MZML EDA"
   ]
  },
  {
   "cell_type": "code",
   "execution_count": 11,
   "metadata": {},
   "outputs": [
    {
     "name": "stdout",
     "output_type": "stream",
     "text": [
      "Reading sample BMEM_AspN_Fxn4's MZML\n",
      "Reading sample BMEM_AspN_Fxn5's MZML\n",
      "Reading sample BMEM_AspN_Fxn6's MZML\n",
      "Reading sample BMEM_AspN_Fxn7's MZML\n",
      "Reading sample BMEM_AspN_Fxn8's MZML\n",
      "Reading sample BMEM_AspN_Fxn9's MZML\n"
     ]
    }
   ],
   "source": [
    "from src.mass_spectra import load_mzml_data\n",
    "\n",
    "spectra = load_mzml_data()"
   ]
  },
  {
   "cell_type": "markdown",
   "metadata": {},
   "source": [
    "## Precursor charge distribution"
   ]
  },
  {
   "cell_type": "code",
   "execution_count": 32,
   "metadata": {},
   "outputs": [
    {
     "data": {
      "image/png": "[encoded data removed]",
      "text/plain": [
       "<Figure size 600x400 with 1 Axes>"
      ]
     },
     "metadata": {},
     "output_type": "display_data"
    }
   ],
   "source": [
    "from src.plot_utils import fig_setup, finalize, set_title_axes_labels\n",
    "import seaborn as sns\n",
    "import numpy as np\n",
    "\n",
    "precursor_charges = [spectrum.precursor_charge for spectrum in spectra]\n",
    "\n",
    "_, axs = fig_setup()\n",
    "ax = axs[0]\n",
    "_=sns.histplot(\n",
    "    precursor_charges,\n",
    "    ax=ax,\n",
    "    binwidth=0.5,\n",
    "    # bins=bins,\n",
    "    # kde=True,\n",
    ")\n",
    "set_title_axes_labels(\n",
    "    ax=ax,\n",
    "    xlabel=\"charge\",\n",
    "    #  \"\" / (total_num_peaks)\",\n",
    "    ylabel=\"num precursors\", \n",
    "    title=(\n",
    "        \"Precursor charges in Thomas' MZML data\\n\"\n",
    "        f\"(min = {min(precursor_charges)}, max = {max(precursor_charges)})\"\n",
    "    )\n",
    ")\n",
    "finalize(axs)\n",
    "# ax.legend(loc=\"upper right\", bbox_to_anchor=(1.5, 0.9))\n",
    "# plt.tight_layout()\n"
   ]
  },
  {
   "cell_type": "markdown",
   "metadata": {},
   "source": [
    "# Thomas validated proteins"
   ]
  },
  {
   "cell_type": "code",
   "execution_count": 47,
   "metadata": {},
   "outputs": [
    {
     "name": "stdout",
     "output_type": "stream",
     "text": [
      "For sample 4,\n",
      "\t num validated proteins = 48\n",
      "\t num validated proteins IN Comet run 1 = 32\n",
      "\t num validated proteins NOT IN Comet run 1 = 16\n",
      "For sample 5,\n",
      "\t num validated proteins = 48\n",
      "\t num validated proteins IN Comet run 1 = 41\n",
      "\t num validated proteins NOT IN Comet run 1 = 7\n",
      "For sample 6,\n",
      "\t num validated proteins = 73\n",
      "\t num validated proteins IN Comet run 1 = 64\n",
      "\t num validated proteins NOT IN Comet run 1 = 9\n",
      "For sample 7,\n",
      "\t num validated proteins = 81\n",
      "\t num validated proteins IN Comet run 1 = 77\n",
      "\t num validated proteins NOT IN Comet run 1 = 4\n",
      "For sample 8,\n",
      "\t num validated proteins = 57\n",
      "\t num validated proteins IN Comet run 1 = 54\n",
      "\t num validated proteins NOT IN Comet run 1 = 3\n",
      "For sample 9,\n",
      "\t num validated proteins = 22\n",
      "\t num validated proteins IN Comet run 1 = 17\n",
      "\t num validated proteins NOT IN Comet run 1 = 5\n"
     ]
    }
   ],
   "source": [
    "from src.constants import COMET_RUN_1_DIR, GIT_REPO_DIR, SPECTRA_DIR\n",
    "from src.utils import flatten_list_of_lists\n",
    "from dataclasses import dataclass\n",
    "from pathlib import Path\n",
    "import pandas as pd\n",
    "from typing import Optional\n",
    "\n",
    "\n",
    "@dataclass\n",
    "class SampleFiles:\n",
    "    validated_proteins: Optional[Path] = None\n",
    "    mzml: Optional[Path] = None\n",
    "    comet_run_1: Optional[Path] = None\n",
    "    comet_run_2: Optional[Path] = None\n",
    "\n",
    "def get_sample_files(sample_num: int):\n",
    "    recognized_samples = list(range(4, 10))\n",
    "    assert sample_num in recognized_samples\n",
    "    \n",
    "    comet_run_1 = COMET_RUN_1_DIR / f\"BMEM_AspN_Fxn{sample_num}/BMEM_AspN_Fxn{sample_num}.txt\"\n",
    "    validated = SPECTRA_DIR / f\"rehybridpeptidelist/Specmill_Validated_Proteins_Fxn0{sample_num}.txt\"\n",
    "    mzml = SPECTRA_DIR / f\"BMEM_AspN_Fxn{sample_num}.mzML\"\n",
    "    return SampleFiles(\n",
    "        validated_proteins=validated,\n",
    "        comet_run_1=comet_run_1,\n",
    "        mzml=mzml,\n",
    "    )\n",
    "\n",
    "def get_protein_name_from_validated_proteins_row(row: pd.Series) -> str:\n",
    "    recognized_db_names = {\n",
    "        \"SwissProt\": \"sp\"\n",
    "    }\n",
    "    database = row[\"database\"]\n",
    "    accession = row[\"accession_number\"]\n",
    "    \n",
    "    return f\"{recognized_db_names[database]}|{accession}\"\n",
    "\n",
    "def read_validated_proteins_txt(file_path: str, sample_num: int) -> pd.DataFrame:\n",
    "    validated_proteins = pd.read_csv(file_path, sep=\"\\t\")\n",
    "\n",
    "    # Remove \"enzyme\" column which seems empty so it's being read incorrectly\n",
    "    if sample_num != 8:\n",
    "        enzyme_idx = list(validated_proteins.columns).index(\"enzyme\")\n",
    "        columns = list(validated_proteins.columns)\n",
    "        _ = columns.pop(enzyme_idx)\n",
    "        validated_proteins = pd.DataFrame(data=validated_proteins.iloc[:,:-1].to_numpy(), columns=columns)\n",
    "\n",
    "    return validated_proteins\n",
    "\n",
    "AN = \"accession_number\"\n",
    "ANS = f\"{AN}s\"\n",
    "P = \"protein\"\n",
    "\n",
    "\n",
    "for sample_num in np.arange(4, 10):\n",
    "# for sample_num in [8]:\n",
    "    files = get_sample_files(sample_num=sample_num)\n",
    "\n",
    "    validated_proteins = read_validated_proteins_txt(\n",
    "        file_path=files.validated_proteins, sample_num=sample_num\n",
    "    )\n",
    "    # Check out rows where \"accession_number\" != \"accession_numbers\"\n",
    "    tmp = validated_proteins[validated_proteins[AN] != validated_proteins[ANS]]\n",
    "    # tmp[[AN, ANS]]\n",
    "\n",
    "    # Get unique validated proteins\n",
    "    validated_proteins[P] = validated_proteins.apply(lambda row: get_protein_name_from_validated_proteins_row(row), axis=1)\n",
    "    uniq_valid_proteins = set(validated_proteins[P])\n",
    "    # validated_proteins[P].head()\n",
    "\n",
    "    # Get Comet run 1 data\n",
    "    comet_results = CometRow.from_txt(file_path=files.comet_run_1)\n",
    "    comet_proteins = flatten_list_of_lists(\n",
    "        [result.proteins for result in comet_results]\n",
    "    )\n",
    "    comet_proteins = set([\"|\".join(protein.split(\"|\")[:2]) for protein in comet_proteins])\n",
    "\n",
    "    # Compare the two sets\n",
    "    shared = uniq_valid_proteins.intersection(comet_proteins)\n",
    "    missing = uniq_valid_proteins - comet_proteins\n",
    "\n",
    "    print(\n",
    "        f\"For sample {sample_num},\\n\"\n",
    "        f\"\\t num validated proteins = {len(uniq_valid_proteins)}\\n\"\n",
    "        f\"\\t num validated proteins IN Comet run 1 = {len(shared)}\\n\"\n",
    "        f\"\\t num validated proteins NOT IN Comet run 1 = {len(missing)}\"\n",
    "    )\n",
    "\n",
    "    # break"
   ]
  },
  {
   "cell_type": "code",
   "execution_count": null,
   "metadata": {},
   "outputs": [],
   "source": []
  }
 ],
 "metadata": {
  "kernelspec": {
   "display_name": "hypedsearch",
   "language": "python",
   "name": "python3"
  },
  "language_info": {
   "codemirror_mode": {
    "name": "ipython",
    "version": 3
   },
   "file_extension": ".py",
   "mimetype": "text/x-python",
   "name": "python",
   "nbconvert_exporter": "python",
   "pygments_lexer": "ipython3",
   "version": "3.11.9"
  }
 },
 "nbformat": 4,
 "nbformat_minor": 4
}

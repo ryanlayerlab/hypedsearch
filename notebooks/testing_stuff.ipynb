{
 "cells": [
  {
   "cell_type": "markdown",
   "metadata": {},
   "source": [
    "# Set working dir"
   ]
  },
  {
   "cell_type": "code",
   "execution_count": 66,
   "metadata": {},
   "outputs": [],
   "source": [
    "import os \n",
    "import warnings\n",
    "import platform\n",
    "\n",
    "warnings.filterwarnings(\"ignore\")\n",
    "if \"macOS\" in platform.platform():\n",
    "    os.chdir(\"/Users/erjo3868/repos/hypedsearch/hypedsearch\")\n",
    "# Running on Fiji\n",
    "else:\n",
    "    os.chdir(\"/scratch/Shares/layer/hypedsearch/hypedsearch\")"
   ]
  },
  {
   "cell_type": "markdown",
   "metadata": {},
   "source": [
    "# SQL"
   ]
  },
  {
   "cell_type": "code",
   "execution_count": 4,
   "metadata": {},
   "outputs": [
    {
     "data": {
      "text/plain": [
       "<sqlite3.Cursor at 0x112ee4440>"
      ]
     },
     "execution_count": 4,
     "metadata": {},
     "output_type": "execute_result"
    },
    {
     "data": {
      "text/plain": [
       "<sqlite3.Cursor at 0x112ee4440>"
      ]
     },
     "execution_count": 4,
     "metadata": {},
     "output_type": "execute_result"
    },
    {
     "data": {
      "text/plain": [
       "<sqlite3.Cursor at 0x112ee4440>"
      ]
     },
     "execution_count": 4,
     "metadata": {},
     "output_type": "execute_result"
    },
    {
     "ename": "TypeError",
     "evalue": "'OperationalError' object is not callable",
     "output_type": "error",
     "traceback": [
      "\u001b[0;31m---------------------------------------------------------------------------\u001b[0m",
      "\u001b[0;31mOperationalError\u001b[0m                          Traceback (most recent call last)",
      "Cell \u001b[0;32mIn[4], line 26\u001b[0m\n\u001b[1;32m     25\u001b[0m \u001b[38;5;28;01mtry\u001b[39;00m:\n\u001b[0;32m---> 26\u001b[0m     \u001b[43mcursor\u001b[49m\u001b[38;5;241;43m.\u001b[39;49m\u001b[43mexecute\u001b[49m\u001b[43m(\u001b[49m\u001b[38;5;124;43m'''\u001b[39;49m\u001b[38;5;124;43mCREATE INDEX age_index ON users (age);\u001b[39;49m\u001b[38;5;124;43m'''\u001b[39;49m\u001b[43m)\u001b[49m\n\u001b[1;32m     27\u001b[0m \u001b[38;5;28;01mexcept\u001b[39;00m sqlite3\u001b[38;5;241m.\u001b[39mOperationalError \u001b[38;5;28;01mas\u001b[39;00m err: \n",
      "\u001b[0;31mOperationalError\u001b[0m: index age_index already exists",
      "\nDuring handling of the above exception, another exception occurred:\n",
      "\u001b[0;31mTypeError\u001b[0m                                 Traceback (most recent call last)",
      "Cell \u001b[0;32mIn[4], line 28\u001b[0m\n\u001b[1;32m     26\u001b[0m     cursor\u001b[38;5;241m.\u001b[39mexecute(\u001b[38;5;124m'''\u001b[39m\u001b[38;5;124mCREATE INDEX age_index ON users (age);\u001b[39m\u001b[38;5;124m'''\u001b[39m)\n\u001b[1;32m     27\u001b[0m \u001b[38;5;28;01mexcept\u001b[39;00m sqlite3\u001b[38;5;241m.\u001b[39mOperationalError \u001b[38;5;28;01mas\u001b[39;00m err: \n\u001b[0;32m---> 28\u001b[0m     \u001b[38;5;28;01mraise\u001b[39;00m \u001b[43merr\u001b[49m\u001b[43m(\u001b[49m\u001b[38;5;124;43m\"\u001b[39;49m\u001b[38;5;124;43mBlah\u001b[39;49m\u001b[38;5;124;43m\"\u001b[39;49m\u001b[43m)\u001b[49m\n\u001b[1;32m     30\u001b[0m \u001b[38;5;66;03m# Fetch the indices from the sqlite_master table to verify\u001b[39;00m\n\u001b[1;32m     31\u001b[0m cursor\u001b[38;5;241m.\u001b[39mexecute(\u001b[38;5;124m\"\u001b[39m\u001b[38;5;124mSELECT name FROM sqlite_master WHERE type=\u001b[39m\u001b[38;5;124m'\u001b[39m\u001b[38;5;124mindex\u001b[39m\u001b[38;5;124m'\u001b[39m\u001b[38;5;124m;\u001b[39m\u001b[38;5;124m\"\u001b[39m)\n",
      "\u001b[0;31mTypeError\u001b[0m: 'OperationalError' object is not callable"
     ]
    }
   ],
   "source": [
    "import sqlite3\n",
    "\n",
    "# Connect to a new SQLite3 database (it will create a new file)\n",
    "conn = sqlite3.connect(\":memory:\")\n",
    "cursor = conn.cursor()\n",
    "\n",
    "# Create a table\n",
    "cursor.execute('''\n",
    "CREATE TABLE IF NOT EXISTS users (\n",
    "    id INTEGER PRIMARY KEY,\n",
    "    name TEXT,\n",
    "    age INTEGER\n",
    ");\n",
    "''')\n",
    "\n",
    "# Insert some sample data\n",
    "cursor.executemany('''\n",
    "INSERT INTO users (name, age) VALUES (?, ?);\n",
    "''', [('Alice', 30), ('Bob', 25), ('Charlie', 35)])\n",
    "\n",
    "# Create an index on the 'age' column\n",
    "cursor.execute('''CREATE INDEX age_index ON users (age);''')\n",
    "\n",
    "# Try to create the same index again (with IF NOT EXISTS)\n",
    "try:\n",
    "    cursor.execute('''CREATE INDEX age_index ON users (age);''')\n",
    "except sqlite3.OperationalError as err: \n",
    "    raise err\n",
    "\n",
    "# Fetch the indices from the sqlite_master table to verify\n",
    "cursor.execute(\"SELECT name FROM sqlite_master WHERE type='index';\")\n",
    "indices = cursor.fetchall()\n",
    "\n",
    "# Commit changes and close the connection\n",
    "conn.commit()\n",
    "conn.close()\n"
   ]
  },
  {
   "cell_type": "markdown",
   "metadata": {},
   "source": [
    "## Creating table from dataclass"
   ]
  },
  {
   "cell_type": "code",
   "execution_count": null,
   "metadata": {},
   "outputs": [
    {
     "data": {
      "text/plain": [
       "['products']"
      ]
     },
     "execution_count": 96,
     "metadata": {},
     "output_type": "execute_result"
    },
    {
     "data": {
      "text/plain": [
       "[Product(id=0, name='1', price=2.0), Product(id=1, name='2', price=3.0)]"
      ]
     },
     "execution_count": 96,
     "metadata": {},
     "output_type": "execute_result"
    }
   ],
   "source": [
    "from dataclasses import asdict, dataclass, fields\n",
    "from typing import Any, List\n",
    "from src.sql_database import get_create_table_query_for_dataclass, Sqlite3Database, get_sql_columns_from_dataclass\n",
    "\n",
    "def add_data_classes_to_table(dataclasses: List[Any], table_name: str, db: Sqlite3Database):\n",
    "    sql_colms = get_sql_columns_from_dataclass(obj=dataclasses[0])\n",
    "    values = \"\"\n",
    "    for colm in sql_colms:\n",
    "        values += f\":{colm.name}, \"\n",
    "    values = values[:-2] # remove traling ', '\n",
    "\n",
    "    dataclasses_as_dicts = [asdict(x) for x in dataclasses]\n",
    "    _=db.cursor.executemany(\n",
    "        f\"INSERT INTO {table_name} VALUES({values})\", dataclasses_as_dicts\n",
    "    )\n",
    "    _=db.connection.commit()\n",
    "\n",
    "@dataclass\n",
    "class Product:\n",
    "    id: int\n",
    "    name: str\n",
    "    price: float\n",
    "    \n",
    "table_name = \"products\"\n",
    "db_path = \":memory:\"\n",
    "obj = Product\n",
    "\n",
    "dataclasses = [\n",
    "    Product(id=0, name=\"1\", price=2),\n",
    "    Product(id=1, name=\"2\", price=3)\n",
    "]\n",
    "\n",
    "# Create table\n",
    "db = Sqlite3Database(db_path=db_path)\n",
    "query = get_create_table_query_for_dataclass(obj=dataclasses[0], table_name=table_name, primary_key_colm=\"name\")\n",
    "db.execute_query(query=query)\n",
    "add_data_classes_to_table(dataclasses=dataclasses, table_name=table_name, db=db)\n",
    "\n",
    "db.tables()\n",
    "rows = db.all_table_rows(table_name=table_name)\n",
    "# Recreate objects from rows\n",
    "[Product(**row) for row in rows]\n"
   ]
  },
  {
   "cell_type": "markdown",
   "metadata": {},
   "source": [
    "## Template DB"
   ]
  },
  {
   "cell_type": "code",
   "execution_count": null,
   "metadata": {},
   "outputs": [
    {
     "data": {
      "text/plain": [
       "<sqlite3.Cursor at 0x127c463c0>"
      ]
     },
     "execution_count": 14,
     "metadata": {},
     "output_type": "execute_result"
    },
    {
     "data": {
      "text/plain": [
       "<sqlite3.Cursor at 0x127c463c0>"
      ]
     },
     "execution_count": 14,
     "metadata": {},
     "output_type": "execute_result"
    },
    {
     "data": {
      "text/plain": [
       "<sqlite3.Cursor at 0x127c463c0>"
      ]
     },
     "execution_count": 14,
     "metadata": {},
     "output_type": "execute_result"
    },
    {
     "data": {
      "text/plain": [
       "['users']"
      ]
     },
     "execution_count": 14,
     "metadata": {},
     "output_type": "execute_result"
    },
    {
     "data": {
      "text/plain": [
       "[]"
      ]
     },
     "execution_count": 14,
     "metadata": {},
     "output_type": "execute_result"
    },
    {
     "data": {
      "text/plain": [
       "<sqlite3.Cursor at 0x127c463c0>"
      ]
     },
     "execution_count": 14,
     "metadata": {},
     "output_type": "execute_result"
    },
    {
     "data": {
      "text/plain": [
       "['users']"
      ]
     },
     "execution_count": 14,
     "metadata": {},
     "output_type": "execute_result"
    },
    {
     "data": {
      "text/plain": [
       "['age_index']"
      ]
     },
     "execution_count": 14,
     "metadata": {},
     "output_type": "execute_result"
    },
    {
     "data": {
      "text/plain": [
       "[{'id': 1, 'name': 'Alice', 'age': 30},\n",
       " {'id': 2, 'name': 'Bob', 'age': 25},\n",
       " {'id': 3, 'name': 'Charlie', 'age': 35}]"
      ]
     },
     "execution_count": 14,
     "metadata": {},
     "output_type": "execute_result"
    },
    {
     "data": {
      "text/plain": [
       "[{'cid': 0,\n",
       "  'name': 'id',\n",
       "  'type': 'INTEGER',\n",
       "  'notnull': 0,\n",
       "  'dflt_value': None,\n",
       "  'pk': 1},\n",
       " {'cid': 1,\n",
       "  'name': 'name',\n",
       "  'type': 'TEXT',\n",
       "  'notnull': 0,\n",
       "  'dflt_value': None,\n",
       "  'pk': 0},\n",
       " {'cid': 2,\n",
       "  'name': 'age',\n",
       "  'type': 'INTEGER',\n",
       "  'notnull': 0,\n",
       "  'dflt_value': None,\n",
       "  'pk': 0}]"
      ]
     },
     "execution_count": 14,
     "metadata": {},
     "output_type": "execute_result"
    },
    {
     "data": {
      "text/plain": [
       "[{'COUNT(*)': 3}]"
      ]
     },
     "execution_count": 14,
     "metadata": {},
     "output_type": "execute_result"
    }
   ],
   "source": [
    "from src.sql_database import Sqlite3Database\n",
    "\n",
    "# Load template\n",
    "db = Sqlite3Database(db_path=\":memory:\")\n",
    "db.cursor\n",
    "\n",
    "# Create a table\n",
    "db.cursor.execute(\"\"\"\n",
    "    CREATE TABLE IF NOT EXISTS users (\n",
    "        id INTEGER PRIMARY KEY,\n",
    "        name TEXT,\n",
    "        age INTEGER\n",
    "    );\n",
    "\"\"\")\n",
    "\n",
    "# Insert some sample data\n",
    "db.cursor.executemany('''\n",
    "INSERT INTO users (name, age) VALUES (?, ?);\n",
    "''', [('Alice', 30), ('Bob', 25), ('Charlie', 35)])\n",
    "\n",
    "db.tables()\n",
    "db.indices()\n",
    "\n",
    "# Create index\n",
    "db.cursor.execute(\"CREATE INDEX age_index ON users (age);\")\n",
    "\n",
    "\n",
    "db.tables()\n",
    "db.indices()\n",
    "\n",
    "table_name = \"users\"\n",
    "db.all_table_rows(table_name=table_name)\n",
    "db.table_info(table_name=table_name)\n",
    "db.row_count(table_name=table_name)"
   ]
  },
  {
   "cell_type": "code",
   "execution_count": null,
   "metadata": {},
   "outputs": [],
   "source": []
  },
  {
   "cell_type": "markdown",
   "metadata": {},
   "source": [
    "# Pydantic"
   ]
  },
  {
   "cell_type": "code",
   "execution_count": 7,
   "metadata": {},
   "outputs": [
    {
     "data": {
      "text/plain": [
       "PosixPath('notebooks/spectra.ipynb')"
      ]
     },
     "execution_count": 7,
     "metadata": {},
     "output_type": "execute_result"
    },
    {
     "data": {
      "text/plain": [
       "PosixPath('notebooks/spectra.ipynb')"
      ]
     },
     "execution_count": 7,
     "metadata": {},
     "output_type": "execute_result"
    },
    {
     "name": "stdout",
     "output_type": "stream",
     "text": [
      "Didn't like ion_type 'b'\n"
     ]
    },
    {
     "data": {
      "text/plain": [
       "Model(val=2.5, val_2=4.5)"
      ]
     },
     "execution_count": 7,
     "metadata": {},
     "output_type": "execute_result"
    }
   ],
   "source": [
    "from pathlib import Path\n",
    "from typing import Literal, Union\n",
    "from typing_extensions import Annotated\n",
    "from pydantic import BaseModel, BeforeValidator, computed_field, field_validator\n",
    "\n",
    "\n",
    "# Before validation\n",
    "def to_path(path: Union[str, Path]):\n",
    "    return Path(path)\n",
    "\n",
    "class Model(BaseModel):\n",
    "    path: Annotated[Path, BeforeValidator(to_path)]\n",
    "\n",
    "    # @field_validator(\"path\", mode='before')\n",
    "    # @classmethod\n",
    "    # def capitalize(cls, value: str) -> str:\n",
    "    #     return Path(value)\n",
    "    \n",
    "str_path = \"notebooks/spectra.ipynb\"\n",
    "path_path = Path(str_path)\n",
    "\n",
    "x = Model(path=str_path)\n",
    "x.path\n",
    "\n",
    "x = Model(path=path_path)\n",
    "x.path\n",
    "\n",
    "\n",
    "# How pydantic treats Literal\n",
    "\n",
    "\n",
    "class Model(BaseModel):\n",
    "    ion_type: Literal[\"y\"]\n",
    "\n",
    "try:\n",
    "    Model(ion_type=\"b\")\n",
    "except:\n",
    "    print(\"Didn't like ion_type 'b'\")\n",
    "\n",
    "# Computed fields\n",
    "class Model(BaseModel):\n",
    "    val: float\n",
    "\n",
    "    @computed_field\n",
    "    @property\n",
    "    def val_2(self) -> int:\n",
    "        return self.val + 2\n",
    "    \n",
    "Model(val=2.5)\n"
   ]
  },
  {
   "cell_type": "code",
   "execution_count": 12,
   "metadata": {},
   "outputs": [
    {
     "data": {
      "text/plain": [
       "ProductIon(charge=2, type='y')"
      ]
     },
     "execution_count": 12,
     "metadata": {},
     "output_type": "execute_result"
    }
   ],
   "source": [
    "# Using constants in type annotations\n",
    "from src.constants import B_ION_TYPE, Y_ION_TYPE\n",
    "\n",
    "\n",
    "class ProductIon(BaseModel):\n",
    "    charge: int\n",
    "    type: Literal[B_ION_TYPE, Y_ION_TYPE]\n",
    "\n",
    "ProductIon(charge=2, type=\"y\")"
   ]
  },
  {
   "cell_type": "code",
   "execution_count": 21,
   "metadata": {},
   "outputs": [
    {
     "data": {
      "text/plain": [
       "A(a='b', b=1)"
      ]
     },
     "execution_count": 21,
     "metadata": {},
     "output_type": "execute_result"
    },
    {
     "data": {
      "text/plain": [
       "A(a=1, b=1)"
      ]
     },
     "execution_count": 21,
     "metadata": {},
     "output_type": "execute_result"
    }
   ],
   "source": [
    "# Updating a field after initialization\n",
    "class A(BaseModel):\n",
    "    a: str\n",
    "    b: int\n",
    "\n",
    "x = A(a=\"a\", b=1)\n",
    "x.a = \"b\"\n",
    "x\n",
    "\n",
    "# What happens when it's set to wrong type\n",
    "x.a = 1\n",
    "x\n"
   ]
  },
  {
   "cell_type": "code",
   "execution_count": 25,
   "metadata": {},
   "outputs": [
    {
     "data": {
      "text/plain": [
       "A(a='1')"
      ]
     },
     "execution_count": 25,
     "metadata": {},
     "output_type": "execute_result"
    },
    {
     "ename": "ValueError",
     "evalue": "\"A\" object has no field \"b\"",
     "output_type": "error",
     "traceback": [
      "\u001b[0;31m---------------------------------------------------------------------------\u001b[0m",
      "\u001b[0;31mValueError\u001b[0m                                Traceback (most recent call last)",
      "Cell \u001b[0;32mIn[25], line 13\u001b[0m\n\u001b[1;32m     11\u001b[0m x \u001b[38;5;241m=\u001b[39m A(a\u001b[38;5;241m=\u001b[39m\u001b[38;5;124m\"\u001b[39m\u001b[38;5;124m1\u001b[39m\u001b[38;5;124m\"\u001b[39m)\n\u001b[1;32m     12\u001b[0m x \n\u001b[0;32m---> 13\u001b[0m \u001b[43mx\u001b[49m\u001b[38;5;241;43m.\u001b[39;49m\u001b[43mnew_field\u001b[49m\u001b[43m(\u001b[49m\u001b[38;5;241;43m2\u001b[39;49m\u001b[43m)\u001b[49m\n\u001b[1;32m     14\u001b[0m x\n",
      "Cell \u001b[0;32mIn[25], line 7\u001b[0m, in \u001b[0;36mA.new_field\u001b[0;34m(self, val)\u001b[0m\n\u001b[1;32m      5\u001b[0m \u001b[38;5;28;01mdef\u001b[39;00m \u001b[38;5;21mnew_field\u001b[39m(\u001b[38;5;28mself\u001b[39m, val):\n\u001b[1;32m      6\u001b[0m     \u001b[38;5;66;03m# This fails!\u001b[39;00m\n\u001b[0;32m----> 7\u001b[0m     \u001b[38;5;28;43mself\u001b[39;49m\u001b[38;5;241;43m.\u001b[39;49m\u001b[43mb\u001b[49m \u001b[38;5;241m=\u001b[39m val\n",
      "File \u001b[0;32m~/miniforge3/envs/hypedsearch/lib/python3.11/site-packages/pydantic/main.py:926\u001b[0m, in \u001b[0;36mBaseModel.__setattr__\u001b[0;34m(self, name, value)\u001b[0m\n\u001b[1;32m    923\u001b[0m     \u001b[38;5;28mself\u001b[39m\u001b[38;5;241m.\u001b[39m__pydantic_validator__\u001b[38;5;241m.\u001b[39mvalidate_assignment(\u001b[38;5;28mself\u001b[39m, name, value)\n\u001b[1;32m    924\u001b[0m \u001b[38;5;28;01melif\u001b[39;00m \u001b[38;5;28mself\u001b[39m\u001b[38;5;241m.\u001b[39mmodel_config\u001b[38;5;241m.\u001b[39mget(\u001b[38;5;124m'\u001b[39m\u001b[38;5;124mextra\u001b[39m\u001b[38;5;124m'\u001b[39m) \u001b[38;5;241m!=\u001b[39m \u001b[38;5;124m'\u001b[39m\u001b[38;5;124mallow\u001b[39m\u001b[38;5;124m'\u001b[39m \u001b[38;5;129;01mand\u001b[39;00m name \u001b[38;5;129;01mnot\u001b[39;00m \u001b[38;5;129;01min\u001b[39;00m \u001b[38;5;28mself\u001b[39m\u001b[38;5;241m.\u001b[39m__pydantic_fields__:\n\u001b[1;32m    925\u001b[0m     \u001b[38;5;66;03m# TODO - matching error\u001b[39;00m\n\u001b[0;32m--> 926\u001b[0m     \u001b[38;5;28;01mraise\u001b[39;00m \u001b[38;5;167;01mValueError\u001b[39;00m(\u001b[38;5;124mf\u001b[39m\u001b[38;5;124m'\u001b[39m\u001b[38;5;124m\"\u001b[39m\u001b[38;5;132;01m{\u001b[39;00m\u001b[38;5;28mself\u001b[39m\u001b[38;5;241m.\u001b[39m\u001b[38;5;18m__class__\u001b[39m\u001b[38;5;241m.\u001b[39m\u001b[38;5;18m__name__\u001b[39m\u001b[38;5;132;01m}\u001b[39;00m\u001b[38;5;124m\"\u001b[39m\u001b[38;5;124m object has no field \u001b[39m\u001b[38;5;124m\"\u001b[39m\u001b[38;5;132;01m{\u001b[39;00mname\u001b[38;5;132;01m}\u001b[39;00m\u001b[38;5;124m\"\u001b[39m\u001b[38;5;124m'\u001b[39m)\n\u001b[1;32m    927\u001b[0m \u001b[38;5;28;01melif\u001b[39;00m \u001b[38;5;28mself\u001b[39m\u001b[38;5;241m.\u001b[39mmodel_config\u001b[38;5;241m.\u001b[39mget(\u001b[38;5;124m'\u001b[39m\u001b[38;5;124mextra\u001b[39m\u001b[38;5;124m'\u001b[39m) \u001b[38;5;241m==\u001b[39m \u001b[38;5;124m'\u001b[39m\u001b[38;5;124mallow\u001b[39m\u001b[38;5;124m'\u001b[39m \u001b[38;5;129;01mand\u001b[39;00m name \u001b[38;5;129;01mnot\u001b[39;00m \u001b[38;5;129;01min\u001b[39;00m \u001b[38;5;28mself\u001b[39m\u001b[38;5;241m.\u001b[39m__pydantic_fields__:\n\u001b[1;32m    928\u001b[0m     \u001b[38;5;28;01mif\u001b[39;00m \u001b[38;5;28mself\u001b[39m\u001b[38;5;241m.\u001b[39mmodel_extra \u001b[38;5;129;01mand\u001b[39;00m name \u001b[38;5;129;01min\u001b[39;00m \u001b[38;5;28mself\u001b[39m\u001b[38;5;241m.\u001b[39mmodel_extra:\n",
      "\u001b[0;31mValueError\u001b[0m: \"A\" object has no field \"b\""
     ]
    }
   ],
   "source": [
    "# Add new field\n",
    "class A(BaseModel):\n",
    "    a: str\n",
    "    \n",
    "    def new_field(self, val):\n",
    "        # This fails!\n",
    "        self.b = val\n",
    "\n",
    "        # setattr(self, \"b\", val)\n",
    "\n",
    "x = A(a=\"1\")\n",
    "x \n",
    "x.new_field(2)\n",
    "x"
   ]
  },
  {
   "cell_type": "markdown",
   "metadata": {},
   "source": [
    "## Optional fields "
   ]
  },
  {
   "cell_type": "code",
   "execution_count": 29,
   "metadata": {},
   "outputs": [
    {
     "name": "stdout",
     "output_type": "stream",
     "text": [
      "None\n"
     ]
    }
   ],
   "source": [
    "from typing import Optional\n",
    "\n",
    "\n",
    "class Position(BaseModel):\n",
    "    inclusive_start: Optional[int] = None\n",
    "    exclusive_end: Optional[int] = None\n",
    "\n",
    "\n",
    "class Kmer(BaseModel):\n",
    "    seq: str\n",
    "    position: Position\n",
    "\n",
    "\n",
    "x = Kmer(seq=\"AB\")\n",
    "print(x.position.inclusive_start)"
   ]
  },
  {
   "cell_type": "markdown",
   "metadata": {},
   "source": [
    "## Type annotations with enum"
   ]
  },
  {
   "cell_type": "code",
   "execution_count": null,
   "metadata": {},
   "outputs": [
    {
     "data": {
      "text/plain": [
       "SqlColumnDef(name='blah', colm_type=<SqlColumnTypes.SQL_PRIMARY_KEY: 'PRIMARY KEY'>)"
      ]
     },
     "execution_count": 25,
     "metadata": {},
     "output_type": "execute_result"
    },
    {
     "ename": "ValidationError",
     "evalue": "1 validation error for SqlColumnDef\ncolm_type\n  Input should be 'INTEGER', 'TEXT', 'REAL' or 'PRIMARY KEY' [type=enum, input_value=<enum 'SqlColumnTypes'>, input_type=EnumType]\n    For further information visit https://errors.pydantic.dev/2.10/v/enum",
     "output_type": "error",
     "traceback": [
      "\u001b[0;31m---------------------------------------------------------------------------\u001b[0m",
      "\u001b[0;31mValidationError\u001b[0m                           Traceback (most recent call last)",
      "Cell \u001b[0;32mIn[25], line 16\u001b[0m\n\u001b[1;32m     14\u001b[0m SqlColumnDef(name\u001b[38;5;241m=\u001b[39m\u001b[38;5;124m\"\u001b[39m\u001b[38;5;124mblah\u001b[39m\u001b[38;5;124m\"\u001b[39m, colm_type\u001b[38;5;241m=\u001b[39m\u001b[38;5;124m\"\u001b[39m\u001b[38;5;124mPRIMARY KEY\u001b[39m\u001b[38;5;124m\"\u001b[39m)\n\u001b[1;32m     15\u001b[0m \u001b[38;5;66;03m# SqlColumnDef(name=\"blah\", colm_type=\"NOT PRIMARY KEY\")\u001b[39;00m\n\u001b[0;32m---> 16\u001b[0m \u001b[43mSqlColumnDef\u001b[49m\u001b[43m(\u001b[49m\u001b[43mname\u001b[49m\u001b[38;5;241;43m=\u001b[39;49m\u001b[38;5;124;43m\"\u001b[39;49m\u001b[38;5;124;43mblah\u001b[39;49m\u001b[38;5;124;43m\"\u001b[39;49m\u001b[43m,\u001b[49m\u001b[43m \u001b[49m\u001b[43mcolm_type\u001b[49m\u001b[38;5;241;43m=\u001b[39;49m\u001b[43mSqlColumnTypes\u001b[49m\u001b[43m)\u001b[49m\n",
      "File \u001b[0;32m~/miniforge3/envs/hypedsearch/lib/python3.11/site-packages/pydantic/main.py:214\u001b[0m, in \u001b[0;36mBaseModel.__init__\u001b[0;34m(self, **data)\u001b[0m\n\u001b[1;32m    212\u001b[0m \u001b[38;5;66;03m# `__tracebackhide__` tells pytest and some other tools to omit this function from tracebacks\u001b[39;00m\n\u001b[1;32m    213\u001b[0m __tracebackhide__ \u001b[38;5;241m=\u001b[39m \u001b[38;5;28;01mTrue\u001b[39;00m\n\u001b[0;32m--> 214\u001b[0m validated_self \u001b[38;5;241m=\u001b[39m \u001b[38;5;28;43mself\u001b[39;49m\u001b[38;5;241;43m.\u001b[39;49m\u001b[43m__pydantic_validator__\u001b[49m\u001b[38;5;241;43m.\u001b[39;49m\u001b[43mvalidate_python\u001b[49m\u001b[43m(\u001b[49m\u001b[43mdata\u001b[49m\u001b[43m,\u001b[49m\u001b[43m \u001b[49m\u001b[43mself_instance\u001b[49m\u001b[38;5;241;43m=\u001b[39;49m\u001b[38;5;28;43mself\u001b[39;49m\u001b[43m)\u001b[49m\n\u001b[1;32m    215\u001b[0m \u001b[38;5;28;01mif\u001b[39;00m \u001b[38;5;28mself\u001b[39m \u001b[38;5;129;01mis\u001b[39;00m \u001b[38;5;129;01mnot\u001b[39;00m validated_self:\n\u001b[1;32m    216\u001b[0m     warnings\u001b[38;5;241m.\u001b[39mwarn(\n\u001b[1;32m    217\u001b[0m         \u001b[38;5;124m'\u001b[39m\u001b[38;5;124mA custom validator is returning a value other than `self`.\u001b[39m\u001b[38;5;130;01m\\n\u001b[39;00m\u001b[38;5;124m'\u001b[39m\n\u001b[1;32m    218\u001b[0m         \u001b[38;5;124m\"\u001b[39m\u001b[38;5;124mReturning anything other than `self` from a top level model validator isn\u001b[39m\u001b[38;5;124m'\u001b[39m\u001b[38;5;124mt supported when validating via `__init__`.\u001b[39m\u001b[38;5;130;01m\\n\u001b[39;00m\u001b[38;5;124m\"\u001b[39m\n\u001b[1;32m    219\u001b[0m         \u001b[38;5;124m'\u001b[39m\u001b[38;5;124mSee the `model_validator` docs (https://docs.pydantic.dev/latest/concepts/validators/#model-validators) for more details.\u001b[39m\u001b[38;5;124m'\u001b[39m,\n\u001b[1;32m    220\u001b[0m         stacklevel\u001b[38;5;241m=\u001b[39m\u001b[38;5;241m2\u001b[39m,\n\u001b[1;32m    221\u001b[0m     )\n",
      "\u001b[0;31mValidationError\u001b[0m: 1 validation error for SqlColumnDef\ncolm_type\n  Input should be 'INTEGER', 'TEXT', 'REAL' or 'PRIMARY KEY' [type=enum, input_value=<enum 'SqlColumnTypes'>, input_type=EnumType]\n    For further information visit https://errors.pydantic.dev/2.10/v/enum"
     ]
    }
   ],
   "source": [
    "from enum import Enum\n",
    "from pydantic import BaseModel\n",
    "class SqlColumnTypes(Enum):\n",
    "    SQL_INT = \"INTEGER\"\n",
    "    SQL_TEXT = \"TEXT\"\n",
    "    SQL_REAL = \"REAL\"\n",
    "    SQL_PRIMARY_KEY = \"PRIMARY KEY\"\n",
    "\n",
    "class SqlColumn(BaseModel):\n",
    "    name: str\n",
    "    colm_type: SqlColumnTypes\n",
    "\n",
    "\n",
    "SqlColumn(name=\"blah\", colm_type=\"PRIMARY KEY\")\n",
    "# SqlColumnDef(name=\"blah\", colm_type=\"NOT PRIMARY KEY\")\n",
    "SqlColumn(name=\"blah\", colm_type=SqlColumnTypes)"
   ]
  },
  {
   "cell_type": "markdown",
   "metadata": {},
   "source": [
    "# Abstract class methods"
   ]
  },
  {
   "cell_type": "code",
   "execution_count": 17,
   "metadata": {},
   "outputs": [
    {
     "data": {
      "text/plain": [
       "<__main__.MissingFcn at 0x10dbfaad0>"
      ]
     },
     "execution_count": 17,
     "metadata": {},
     "output_type": "execute_result"
    }
   ],
   "source": [
    "from abc import ABC, abstractmethod\n",
    "\n",
    "class BaseClass(ABC):\n",
    "    @staticmethod\n",
    "    @abstractmethod\n",
    "    def fcn_1_var(seq: str) -> str:\n",
    "        pass\n",
    "\n",
    "    @staticmethod\n",
    "    @abstractmethod\n",
    "    def fcn_2_var(\n",
    "        seq: str,\n",
    "        charge: int,\n",
    "    ):\n",
    "        pass\n",
    "\n",
    "class MissingFcn(BaseClass):\n",
    "    @staticmethod\n",
    "    def fcn_1_var(seq):\n",
    "        return seq + \"ABC\"\n",
    "\n",
    "    @staticmethod\n",
    "    def fcn_2_var(seq):\n",
    "        return seq + \"ABC\"\n",
    "    \n",
    "MissingFcn()"
   ]
  },
  {
   "cell_type": "code",
   "execution_count": null,
   "metadata": {},
   "outputs": [],
   "source": [
    "from abc import ABC, abstractmethod\n",
    "\n",
    "class BaseClass(ABC):\n",
    "    @abstractmethod\n",
    "    def my_method(self, arg1: int, arg2: str) -> bool:\n",
    "        pass"
   ]
  },
  {
   "cell_type": "markdown",
   "metadata": {},
   "source": [
    "# Regex"
   ]
  },
  {
   "cell_type": "code",
   "execution_count": 36,
   "metadata": {},
   "outputs": [
    {
     "data": {
      "text/plain": [
       "[(1, 2), (7, 8), (13, 14)]"
      ]
     },
     "execution_count": 36,
     "metadata": {},
     "output_type": "execute_result"
    }
   ],
   "source": [
    "import re\n",
    "\n",
    "a = \"A\"\n",
    "b = \"CABDDDDABDDDDAB\"\n",
    "# pattern = re.escape(a)  # Escape any special characters in `a` to treat it as a literal string\n",
    "matches = re.finditer(a, b)\n",
    "\n",
    "[(match.start(), match.end()) for match in matches]"
   ]
  },
  {
   "cell_type": "markdown",
   "metadata": {},
   "source": [
    "# Classes"
   ]
  },
  {
   "cell_type": "markdown",
   "metadata": {},
   "source": [
    "## __repr__ vs __str__"
   ]
  },
  {
   "cell_type": "code",
   "execution_count": 18,
   "metadata": {},
   "outputs": [
    {
     "name": "stdout",
     "output_type": "stream",
     "text": [
      "Book(title='1984', author='George Orwell')\n",
      "'1984' by George Orwell\n",
      "this is the '1984' by George Orwell\n"
     ]
    }
   ],
   "source": [
    "class Book:\n",
    "    def __init__(self, title, author):\n",
    "        self.title = title\n",
    "        self.author = author\n",
    "    \n",
    "    def __repr__(self):\n",
    "        return f\"Book(title={repr(self.title)}, author={repr(self.author)})\"\n",
    "    \n",
    "    def __str__(self):\n",
    "        return f\"'{self.title}' by {self.author}\"\n",
    "    \n",
    "book = Book(\"1984\", \"George Orwell\")\n",
    "\n",
    "print(repr(book))  # Calls __repr__\n",
    "print(str(book))   # Calls __str__\n",
    "\n",
    "print(f\"this is the {book}\")"
   ]
  }
 ],
 "metadata": {
  "kernelspec": {
   "display_name": "hypedsearch",
   "language": "python",
   "name": "python3"
  },
  "language_info": {
   "codemirror_mode": {
    "name": "ipython",
    "version": 3
   },
   "file_extension": ".py",
   "mimetype": "text/x-python",
   "name": "python",
   "nbconvert_exporter": "python",
   "pygments_lexer": "ipython3",
   "version": "3.11.9"
  }
 },
 "nbformat": 4,
 "nbformat_minor": 2
}

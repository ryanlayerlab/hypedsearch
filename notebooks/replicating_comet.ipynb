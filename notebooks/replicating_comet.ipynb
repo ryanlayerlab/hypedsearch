{
 "cells": [
  {
   "cell_type": "code",
   "execution_count": 21,
   "metadata": {},
   "outputs": [
    {
     "name": "stdout",
     "output_type": "stream",
     "text": [
      "cwd = /Users/erjo3868/repos/hypedsearch/hypedsearch\n"
     ]
    }
   ],
   "source": [
    "import os \n",
    "import warnings\n",
    "\n",
    "warnings.filterwarnings(\"ignore\")\n",
    "os.chdir(\"/Users/erjo3868/repos/hypedsearch/hypedsearch\")\n",
    "print(f\"cwd = {os.getcwd()}\")\n",
    "\n",
    "from src.erik import load_comet_data\n",
    "import numpy as np\n",
    "from src.erik import (\n",
    "    get_data_for_spectrum, \n",
    "    get_b_y_ion_sequences, \n",
    "    get_b_ion_sequences, \n",
    "    get_y_ion_sequences, \n",
    "    load_mzml_data,\n",
    "    get_specific_spectrum,\n",
    "    b_ion_neutral_mass,\n",
    "    y_ion_neutral_mass,\n",
    "    mass_difference_in_ppm\n",
    ")\n",
    "from src.erik_constants import SAMPLE, SCAN\n",
    "from typing import Counter\n",
    "from src.ryans_get_mass_code import calc_masses, b_ions\n",
    "import seaborn as sns\n",
    "from src.plot_utils import fig_setup, finalize, set_title_axes_labels\n",
    "\n",
    "PMZ = \"precursor_mz\"\n",
    "PC = \"precursor_charge\"\n",
    "C = \"charge\"\n",
    "ENM = \"exp_neutral_mass\"\n",
    "XC = \"xcorr\"\n",
    "PP = \"plain_peptide\"\n",
    "PL = \"peptide_len\"\n",
    "IM = \"ions_matched\"\n"
   ]
  },
  {
   "cell_type": "markdown",
   "metadata": {},
   "source": [
    "# Load Comet and spectra (MZML) data"
   ]
  },
  {
   "cell_type": "code",
   "execution_count": 4,
   "metadata": {},
   "outputs": [
    {
     "name": "stdout",
     "output_type": "stream",
     "text": [
      "Reading data for BMEM_AspN_Fxn4\n",
      "Reading data for BMEM_AspN_Fxn5\n",
      "Reading data for BMEM_AspN_Fxn6\n",
      "Reading data for BMEM_AspN_Fxn7\n",
      "Reading data for BMEM_AspN_Fxn8\n",
      "Reading data for BMEM_AspN_Fxn9\n"
     ]
    },
    {
     "data": {
      "text/html": [
       "<div>\n",
       "<style scoped>\n",
       "    .dataframe tbody tr th:only-of-type {\n",
       "        vertical-align: middle;\n",
       "    }\n",
       "\n",
       "    .dataframe tbody tr th {\n",
       "        vertical-align: top;\n",
       "    }\n",
       "\n",
       "    .dataframe thead th {\n",
       "        text-align: right;\n",
       "    }\n",
       "</style>\n",
       "<table border=\"1\" class=\"dataframe\">\n",
       "  <thead>\n",
       "    <tr style=\"text-align: right;\">\n",
       "      <th></th>\n",
       "      <th>scan</th>\n",
       "      <th>num</th>\n",
       "      <th>charge</th>\n",
       "      <th>exp_neutral_mass</th>\n",
       "      <th>calc_neutral_mass</th>\n",
       "      <th>e-value</th>\n",
       "      <th>xcorr</th>\n",
       "      <th>delta_cn</th>\n",
       "      <th>sp_score</th>\n",
       "      <th>ions_matched</th>\n",
       "      <th>...</th>\n",
       "      <th>plain_peptide</th>\n",
       "      <th>modified_peptide</th>\n",
       "      <th>prev_aa</th>\n",
       "      <th>next_aa</th>\n",
       "      <th>protein</th>\n",
       "      <th>protein_count</th>\n",
       "      <th>modifications</th>\n",
       "      <th>retention_time_sec</th>\n",
       "      <th>sp_rank</th>\n",
       "      <th>sample</th>\n",
       "    </tr>\n",
       "  </thead>\n",
       "  <tbody>\n",
       "    <tr>\n",
       "      <th>0</th>\n",
       "      <td>7</td>\n",
       "      <td>1</td>\n",
       "      <td>3</td>\n",
       "      <td>1525.774133</td>\n",
       "      <td>1525.773636</td>\n",
       "      <td>0.000202</td>\n",
       "      <td>2.187</td>\n",
       "      <td>0.4294</td>\n",
       "      <td>229.0</td>\n",
       "      <td>15</td>\n",
       "      <td>...</td>\n",
       "      <td>SAAPAAGSAPAAAEEKK</td>\n",
       "      <td>G.SAAPAAGSAPAAAEEKK.D</td>\n",
       "      <td>G</td>\n",
       "      <td>D</td>\n",
       "      <td>tr|A0A5F8MPY2|A0A5F8MPY2_MOUSE,sp|P99027|RLA2_...</td>\n",
       "      <td>2</td>\n",
       "      <td>-</td>\n",
       "      <td>714.0</td>\n",
       "      <td>1</td>\n",
       "      <td>BMEM_AspN_Fxn4</td>\n",
       "    </tr>\n",
       "    <tr>\n",
       "      <th>1</th>\n",
       "      <td>7</td>\n",
       "      <td>2</td>\n",
       "      <td>3</td>\n",
       "      <td>1525.774133</td>\n",
       "      <td>1525.773636</td>\n",
       "      <td>2.030000</td>\n",
       "      <td>1.248</td>\n",
       "      <td>0.0200</td>\n",
       "      <td>26.0</td>\n",
       "      <td>6</td>\n",
       "      <td>...</td>\n",
       "      <td>AAQTPGSGEAVLSKNP</td>\n",
       "      <td>T.AAQTPGSGEAVLSKNP.N</td>\n",
       "      <td>T</td>\n",
       "      <td>N</td>\n",
       "      <td>sp|Q8BI84|TGO1_MOUSE</td>\n",
       "      <td>1</td>\n",
       "      <td>-</td>\n",
       "      <td>714.0</td>\n",
       "      <td>16</td>\n",
       "      <td>BMEM_AspN_Fxn4</td>\n",
       "    </tr>\n",
       "  </tbody>\n",
       "</table>\n",
       "<p>2 rows × 21 columns</p>\n",
       "</div>"
      ],
      "text/plain": [
       "   scan  num  charge  exp_neutral_mass  calc_neutral_mass   e-value  xcorr  \\\n",
       "0     7    1       3       1525.774133        1525.773636  0.000202  2.187   \n",
       "1     7    2       3       1525.774133        1525.773636  2.030000  1.248   \n",
       "\n",
       "   delta_cn  sp_score  ions_matched  ...      plain_peptide  \\\n",
       "0    0.4294     229.0            15  ...  SAAPAAGSAPAAAEEKK   \n",
       "1    0.0200      26.0             6  ...   AAQTPGSGEAVLSKNP   \n",
       "\n",
       "        modified_peptide prev_aa next_aa  \\\n",
       "0  G.SAAPAAGSAPAAAEEKK.D       G       D   \n",
       "1   T.AAQTPGSGEAVLSKNP.N       T       N   \n",
       "\n",
       "                                             protein protein_count  \\\n",
       "0  tr|A0A5F8MPY2|A0A5F8MPY2_MOUSE,sp|P99027|RLA2_...             2   \n",
       "1                               sp|Q8BI84|TGO1_MOUSE             1   \n",
       "\n",
       "   modifications retention_time_sec  sp_rank          sample  \n",
       "0              -              714.0        1  BMEM_AspN_Fxn4  \n",
       "1              -              714.0       16  BMEM_AspN_Fxn4  \n",
       "\n",
       "[2 rows x 21 columns]"
      ]
     },
     "execution_count": 4,
     "metadata": {},
     "output_type": "execute_result"
    }
   ],
   "source": [
    "# Load comet data\n",
    "comet_df = load_comet_data()\n",
    "comet_df.head(2)\n"
   ]
  },
  {
   "cell_type": "code",
   "execution_count": null,
   "metadata": {},
   "outputs": [],
   "source": [
    "mzml_df = load_mzml_data()\n"
   ]
  },
  {
   "cell_type": "markdown",
   "metadata": {},
   "source": [
    "# EDA"
   ]
  },
  {
   "cell_type": "code",
   "execution_count": 9,
   "metadata": {},
   "outputs": [
    {
     "data": {
      "image/png": "[encoded data removed]",
      "text/plain": [
       "<Figure size 600x400 with 1 Axes>"
      ]
     },
     "metadata": {},
     "output_type": "display_data"
    }
   ],
   "source": [
    "_, axs = fig_setup(1,1)\n",
    "_=sns.kdeplot(data=(mzml_df[PMZ] / mzml_df[PC]) , ax=axs[0])\n",
    "set_title_axes_labels(axs[0], xlabel=\"MZML precurosr mass\", ylabel=\"Density\")\n",
    "finalize(axs)\n"
   ]
  },
  {
   "cell_type": "code",
   "execution_count": null,
   "metadata": {},
   "outputs": [],
   "source": []
  },
  {
   "cell_type": "markdown",
   "metadata": {},
   "source": [
    "# `exp_neutral_mass`"
   ]
  },
  {
   "cell_type": "code",
   "execution_count": 7,
   "metadata": {},
   "outputs": [],
   "source": [
    "PMZ = \"precursor_mz\"\n",
    "PC = \"precursor_charge\"\n",
    "C = \"charge\"\n",
    "ENM = \"exp_neutral_mass\"\n",
    "\n",
    "# See if exp_neutral_mass makes sense\n",
    "result = []\n",
    "for group_name, group_df in comet_df.groupby([\"sample\", \"scan\"]):\n",
    "    sample, scan_num = group_name[0], int(group_name[1])\n",
    "    comet_exp_neut_mass = np.unique(group_df[ENM])\n",
    "    assert (len(comet_exp_neut_mass) == 1)\n",
    "    comet_exp_neut_mass = comet_exp_neut_mass[0]\n",
    "\n",
    "    # Get precursor mass from MZML\n",
    "    spectrum = mzml_df[(mzml_df[SCAN]==scan_num) & (mzml_df[\"mzml\"] == f\"{sample}.mzML\")]\n",
    "    assert spectrum.shape[0] == 1, \"Should only be one matching spectrum\"\n",
    "    spectrum = spectrum.iloc[0]\n",
    "    mzml_mass = spectrum[PC] * spectrum[PMZ]\n",
    "\n",
    "    result.append(abs(mzml_mass - comet_exp_neut_mass))\n",
    "\n",
    "    # For testing\n",
    "    # sample, scan_num\n",
    "    # break"
   ]
  },
  {
   "cell_type": "code",
   "execution_count": 8,
   "metadata": {},
   "outputs": [
    {
     "data": {
      "text/plain": [
       "Counter({np.float64(2.014552999999978): 8181,\n",
       "         np.float64(3.021829000000025): 2226,\n",
       "         np.float64(2.0145530000000917): 821,\n",
       "         np.float64(3.021828999999798): 533,\n",
       "         np.float64(2.0145530000002054): 495,\n",
       "         np.float64(3.0218290000002526): 209,\n",
       "         np.float64(3.0218289999999115): 80,\n",
       "         np.float64(3.021829000000139): 18,\n",
       "         np.float64(2.0145529999998644): 3})"
      ]
     },
     "execution_count": 8,
     "metadata": {},
     "output_type": "execute_result"
    }
   ],
   "source": [
    "Counter(result)"
   ]
  },
  {
   "cell_type": "markdown",
   "metadata": {},
   "source": [
    "# `ions_matched`"
   ]
  },
  {
   "cell_type": "code",
   "execution_count": 5,
   "metadata": {},
   "outputs": [
    {
     "name": "stdout",
     "output_type": "stream",
     "text": [
      "Seq = YMVGPIEEAVAKA \n",
      " b-seqs:\n",
      "['Y', 'YM', 'YMV', 'YMVG', 'YMVGP', 'YMVGPI', 'YMVGPIE', 'YMVGPIEE', 'YMVGPIEEA', 'YMVGPIEEAV', 'YMVGPIEEAVA', 'YMVGPIEEAVAK', 'YMVGPIEEAVAKA'] \n",
      " y-seqs:\n",
      "['MVGPIEEAVAKA', 'VGPIEEAVAKA', 'GPIEEAVAKA', 'PIEEAVAKA', 'IEEAVAKA', 'EEAVAKA', 'EAVAKA', 'AVAKA', 'VAKA', 'AKA', 'KA', 'A']\n"
     ]
    },
    {
     "data": {
      "text/plain": [
       "Spectrum(peaks=[Peak(mz=np.float64(55.05408477783203), abundance=np.float64(87.14974975585938)), Peak(mz=np.float64(58.172611236572266), abundance=np.float64(29.048913955688477)), Peak(mz=np.float64(60.31646728515625), abundance=np.float64(56.90322494506836)), Peak(mz=np.float64(69.06951904296875), abundance=np.float64(124.37157440185547)), Peak(mz=np.float64(70.06513214111328), abundance=np.float64(2604.92724609375)), Peak(mz=np.float64(70.2379150390625), abundance=np.float64(37.235294342041016)), Peak(mz=np.float64(71.06824493408203), abundance=np.float64(367.9293518066406)), Peak(mz=np.float64(72.08072662353516), abundance=np.float64(1720.1806640625)), Peak(mz=np.float64(72.26895141601562), abundance=np.float64(99.03629302978516)), Peak(mz=np.float64(74.05962371826172), abundance=np.float64(67.55577087402344)), Peak(mz=np.float64(75.25961303710938), abundance=np.float64(80.46939086914062)), Peak(mz=np.float64(81.41719818115234), abundance=np.float64(52.36084747314453)), Peak(mz=np.float64(81.49800109863281), abundance=np.float64(30.05681800842285)), Peak(mz=np.float64(84.04544830322266), abundance=np.float64(421.785888671875)), Peak(mz=np.float64(84.07916259765625), abundance=np.float64(454.7763671875)), Peak(mz=np.float64(84.08262634277344), abundance=np.float64(203.40478515625)), Peak(mz=np.float64(84.39993286132812), abundance=np.float64(38.18408966064453)), Peak(mz=np.float64(85.03948974609375), abundance=np.float64(61.605770111083984)), Peak(mz=np.float64(85.76445007324219), abundance=np.float64(53.09756088256836)), Peak(mz=np.float64(86.06768035888672), abundance=np.float64(29.77941131591797)), Peak(mz=np.float64(86.09574127197266), abundance=np.float64(4956.8232421875)), Peak(mz=np.float64(86.86753845214844), abundance=np.float64(32.28928756713867)), Peak(mz=np.float64(87.09757995605469), abundance=np.float64(55.469154357910156)), Peak(mz=np.float64(90.05191802978516), abundance=np.float64(219.11009216308594)), Peak(mz=np.float64(90.0550308227539), abundance=np.float64(881.5014038085938)), Peak(mz=np.float64(90.27155303955078), abundance=np.float64(31.16532325744629)), Peak(mz=np.float64(91.05591583251953), abundance=np.float64(121.51249694824219)), Peak(mz=np.float64(93.27191925048828), abundance=np.float64(50.1003532409668)), Peak(mz=np.float64(93.50439453125), abundance=np.float64(210.03138732910156)), Peak(mz=np.float64(97.02715301513672), abundance=np.float64(72.15243530273438)), Peak(mz=np.float64(97.03057861328125), abundance=np.float64(85.31600952148438)), Peak(mz=np.float64(102.05489349365234), abundance=np.float64(5564.11474609375)), Peak(mz=np.float64(102.21217346191406), abundance=np.float64(40.266666412353516)), Peak(mz=np.float64(102.32678985595703), abundance=np.float64(31.206632614135742)), Peak(mz=np.float64(102.52355194091797), abundance=np.float64(33.224998474121094)), Peak(mz=np.float64(103.05992126464844), abundance=np.float64(114.42857360839844)), Peak(mz=np.float64(103.52737426757812), abundance=np.float64(28.066667556762695)), Peak(mz=np.float64(104.05146026611328), abundance=np.float64(84.30906677246094)), Peak(mz=np.float64(106.02201080322266), abundance=np.float64(25.003570556640625)), Peak(mz=np.float64(112.0472412109375), abundance=np.float64(357.2492980957031)), Peak(mz=np.float64(112.0511245727539), abundance=np.float64(377.4101257324219)), Peak(mz=np.float64(113.03719329833984), abundance=np.float64(34.599998474121094)), Peak(mz=np.float64(113.05088806152344), abundance=np.float64(54.5625)), Peak(mz=np.float64(118.18852996826172), abundance=np.float64(93.61016845703125)), Peak(mz=np.float64(119.61573791503906), abundance=np.float64(27.0)), Peak(mz=np.float64(120.06156158447266), abundance=np.float64(113.3373031616211)), Peak(mz=np.float64(120.07637786865234), abundance=np.float64(43.40277862548828)), Peak(mz=np.float64(120.0802993774414), abundance=np.float64(557.0883178710938)), Peak(mz=np.float64(123.0782699584961), abundance=np.float64(225.61764526367188)), Peak(mz=np.float64(123.52043914794922), abundance=np.float64(77.64090728759766)), Peak(mz=np.float64(127.08778381347656), abundance=np.float64(155.03311157226562)), Peak(mz=np.float64(127.87547302246094), abundance=np.float64(46.18939208984375)), Peak(mz=np.float64(129.1017303466797), abundance=np.float64(2513.927001953125)), Peak(mz=np.float64(129.43101501464844), abundance=np.float64(27.72844886779785)), Peak(mz=np.float64(130.04922485351562), abundance=np.float64(797.2392578125)), Peak(mz=np.float64(130.1087646484375), abundance=np.float64(148.86428833007812)), Peak(mz=np.float64(130.38815307617188), abundance=np.float64(56.21920394897461)), Peak(mz=np.float64(130.8241424560547), abundance=np.float64(34.28928756713867)), Peak(mz=np.float64(131.89944458007812), abundance=np.float64(56.05356979370117)), Peak(mz=np.float64(133.05905151367188), abundance=np.float64(95.04326629638672)), Peak(mz=np.float64(136.06283569335938), abundance=np.float64(182.62229919433594)), Peak(mz=np.float64(136.0754852294922), abundance=np.float64(1329.84619140625)), Peak(mz=np.float64(136.83609008789062), abundance=np.float64(45.78716278076172)), Peak(mz=np.float64(137.1390838623047), abundance=np.float64(119.96014404296875)), Peak(mz=np.float64(138.08091735839844), abundance=np.float64(86.93951416015625)), Peak(mz=np.float64(143.1142578125), abundance=np.float64(96.45755004882812)), Peak(mz=np.float64(143.12123107910156), abundance=np.float64(34.11184310913086)), Peak(mz=np.float64(147.07521057128906), abundance=np.float64(167.33648681640625)), Peak(mz=np.float64(147.10662841796875), abundance=np.float64(46.04999923706055)), Peak(mz=np.float64(148.06080627441406), abundance=np.float64(403.2506408691406)), Peak(mz=np.float64(148.1088104248047), abundance=np.float64(37.025001525878906)), Peak(mz=np.float64(148.33489990234375), abundance=np.float64(26.14285659790039)), Peak(mz=np.float64(152.05650329589844), abundance=np.float64(1154.5093994140625)), Peak(mz=np.float64(155.0802764892578), abundance=np.float64(330.7442626953125)), Peak(mz=np.float64(155.1886749267578), abundance=np.float64(36.242645263671875)), Peak(mz=np.float64(155.51898193359375), abundance=np.float64(52.18939208984375)), Peak(mz=np.float64(156.08047485351562), abundance=np.float64(29.25)), Peak(mz=np.float64(157.09861755371094), abundance=np.float64(95.1836929321289)), Peak(mz=np.float64(163.31739807128906), abundance=np.float64(45.375)), Peak(mz=np.float64(165.9875946044922), abundance=np.float64(92.44999694824219)), Peak(mz=np.float64(166.0879364013672), abundance=np.float64(35.390625)), Peak(mz=np.float64(171.10935974121094), abundance=np.float64(84.00694274902344)), Peak(mz=np.float64(171.11459350585938), abundance=np.float64(189.31008911132812)), Peak(mz=np.float64(171.47726440429688), abundance=np.float64(35.17287063598633)), Peak(mz=np.float64(172.25140380859375), abundance=np.float64(55.0)), Peak(mz=np.float64(173.10008239746094), abundance=np.float64(27.04166603088379)), Peak(mz=np.float64(174.25875854492188), abundance=np.float64(134.69412231445312)), Peak(mz=np.float64(174.69284057617188), abundance=np.float64(27.226852416992188)), Peak(mz=np.float64(179.68963623046875), abundance=np.float64(48.89285659790039)), Peak(mz=np.float64(182.07754516601562), abundance=np.float64(139.8907470703125)), Peak(mz=np.float64(182.95875549316406), abundance=np.float64(37.889286041259766)), Peak(mz=np.float64(183.07540893554688), abundance=np.float64(263.4697570800781)), Peak(mz=np.float64(183.1490020751953), abundance=np.float64(262.8634948730469)), Peak(mz=np.float64(184.4151611328125), abundance=np.float64(32.346153259277344)), Peak(mz=np.float64(186.5047149658203), abundance=np.float64(25.570945739746094)), Peak(mz=np.float64(189.08734130859375), abundance=np.float64(87.84807586669922)), Peak(mz=np.float64(189.1224822998047), abundance=np.float64(129.93031311035156)), Peak(mz=np.float64(193.9263916015625), abundance=np.float64(46.86206817626953)), Peak(mz=np.float64(194.6294403076172), abundance=np.float64(833.396484375)), Peak(mz=np.float64(195.07846069335938), abundance=np.float64(54.01630401611328)), Peak(mz=np.float64(195.2562255859375), abundance=np.float64(32.84090805053711)), Peak(mz=np.float64(200.1385955810547), abundance=np.float64(1143.286865234375)), Peak(mz=np.float64(201.082275390625), abundance=np.float64(134.1986541748047)), Peak(mz=np.float64(201.08946228027344), abundance=np.float64(34.905487060546875)), Peak(mz=np.float64(201.1231689453125), abundance=np.float64(110.69882202148438)), Peak(mz=np.float64(201.5355987548828), abundance=np.float64(47.5625)), Peak(mz=np.float64(202.08486938476562), abundance=np.float64(79.92045593261719)), Peak(mz=np.float64(203.11769104003906), abundance=np.float64(118.3446273803711)), Peak(mz=np.float64(204.12271118164062), abundance=np.float64(120.1008071899414)), Peak(mz=np.float64(204.89210510253906), abundance=np.float64(51.04401397705078)), Peak(mz=np.float64(207.06539916992188), abundance=np.float64(83.42222595214844)), Peak(mz=np.float64(207.7100067138672), abundance=np.float64(31.05555534362793)), Peak(mz=np.float64(211.11141967773438), abundance=np.float64(49.015625)), Peak(mz=np.float64(211.13938903808594), abundance=np.float64(119.03601837158203)), Peak(mz=np.float64(211.14578247070312), abundance=np.float64(79.18672943115234)), Peak(mz=np.float64(211.43931579589844), abundance=np.float64(42.37061309814453)), Peak(mz=np.float64(213.08009338378906), abundance=np.float64(134.68313598632812)), Peak(mz=np.float64(213.1559295654297), abundance=np.float64(84.43196105957031)), Peak(mz=np.float64(213.2301025390625), abundance=np.float64(48.6173095703125)), Peak(mz=np.float64(214.04678344726562), abundance=np.float64(32.0229606628418)), Peak(mz=np.float64(216.09280395507812), abundance=np.float64(55.431121826171875)), Peak(mz=np.float64(216.89759826660156), abundance=np.float64(29.0)), Peak(mz=np.float64(217.86256408691406), abundance=np.float64(44.40833282470703)), Peak(mz=np.float64(218.1483917236328), abundance=np.float64(1187.260498046875)), Peak(mz=np.float64(218.91041564941406), abundance=np.float64(31.36742401123047)), Peak(mz=np.float64(219.10977172851562), abundance=np.float64(41.0099983215332)), Peak(mz=np.float64(219.11611938476562), abundance=np.float64(138.3685302734375)), Peak(mz=np.float64(219.14820861816406), abundance=np.float64(72.48529052734375)), Peak(mz=np.float64(221.13607788085938), abundance=np.float64(111.02540588378906)), Peak(mz=np.float64(224.0187530517578), abundance=np.float64(40.21542739868164)), Peak(mz=np.float64(227.25791931152344), abundance=np.float64(37.5)), Peak(mz=np.float64(230.1207275390625), abundance=np.float64(104.19009399414062)), Peak(mz=np.float64(230.14158630371094), abundance=np.float64(169.7734375)), Peak(mz=np.float64(230.14935302734375), abundance=np.float64(1140.75439453125)), Peak(mz=np.float64(230.6514892578125), abundance=np.float64(113.05633544921875)), Peak(mz=np.float64(231.09701538085938), abundance=np.float64(99.69823455810547)), Peak(mz=np.float64(231.11148071289062), abundance=np.float64(58.22245788574219)), Peak(mz=np.float64(231.12355041503906), abundance=np.float64(139.54649353027344)), Peak(mz=np.float64(238.45069885253906), abundance=np.float64(51.51041793823242)), Peak(mz=np.float64(240.17111206054688), abundance=np.float64(269.9008483886719)), Peak(mz=np.float64(241.08062744140625), abundance=np.float64(299.3888244628906)), Peak(mz=np.float64(241.14219665527344), abundance=np.float64(146.28358459472656)), Peak(mz=np.float64(241.15061950683594), abundance=np.float64(168.71096801757812)), Peak(mz=np.float64(242.0655059814453), abundance=np.float64(120.2112045288086)), Peak(mz=np.float64(242.14903259277344), abundance=np.float64(234.21209716796875)), Peak(mz=np.float64(243.13270568847656), abundance=np.float64(230.64976501464844)), Peak(mz=np.float64(244.08636474609375), abundance=np.float64(63.465206146240234)), Peak(mz=np.float64(244.1349639892578), abundance=np.float64(26.028846740722656)), Peak(mz=np.float64(245.18418884277344), abundance=np.float64(65.78463745117188)), Peak(mz=np.float64(246.1312713623047), abundance=np.float64(99.11469268798828)), Peak(mz=np.float64(247.12840270996094), abundance=np.float64(68.21302795410156)), Peak(mz=np.float64(250.08505249023438), abundance=np.float64(132.5621337890625)), Peak(mz=np.float64(252.13629150390625), abundance=np.float64(69.98892211914062)), Peak(mz=np.float64(254.14892578125), abundance=np.float64(240.76100158691406)), Peak(mz=np.float64(255.1453857421875), abundance=np.float64(61.40833282470703)), Peak(mz=np.float64(256.6766662597656), abundance=np.float64(30.840116500854492)), Peak(mz=np.float64(259.0926818847656), abundance=np.float64(1147.7318115234375)), Peak(mz=np.float64(259.1413879394531), abundance=np.float64(93.26229858398438)), Peak(mz=np.float64(259.74365234375), abundance=np.float64(60.471153259277344)), Peak(mz=np.float64(259.851318359375), abundance=np.float64(34.08695602416992)), Peak(mz=np.float64(261.1173400878906), abundance=np.float64(197.110595703125)), Peak(mz=np.float64(261.1241149902344), abundance=np.float64(99.18518829345703)), Peak(mz=np.float64(267.1151123046875), abundance=np.float64(1158.6534423828125)), Peak(mz=np.float64(267.2856140136719), abundance=np.float64(30.4494686126709)), Peak(mz=np.float64(267.6319580078125), abundance=np.float64(29.39130401611328)), Peak(mz=np.float64(268.120849609375), abundance=np.float64(81.4602279663086)), Peak(mz=np.float64(268.1665954589844), abundance=np.float64(583.4892578125)), Peak(mz=np.float64(270.1588134765625), abundance=np.float64(35.125)), Peak(mz=np.float64(271.1189270019531), abundance=np.float64(58.11428451538086)), Peak(mz=np.float64(274.62982177734375), abundance=np.float64(548.8067626953125)), Peak(mz=np.float64(274.9965515136719), abundance=np.float64(28.765625)), Peak(mz=np.float64(275.1321716308594), abundance=np.float64(566.7107543945312)), Peak(mz=np.float64(277.11773681640625), abundance=np.float64(65.83695983886719)), Peak(mz=np.float64(278.0821228027344), abundance=np.float64(121.00096893310547)), Peak(mz=np.float64(278.1208190917969), abundance=np.float64(93.72413635253906)), Peak(mz=np.float64(278.1495666503906), abundance=np.float64(121.0625)), Peak(mz=np.float64(280.1343994140625), abundance=np.float64(97.39673614501953)), Peak(mz=np.float64(282.1397399902344), abundance=np.float64(352.4878234863281)), Peak(mz=np.float64(283.14990234375), abundance=np.float64(25.321428298950195)), Peak(mz=np.float64(284.11798095703125), abundance=np.float64(135.71153259277344)), Peak(mz=np.float64(285.660400390625), abundance=np.float64(196.8578643798828)), Peak(mz=np.float64(285.6683654785156), abundance=np.float64(42.14244079589844)), Peak(mz=np.float64(286.1670227050781), abundance=np.float64(281.72613525390625)), Peak(mz=np.float64(288.032958984375), abundance=np.float64(57.36111068725586)), Peak(mz=np.float64(288.0414733886719), abundance=np.float64(80.24807739257812)), Peak(mz=np.float64(288.0545349121094), abundance=np.float64(49.875)), Peak(mz=np.float64(288.1382751464844), abundance=np.float64(110.38941955566406)), Peak(mz=np.float64(289.1855163574219), abundance=np.float64(2615.978515625)), Peak(mz=np.float64(289.2423400878906), abundance=np.float64(30.032142639160156)), Peak(mz=np.float64(289.41839599609375), abundance=np.float64(28.58333396911621)), Peak(mz=np.float64(290.1856689453125), abundance=np.float64(192.9829864501953)), Peak(mz=np.float64(290.5642395019531), abundance=np.float64(66.80357360839844)), Peak(mz=np.float64(292.7713317871094), abundance=np.float64(26.022958755493164)), Peak(mz=np.float64(294.01385498046875), abundance=np.float64(30.030405044555664)), Peak(mz=np.float64(294.66448974609375), abundance=np.float64(149.97979736328125)), Peak(mz=np.float64(294.67645263671875), abundance=np.float64(39.73611068725586)), Peak(mz=np.float64(294.8956298828125), abundance=np.float64(31.33333396911621)), Peak(mz=np.float64(295.0935363769531), abundance=np.float64(54.85714340209961)), Peak(mz=np.float64(295.1122131347656), abundance=np.float64(1147.803466796875)), Peak(mz=np.float64(296.1097412109375), abundance=np.float64(388.4603271484375)), Peak(mz=np.float64(296.9971008300781), abundance=np.float64(77.3062515258789)), Peak(mz=np.float64(297.99078369140625), abundance=np.float64(248.33297729492188)), Peak(mz=np.float64(298.1666564941406), abundance=np.float64(41.71934127807617)), Peak(mz=np.float64(299.20391845703125), abundance=np.float64(159.05593872070312)), Peak(mz=np.float64(300.1549072265625), abundance=np.float64(75.15348052978516)), Peak(mz=np.float64(300.7198486328125), abundance=np.float64(27.016666412353516)), Peak(mz=np.float64(301.09271240234375), abundance=np.float64(25.04166603088379)), Peak(mz=np.float64(303.9573059082031), abundance=np.float64(84.02564239501953)), Peak(mz=np.float64(304.8387756347656), abundance=np.float64(64.05296325683594)), Peak(mz=np.float64(305.1402893066406), abundance=np.float64(157.49745178222656)), Peak(mz=np.float64(307.3605651855469), abundance=np.float64(34.70833206176758)), Peak(mz=np.float64(310.02593994140625), abundance=np.float64(39.54166793823242)), Peak(mz=np.float64(312.12225341796875), abundance=np.float64(110.87934875488281)), Peak(mz=np.float64(312.19305419921875), abundance=np.float64(83.49390411376953)), Peak(mz=np.float64(316.1370849609375), abundance=np.float64(79.71627044677734)), Peak(mz=np.float64(317.170654296875), abundance=np.float64(637.91943359375)), Peak(mz=np.float64(317.6751403808594), abundance=np.float64(481.22119140625)), Peak(mz=np.float64(318.1592712402344), abundance=np.float64(28.045454025268555)), Peak(mz=np.float64(318.17205810546875), abundance=np.float64(163.5659942626953)), Peak(mz=np.float64(318.7295837402344), abundance=np.float64(25.0)), Peak(mz=np.float64(320.15985107421875), abundance=np.float64(30.875)), Peak(mz=np.float64(320.28887939453125), abundance=np.float64(44.25798034667969)), Peak(mz=np.float64(320.7662048339844), abundance=np.float64(43.9113655090332)), Peak(mz=np.float64(325.0453796386719), abundance=np.float64(55.889705657958984)), Peak(mz=np.float64(325.1900939941406), abundance=np.float64(53.6136360168457)), Peak(mz=np.float64(326.2428894042969), abundance=np.float64(87.38844299316406)), Peak(mz=np.float64(326.3388366699219), abundance=np.float64(33.89285659790039)), Peak(mz=np.float64(328.5975036621094), abundance=np.float64(42.06377410888672)), Peak(mz=np.float64(330.0594177246094), abundance=np.float64(445.5645446777344)), Peak(mz=np.float64(331.1692199707031), abundance=np.float64(631.5267944335938)), Peak(mz=np.float64(331.6716003417969), abundance=np.float64(115.296875)), Peak(mz=np.float64(332.169677734375), abundance=np.float64(146.1088104248047)), Peak(mz=np.float64(334.1739196777344), abundance=np.float64(125.86982727050781)), Peak(mz=np.float64(337.2724914550781), abundance=np.float64(69.81818389892578)), Peak(mz=np.float64(338.0863037109375), abundance=np.float64(240.027099609375)), Peak(mz=np.float64(338.56549072265625), abundance=np.float64(29.08445930480957)), Peak(mz=np.float64(338.6874694824219), abundance=np.float64(44.84429931640625)), Peak(mz=np.float64(339.24114990234375), abundance=np.float64(129.80172729492188)), Peak(mz=np.float64(340.5928039550781), abundance=np.float64(34.14881134033203)), Peak(mz=np.float64(341.197021484375), abundance=np.float64(64.25)), Peak(mz=np.float64(341.2111511230469), abundance=np.float64(38.3684196472168)), Peak(mz=np.float64(342.6029968261719), abundance=np.float64(72.63043212890625)), Peak(mz=np.float64(343.09796142578125), abundance=np.float64(28.47058868408203)), Peak(mz=np.float64(344.6962585449219), abundance=np.float64(65.24066925048828)), Peak(mz=np.float64(346.9992980957031), abundance=np.float64(196.02096557617188)), Peak(mz=np.float64(347.28997802734375), abundance=np.float64(41.07258224487305)), Peak(mz=np.float64(348.0616149902344), abundance=np.float64(38.36742401123047)), Peak(mz=np.float64(349.1551208496094), abundance=np.float64(34.048912048339844)), Peak(mz=np.float64(349.94171142578125), abundance=np.float64(52.82857131958008)), Peak(mz=np.float64(350.1854553222656), abundance=np.float64(372.38629150390625)), Peak(mz=np.float64(350.24566650390625), abundance=np.float64(71.44007110595703)), Peak(mz=np.float64(351.7885437011719), abundance=np.float64(36.875)), Peak(mz=np.float64(352.00616455078125), abundance=np.float64(163.7051239013672)), Peak(mz=np.float64(353.1802978515625), abundance=np.float64(272.292724609375)), Peak(mz=np.float64(354.15679931640625), abundance=np.float64(62.00181198120117)), Peak(mz=np.float64(358.0880126953125), abundance=np.float64(68.70524597167969)), Peak(mz=np.float64(359.1893615722656), abundance=np.float64(474.6102600097656)), Peak(mz=np.float64(359.68798828125), abundance=np.float64(128.72830200195312)), Peak(mz=np.float64(360.67156982421875), abundance=np.float64(32.33333206176758)), Peak(mz=np.float64(360.7393798828125), abundance=np.float64(45.39858627319336)), Peak(mz=np.float64(361.2868347167969), abundance=np.float64(32.149391174316406)), Peak(mz=np.float64(363.0567321777344), abundance=np.float64(33.375)), Peak(mz=np.float64(363.1589050292969), abundance=np.float64(40.138511657714844)), Peak(mz=np.float64(363.1700134277344), abundance=np.float64(85.04499816894531)), Peak(mz=np.float64(365.1789855957031), abundance=np.float64(268.14581298828125)), Peak(mz=np.float64(367.2317810058594), abundance=np.float64(282.069091796875)), Peak(mz=np.float64(368.20855712890625), abundance=np.float64(30.964284896850586)), Peak(mz=np.float64(368.2358703613281), abundance=np.float64(86.8375015258789)), Peak(mz=np.float64(369.21539306640625), abundance=np.float64(43.75757598876953)), Peak(mz=np.float64(369.4851379394531), abundance=np.float64(32.36111068725586)), Peak(mz=np.float64(370.1114196777344), abundance=np.float64(33.882354736328125)), Peak(mz=np.float64(370.2434387207031), abundance=np.float64(111.62425994873047)), Peak(mz=np.float64(371.1850280761719), abundance=np.float64(126.04747772216797)), Peak(mz=np.float64(371.1949157714844), abundance=np.float64(80.96678161621094)), Peak(mz=np.float64(372.1965637207031), abundance=np.float64(70.03214263916016)), Peak(mz=np.float64(373.189208984375), abundance=np.float64(103.19743347167969)), Peak(mz=np.float64(376.19866943359375), abundance=np.float64(33.63999938964844)), Peak(mz=np.float64(377.14166259765625), abundance=np.float64(67.07758331298828)), Peak(mz=np.float64(380.18927001953125), abundance=np.float64(39.100608825683594)), Peak(mz=np.float64(383.16754150390625), abundance=np.float64(85.88679504394531)), Peak(mz=np.float64(383.19024658203125), abundance=np.float64(334.27911376953125)), Peak(mz=np.float64(384.18731689453125), abundance=np.float64(118.26667022705078)), Peak(mz=np.float64(386.0198059082031), abundance=np.float64(161.0006561279297)), Peak(mz=np.float64(386.99658203125), abundance=np.float64(49.595340728759766)), Peak(mz=np.float64(388.25372314453125), abundance=np.float64(2353.82421875)), Peak(mz=np.float64(388.50689697265625), abundance=np.float64(38.69827651977539)), Peak(mz=np.float64(388.5616455078125), abundance=np.float64(47.11428451538086)), Peak(mz=np.float64(388.9242858886719), abundance=np.float64(36.39130401611328)), Peak(mz=np.float64(389.0404052734375), abundance=np.float64(51.419776916503906)), Peak(mz=np.float64(389.25555419921875), abundance=np.float64(364.27093505859375)), Peak(mz=np.float64(389.2740173339844), abundance=np.float64(25.360294342041016)), Peak(mz=np.float64(389.4447021484375), abundance=np.float64(68.64704895019531)), Peak(mz=np.float64(389.8178405761719), abundance=np.float64(28.893518447875977)), Peak(mz=np.float64(390.2607116699219), abundance=np.float64(89.90740966796875)), Peak(mz=np.float64(390.3832092285156), abundance=np.float64(25.56818199157715)), Peak(mz=np.float64(390.7185363769531), abundance=np.float64(238.12745666503906)), Peak(mz=np.float64(391.2214660644531), abundance=np.float64(79.05146789550781)), Peak(mz=np.float64(393.17608642578125), abundance=np.float64(63.34963607788086)), Peak(mz=np.float64(394.1683349609375), abundance=np.float64(155.89706420898438)), Peak(mz=np.float64(394.18048095703125), abundance=np.float64(312.0391540527344)), Peak(mz=np.float64(394.5466613769531), abundance=np.float64(137.57440185546875)), Peak(mz=np.float64(394.6832580566406), abundance=np.float64(42.34375)), Peak(mz=np.float64(395.48358154296875), abundance=np.float64(72.17794036865234)), Peak(mz=np.float64(395.68878173828125), abundance=np.float64(766.1544189453125)), Peak(mz=np.float64(396.1278076171875), abundance=np.float64(38.77822494506836)), Peak(mz=np.float64(396.1880798339844), abundance=np.float64(87.6297607421875)), Peak(mz=np.float64(396.2021179199219), abundance=np.float64(42.247642517089844)), Peak(mz=np.float64(396.2184143066406), abundance=np.float64(98.92500305175781)), Peak(mz=np.float64(397.2018737792969), abundance=np.float64(404.1486511230469)), Peak(mz=np.float64(398.2054138183594), abundance=np.float64(88.72321319580078)), Peak(mz=np.float64(401.1688232421875), abundance=np.float64(34.96195602416992)), Peak(mz=np.float64(401.2080993652344), abundance=np.float64(70.44461822509766)), Peak(mz=np.float64(403.2324523925781), abundance=np.float64(58.11136245727539)), Peak(mz=np.float64(405.0006103515625), abundance=np.float64(33.40833282470703)), Peak(mz=np.float64(407.602783203125), abundance=np.float64(26.225000381469727)), Peak(mz=np.float64(411.18585205078125), abundance=np.float64(373.165771484375)), Peak(mz=np.float64(412.1944274902344), abundance=np.float64(40.8125)), Peak(mz=np.float64(412.6922302246094), abundance=np.float64(65.01541137695312)), Peak(mz=np.float64(413.18585205078125), abundance=np.float64(118.7225341796875)), Peak(mz=np.float64(413.602783203125), abundance=np.float64(25.3125)), Peak(mz=np.float64(414.0544128417969), abundance=np.float64(109.00961303710938)), Peak(mz=np.float64(415.0608215332031), abundance=np.float64(50.964622497558594)), Peak(mz=np.float64(417.2149658203125), abundance=np.float64(138.63101196289062)), Peak(mz=np.float64(419.0286560058594), abundance=np.float64(40.959999084472656)), Peak(mz=np.float64(422.23687744140625), abundance=np.float64(62.889286041259766)), Peak(mz=np.float64(423.268310546875), abundance=np.float64(171.0142822265625)), Peak(mz=np.float64(424.2264404296875), abundance=np.float64(108.0888900756836)), Peak(mz=np.float64(425.1563415527344), abundance=np.float64(92.52155303955078)), Peak(mz=np.float64(426.1582946777344), abundance=np.float64(55.12009811401367)), Peak(mz=np.float64(427.2661437988281), abundance=np.float64(96.89361572265625)), Peak(mz=np.float64(427.281982421875), abundance=np.float64(247.9603729248047)), Peak(mz=np.float64(427.3238220214844), abundance=np.float64(29.53125)), Peak(mz=np.float64(428.03094482421875), abundance=np.float64(35.11556625366211)), Peak(mz=np.float64(428.2325134277344), abundance=np.float64(41.265350341796875)), Peak(mz=np.float64(429.1914978027344), abundance=np.float64(105.921875)), Peak(mz=np.float64(429.2041931152344), abundance=np.float64(256.8836669921875)), Peak(mz=np.float64(429.249755859375), abundance=np.float64(117.15239715576172)), Peak(mz=np.float64(430.1884460449219), abundance=np.float64(42.1953125)), Peak(mz=np.float64(430.214599609375), abundance=np.float64(290.7825927734375)), Peak(mz=np.float64(430.5557556152344), abundance=np.float64(147.125)), Peak(mz=np.float64(430.89471435546875), abundance=np.float64(135.04090881347656)), Peak(mz=np.float64(431.2474060058594), abundance=np.float64(83.375)), Peak(mz=np.float64(433.023193359375), abundance=np.float64(67.0250015258789)), Peak(mz=np.float64(434.17059326171875), abundance=np.float64(123.9308853149414)), Peak(mz=np.float64(435.32489013671875), abundance=np.float64(92.52631378173828)), Peak(mz=np.float64(438.9176330566406), abundance=np.float64(109.5931396484375)), Peak(mz=np.float64(438.9773864746094), abundance=np.float64(179.5514678955078)), Peak(mz=np.float64(439.5289001464844), abundance=np.float64(147.125)), Peak(mz=np.float64(441.7458190917969), abundance=np.float64(94.24415588378906)), Peak(mz=np.float64(442.09033203125), abundance=np.float64(31.53125)), Peak(mz=np.float64(442.16448974609375), abundance=np.float64(41.556819915771484)), Peak(mz=np.float64(442.6087341308594), abundance=np.float64(44.0)), Peak(mz=np.float64(444.1471862792969), abundance=np.float64(40.39858627319336)), Peak(mz=np.float64(445.83746337890625), abundance=np.float64(164.08474731445312)), Peak(mz=np.float64(446.2137145996094), abundance=np.float64(178.9395294189453)), Peak(mz=np.float64(446.2405700683594), abundance=np.float64(128.7600555419922)), Peak(mz=np.float64(446.6625671386719), abundance=np.float64(75.55572509765625)), Peak(mz=np.float64(447.2267761230469), abundance=np.float64(101.80000305175781)), Peak(mz=np.float64(451.1856994628906), abundance=np.float64(108.69230651855469)), Peak(mz=np.float64(451.2022705078125), abundance=np.float64(1705.5634765625)), Peak(mz=np.float64(451.27301025390625), abundance=np.float64(108.00595092773438)), Peak(mz=np.float64(452.12884521484375), abundance=np.float64(58.33069610595703)), Peak(mz=np.float64(452.1981201171875), abundance=np.float64(58.775943756103516)), Peak(mz=np.float64(452.2189636230469), abundance=np.float64(94.78177642822266)), Peak(mz=np.float64(452.66510009765625), abundance=np.float64(29.113636016845703)), Peak(mz=np.float64(452.9531555175781), abundance=np.float64(27.326923370361328)), Peak(mz=np.float64(453.1851806640625), abundance=np.float64(156.29949951171875)), Peak(mz=np.float64(453.90606689453125), abundance=np.float64(117.96491241455078)), Peak(mz=np.float64(454.2293701171875), abundance=np.float64(256.98553466796875)), Peak(mz=np.float64(454.5961608886719), abundance=np.float64(132.54672241210938)), Peak(mz=np.float64(454.99810791015625), abundance=np.float64(27.69230842590332)), Peak(mz=np.float64(456.11810302734375), abundance=np.float64(46.967105865478516)), Peak(mz=np.float64(457.0439453125), abundance=np.float64(35.842105865478516)), Peak(mz=np.float64(457.2442321777344), abundance=np.float64(66.00595092773438)), Peak(mz=np.float64(459.1383972167969), abundance=np.float64(40.003379821777344)), Peak(mz=np.float64(459.2132568359375), abundance=np.float64(148.07911682128906)), Peak(mz=np.float64(459.2508239746094), abundance=np.float64(40.09782791137695)), Peak(mz=np.float64(459.2913513183594), abundance=np.float64(2894.717041015625)), Peak(mz=np.float64(459.41766357421875), abundance=np.float64(127.88468933105469)), Peak(mz=np.float64(459.4524841308594), abundance=np.float64(28.670454025268555)), Peak(mz=np.float64(459.5450134277344), abundance=np.float64(54.81666564941406)), Peak(mz=np.float64(459.7716979980469), abundance=np.float64(67.13953399658203)), Peak(mz=np.float64(459.9024658203125), abundance=np.float64(161.49789428710938)), Peak(mz=np.float64(460.064697265625), abundance=np.float64(117.22685241699219)), Peak(mz=np.float64(460.1009216308594), abundance=np.float64(260.8947448730469)), Peak(mz=np.float64(460.1312255859375), abundance=np.float64(82.01041412353516)), Peak(mz=np.float64(460.14422607421875), abundance=np.float64(74.34782409667969)), Peak(mz=np.float64(460.171875), abundance=np.float64(131.22637939453125)), Peak(mz=np.float64(460.1981201171875), abundance=np.float64(105.81481170654297)), Peak(mz=np.float64(460.2104187011719), abundance=np.float64(456.2377624511719)), Peak(mz=np.float64(460.2460021972656), abundance=np.float64(281.33648681640625)), Peak(mz=np.float64(460.29132080078125), abundance=np.float64(126.09656524658203)), Peak(mz=np.float64(460.2992248535156), abundance=np.float64(847.7647705078125)), Peak(mz=np.float64(460.3333435058594), abundance=np.float64(66.33928680419922)), Peak(mz=np.float64(460.5694580078125), abundance=np.float64(75.93877410888672)), Peak(mz=np.float64(460.7396545410156), abundance=np.float64(32.266666412353516)), Peak(mz=np.float64(460.91064453125), abundance=np.float64(77.41522979736328)), Peak(mz=np.float64(461.21051025390625), abundance=np.float64(263.673095703125)), Peak(mz=np.float64(461.2247009277344), abundance=np.float64(40.11574172973633)), Peak(mz=np.float64(461.2943420410156), abundance=np.float64(288.94403076171875)), Peak(mz=np.float64(462.186279296875), abundance=np.float64(27.053571701049805)), Peak(mz=np.float64(462.23828125), abundance=np.float64(42.65681838989258)), Peak(mz=np.float64(463.5302734375), abundance=np.float64(48.21052551269531)), Peak(mz=np.float64(464.2012939453125), abundance=np.float64(76.88235473632812)), Peak(mz=np.float64(464.2582702636719), abundance=np.float64(150.23573303222656)), Peak(mz=np.float64(464.76458740234375), abundance=np.float64(109.48076629638672)), Peak(mz=np.float64(465.2616882324219), abundance=np.float64(188.22012329101562)), Peak(mz=np.float64(466.63397216796875), abundance=np.float64(145.3980255126953)), Peak(mz=np.float64(466.8709411621094), abundance=np.float64(31.473684310913086)), Peak(mz=np.float64(468.1791076660156), abundance=np.float64(100.16345977783203)), Peak(mz=np.float64(469.1864318847656), abundance=np.float64(33.796051025390625)), Peak(mz=np.float64(469.2266540527344), abundance=np.float64(72.03666687011719)), Peak(mz=np.float64(470.216552734375), abundance=np.float64(76.14204406738281)), Peak(mz=np.float64(470.28363037109375), abundance=np.float64(90.84500122070312)), Peak(mz=np.float64(470.3655700683594), abundance=np.float64(27.28928565979004)), Peak(mz=np.float64(472.2541198730469), abundance=np.float64(229.00660705566406)), Peak(mz=np.float64(473.08642578125), abundance=np.float64(27.125)), Peak(mz=np.float64(473.2493896484375), abundance=np.float64(62.76041793823242)), Peak(mz=np.float64(476.17083740234375), abundance=np.float64(36.005950927734375)), Peak(mz=np.float64(476.7347412109375), abundance=np.float64(33.306819915771484)), Peak(mz=np.float64(478.26690673828125), abundance=np.float64(38.002357482910156)), Peak(mz=np.float64(478.35302734375), abundance=np.float64(117.78050994873047)), Peak(mz=np.float64(482.2257385253906), abundance=np.float64(81.85713958740234)), Peak(mz=np.float64(486.7249755859375), abundance=np.float64(221.73373413085938)), Peak(mz=np.float64(487.2840881347656), abundance=np.float64(51.247642517089844)), Peak(mz=np.float64(489.20196533203125), abundance=np.float64(76.60147094726562)), Peak(mz=np.float64(492.3174133300781), abundance=np.float64(55.92499923706055)), Peak(mz=np.float64(492.7679748535156), abundance=np.float64(245.78086853027344)), Peak(mz=np.float64(495.72564697265625), abundance=np.float64(231.5264892578125)), Peak(mz=np.float64(496.27630615234375), abundance=np.float64(276.8400573730469)), Peak(mz=np.float64(496.29010009765625), abundance=np.float64(85.06585693359375)), Peak(mz=np.float64(496.5412292480469), abundance=np.float64(34.18560791015625)), Peak(mz=np.float64(496.7409973144531), abundance=np.float64(77.68055725097656)), Peak(mz=np.float64(497.27374267578125), abundance=np.float64(38.29656982421875)), Peak(mz=np.float64(497.43695068359375), abundance=np.float64(105.49662017822266)), Peak(mz=np.float64(498.9862976074219), abundance=np.float64(63.73500061035156)), Peak(mz=np.float64(499.2809753417969), abundance=np.float64(100.00446319580078)), Peak(mz=np.float64(500.2298583984375), abundance=np.float64(108.74515533447266)), Peak(mz=np.float64(501.22601318359375), abundance=np.float64(49.01785659790039)), Peak(mz=np.float64(503.25634765625), abundance=np.float64(56.414215087890625)), Peak(mz=np.float64(505.24920654296875), abundance=np.float64(42.92045593261719)), Peak(mz=np.float64(506.26593017578125), abundance=np.float64(88.22895812988281)), Peak(mz=np.float64(508.2111511230469), abundance=np.float64(134.72854614257812)), Peak(mz=np.float64(508.24652099609375), abundance=np.float64(176.5638885498047)), Peak(mz=np.float64(511.5538635253906), abundance=np.float64(123.69207000732422)), Peak(mz=np.float64(511.9767761230469), abundance=np.float64(194.46153259277344)), Peak(mz=np.float64(520.259765625), abundance=np.float64(292.1734924316406)), Peak(mz=np.float64(521.2650146484375), abundance=np.float64(194.61602783203125)), Peak(mz=np.float64(521.3018798828125), abundance=np.float64(103.84500122070312)), Peak(mz=np.float64(522.2687377929688), abundance=np.float64(26.297618865966797)), Peak(mz=np.float64(526.2523803710938), abundance=np.float64(114.32786560058594)), Peak(mz=np.float64(527.2484741210938), abundance=np.float64(91.9800033569336)), Peak(mz=np.float64(528.32568359375), abundance=np.float64(28.890625)), Peak(mz=np.float64(528.907470703125), abundance=np.float64(48.375)), Peak(mz=np.float64(530.2817993164062), abundance=np.float64(180.6198272705078)), Peak(mz=np.float64(530.30322265625), abundance=np.float64(103.2822265625)), Peak(mz=np.float64(531.2353515625), abundance=np.float64(56.84090805053711)), Peak(mz=np.float64(533.2920532226562), abundance=np.float64(175.06719970703125)), Peak(mz=np.float64(533.3170776367188), abundance=np.float64(53.96428680419922)), Peak(mz=np.float64(534.2051391601562), abundance=np.float64(37.125)), Peak(mz=np.float64(535.0018310546875), abundance=np.float64(126.5436782836914)), Peak(mz=np.float64(536.229736328125), abundance=np.float64(52.69422912597656)), Peak(mz=np.float64(538.306640625), abundance=np.float64(35.81686019897461)), Peak(mz=np.float64(539.2968139648438), abundance=np.float64(133.00625610351562)), Peak(mz=np.float64(540.7415161132812), abundance=np.float64(35.315216064453125)), Peak(mz=np.float64(542.2741088867188), abundance=np.float64(62.04009246826172)), Peak(mz=np.float64(542.30322265625), abundance=np.float64(575.3006591796875)), Peak(mz=np.float64(542.3247680664062), abundance=np.float64(40.69827651977539)), Peak(mz=np.float64(542.8084716796875), abundance=np.float64(144.71987915039062)), Peak(mz=np.float64(543.2996215820312), abundance=np.float64(132.98123168945312)), Peak(mz=np.float64(545.5989990234375), abundance=np.float64(46.224998474121094)), Peak(mz=np.float64(545.7730712890625), abundance=np.float64(340.23980712890625)), Peak(mz=np.float64(546.0654907226562), abundance=np.float64(61.1953125)), Peak(mz=np.float64(546.2454833984375), abundance=np.float64(29.575000762939453)), Peak(mz=np.float64(548.253662109375), abundance=np.float64(1994.18017578125)), Peak(mz=np.float64(548.4622802734375), abundance=np.float64(40.474056243896484)), Peak(mz=np.float64(548.48681640625), abundance=np.float64(32.05555725097656)), Peak(mz=np.float64(549.0584106445312), abundance=np.float64(55.17241287231445)), Peak(mz=np.float64(549.2555541992188), abundance=np.float64(384.9967956542969)), Peak(mz=np.float64(549.2842407226562), abundance=np.float64(43.03628921508789)), Peak(mz=np.float64(549.7377319335938), abundance=np.float64(47.64285659790039)), Peak(mz=np.float64(550.2523193359375), abundance=np.float64(47.05482482910156)), Peak(mz=np.float64(550.482421875), abundance=np.float64(33.34722137451172)), Peak(mz=np.float64(554.4607543945312), abundance=np.float64(97.36170196533203)), Peak(mz=np.float64(555.570556640625), abundance=np.float64(33.39112854003906)), Peak(mz=np.float64(556.3140869140625), abundance=np.float64(83.1875)), Peak(mz=np.float64(558.287353515625), abundance=np.float64(71.02631378173828)), Peak(mz=np.float64(560.3109130859375), abundance=np.float64(89.17378234863281)), Peak(mz=np.float64(560.6502075195312), abundance=np.float64(261.625)), Peak(mz=np.float64(561.8212280273438), abundance=np.float64(67.65441131591797)), Peak(mz=np.float64(561.8855590820312), abundance=np.float64(42.40760803222656)), Peak(mz=np.float64(563.2692260742188), abundance=np.float64(74.00244903564453)), Peak(mz=np.float64(566.2806396484375), abundance=np.float64(69.08928680419922)), Peak(mz=np.float64(570.32373046875), abundance=np.float64(372.48931884765625)), Peak(mz=np.float64(571.3231201171875), abundance=np.float64(44.13031768798828)), Peak(mz=np.float64(571.8831787109375), abundance=np.float64(108.39534759521484)), Peak(mz=np.float64(575.8049926757812), abundance=np.float64(37.83695602416992)), Peak(mz=np.float64(576.2545166015625), abundance=np.float64(25.024999618530273)), Peak(mz=np.float64(576.3314208984375), abundance=np.float64(51.68144989013672)), Peak(mz=np.float64(576.9678955078125), abundance=np.float64(160.4713897705078)), Peak(mz=np.float64(580.20361328125), abundance=np.float64(60.004032135009766)), Peak(mz=np.float64(580.346435546875), abundance=np.float64(44.306819915771484)), Peak(mz=np.float64(580.7861328125), abundance=np.float64(45.33796310424805)), Peak(mz=np.float64(580.8077392578125), abundance=np.float64(39.07692337036133)), Peak(mz=np.float64(581.7835083007812), abundance=np.float64(51.560184478759766)), Peak(mz=np.float64(583.2948608398438), abundance=np.float64(36.45000076293945)), Peak(mz=np.float64(585.32666015625), abundance=np.float64(85.1875)), Peak(mz=np.float64(585.3436889648438), abundance=np.float64(27.449073791503906)), Peak(mz=np.float64(587.9008178710938), abundance=np.float64(89.7191162109375)), Peak(mz=np.float64(588.3348999023438), abundance=np.float64(2854.51953125)), Peak(mz=np.float64(588.5830078125), abundance=np.float64(75.00735473632812)), Peak(mz=np.float64(589.3411254882812), abundance=np.float64(704.803466796875)), Peak(mz=np.float64(589.994384765625), abundance=np.float64(47.15999984741211)), Peak(mz=np.float64(590.180419921875), abundance=np.float64(62.01679229736328)), Peak(mz=np.float64(590.341064453125), abundance=np.float64(27.049999237060547)), Peak(mz=np.float64(590.5261840820312), abundance=np.float64(50.19852828979492)), Peak(mz=np.float64(590.8917236328125), abundance=np.float64(26.923076629638672)), Peak(mz=np.float64(591.3331298828125), abundance=np.float64(62.72222137451172)), Peak(mz=np.float64(595.2606201171875), abundance=np.float64(80.56018829345703)), Peak(mz=np.float64(596.8284301757812), abundance=np.float64(28.271739959716797)), Peak(mz=np.float64(597.2904052734375), abundance=np.float64(140.06944274902344)), Peak(mz=np.float64(599.0968017578125), abundance=np.float64(27.28125)), Peak(mz=np.float64(599.3231811523438), abundance=np.float64(45.06578826904297)), Peak(mz=np.float64(600.3082885742188), abundance=np.float64(168.73513793945312)), Peak(mz=np.float64(600.9213256835938), abundance=np.float64(65.68965148925781)), Peak(mz=np.float64(601.2639770507812), abundance=np.float64(59.12816619873047)), Peak(mz=np.float64(604.9451904296875), abundance=np.float64(75.2022705078125)), Peak(mz=np.float64(607.3156127929688), abundance=np.float64(63.15999984741211)), Peak(mz=np.float64(607.803955078125), abundance=np.float64(166.8919677734375)), Peak(mz=np.float64(609.316162109375), abundance=np.float64(89.78177642822266)), Peak(mz=np.float64(609.5758666992188), abundance=np.float64(52.5625)), Peak(mz=np.float64(613.3259887695312), abundance=np.float64(73.25961303710938)), Peak(mz=np.float64(614.9974975585938), abundance=np.float64(35.578948974609375)), Peak(mz=np.float64(616.3159790039062), abundance=np.float64(106.08647155761719)), Peak(mz=np.float64(616.7796020507812), abundance=np.float64(181.758544921875)), Peak(mz=np.float64(620.9166259765625), abundance=np.float64(39.01906967163086)), Peak(mz=np.float64(625.0559692382812), abundance=np.float64(265.32037353515625)), Peak(mz=np.float64(625.3204956054688), abundance=np.float64(36.57500076293945)), Peak(mz=np.float64(628.31982421875), abundance=np.float64(104.36466979980469)), Peak(mz=np.float64(628.338134765625), abundance=np.float64(94.77884674072266)), Peak(mz=np.float64(628.7791137695312), abundance=np.float64(43.001983642578125)), Peak(mz=np.float64(630.1555786132812), abundance=np.float64(84.02564239501953)), Peak(mz=np.float64(633.3416137695312), abundance=np.float64(265.4666748046875)), Peak(mz=np.float64(633.8386840820312), abundance=np.float64(77.32653045654297)), Peak(mz=np.float64(634.3365478515625), abundance=np.float64(48.0229606628418)), Peak(mz=np.float64(634.3486938476562), abundance=np.float64(348.49188232421875)), Peak(mz=np.float64(635.3447265625), abundance=np.float64(43.11249923706055)), Peak(mz=np.float64(639.839111328125), abundance=np.float64(31.011905670166016)), Peak(mz=np.float64(640.3140869140625), abundance=np.float64(62.04166793823242)), Peak(mz=np.float64(641.4041137695312), abundance=np.float64(38.015625)), Peak(mz=np.float64(644.8327026367188), abundance=np.float64(142.41326904296875)), Peak(mz=np.float64(644.8816528320312), abundance=np.float64(31.408782958984375)), Peak(mz=np.float64(646.0733032226562), abundance=np.float64(61.740943908691406)), Peak(mz=np.float64(646.3373413085938), abundance=np.float64(30.211206436157227)), Peak(mz=np.float64(651.3740234375), abundance=np.float64(81.55585479736328)), Peak(mz=np.float64(652.7935180664062), abundance=np.float64(140.2083282470703)), Peak(mz=np.float64(653.3299560546875), abundance=np.float64(44.46154022216797)), Peak(mz=np.float64(659.349609375), abundance=np.float64(25.053571701049805)), Peak(mz=np.float64(660.3489990234375), abundance=np.float64(46.91666793823242)), Peak(mz=np.float64(661.3397216796875), abundance=np.float64(1729.388671875)), Peak(mz=np.float64(662.0801391601562), abundance=np.float64(27.721153259277344)), Peak(mz=np.float64(662.338134765625), abundance=np.float64(777.6163330078125)), Peak(mz=np.float64(662.5454711914062), abundance=np.float64(30.06944465637207)), Peak(mz=np.float64(663.010009765625), abundance=np.float64(55.7378044128418)), Peak(mz=np.float64(663.3282470703125), abundance=np.float64(62.04290771484375)), Peak(mz=np.float64(663.3504028320312), abundance=np.float64(87.1956558227539)), Peak(mz=np.float64(663.48388671875), abundance=np.float64(43.384090423583984)), Peak(mz=np.float64(663.5486450195312), abundance=np.float64(49.11136245727539)), Peak(mz=np.float64(664.1996459960938), abundance=np.float64(42.02743911743164)), Peak(mz=np.float64(669.381591796875), abundance=np.float64(51.23147964477539)), Peak(mz=np.float64(672.0435791015625), abundance=np.float64(33.592105865478516)), Peak(mz=np.float64(678.3331909179688), abundance=np.float64(34.32692337036133)), Peak(mz=np.float64(681.3302612304688), abundance=np.float64(129.3333282470703)), Peak(mz=np.float64(681.35791015625), abundance=np.float64(99.68611145019531)), Peak(mz=np.float64(682.0064086914062), abundance=np.float64(28.0)), Peak(mz=np.float64(682.3642578125), abundance=np.float64(70.125)), Peak(mz=np.float64(688.7405395507812), abundance=np.float64(26.094696044921875)), Peak(mz=np.float64(689.3424072265625), abundance=np.float64(59.11428451538086)), Peak(mz=np.float64(690.710693359375), abundance=np.float64(60.03571319580078)), Peak(mz=np.float64(690.7926025390625), abundance=np.float64(30.375)), Peak(mz=np.float64(691.2858276367188), abundance=np.float64(59.57120132446289)), Peak(mz=np.float64(691.3040771484375), abundance=np.float64(54.480262756347656)), Peak(mz=np.float64(692.3817138671875), abundance=np.float64(33.52941131591797)), Peak(mz=np.float64(693.039306640625), abundance=np.float64(40.117645263671875)), Peak(mz=np.float64(696.8935546875), abundance=np.float64(51.235294342041016)), Peak(mz=np.float64(697.35986328125), abundance=np.float64(31.69565200805664)), Peak(mz=np.float64(698.3519897460938), abundance=np.float64(80.58064270019531)), Peak(mz=np.float64(699.36572265625), abundance=np.float64(435.05291748046875)), Peak(mz=np.float64(700.0284423828125), abundance=np.float64(97.42222595214844)), Peak(mz=np.float64(700.2053833007812), abundance=np.float64(86.05792999267578)), Peak(mz=np.float64(700.3580322265625), abundance=np.float64(107.0638656616211)), Peak(mz=np.float64(700.7285766601562), abundance=np.float64(44.59558868408203)), Peak(mz=np.float64(706.0060424804688), abundance=np.float64(78.61984252929688)), Peak(mz=np.float64(710.6981201171875), abundance=np.float64(34.880435943603516)), Peak(mz=np.float64(712.6614379882812), abundance=np.float64(51.35805130004883)), Peak(mz=np.float64(717.3768920898438), abundance=np.float64(1039.3785400390625)), Peak(mz=np.float64(717.5823364257812), abundance=np.float64(28.149999618530273)), Peak(mz=np.float64(717.8513793945312), abundance=np.float64(28.64285659790039)), Peak(mz=np.float64(718.3759765625), abundance=np.float64(410.2605895996094)), Peak(mz=np.float64(718.4381103515625), abundance=np.float64(33.043479919433594)), Peak(mz=np.float64(718.810546875), abundance=np.float64(29.219594955444336)), Peak(mz=np.float64(722.4443359375), abundance=np.float64(37.002193450927734)), Peak(mz=np.float64(728.9356079101562), abundance=np.float64(29.140625)), Peak(mz=np.float64(738.9313354492188), abundance=np.float64(56.1363639831543)), Peak(mz=np.float64(745.36279296875), abundance=np.float64(70.3712158203125)), Peak(mz=np.float64(745.657958984375), abundance=np.float64(39.556819915771484)), Peak(mz=np.float64(747.185546875), abundance=np.float64(34.880435943603516)), Peak(mz=np.float64(757.2780151367188), abundance=np.float64(28.0)), Peak(mz=np.float64(762.3604125976562), abundance=np.float64(33.51524353027344)), Peak(mz=np.float64(762.3925170898438), abundance=np.float64(220.12673950195312)), Peak(mz=np.float64(762.6190795898438), abundance=np.float64(45.4948616027832)), Peak(mz=np.float64(763.3717651367188), abundance=np.float64(100.2897720336914)), Peak(mz=np.float64(763.4034423828125), abundance=np.float64(41.28409194946289)), Peak(mz=np.float64(764.8800048828125), abundance=np.float64(112.25)), Peak(mz=np.float64(765.7764892578125), abundance=np.float64(52.68055725097656)), Peak(mz=np.float64(768.3544921875), abundance=np.float64(55.149391174316406)), Peak(mz=np.float64(768.6422729492188), abundance=np.float64(30.964284896850586)), Peak(mz=np.float64(772.3685302734375), abundance=np.float64(134.41282653808594)), Peak(mz=np.float64(779.4291381835938), abundance=np.float64(30.77822494506836)), Peak(mz=np.float64(780.3171997070312), abundance=np.float64(62.44962692260742)), Peak(mz=np.float64(788.4613037109375), abundance=np.float64(31.149391174316406)), Peak(mz=np.float64(790.3745727539062), abundance=np.float64(1025.7169189453125)), Peak(mz=np.float64(790.8746948242188), abundance=np.float64(30.816667556762695)), Peak(mz=np.float64(791.380126953125), abundance=np.float64(611.3079833984375)), Peak(mz=np.float64(792.400390625), abundance=np.float64(37.14881134033203)), Peak(mz=np.float64(797.9949340820312), abundance=np.float64(95.0)), Peak(mz=np.float64(800.87109375), abundance=np.float64(33.281978607177734)), Peak(mz=np.float64(804.2937622070312), abundance=np.float64(44.324153900146484)), Peak(mz=np.float64(808.3348388671875), abundance=np.float64(42.235294342041016)), Peak(mz=np.float64(809.4313354492188), abundance=np.float64(38.16345977783203)), Peak(mz=np.float64(814.8229370117188), abundance=np.float64(28.009614944458008)), Peak(mz=np.float64(815.3987426757812), abundance=np.float64(34.04499816894531)), Peak(mz=np.float64(830.4620971679688), abundance=np.float64(156.3395538330078)), Peak(mz=np.float64(832.4603271484375), abundance=np.float64(61.702701568603516)), Peak(mz=np.float64(836.9347534179688), abundance=np.float64(30.900861740112305)), Peak(mz=np.float64(856.008056640625), abundance=np.float64(35.92045593261719)), Peak(mz=np.float64(856.9973754882812), abundance=np.float64(70.01499938964844)), Peak(mz=np.float64(864.0043334960938), abundance=np.float64(25.016666412353516)), Peak(mz=np.float64(875.672119140625), abundance=np.float64(34.28571319580078)), Peak(mz=np.float64(891.3788452148438), abundance=np.float64(94.30720520019531)), Peak(mz=np.float64(892.439697265625), abundance=np.float64(60.889705657958984)), Peak(mz=np.float64(906.0156860351562), abundance=np.float64(46.20192337036133)), Peak(mz=np.float64(907.0698852539062), abundance=np.float64(38.0)), Peak(mz=np.float64(919.4244995117188), abundance=np.float64(610.3369140625)), Peak(mz=np.float64(919.4600830078125), abundance=np.float64(80.32432556152344)), Peak(mz=np.float64(920.4229736328125), abundance=np.float64(208.5946807861328)), Peak(mz=np.float64(921.4122314453125), abundance=np.float64(172.52020263671875)), Peak(mz=np.float64(923.3182983398438), abundance=np.float64(36.573978424072266)), Peak(mz=np.float64(927.51708984375), abundance=np.float64(78.64692687988281)), Peak(mz=np.float64(927.7982788085938), abundance=np.float64(33.79999923706055)), Peak(mz=np.float64(928.47412109375), abundance=np.float64(40.002906799316406)), Peak(mz=np.float64(929.0458374023438), abundance=np.float64(55.153480529785156)), Peak(mz=np.float64(962.450927734375), abundance=np.float64(69.17361450195312)), Peak(mz=np.float64(972.959716796875), abundance=np.float64(39.88888931274414)), Peak(mz=np.float64(973.447021484375), abundance=np.float64(34.224998474121094)), Peak(mz=np.float64(984.5355224609375), abundance=np.float64(413.964599609375)), Peak(mz=np.float64(984.9305419921875), abundance=np.float64(32.69551467895508)), Peak(mz=np.float64(985.180908203125), abundance=np.float64(82.24852752685547)), Peak(mz=np.float64(990.4571533203125), abundance=np.float64(415.4854431152344)), Peak(mz=np.float64(991.4574584960938), abundance=np.float64(214.94192504882812)), Peak(mz=np.float64(1001.901123046875), abundance=np.float64(38.0229606628418)), Peak(mz=np.float64(1006.7062377929688), abundance=np.float64(52.344512939453125)), Peak(mz=np.float64(1027.0535888671875), abundance=np.float64(69.7378158569336)), Peak(mz=np.float64(1043.42333984375), abundance=np.float64(26.900861740112305)), Peak(mz=np.float64(1046.2327880859375), abundance=np.float64(32.769229888916016)), Peak(mz=np.float64(1053.5029296875), abundance=np.float64(40.38888931274414)), Peak(mz=np.float64(1061.6337890625), abundance=np.float64(110.18695068359375)), Peak(mz=np.float64(1077.0498046875), abundance=np.float64(27.094696044921875)), Peak(mz=np.float64(1079.5860595703125), abundance=np.float64(51.38563919067383)), Peak(mz=np.float64(1080.5091552734375), abundance=np.float64(50.964622497558594)), Peak(mz=np.float64(1083.613037109375), abundance=np.float64(50.92091751098633)), Peak(mz=np.float64(1085.25732421875), abundance=np.float64(25.43214225769043)), Peak(mz=np.float64(1086.469970703125), abundance=np.float64(101.07257843017578)), Peak(mz=np.float64(1089.531005859375), abundance=np.float64(48.72793960571289)), Peak(mz=np.float64(1090.5230712890625), abundance=np.float64(82.38095092773438)), Peak(mz=np.float64(1098.2066650390625), abundance=np.float64(80.56006622314453)), Peak(mz=np.float64(1130.8939208984375), abundance=np.float64(30.96982765197754)), Peak(mz=np.float64(1147.7080078125), abundance=np.float64(26.297618865966797)), Peak(mz=np.float64(1160.5643310546875), abundance=np.float64(226.0194091796875)), Peak(mz=np.float64(1161.4512939453125), abundance=np.float64(29.08445930480957)), Peak(mz=np.float64(1161.6053466796875), abundance=np.float64(35.880435943603516)), Peak(mz=np.float64(1171.4818115234375), abundance=np.float64(28.487903594970703)), Peak(mz=np.float64(1178.860595703125), abundance=np.float64(27.721153259277344)), Peak(mz=np.float64(1220.2952880859375), abundance=np.float64(46.72336196899414)), Peak(mz=np.float64(1225.674072265625), abundance=np.float64(70.21338653564453)), Peak(mz=np.float64(1228.9080810546875), abundance=np.float64(47.884803771972656)), Peak(mz=np.float64(1256.088134765625), abundance=np.float64(27.09375)), Peak(mz=np.float64(1257.072509765625), abundance=np.float64(203.02867126464844)), Peak(mz=np.float64(1280.9539794921875), abundance=np.float64(56.03125)), Peak(mz=np.float64(1283.265869140625), abundance=np.float64(33.387821197509766)), Peak(mz=np.float64(1327.11572265625), abundance=np.float64(38.67856979370117)), Peak(mz=np.float64(1388.9808349609375), abundance=np.float64(43.00186538696289)), Peak(mz=np.float64(1394.886962890625), abundance=np.float64(41.42045593261719)), Peak(mz=np.float64(1408.6905517578125), abundance=np.float64(43.058963775634766)), Peak(mz=np.float64(1418.1795654296875), abundance=np.float64(29.259614944458008)), Peak(mz=np.float64(1427.9366455078125), abundance=np.float64(40.55147171020508)), Peak(mz=np.float64(1448.3568115234375), abundance=np.float64(31.55681800842285)), Peak(mz=np.float64(1453.5548095703125), abundance=np.float64(41.08012771606445)), Peak(mz=np.float64(1470.841064453125), abundance=np.float64(78.96005249023438)), Peak(mz=np.float64(1474.2501220703125), abundance=np.float64(32.47368240356445)), Peak(mz=np.float64(1477.0230712890625), abundance=np.float64(79.03591918945312)), Peak(mz=np.float64(1483.5562744140625), abundance=np.float64(52.32432556152344)), Peak(mz=np.float64(1495.92431640625), abundance=np.float64(25.011363983154297)), Peak(mz=np.float64(1513.0665283203125), abundance=np.float64(41.00833511352539)), Peak(mz=np.float64(1553.68701171875), abundance=np.float64(40.592594146728516)), Peak(mz=np.float64(1557.75439453125), abundance=np.float64(36.33333206176758)), Peak(mz=np.float64(1565.025146484375), abundance=np.float64(27.612499237060547)), Peak(mz=np.float64(1575.080078125), abundance=np.float64(26.01785659790039)), Peak(mz=np.float64(1599.8150634765625), abundance=np.float64(106.82089233398438)), Peak(mz=np.float64(1643.1202392578125), abundance=np.float64(43.760135650634766)), Peak(mz=np.float64(1693.7457275390625), abundance=np.float64(45.125)), Peak(mz=np.float64(1694.6751708984375), abundance=np.float64(28.49127960205078))], precursor_mz=459.907681, precursor_charge=3, precursor_abundance=1581579.85, spectrum_id='scan=2652', retention_time=1787.0, mzml='BMEM_AspN_Fxn7.mzML', scan_num=2652)"
      ]
     },
     "execution_count": 5,
     "metadata": {},
     "output_type": "execute_result"
    }
   ],
   "source": [
    "# Sort so best spectrum-peptide matches are first\n",
    "df = comet_df.sort_values(by=\"xcorr\", ascending=False)\n",
    "df.reset_index(inplace=True, drop=True)\n",
    "\n",
    "# Add a peptide length column\n",
    "df[PL] = df[PP].apply(lambda peptide: len(peptide))\n",
    "\n",
    "# Look at first row\n",
    "row = df.iloc[0]\n",
    "seq = row[PP]\n",
    "\n",
    "b_seqs = get_b_ion_sequences(peptide=seq)\n",
    "y_seqs = get_y_ion_sequences(peptide=seq)\n",
    "print(f\"Seq = {seq} \\n b-seqs:\\n{b_seqs} \\n y-seqs:\\n{y_seqs}\")\n",
    "\n",
    "# Get spectrum\n",
    "spectrum = get_specific_spectrum(sample=row[\"sample\"], scan_num=row[\"scan\"])\n",
    "spectrum"
   ]
  },
  {
   "cell_type": "code",
   "execution_count": 25,
   "metadata": {},
   "outputs": [
    {
     "data": {
      "text/plain": [
       "13"
      ]
     },
     "execution_count": 25,
     "metadata": {},
     "output_type": "execute_result"
    },
    {
     "data": {
      "text/plain": [
       "13"
      ]
     },
     "execution_count": 25,
     "metadata": {},
     "output_type": "execute_result"
    }
   ],
   "source": [
    "# Loop over ions and find matching peak\n",
    "ppm_tol = 10\n",
    "charges_to_consider = [1, 2, 3]\n",
    "matches = 0\n",
    "matched_peaks = []\n",
    "\n",
    "# b-ions\n",
    "for peak_idx, peak in enumerate(spectrum.peaks):\n",
    "    # print(f\"peak = {peak}\")\n",
    "    for ion in b_seqs:\n",
    "        # print(f\"\\t proposed ion = {ion}\")\n",
    "        for charge in charges_to_consider:\n",
    "            # obs_mass = peak.mz * charge\n",
    "            ion_mass = b_ion_neutral_mass(\n",
    "                aa_seq=seq, charge=charge\n",
    "            )\n",
    "            ppm_diff = mass_difference_in_ppm(\n",
    "                ref_mass=peak.mz,\n",
    "                query_mass=ion_mass\n",
    "\n",
    "            )\n",
    "            if ppm_diff <= ppm_tol:\n",
    "                matched_peaks.append(peak_idx)\n",
    "                matches += 1\n",
    "                # print(\"yay!\")\n",
    "            # print(f\"\\t\\tcharge {charge}, ion mass {ion_mass} PPM diff = {ppm_diff}\")\n",
    "        # break\n",
    "    # break\n",
    "\n",
    "# y-ions\n",
    "for peak_idx, peak in enumerate(spectrum.peaks):\n",
    "    # print(f\"peak = {peak}\")\n",
    "    for ion in y_seqs:\n",
    "        # print(f\"\\t proposed ion = {ion}\")\n",
    "        for charge in charges_to_consider:\n",
    "            # obs_mass = peak.mz * charge\n",
    "            ion_mass = y_ion_neutral_mass(\n",
    "                aa_seq=seq, charge=charge\n",
    "            )\n",
    "            ppm_diff = mass_difference_in_ppm(\n",
    "                ref_mass=peak.mz,\n",
    "                query_mass=ion_mass\n",
    "            )\n",
    "            if ppm_diff <= ppm_tol:\n",
    "                matched_peaks.append(peak_idx)\n",
    "                matches += 1\n",
    "\n",
    "matches\n",
    "len(matched_peaks)"
   ]
  },
  {
   "cell_type": "code",
   "execution_count": 24,
   "metadata": {},
   "outputs": [
    {
     "data": {
      "text/plain": [
       "Peak(mz=np.float64(453.90606689453125), abundance=np.float64(117.96491241455078))"
      ]
     },
     "execution_count": 24,
     "metadata": {},
     "output_type": "execute_result"
    }
   ],
   "source": [
    "spectrum.peaks[367]"
   ]
  },
  {
   "cell_type": "code",
   "execution_count": null,
   "metadata": {},
   "outputs": [],
   "source": []
  },
  {
   "cell_type": "code",
   "execution_count": 24,
   "metadata": {},
   "outputs": [
    {
     "data": {
      "text/plain": [
       "['Y',\n",
       " 'YM',\n",
       " 'YMV',\n",
       " 'YMVG',\n",
       " 'YMVGP',\n",
       " 'YMVGPI',\n",
       " 'YMVGPIE',\n",
       " 'YMVGPIEE',\n",
       " 'YMVGPIEEA',\n",
       " 'YMVGPIEEAV',\n",
       " 'YMVGPIEEAVA',\n",
       " 'YMVGPIEEAVAK',\n",
       " 'YMVGPIEEAVAKA',\n",
       " 'MVGPIEEAVAKA',\n",
       " 'VGPIEEAVAKA',\n",
       " 'GPIEEAVAKA',\n",
       " 'PIEEAVAKA',\n",
       " 'IEEAVAKA',\n",
       " 'EEAVAKA',\n",
       " 'EAVAKA',\n",
       " 'AVAKA',\n",
       " 'VAKA',\n",
       " 'AKA',\n",
       " 'KA',\n",
       " 'A']"
      ]
     },
     "execution_count": 24,
     "metadata": {},
     "output_type": "execute_result"
    },
    {
     "data": {
      "text/plain": [
       "['Y',\n",
       " 'YM',\n",
       " 'YMV',\n",
       " 'YMVG',\n",
       " 'YMVGP',\n",
       " 'YMVGPI',\n",
       " 'YMVGPIE',\n",
       " 'YMVGPIEE',\n",
       " 'YMVGPIEEA',\n",
       " 'YMVGPIEEAV',\n",
       " 'YMVGPIEEAVA',\n",
       " 'YMVGPIEEAVAK',\n",
       " 'YMVGPIEEAVAKA']"
      ]
     },
     "execution_count": 24,
     "metadata": {},
     "output_type": "execute_result"
    },
    {
     "data": {
      "text/plain": [
       "['MVGPIEEAVAKA',\n",
       " 'VGPIEEAVAKA',\n",
       " 'GPIEEAVAKA',\n",
       " 'PIEEAVAKA',\n",
       " 'IEEAVAKA',\n",
       " 'EEAVAKA',\n",
       " 'EAVAKA',\n",
       " 'AVAKA',\n",
       " 'VAKA',\n",
       " 'AKA',\n",
       " 'KA',\n",
       " 'A']"
      ]
     },
     "execution_count": 24,
     "metadata": {},
     "output_type": "execute_result"
    },
    {
     "data": {
      "text/plain": [
       "'YMVGPIEEAVAKA'"
      ]
     },
     "execution_count": 24,
     "metadata": {},
     "output_type": "execute_result"
    },
    {
     "data": {
      "text/plain": [
       "np.int64(32)"
      ]
     },
     "execution_count": 24,
     "metadata": {},
     "output_type": "execute_result"
    }
   ],
   "source": [
    "seq = row[PP]\n",
    "get_b_y_ion_sequences(peptide=seq)\n",
    "get_b_ion_sequences(peptide=seq)\n",
    "get_y_ion_sequences(peptide=seq)\n",
    "\n",
    "\n",
    "\n",
    "# For testing\n",
    "seq\n",
    "row[IM]\n"
   ]
  },
  {
   "cell_type": "markdown",
   "metadata": {},
   "source": [
    "# Ryan's code"
   ]
  },
  {
   "cell_type": "code",
   "execution_count": 87,
   "metadata": {},
   "outputs": [
    {
     "data": {
      "text/plain": [
       "'SAAPAAGSAPAAAEEKK'"
      ]
     },
     "execution_count": 87,
     "metadata": {},
     "output_type": "execute_result"
    },
    {
     "data": {
      "text/plain": [
       "[1508.770348435]"
      ]
     },
     "execution_count": 87,
     "metadata": {},
     "output_type": "execute_result"
    }
   ],
   "source": [
    "seq = comet_df[\"plain_peptide\"][0]\n",
    "seq\n",
    "b_ions(sequence=seq, charge=1)\n",
    "# This is weird. You'd expect this function to give you the masses for all the b-ions in the sequence"
   ]
  }
 ],
 "metadata": {
  "kernelspec": {
   "display_name": "hypedsearch",
   "language": "python",
   "name": "python3"
  },
  "language_info": {
   "codemirror_mode": {
    "name": "ipython",
    "version": 3
   },
   "file_extension": ".py",
   "mimetype": "text/x-python",
   "name": "python",
   "nbconvert_exporter": "python",
   "pygments_lexer": "ipython3",
   "version": "3.11.11"
  }
 },
 "nbformat": 4,
 "nbformat_minor": 2
}

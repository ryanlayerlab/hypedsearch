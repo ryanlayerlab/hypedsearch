{
 "cells": [
  {
   "cell_type": "markdown",
   "metadata": {},
   "source": [
    "# Imports"
   ]
  },
  {
   "cell_type": "code",
   "execution_count": 66,
   "metadata": {},
   "outputs": [
    {
     "name": "stdout",
     "output_type": "stream",
     "text": [
      "cwd = /Users/erjo3868/repos/hypedsearch/hypedsearch\n"
     ]
    }
   ],
   "source": [
    "import os \n",
    "import warnings\n",
    "\n",
    "warnings.filterwarnings(\"ignore\")\n",
    "os.chdir(\"/Users/erjo3868/repos/hypedsearch/hypedsearch\")\n",
    "print(f\"cwd = {os.getcwd()}\")\n",
    "\n",
    "from src.erik import load_comet_data\n",
    "import numpy as np\n",
    "from src.erik import (\n",
    "    get_data_for_spectrum, \n",
    "    get_b_y_ion_sequences, \n",
    "    get_b_ion_sequences, \n",
    "    get_y_ion_sequences, \n",
    "    load_mzml_data,\n",
    "    get_specific_spectrum,\n",
    "    mass_difference_in_ppm,\n",
    "    get_ion_matches_between_peptide_and_spectrum_peaks,\n",
    "    compare_comet_output_row_to_corresponding_spectrum\n",
    ")\n",
    "from src.lookups.protein_product_ion_db import (\n",
    "    compute_b_ion_neutral_mass,\n",
    "    compute_y_ion_neutral_mass\n",
    ")\n",
    "from src.erik_utils import run_in_parallel, timeit\n",
    "from src.erik_constants import SAMPLE, SCAN\n",
    "from typing import Counter\n",
    "from src.ryans_get_mass_code import calc_masses, b_ions\n",
    "import seaborn as sns\n",
    "from src.plot_utils import fig_setup, finalize, set_title_axes_labels\n",
    "import pandas as pd\n",
    "\n",
    "PMZ = \"precursor_mz\"\n",
    "PC = \"precursor_charge\"\n",
    "C = \"charge\"\n",
    "ENM = \"exp_neutral_mass\"\n",
    "XC = \"xcorr\"\n",
    "PP = \"plain_peptide\"\n",
    "PL = \"peptide_len\"\n",
    "IM = \"ions_matched\"\n"
   ]
  },
  {
   "cell_type": "markdown",
   "metadata": {},
   "source": [
    "# Load Comet and spectra (MZML) data"
   ]
  },
  {
   "cell_type": "code",
   "execution_count": 3,
   "metadata": {},
   "outputs": [
    {
     "name": "stdout",
     "output_type": "stream",
     "text": [
      "Reading data for BMEM_AspN_Fxn4\n",
      "Reading data for BMEM_AspN_Fxn5\n",
      "Reading data for BMEM_AspN_Fxn6\n",
      "Reading data for BMEM_AspN_Fxn7\n",
      "Reading data for BMEM_AspN_Fxn8\n",
      "Reading data for BMEM_AspN_Fxn9\n"
     ]
    },
    {
     "data": {
      "text/html": [
       "<div>\n",
       "<style scoped>\n",
       "    .dataframe tbody tr th:only-of-type {\n",
       "        vertical-align: middle;\n",
       "    }\n",
       "\n",
       "    .dataframe tbody tr th {\n",
       "        vertical-align: top;\n",
       "    }\n",
       "\n",
       "    .dataframe thead th {\n",
       "        text-align: right;\n",
       "    }\n",
       "</style>\n",
       "<table border=\"1\" class=\"dataframe\">\n",
       "  <thead>\n",
       "    <tr style=\"text-align: right;\">\n",
       "      <th></th>\n",
       "      <th>scan</th>\n",
       "      <th>num</th>\n",
       "      <th>charge</th>\n",
       "      <th>exp_neutral_mass</th>\n",
       "      <th>calc_neutral_mass</th>\n",
       "      <th>e-value</th>\n",
       "      <th>xcorr</th>\n",
       "      <th>delta_cn</th>\n",
       "      <th>sp_score</th>\n",
       "      <th>ions_matched</th>\n",
       "      <th>...</th>\n",
       "      <th>plain_peptide</th>\n",
       "      <th>modified_peptide</th>\n",
       "      <th>prev_aa</th>\n",
       "      <th>next_aa</th>\n",
       "      <th>protein</th>\n",
       "      <th>protein_count</th>\n",
       "      <th>modifications</th>\n",
       "      <th>retention_time_sec</th>\n",
       "      <th>sp_rank</th>\n",
       "      <th>sample</th>\n",
       "    </tr>\n",
       "  </thead>\n",
       "  <tbody>\n",
       "    <tr>\n",
       "      <th>0</th>\n",
       "      <td>7</td>\n",
       "      <td>1</td>\n",
       "      <td>3</td>\n",
       "      <td>1525.774133</td>\n",
       "      <td>1525.773636</td>\n",
       "      <td>0.000202</td>\n",
       "      <td>2.187</td>\n",
       "      <td>0.4294</td>\n",
       "      <td>229.0</td>\n",
       "      <td>15</td>\n",
       "      <td>...</td>\n",
       "      <td>SAAPAAGSAPAAAEEKK</td>\n",
       "      <td>G.SAAPAAGSAPAAAEEKK.D</td>\n",
       "      <td>G</td>\n",
       "      <td>D</td>\n",
       "      <td>tr|A0A5F8MPY2|A0A5F8MPY2_MOUSE,sp|P99027|RLA2_...</td>\n",
       "      <td>2</td>\n",
       "      <td>-</td>\n",
       "      <td>714.0</td>\n",
       "      <td>1</td>\n",
       "      <td>BMEM_AspN_Fxn4</td>\n",
       "    </tr>\n",
       "    <tr>\n",
       "      <th>1</th>\n",
       "      <td>7</td>\n",
       "      <td>2</td>\n",
       "      <td>3</td>\n",
       "      <td>1525.774133</td>\n",
       "      <td>1525.773636</td>\n",
       "      <td>2.030000</td>\n",
       "      <td>1.248</td>\n",
       "      <td>0.0200</td>\n",
       "      <td>26.0</td>\n",
       "      <td>6</td>\n",
       "      <td>...</td>\n",
       "      <td>AAQTPGSGEAVLSKNP</td>\n",
       "      <td>T.AAQTPGSGEAVLSKNP.N</td>\n",
       "      <td>T</td>\n",
       "      <td>N</td>\n",
       "      <td>sp|Q8BI84|TGO1_MOUSE</td>\n",
       "      <td>1</td>\n",
       "      <td>-</td>\n",
       "      <td>714.0</td>\n",
       "      <td>16</td>\n",
       "      <td>BMEM_AspN_Fxn4</td>\n",
       "    </tr>\n",
       "  </tbody>\n",
       "</table>\n",
       "<p>2 rows × 21 columns</p>\n",
       "</div>"
      ],
      "text/plain": [
       "   scan  num  charge  exp_neutral_mass  calc_neutral_mass   e-value  xcorr  \\\n",
       "0     7    1       3       1525.774133        1525.773636  0.000202  2.187   \n",
       "1     7    2       3       1525.774133        1525.773636  2.030000  1.248   \n",
       "\n",
       "   delta_cn  sp_score  ions_matched  ...      plain_peptide  \\\n",
       "0    0.4294     229.0            15  ...  SAAPAAGSAPAAAEEKK   \n",
       "1    0.0200      26.0             6  ...   AAQTPGSGEAVLSKNP   \n",
       "\n",
       "        modified_peptide prev_aa next_aa  \\\n",
       "0  G.SAAPAAGSAPAAAEEKK.D       G       D   \n",
       "1   T.AAQTPGSGEAVLSKNP.N       T       N   \n",
       "\n",
       "                                             protein protein_count  \\\n",
       "0  tr|A0A5F8MPY2|A0A5F8MPY2_MOUSE,sp|P99027|RLA2_...             2   \n",
       "1                               sp|Q8BI84|TGO1_MOUSE             1   \n",
       "\n",
       "   modifications retention_time_sec  sp_rank          sample  \n",
       "0              -              714.0        1  BMEM_AspN_Fxn4  \n",
       "1              -              714.0       16  BMEM_AspN_Fxn4  \n",
       "\n",
       "[2 rows x 21 columns]"
      ]
     },
     "execution_count": 3,
     "metadata": {},
     "output_type": "execute_result"
    }
   ],
   "source": [
    "# Load comet data\n",
    "comet_df = load_comet_data()\n",
    "comet_df.head(2)\n"
   ]
  },
  {
   "cell_type": "code",
   "execution_count": null,
   "metadata": {},
   "outputs": [],
   "source": [
    "mzml_df = load_mzml_data()\n"
   ]
  },
  {
   "cell_type": "markdown",
   "metadata": {},
   "source": [
    "# EDA"
   ]
  },
  {
   "cell_type": "code",
   "execution_count": 9,
   "metadata": {},
   "outputs": [
    {
     "data": {
      "image/png": "[encoded data removed]",
      "text/plain": [
       "<Figure size 600x400 with 1 Axes>"
      ]
     },
     "metadata": {},
     "output_type": "display_data"
    }
   ],
   "source": [
    "_, axs = fig_setup(1,1)\n",
    "_=sns.kdeplot(data=(mzml_df[PMZ] / mzml_df[PC]) , ax=axs[0])\n",
    "set_title_axes_labels(axs[0], xlabel=\"MZML precurosr mass\", ylabel=\"Density\")\n",
    "finalize(axs)\n"
   ]
  },
  {
   "cell_type": "code",
   "execution_count": null,
   "metadata": {},
   "outputs": [],
   "source": []
  },
  {
   "cell_type": "markdown",
   "metadata": {},
   "source": [
    "# `exp_neutral_mass`"
   ]
  },
  {
   "cell_type": "code",
   "execution_count": 7,
   "metadata": {},
   "outputs": [],
   "source": [
    "PMZ = \"precursor_mz\"\n",
    "PC = \"precursor_charge\"\n",
    "C = \"charge\"\n",
    "ENM = \"exp_neutral_mass\"\n",
    "\n",
    "# See if exp_neutral_mass makes sense\n",
    "result = []\n",
    "for group_name, group_df in comet_df.groupby([\"sample\", \"scan\"]):\n",
    "    sample, scan_num = group_name[0], int(group_name[1])\n",
    "    comet_exp_neut_mass = np.unique(group_df[ENM])\n",
    "    assert (len(comet_exp_neut_mass) == 1)\n",
    "    comet_exp_neut_mass = comet_exp_neut_mass[0]\n",
    "\n",
    "    # Get precursor mass from MZML\n",
    "    spectrum = mzml_df[(mzml_df[SCAN]==scan_num) & (mzml_df[\"mzml\"] == f\"{sample}.mzML\")]\n",
    "    assert spectrum.shape[0] == 1, \"Should only be one matching spectrum\"\n",
    "    spectrum = spectrum.iloc[0]\n",
    "    mzml_mass = spectrum[PC] * spectrum[PMZ]\n",
    "\n",
    "    result.append(abs(mzml_mass - comet_exp_neut_mass))\n",
    "\n",
    "    # For testing\n",
    "    # sample, scan_num\n",
    "    # break"
   ]
  },
  {
   "cell_type": "code",
   "execution_count": 8,
   "metadata": {},
   "outputs": [
    {
     "data": {
      "text/plain": [
       "Counter({np.float64(2.014552999999978): 8181,\n",
       "         np.float64(3.021829000000025): 2226,\n",
       "         np.float64(2.0145530000000917): 821,\n",
       "         np.float64(3.021828999999798): 533,\n",
       "         np.float64(2.0145530000002054): 495,\n",
       "         np.float64(3.0218290000002526): 209,\n",
       "         np.float64(3.0218289999999115): 80,\n",
       "         np.float64(3.021829000000139): 18,\n",
       "         np.float64(2.0145529999998644): 3})"
      ]
     },
     "execution_count": 8,
     "metadata": {},
     "output_type": "execute_result"
    }
   ],
   "source": [
    "Counter(result)"
   ]
  },
  {
   "cell_type": "markdown",
   "metadata": {},
   "source": [
    "# `ions_matched`"
   ]
  },
  {
   "cell_type": "code",
   "execution_count": 68,
   "metadata": {},
   "outputs": [
    {
     "name": "stdout",
     "output_type": "stream",
     "text": [
      "Row = 1 of 62323\n",
      "Row = 101 of 62323\n",
      "Row = 201 of 62323\n",
      "Row = 301 of 62323\n",
      "Row = 401 of 62323\n",
      "Row = 501 of 62323\n",
      "Row = 601 of 62323\n",
      "Row = 701 of 62323\n",
      "Row = 801 of 62323\n",
      "Row = 901 of 62323\n",
      "Row = 1001 of 62323\n",
      "Row = 1101 of 62323\n",
      "Row = 1201 of 62323\n",
      "Row = 1301 of 62323\n",
      "Row = 1401 of 62323\n",
      "Row = 1501 of 62323\n",
      "Row = 1601 of 62323\n",
      "Row = 1701 of 62323\n",
      "Row = 1801 of 62323\n",
      "Row = 1901 of 62323\n",
      "Row = 2001 of 62323\n",
      "Row = 2101 of 62323\n",
      "Row = 2201 of 62323\n",
      "Row = 2301 of 62323\n",
      "Row = 2401 of 62323\n",
      "Row = 2501 of 62323\n",
      "Row = 2601 of 62323\n",
      "Row = 2701 of 62323\n",
      "Row = 2801 of 62323\n",
      "Row = 2901 of 62323\n",
      "Row = 3001 of 62323\n",
      "Row = 3101 of 62323\n",
      "Row = 3201 of 62323\n",
      "Row = 3301 of 62323\n",
      "Row = 3401 of 62323\n",
      "Row = 3501 of 62323\n",
      "Row = 3601 of 62323\n",
      "Row = 3701 of 62323\n",
      "Row = 3801 of 62323\n",
      "Row = 3901 of 62323\n",
      "Row = 4001 of 62323\n",
      "Row = 4101 of 62323\n",
      "Row = 4201 of 62323\n",
      "Row = 4301 of 62323\n",
      "Row = 4401 of 62323\n",
      "Row = 4501 of 62323\n",
      "Row = 4601 of 62323\n",
      "Row = 4701 of 62323\n",
      "Row = 4801 of 62323\n",
      "Row = 4901 of 62323\n",
      "Row = 5001 of 62323\n",
      "Row = 5101 of 62323\n",
      "Row = 5201 of 62323\n",
      "Row = 5301 of 62323\n",
      "Row = 5401 of 62323\n",
      "Row = 5501 of 62323\n",
      "Row = 5601 of 62323\n",
      "Row = 5701 of 62323\n",
      "Row = 5801 of 62323\n",
      "Row = 5901 of 62323\n",
      "Row = 6001 of 62323\n",
      "Row = 6101 of 62323\n",
      "Row = 6201 of 62323\n",
      "Row = 6301 of 62323\n",
      "Row = 6401 of 62323\n",
      "Row = 6501 of 62323\n",
      "Row = 6601 of 62323\n",
      "Row = 6701 of 62323\n",
      "Row = 6801 of 62323\n",
      "Row = 6901 of 62323\n",
      "Row = 7001 of 62323\n",
      "Row = 7101 of 62323\n",
      "Row = 7201 of 62323\n",
      "Row = 7301 of 62323\n",
      "Row = 7401 of 62323\n",
      "Row = 7501 of 62323\n",
      "Row = 7601 of 62323\n",
      "Row = 7701 of 62323\n",
      "Row = 7801 of 62323\n",
      "Row = 7901 of 62323\n",
      "Row = 8001 of 62323\n",
      "Row = 8101 of 62323\n",
      "Row = 8201 of 62323\n",
      "Row = 8301 of 62323\n",
      "Row = 8401 of 62323\n",
      "Row = 8501 of 62323\n",
      "Row = 8601 of 62323\n",
      "Row = 8701 of 62323\n",
      "Row = 8801 of 62323\n",
      "Row = 8901 of 62323\n",
      "Row = 9001 of 62323\n",
      "Row = 9101 of 62323\n",
      "Row = 9201 of 62323\n",
      "Row = 9301 of 62323\n",
      "Row = 9401 of 62323\n",
      "Row = 9501 of 62323\n",
      "Row = 9601 of 62323\n",
      "Row = 9701 of 62323\n",
      "Row = 9801 of 62323\n",
      "Row = 9901 of 62323\n",
      "Row = 10001 of 62323\n",
      "Row = 10101 of 62323\n"
     ]
    },
    {
     "ename": "KeyboardInterrupt",
     "evalue": "",
     "output_type": "error",
     "traceback": [
      "\u001b[0;31m---------------------------------------------------------------------------\u001b[0m",
      "\u001b[0;31mKeyboardInterrupt\u001b[0m                         Traceback (most recent call last)",
      "Cell \u001b[0;32mIn[68], line 22\u001b[0m\n\u001b[1;32m     19\u001b[0m     \u001b[38;5;28;01mif\u001b[39;00m row_idx \u001b[38;5;241m%\u001b[39m \u001b[38;5;241m100\u001b[39m \u001b[38;5;241m==\u001b[39m \u001b[38;5;241m0\u001b[39m:\n\u001b[1;32m     20\u001b[0m         \u001b[38;5;28mprint\u001b[39m(\u001b[38;5;124mf\u001b[39m\u001b[38;5;124m\"\u001b[39m\u001b[38;5;124mRow = \u001b[39m\u001b[38;5;132;01m{\u001b[39;00mrow_idx\u001b[38;5;241m+\u001b[39m\u001b[38;5;241m1\u001b[39m\u001b[38;5;132;01m}\u001b[39;00m\u001b[38;5;124m of \u001b[39m\u001b[38;5;132;01m{\u001b[39;00mdf\u001b[38;5;241m.\u001b[39mshape[\u001b[38;5;241m0\u001b[39m]\u001b[38;5;132;01m}\u001b[39;00m\u001b[38;5;124m\"\u001b[39m)\n\u001b[1;32m     21\u001b[0m     results\u001b[38;5;241m.\u001b[39mappend(\n\u001b[0;32m---> 22\u001b[0m         \u001b[43mcompare_comet_output_row_to_corresponding_spectrum\u001b[49m\u001b[43m(\u001b[49m\n\u001b[1;32m     23\u001b[0m \u001b[43m            \u001b[49m\u001b[43mrow\u001b[49m\u001b[38;5;241;43m=\u001b[39;49m\u001b[43mdf\u001b[49m\u001b[38;5;241;43m.\u001b[39;49m\u001b[43miloc\u001b[49m\u001b[43m[\u001b[49m\u001b[38;5;241;43m0\u001b[39;49m\u001b[43m]\u001b[49m\u001b[43m,\u001b[49m\n\u001b[1;32m     24\u001b[0m \u001b[43m            \u001b[49m\u001b[43mcharges_to_consider\u001b[49m\u001b[38;5;241;43m=\u001b[39;49m\u001b[43mcharges_to_consider\u001b[49m\u001b[43m,\u001b[49m\n\u001b[1;32m     25\u001b[0m \u001b[43m            \u001b[49m\u001b[43mppm_tolerance\u001b[49m\u001b[38;5;241;43m=\u001b[39;49m\u001b[43mppm_tol\u001b[49m\n\u001b[1;32m     26\u001b[0m \u001b[43m        \u001b[49m\u001b[43m)\u001b[49m\n\u001b[1;32m     27\u001b[0m     )\n\u001b[1;32m     28\u001b[0m \u001b[38;5;28mprint\u001b[39m(\u001b[38;5;124mf\u001b[39m\u001b[38;5;124m\"\u001b[39m\u001b[38;5;124mTook \u001b[39m\u001b[38;5;132;01m{\u001b[39;00mtime\u001b[38;5;241m.\u001b[39mtime()\u001b[38;5;241m-\u001b[39mt0\u001b[38;5;132;01m:\u001b[39;00m\u001b[38;5;124m.3f\u001b[39m\u001b[38;5;132;01m}\u001b[39;00m\u001b[38;5;124m seconds\u001b[39m\u001b[38;5;124m\"\u001b[39m)\n\u001b[1;32m     30\u001b[0m \u001b[38;5;66;03m# # def c\u001b[39;00m\n\u001b[1;32m     31\u001b[0m \n\u001b[1;32m     32\u001b[0m \u001b[38;5;66;03m# compare_row_to_spectrum = lambda row: compare_comet_output_row_to_corresponding_spectrum(\u001b[39;00m\n\u001b[0;32m   (...)\u001b[0m\n\u001b[1;32m     57\u001b[0m \u001b[38;5;66;03m# #     columns=[\"peak_ion_matches\", \"num_b_matches\",  \"num_y_matches\"]\u001b[39;00m\n\u001b[1;32m     58\u001b[0m \u001b[38;5;66;03m# # )\u001b[39;00m\n",
      "File \u001b[0;32m~/repos/hypedsearch/hypedsearch/src/erik.py:417\u001b[0m, in \u001b[0;36mcompare_comet_output_row_to_corresponding_spectrum\u001b[0;34m(row, charges_to_consider, ppm_tolerance)\u001b[0m\n\u001b[1;32m    415\u001b[0m \u001b[38;5;28;01mfor\u001b[39;00m ion \u001b[38;5;129;01min\u001b[39;00m y_seqs:\n\u001b[1;32m    416\u001b[0m     \u001b[38;5;28;01mfor\u001b[39;00m charge \u001b[38;5;129;01min\u001b[39;00m charges_to_consider:\n\u001b[0;32m--> 417\u001b[0m         ion_mass \u001b[38;5;241m=\u001b[39m y_ion_neutral_mass(aa_seq\u001b[38;5;241m=\u001b[39mion, charge\u001b[38;5;241m=\u001b[39mcharge)\n\u001b[1;32m    418\u001b[0m         ppm_diff \u001b[38;5;241m=\u001b[39m mass_difference_in_ppm(ref_mass\u001b[38;5;241m=\u001b[39mpeak\u001b[38;5;241m.\u001b[39mmz, query_mass\u001b[38;5;241m=\u001b[39mion_mass)\n\u001b[1;32m    419\u001b[0m         \u001b[38;5;28;01mif\u001b[39;00m ppm_diff \u001b[38;5;241m<\u001b[39m\u001b[38;5;241m=\u001b[39m ppm_tol:\n",
      "File \u001b[0;32m~/repos/hypedsearch/hypedsearch/src/erik.py:383\u001b[0m, in \u001b[0;36mget_ion_matches_between_peptide_and_spectrum\u001b[0;34m(spectrum, peptide, charges_to_consider, ppm_tol)\u001b[0m\n\u001b[1;32m    372\u001b[0m     mass = sum([amino_acid_mass_lookup[aa] for aa in aa_seq]) + WATER_MASS\n\u001b[1;32m    373\u001b[0m     return (mass + (charge * PROTON_MASS)) / charge\n\u001b[1;32m    376\u001b[0m def get_ion_matches_between_peptide_and_spectrum(\n\u001b[1;32m    377\u001b[0m     peptide: str,\n\u001b[1;32m    378\u001b[0m     charges_to_consider: List[int],\n\u001b[1;32m    379\u001b[0m     ppm_tol: int,\n\u001b[1;32m    380\u001b[0m     spectrum: Optional[Spectrum] = None,\n\u001b[1;32m    381\u001b[0m     peaks: Optional[List[Peak]] = None,\n\u001b[1;32m    382\u001b[0m     top_n_peaks: Optional[int] = None,\n\u001b[0;32m--> 383\u001b[0m ):\n\u001b[1;32m    384\u001b[0m     # Either \"spectrum\" or \"peaks\" needs to be provided\n\u001b[1;32m    385\u001b[0m     if spectrum is not None:\n\u001b[1;32m    386\u001b[0m         peaks = spectrum.peaks\n",
      "File \u001b[0;32m~/repos/hypedsearch/hypedsearch/src/lookups/protein_kmer_db.py:46\u001b[0m, in \u001b[0;36mb_ion_neutral_mass\u001b[0;34m(aa_seq, charge, amino_acid_mass_lookup)\u001b[0m\n\u001b[1;32m     28\u001b[0m \u001b[38;5;28;01mfrom\u001b[39;00m \u001b[38;5;21;01msrc\u001b[39;00m\u001b[38;5;21;01m.\u001b[39;00m\u001b[38;5;21;01mlookups\u001b[39;00m\u001b[38;5;21;01m.\u001b[39;00m\u001b[38;5;21;01mconstants\u001b[39;00m \u001b[38;5;28;01mimport\u001b[39;00m (\n\u001b[1;32m     29\u001b[0m     AMINO_ACID_MASSES,\n\u001b[1;32m     30\u001b[0m     DOUBLY_CHARGED_B_BASE,\n\u001b[0;32m   (...)\u001b[0m\n\u001b[1;32m     35\u001b[0m     WATER_MASS,\n\u001b[1;32m     36\u001b[0m )\n\u001b[1;32m     37\u001b[0m \u001b[38;5;28;01mfrom\u001b[39;00m \u001b[38;5;21;01msrc\u001b[39;00m\u001b[38;5;21;01m.\u001b[39;00m\u001b[38;5;21;01mlookups\u001b[39;00m\u001b[38;5;21;01m.\u001b[39;00m\u001b[38;5;21;01mdata_classes\u001b[39;00m \u001b[38;5;28;01mimport\u001b[39;00m (\n\u001b[1;32m     38\u001b[0m     IonRowWithSubseq,\n\u001b[1;32m     39\u001b[0m     Kmer,\n\u001b[0;32m   (...)\u001b[0m\n\u001b[1;32m     42\u001b[0m     Protein,\n\u001b[1;32m     43\u001b[0m )\n\u001b[0;32m---> 46\u001b[0m \u001b[38;5;28;01mdef\u001b[39;00m \u001b[38;5;21mb_ion_neutral_mass\u001b[39m(\n\u001b[1;32m     47\u001b[0m     aa_seq: \u001b[38;5;28mstr\u001b[39m,\n\u001b[1;32m     48\u001b[0m     charge: \u001b[38;5;28mint\u001b[39m,\n\u001b[1;32m     49\u001b[0m     amino_acid_mass_lookup: Dict[\u001b[38;5;28mstr\u001b[39m, \u001b[38;5;28mfloat\u001b[39m] \u001b[38;5;241m=\u001b[39m AMINO_ACID_MASSES,\n\u001b[1;32m     50\u001b[0m ) \u001b[38;5;241m-\u001b[39m\u001b[38;5;241m>\u001b[39m \u001b[38;5;28mfloat\u001b[39m:\n\u001b[1;32m     51\u001b[0m     aa_mass_sum \u001b[38;5;241m=\u001b[39m \u001b[38;5;28msum\u001b[39m([amino_acid_mass_lookup[aa] \u001b[38;5;28;01mfor\u001b[39;00m aa \u001b[38;5;129;01min\u001b[39;00m aa_seq])\n\u001b[1;32m     52\u001b[0m     neutral_mass \u001b[38;5;241m=\u001b[39m (aa_mass_sum \u001b[38;5;241m+\u001b[39m (charge \u001b[38;5;241m*\u001b[39m PROTON_MASS)) \u001b[38;5;241m/\u001b[39m charge\n",
      "\u001b[0;31mKeyboardInterrupt\u001b[0m: "
     ]
    }
   ],
   "source": [
    "# Sort so best spectrum-peptide matches are first\n",
    "import time\n",
    "\n",
    "\n",
    "df = comet_df.sort_values(by=\"xcorr\", ascending=False)\n",
    "df.reset_index(inplace=True, drop=True)\n",
    "\n",
    "# Add a peptide length column\n",
    "df[PL] = df[PP].apply(lambda peptide: len(peptide))\n",
    "\n",
    "ppm_tol = 10\n",
    "charges_to_consider = [1, 2, 3]\n",
    "results = []\n",
    "# rows = [row for _, row in df.iterrows()]\n",
    "\n",
    "results = []\n",
    "t0 = time.time()\n",
    "for row_idx, row in df.iterrows():\n",
    "    if row_idx % 100 == 0:\n",
    "        print(f\"Row = {row_idx+1} of {df.shape[0]}\")\n",
    "    results.append(\n",
    "        compare_comet_output_row_to_corresponding_spectrum(\n",
    "            row=df.iloc[0],\n",
    "            charges_to_consider=charges_to_consider,\n",
    "            ppm_tolerance=ppm_tol\n",
    "        )\n",
    "    )\n",
    "print(f\"Took {time.time()-t0:.3f} seconds\")\n",
    "\n",
    "# # )"
   ]
  },
  {
   "cell_type": "code",
   "execution_count": 87,
   "metadata": {},
   "outputs": [
    {
     "data": {
      "text/plain": [
       "'SAAPAAGSAPAAAEEKK'"
      ]
     },
     "execution_count": 87,
     "metadata": {},
     "output_type": "execute_result"
    },
    {
     "data": {
      "text/plain": [
       "[1508.770348435]"
      ]
     },
     "execution_count": 87,
     "metadata": {},
     "output_type": "execute_result"
    }
   ],
   "source": [
    "seq = comet_df[\"plain_peptide\"][0]\n",
    "seq\n",
    "b_ions(sequence=seq, charge=1)\n",
    "# This is weird. You'd expect this function to give you the masses for all the b-ions in the sequence"
   ]
  }
 ],
 "metadata": {
  "kernelspec": {
   "display_name": "hypedsearch",
   "language": "python",
   "name": "python3"
  },
  "language_info": {
   "codemirror_mode": {
    "name": "ipython",
    "version": 3
   },
   "file_extension": ".py",
   "mimetype": "text/x-python",
   "name": "python",
   "nbconvert_exporter": "python",
   "pygments_lexer": "ipython3",
   "version": "3.11.11"
  }
 },
 "nbformat": 4,
 "nbformat_minor": 2
}

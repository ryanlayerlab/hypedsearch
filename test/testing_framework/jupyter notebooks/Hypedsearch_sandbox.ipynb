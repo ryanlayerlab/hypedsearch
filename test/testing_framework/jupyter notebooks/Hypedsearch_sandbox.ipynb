{
 "cells": [
  {
   "cell_type": "markdown",
   "metadata": {},
   "source": [
    "# Sandbox for Hypedsearch\n",
    "\n",
    "This jupyter notebook is designed to experiment with various ideas of hypedsearch. Currently has functionality for bayesian based scoring"
   ]
  },
  {
   "cell_type": "code",
   "execution_count": null,
   "metadata": {},
   "outputs": [],
   "source": [
    "import os\n",
    "import sys\n",
    "\n",
    "module_path = os.path.abspath(os.path.join('../../..'))\n",
    "if module_path not in sys.path:\n",
    "    sys.path.append(module_path) \n",
    "\n",
    "from testing_framework import testing_utils\n",
    "from preprocessing import preprocessing_utils, merge_search, clustering\n",
    "from alignment import alignment\n",
    "from scoring import scoring\n",
    "from gen_spectra import gen_spectrum\n",
    "import identification\n",
    "import database\n",
    "import utils\n",
    "from gen_spectra import get_precursor\n",
    "\n",
    "import time\n",
    "\n",
    "ppm_tolerance = 20\n",
    "precursor_tolerance = 10\n",
    "max_peptide_length = 23\n",
    "peak_filter = 25\n",
    "relative_abundance_filter = 0.1\n",
    "size_lim = 10\n",
    "cap_size = 20\n",
    "get = True\n",
    "no_k = True"
   ]
  }
 ],
 "metadata": {
  "interpreter": {
   "hash": "b6d3b7309614241360366c22e3841483b033a77cbf8e08d8178bcdf4d67dc4a0"
  },
  "kernelspec": {
   "display_name": "Python 3.8.5 ('base')",
   "language": "python",
   "name": "python3"
  },
  "language_info": {
   "name": "python",
   "version": "3.8.5"
  },
  "orig_nbformat": 4
 },
 "nbformat": 4,
 "nbformat_minor": 2
}

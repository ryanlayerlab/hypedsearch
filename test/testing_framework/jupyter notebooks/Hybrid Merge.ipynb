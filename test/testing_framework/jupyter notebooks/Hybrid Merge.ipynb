{
 "cells": [
  {
   "cell_type": "code",
   "execution_count": 2,
   "id": "32450d38",
   "metadata": {},
   "outputs": [],
   "source": [
    "import os\n",
    "import sys\n",
    "\n",
    "module_path = os.path.abspath(os.path.join('../..'))\n",
    "if module_path not in sys.path:\n",
    "    sys.path.append(module_path)\n",
    "\n",
    "import database\n",
    "from testing_framework import testing_utils\n",
    "from preprocessing import preprocessing_utils, merge_search, clustering\n",
    "from identification import create_hits\n",
    "from utils import ppm_to_da\n",
    "from gen_spectra import get_precursor\n",
    "import operator\n",
    "import collections\n",
    "\n",
    "\n",
    "#Assumptions:\n",
    "max_peptide_length = 23\n",
    "ppm_tolerance = 20\n",
    "peak_filter = 50\n",
    "relative_abundance_filter = 0.1\n",
    "precursor_tolerance = 10\n",
    "DEBUG = False\n",
    "\n",
    "import matplotlib.pyplot as plt"
   ]
  },
  {
   "cell_type": "code",
   "execution_count": 3,
   "id": "f2053c56",
   "metadata": {},
   "outputs": [],
   "source": [
    "datasets = testing_utils.define_data()\n",
    "\n",
    "dataset = datasets[0]\n",
    "\n",
    "input_spectra_path = [os.path.join(dataset[0], 'NOD2_E3.mzML')]\n",
    "input_spectra, boundaries = preprocessing_utils.load_spectra(input_spectra_path, ppm_tolerance, peak_filter=peak_filter, relative_abundance_filter=relative_abundance_filter)\n",
    "\n",
    "correct_sequences = testing_utils.generate_truth_set(datasets[0])\n",
    "\n",
    "path = dataset[2]\n",
    "db = database.build(path)"
   ]
  },
  {
   "cell_type": "code",
   "execution_count": null,
   "id": "af87f1c9",
   "metadata": {},
   "outputs": [
    {
     "name": "stdout",
     "output_type": "stream",
     "text": [
      "On protein 279/279 [100%]"
     ]
    }
   ],
   "source": [
    "write_path = os.path.abspath(os.path.join(module_path, 'intermediate_files'))\n",
    "matched_masses_b, matched_masses_y, kmer_set = merge_search.modified_match_masses(boundaries, db, max_peptide_length, True, write_path)\n",
    "print('Finished matching masses')"
   ]
  },
  {
   "cell_type": "code",
   "execution_count": null,
   "id": "e16ebd78",
   "metadata": {},
   "outputs": [],
   "source": [
    "unique_b,unique_y = testing_utils.get_unique_matched_masses(boundaries, matched_masses_b, matched_masses_y)"
   ]
  },
  {
   "cell_type": "code",
   "execution_count": null,
   "id": "373ded25",
   "metadata": {},
   "outputs": [],
   "source": [
    "from gen_spectra import gen_spectrum\n",
    "spectrum_num = 5\n",
    "\n",
    "correct_sequence = correct_sequences[spectrum_num]\n",
    "print(correct_sequence)\n",
    "\n",
    "input_spectrum = input_spectra[spectrum_num]"
   ]
  },
  {
   "cell_type": "code",
   "execution_count": null,
   "id": "391f8959",
   "metadata": {},
   "outputs": [],
   "source": [
    "location = os.path.join(os.path.abspath(os.path.join('../..')), 'intermediate_files/')\n",
    "b_hits,y_hits = create_hits(spectrum_num,input_spectrum,matched_masses_b,matched_masses_y,DEBUG,location)\n",
    "for ion in \"by\":\n",
    "    clusters = clustering.create_clusters(ion, b_hits, y_hits)\n",
    "    if ion ==  'b':\n",
    "        b_sorted_clusters = clustering.Score_clusters(ion, clusters)\n",
    "    else:\n",
    "        y_sorted_clusters = clustering.Score_clusters(ion, clusters)\n",
    "merged_seqs = clustering.Ryan_merge(b_sorted_clusters, y_sorted_clusters)\n",
    "merged_seqs.sort(key = lambda x: x[0], reverse = True)\n",
    "print(len(b_hits), len(y_hits), len(boundaries), len(input_spectra))\n",
    "print(len(clusters), len(b_sorted_clusters), len(y_sorted_clusters))"
   ]
  },
  {
   "cell_type": "code",
   "execution_count": null,
   "id": "ebde662d",
   "metadata": {
    "scrolled": true
   },
   "outputs": [],
   "source": [
    "for i in range(0, 50):\n",
    "    x = b_sorted_clusters[i]\n",
    "    score = x.score\n",
    "    seq = x.seq\n",
    "    indices = x.indices\n",
    "    print(score, seq)"
   ]
  },
  {
   "cell_type": "code",
   "execution_count": null,
   "id": "94f8681f",
   "metadata": {
    "scrolled": true
   },
   "outputs": [],
   "source": [
    "for i in range(0, 50):\n",
    "    x = y_sorted_clusters[i]\n",
    "    score = x.score\n",
    "    seq = x.seq\n",
    "    indices = x.indices\n",
    "    print(score, seq)"
   ]
  },
  {
   "cell_type": "code",
   "execution_count": null,
   "id": "81d9f298",
   "metadata": {
    "scrolled": true
   },
   "outputs": [],
   "source": [
    "def filter_by_precursor(mseqs, obs_prec, precursor_tol, charge):\n",
    "    filtered_seqs = []\n",
    "    for comb_seq in mseqs:\n",
    "        b_seq = comb_seq[3][4]\n",
    "        y_seq = comb_seq[4][4]\n",
    "        if b_seq != y_seq:\n",
    "            new_seq = b_seq + y_seq\n",
    "        else:\n",
    "            new_seq = b_seq\n",
    "        tol = ppm_to_da(obs_prec, precursor_tol)\n",
    "        if not (get_precursor(new_seq, charge) > obs_prec + tol):\n",
    "            filtered_seqs.append(comb_seq)\n",
    "    return filtered_seqs\n",
    "        \n",
    "m_seqs = merged_seqs[:50]\n",
    "m_seqs = filter_by_precursor(m_seqs,input_spectrum.precursor_mass,precursor_tolerance,2)\n",
    "for i in range(0, len(m_seqs)):\n",
    "    print(m_seqs[i])"
   ]
  },
  {
   "cell_type": "code",
   "execution_count": null,
   "id": "6ea19040",
   "metadata": {
    "scrolled": true
   },
   "outputs": [],
   "source": [
    "from constants import WATER_MASS, PROTON_MASS\n",
    "def grab_matches(unique_m, target_val):\n",
    "    #Given a cluster we want to find everything that it can pair with\n",
    "    # It can pair with anything up to a certain mass\n",
    "    current_index = 0\n",
    "    matches = []\n",
    "    for key in unique_m.keys():\n",
    "        if key-WATER_MASS-(2*PROTON_MASS) <= 2*target_val:\n",
    "            if unique_m[key] != []:\n",
    "                matches.append(unique_m[key])\n",
    "        else:\n",
    "            break            \n",
    "    return matches\n",
    "\n",
    "def make_hybrids(pairs, seq, ion):\n",
    "    hybrids = []\n",
    "    for pair in pairs:\n",
    "        for pseq in pair:\n",
    "            new_seq = seq+'-'+pseq if ion == 'b' else pseq+'-'+seq\n",
    "            hybrids.append(new_seq)\n",
    "    return hybrids\n",
    "\n",
    "def score_seqs(mseqs, prec):\n",
    "    scored_seqs = []\n",
    "    for seq in mseqs:\n",
    "        A = seq.rstrip().split('-')\n",
    "        n_seq = A[0]+A[1]\n",
    "        score = prec - get_precursor(n_seq, 2)\n",
    "        if score > 0:\n",
    "            scored_seqs.append((score, seq))\n",
    "    scored_seqs.sort(key=lambda x: x[0])\n",
    "    return scored_seqs\n",
    "    \n",
    "def get_hybrid_matches(b_sorted_clusters, unique_b, obs_prec, precursor_tol, charge):\n",
    "    merged_seqs = []\n",
    "    for ion in 'by':\n",
    "        if ion == 'b':\n",
    "            for cluster in b_sorted_clusters[:50]:\n",
    "                cluster_seq = cluster.seq\n",
    "                cluster_mass = get_precursor(cluster_seq, 2)\n",
    "                tol = ppm_to_da(obs_prec, precursor_tol)\n",
    "                if not (cluster_mass > obs_prec + tol):\n",
    "                    diff = obs_prec + tol - cluster_mass\n",
    "                    pairs = grab_matches(unique_b, diff)\n",
    "                    ion_merged_seqs = make_hybrids(pairs, cluster_seq, ion)\n",
    "                    ion_merged_seqs = score_seqs(ion_merged_seqs, obs_prec)\n",
    "                    [merged_seqs.append(x) for x in ion_merged_seqs]\n",
    "        else:\n",
    "            for cluster in y_sorted_clusters[:50]:\n",
    "                cluster_seq = cluster.seq\n",
    "                cluster_mass = get_precursor(cluster_seq, 2)\n",
    "                tol = ppm_to_da(obs_prec, precursor_tol)\n",
    "                if not (cluster_mass > obs_prec + tol):\n",
    "                    diff = obs_prec + tol - cluster_mass\n",
    "                    pairs = grab_matches(unique_y, diff, b_prec, y_prec, ion)\n",
    "                    print(len(pairs))\n",
    "                    ion_merged_seqs = make_hybrids(pairs, cluster_seq, ion)\n",
    "                    ion_merged_seqs = score_seqs(ion_merged_seqs, obs_prec)\n",
    "                    [merged_seqs.append(x) for x in ion_merged_seqs]\n",
    "\n",
    "    return merged_seqs\n",
    "\n",
    "merged_seqs = get_hybrid_matches(b_sorted_clusters[:50], unique_b, input_spectrum.precursor_mass, precursor_tolerance, 2)\n",
    "[print(x) for x in merged_seqs[:50]]"
   ]
  },
  {
   "cell_type": "code",
   "execution_count": null,
   "id": "2f00e5f1",
   "metadata": {},
   "outputs": [],
   "source": []
  },
  {
   "cell_type": "code",
   "execution_count": null,
   "id": "069d62b0",
   "metadata": {},
   "outputs": [],
   "source": []
  },
  {
   "cell_type": "code",
   "execution_count": null,
   "id": "92230201",
   "metadata": {},
   "outputs": [],
   "source": []
  }
 ],
 "metadata": {
  "kernelspec": {
   "display_name": "Python 3",
   "language": "python",
   "name": "python3"
  },
  "language_info": {
   "codemirror_mode": {
    "name": "ipython",
    "version": 3
   },
   "file_extension": ".py",
   "mimetype": "text/x-python",
   "name": "python",
   "nbconvert_exporter": "python",
   "pygments_lexer": "ipython3",
   "version": "3.7.10"
  }
 },
 "nbformat": 4,
 "nbformat_minor": 5
}

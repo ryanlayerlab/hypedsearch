{
 "cells": [
  {
   "cell_type": "markdown",
   "id": "b350d988",
   "metadata": {},
   "source": [
    "# Extensions\n",
    "\n",
    "The purpose of this notebook is to test everything related to generating extensions among hits"
   ]
  },
  {
   "cell_type": "code",
   "execution_count": 1,
   "id": "1963fedc",
   "metadata": {},
   "outputs": [],
   "source": [
    "import os\n",
    "import sys\n",
    "\n",
    "module_path = os.path.abspath(os.path.join('..'))\n",
    "if module_path not in sys.path:\n",
    "    sys.path.append(module_path)\n",
    "module_path = os.path.abspath(os.path.join('..', 'hypedsearch', 'src'))\n",
    "if module_path not in sys.path:\n",
    "    sys.path.append(module_path)\n",
    "    \n",
    "import testing_utils\n",
    "import database\n",
    "\n",
    "import operator\n",
    "\n",
    "ppm_tolerance = 20\n",
    "max_peptide_length = 20\n",
    "\n",
    "import matplotlib.pyplot as plt"
   ]
  },
  {
   "cell_type": "code",
   "execution_count": 2,
   "id": "1adbddf4",
   "metadata": {},
   "outputs": [
    {
     "name": "stdout",
     "output_type": "stream",
     "text": [
      "Loading spectra...\n",
      "Done\n"
     ]
    }
   ],
   "source": [
    "datasets = testing_utils.define_data()\n",
    "\n",
    "dataset = datasets[0]\n",
    "\n",
    "input_spectra_path = dataset[0]\n",
    "input_spectra, boundaries = testing_utils.preprocess_input_spectra(input_spectra_path, ppm_tolerance)\n",
    "\n",
    "correct_sequences = testing_utils.generate_truth_set(datasets[0])\n",
    "\n",
    "path = dataset[2]\n",
    "db = database.build(path)"
   ]
  },
  {
   "cell_type": "code",
   "execution_count": null,
   "id": "a61567a9",
   "metadata": {},
   "outputs": [
    {
     "name": "stdout",
     "output_type": "stream",
     "text": [
      "On protein 279/279 [100%]\n",
      "Sorting the set of protein masses...\n",
      "Sorting the set of protein masses done\n",
      "Performing Merge\n"
     ]
    }
   ],
   "source": [
    "matched_masses_b, matched_masses_y, database = testing_utils.modified_match_masses(boundaries, db, max_peptide_length)\n",
    "# matched_masses_b, matched_masses_y, database = match_masses(boundaries, db, max_peptide_length)\n",
    "print('Finished matching masses')"
   ]
  },
  {
   "cell_type": "markdown",
   "id": "339a6532",
   "metadata": {},
   "source": [
    "# Getting initial hits"
   ]
  },
  {
   "cell_type": "code",
   "execution_count": null,
   "id": "eeeed96c",
   "metadata": {},
   "outputs": [],
   "source": [
    "spectrum_num = 19\n",
    "\n",
    "correct_sequence = correct_sequences[spectrum_num]\n",
    "print(correct_sequence)\n",
    "\n",
    "input_spectrum = input_spectra[spectrum_num]"
   ]
  },
  {
   "cell_type": "code",
   "execution_count": null,
   "id": "43241d60",
   "metadata": {},
   "outputs": [],
   "source": [
    "b_hits, y_hits, b_set, y_set, misses = testing_utils.find_hits(boundaries, input_spectrum, spectrum_num, matched_masses_b, matched_masses_y)\n",
    "correct_hits = testing_utils.append_correct_hits(correct_sequence, input_spectrum, ppm_tolerance)\n",
    "testing_utils.write_hits(b_hits, y_hits)\n",
    "ion = 'b'\n",
    "testing_utils.create_clusters(ion)\n",
    "b_sorted_clusters = testing_utils.sort_clusters_by_post_prob(ion, boundaries, matched_masses_b, matched_masses_y)\n",
    "ion = 'y'\n",
    "testing_utils.create_clusters(ion)\n",
    "y_sorted_clusters = testing_utils.sort_clusters_by_post_prob(ion, boundaries, matched_masses_b, matched_masses_y)"
   ]
  },
  {
   "cell_type": "markdown",
   "id": "fa96fc44",
   "metadata": {},
   "source": [
    "# Printing hits"
   ]
  },
  {
   "cell_type": "code",
   "execution_count": null,
   "id": "00538a18",
   "metadata": {},
   "outputs": [],
   "source": [
    "# b_sorted_clusters = sorted(b_sorted_clusters, key=operator.attrgetter('post_prob', 'score', 'pid', 'prior'), reverse = True)\n",
    "b_sorted_clusters = sorted(b_sorted_clusters, key=operator.attrgetter('score', 'post_prob', 'pid', 'prior'), reverse = True)\n",
    "testing_utils.write_b_sorted_cluster(b_sorted_clusters)\n",
    "for i in range(0, 50):\n",
    "    x = b_sorted_clusters[i]\n",
    "    post_prob = x.post_prob\n",
    "    score = x.score\n",
    "    seq = x.seq\n",
    "    indices = x.indices\n",
    "    print(post_prob, score, seq)"
   ]
  },
  {
   "cell_type": "code",
   "execution_count": null,
   "id": "f7e39bb6",
   "metadata": {},
   "outputs": [],
   "source": [
    "testing_utils.write_y_sorted_cluster(y_sorted_clusters)  \n",
    "# y_sorted_clusters = sorted(y_sorted_clusters, key=operator.attrgetter('post_prob', 'score', 'pid', 'prior'), reverse = True)\n",
    "y_sorted_clusters = sorted(y_sorted_clusters, key=operator.attrgetter('score', 'post_prob', 'pid', 'prior'), reverse = True)\n",
    "for i in range(0, 50):\n",
    "    x = y_sorted_clusters[i]\n",
    "    post_prob = x.post_prob\n",
    "    score = x.score\n",
    "    seq = x.seq\n",
    "    indices = x.indices\n",
    "    print(post_prob, score, seq)"
   ]
  },
  {
   "cell_type": "markdown",
   "id": "2096e4c4",
   "metadata": {},
   "source": [
    "# To Filter data by parent prot\n",
    "\n",
    "I want to be able to only view the b or y hits from a certain protein"
   ]
  },
  {
   "cell_type": "code",
   "execution_count": null,
   "id": "67fbf91e",
   "metadata": {},
   "outputs": [],
   "source": [
    "# b_hits\n",
    "target_pid = 274\n",
    "b_target_clusters = []\n",
    "for cluster in b_sorted_clusters:\n",
    "    if cluster.pid == target_pid:\n",
    "        b_target_clusters.append(cluster)\n",
    "\n",
    "for cluster in b_target_clusters:\n",
    "    assessment, _ = testing_utils.is_good_hit(cluster.seq, 'b', correct_sequence)\n",
    "    non_indices = str(cluster.score) + '\\t' + str(cluster.post_prob) + '\\t' + str(cluster.pid) + '\\t' + cluster.seq + '\\t' + str(assessment)\n",
    "    print(non_indices + '\\t'+ '\\t'.join([str(o) for o in cluster.indices]))\n"
   ]
  },
  {
   "cell_type": "code",
   "execution_count": null,
   "id": "c8efcc2f",
   "metadata": {},
   "outputs": [],
   "source": [
    "# y_hits\n",
    "y_target_clusters = []\n",
    "for cluster in y_sorted_clusters:\n",
    "    if cluster.pid == target_pid:\n",
    "        y_target_clusters.append(cluster)\n",
    "\n",
    "for cluster in y_target_clusters:\n",
    "    assessment, _ = testing_utils.is_good_hit(cluster.seq, 'y', correct_sequence)\n",
    "    non_indices = str(cluster.score) + '\\t' + str(cluster.post_prob) + '\\t' + str(cluster.pid) + '\\t' + cluster.seq + '\\t' + str(assessment)\n",
    "    print(non_indices + '\\t'+ '\\t'.join([str(o) for o in cluster.indices]))"
   ]
  },
  {
   "cell_type": "markdown",
   "id": "7f3947d1",
   "metadata": {},
   "source": [
    "# Finding non-hybrid interesting Combos"
   ]
  },
  {
   "cell_type": "code",
   "execution_count": null,
   "id": "28d0718a",
   "metadata": {},
   "outputs": [],
   "source": [
    "def get_top(b_clusters, y_clusters, top_num):\n",
    "    filtered_b = []\n",
    "    filtered_y = []\n",
    "    b_len = top_num if len(b_clusters) >= top_num else len(b_clusters)\n",
    "    y_len = top_num if len(y_clusters) >= top_num else len(y_clusters)\n",
    "    for x in range(0,b_len):\n",
    "        filtered_b.append(b_clusters[x])\n",
    "    for x in range(0,y_len):\n",
    "        filtered_y.append(y_clusters[x])\n",
    "    return filtered_b, filtered_y"
   ]
  },
  {
   "cell_type": "code",
   "execution_count": null,
   "id": "153e3904",
   "metadata": {
    "scrolled": true
   },
   "outputs": [],
   "source": [
    "# b side starting. Ideally, we would probably pick the higher scoring side to start\n",
    "filtered_b, filtered_y = get_top(b_target_clusters, y_target_clusters, 50)\n",
    "target_precursor = input_spectrum.precursor_mass\n",
    "#Start with printing overlapping. Then will incorportate boundary overlaps between last of b and first of y\n",
    "for b_cluster in filtered_b:\n",
    "    interesting_combos = []\n",
    "    for y_cluster in filtered_y:\n",
    "        if b_cluster.start <= y_cluster.end:\n",
    "            interesting_combos.append(b_cluster.seq + '-' + y_cluster.seq)\n",
    "    print(interesting_combos)\n",
    "# # Calculating start and end indices for each interval\n",
    "# for b_cluster in filtered_b:\n",
    "#     interesting_combos = []\n",
    "#     b_index_set = set()\n",
    "#     for index in b_cluster.indices:\n",
    "#         index = index.replace('(', '')\n",
    "#         index = index.replace(')', '')\n",
    "#         A = index.rstrip().split(',')\n",
    "#         b_index_set.add(int(A[0]))\n",
    "#         b_index_set.add(int(A[1]))\n",
    "    \n",
    "#     b_start_pos = min(b_index_set)\n",
    "#     b_end_pos = max(b_index_set)\n",
    "    \n",
    "#     for y_cluster in filtered_y:\n",
    "#         y_index_set = set()\n",
    "#         for index in y_cluster.indices:\n",
    "#             index = index.replace('(', '')\n",
    "#             index = index.replace(')', '')\n",
    "#             A = index.rstrip().split(',')\n",
    "#             y_index_set.add(int(A[0]))\n",
    "#             y_index_set.add(int(A[1]))\n",
    "            \n",
    "#         y_start_pos = min(y_index_set)\n",
    "#         y_end_pos = max(y_index_set)\n",
    "        \n",
    "#         if (b_start_pos <= y_start_pos) and (b_end_pos == y_start_pos - 1):\n",
    "#             interesting_combos.append(b_cluster)\n",
    "#             interesting_combos.append(y_cluster)\n",
    "    \n",
    "#     print(interesting_combos)"
   ]
  },
  {
   "cell_type": "markdown",
   "id": "90dbdbcb",
   "metadata": {},
   "source": [
    "# Finding optimal \"hybrid\" combos\n",
    "\n",
    "* Hybrid is in quotation marks because all outputs will be a hybrid and then we can check if it is a non-hybrid"
   ]
  },
  {
   "cell_type": "code",
   "execution_count": null,
   "id": "ea3189ee",
   "metadata": {},
   "outputs": [],
   "source": [
    "def parse_indices(index_set):\n",
    "    indices = []\n",
    "    for index in index_set:\n",
    "        string = str(index)\n",
    "        A = string.rstrip().split(',')\n",
    "        start = A[0]\n",
    "        end = A[1]\n",
    "        seq = A[2]\n",
    "        mz = A[3]\n",
    "        disallowed_characters = \" ()\\'\"\n",
    "        for character in disallowed_characters:\n",
    "            start = start.replace(character, \"\")\n",
    "            end = end.replace(character, \"\")\n",
    "            seq = seq.replace(character, \"\")\n",
    "            mz = mz.replace(character, \"\")\n",
    "        \n",
    "        target_tuple = (int(start), int(end), seq, float(mz))\n",
    "        indices.append(target_tuple)\n",
    "    \n",
    "    \n",
    "    return indices\n",
    "\n",
    "def calc_combined_score(b_indices, y_indices, b_score, y_score):\n",
    "    masses = []\n",
    "    combined_score = 0\n",
    "    for index in b_indices:\n",
    "        current_mass = float(index[3])\n",
    "        if current_mass not in masses:\n",
    "            masses.append(current_mass)\n",
    "            combined_score = combined_score + 1\n",
    "        else:\n",
    "            combined_score = combined_score - 2\n",
    "    for index in y_indices:\n",
    "        current_mass = float(index[3])\n",
    "        if current_mass not in masses:\n",
    "            masses.append(current_mass)\n",
    "            combined_score = combined_score + 1\n",
    "        else:\n",
    "            combined_score = combined_score - 2\n",
    "    return combined_score"
   ]
  },
  {
   "cell_type": "code",
   "execution_count": null,
   "id": "d6060042",
   "metadata": {},
   "outputs": [],
   "source": [
    "# b side starting. Ideally, we would probably pick the higher scoring side to start\n",
    "filtered_b, filtered_y = get_top(b_sorted_clusters, y_sorted_clusters, 50)\n",
    "target_precursor = input_spectrum.precursor_mass\n",
    "#Start with printing overlapping. Then will incorportate boundary overlaps between last of b and first of y\n",
    "interesting_combos = []\n",
    "for b_cluster in filtered_b:\n",
    "    for y_cluster in filtered_y:\n",
    "        if b_cluster.start <= y_cluster.end:\n",
    "            seq = b_cluster.seq + '-' + y_cluster.seq\n",
    "            b_indices = parse_indices(b_cluster.indices)\n",
    "            y_indices = parse_indices(y_cluster.indices)\n",
    "            score = calc_combined_score(b_indices, y_indices, b_cluster.score, y_cluster.score)\n",
    "            tup = (seq, score)\n",
    "            interesting_combos.append(tup)\n",
    "interesting_combos.sort(key=lambda a: a[1], reverse=True)\n",
    "[print(x) for x in interesting_combos]\n",
    "            \n",
    "            \n",
    "# # Calculating start and end indices for each interval\n",
    "# for b_cluster in filtered_b:\n",
    "#     interesting_combos = []\n",
    "#     b_index_set = set()\n",
    "#     for index in b_cluster.indices:\n",
    "#         index = index.replace('(', '')\n",
    "#         index = index.replace(')', '')\n",
    "#         A = index.rstrip().split(',')\n",
    "#         b_index_set.add(int(A[0]))\n",
    "#         b_index_set.add(int(A[1]))\n",
    "    \n",
    "#     b_start_pos = min(b_index_set)\n",
    "#     b_end_pos = max(b_index_set)\n",
    "    \n",
    "#     for y_cluster in filtered_y:\n",
    "#         y_index_set = set()\n",
    "#         for index in y_cluster.indices:\n",
    "#             index = index.replace('(', '')\n",
    "#             index = index.replace(')', '')\n",
    "#             A = index.rstrip().split(',')\n",
    "#             y_index_set.add(int(A[0]))\n",
    "#             y_index_set.add(int(A[1]))\n",
    "            \n",
    "#         y_start_pos = min(y_index_set)\n",
    "#         y_end_pos = max(y_index_set)\n",
    "        \n",
    "#         if (b_start_pos <= y_start_pos) and (b_end_pos == y_start_pos - 1):\n",
    "#             interesting_combos.append(b_cluster)\n",
    "#             interesting_combos.append(y_cluster)\n",
    "    \n",
    "#     print(interesting_combos)"
   ]
  },
  {
   "cell_type": "markdown",
   "id": "a223e95c",
   "metadata": {},
   "source": [
    "# Filtering overlap\n",
    "\n",
    "Q: What happens if we completely filter out all cases where any mass overlaps?"
   ]
  },
  {
   "cell_type": "code",
   "execution_count": null,
   "id": "7531c87a",
   "metadata": {},
   "outputs": [],
   "source": [
    "def filter_by_validity(b_cluster, y_cluster):\n",
    "    interesting_combos = []\n",
    "    valid = True\n",
    "    for b in b_cluster.indices:\n",
    "        for y in y_cluster.indices:\n",
    "            if b[3] == y[3]:\n",
    "                valid = False\n",
    "    return valid\n",
    "\n",
    "def brutal_calc_combined_score(b_indices, y_indices, b_score, y_score):\n",
    "    masses = []\n",
    "    combined_score = 0\n",
    "    for index in b_indices:\n",
    "        current_mass = float(index[3])\n",
    "        if current_mass not in masses:\n",
    "            masses.append(current_mass)\n",
    "            combined_score = combined_score + 1\n",
    "        else:\n",
    "            combined_score = combined_score - 2000 #Little bit of a hack\n",
    "    for index in y_indices:\n",
    "        current_mass = float(index[3])\n",
    "        if current_mass not in masses:\n",
    "            masses.append(current_mass)\n",
    "            combined_score = combined_score + 1\n",
    "        else:\n",
    "            combined_score = combined_score - 2000\n",
    "    return combined_score"
   ]
  },
  {
   "cell_type": "code",
   "execution_count": null,
   "id": "9f965380",
   "metadata": {},
   "outputs": [],
   "source": [
    "# b side starting. Ideally, we would probably pick the higher scoring side to start\n",
    "filtered_b, filtered_y = get_top(b_sorted_clusters, y_sorted_clusters, 50)\n",
    "target_precursor = input_spectrum.precursor_mass\n",
    "#Start with printing overlapping. Then will incorportate boundary overlaps between last of b and first of y\n",
    "interesting_combos = []\n",
    "for b_cluster in filtered_b:\n",
    "    for y_cluster in filtered_y:\n",
    "        if b_cluster.start <= y_cluster.end:\n",
    "            seq = b_cluster.seq + '-' + y_cluster.seq\n",
    "            b_indices = parse_indices(b_cluster.indices)\n",
    "            y_indices = parse_indices(y_cluster.indices)\n",
    "#             score = brutal_calc_combined_score(b_indices, y_indices, b_cluster.score, y_cluster.score)\n",
    "#             tup = (seq, score)\n",
    "#             interesting_combos.append(tup)\n",
    "            evaluation = filter_by_validity(b_cluster, y_cluster)\n",
    "            if evaluation == True:\n",
    "                tup = (seq, b_cluster.score + y_cluster.score)\n",
    "                interesting_combos.append(tup)\n",
    "interesting_combos.sort(key=lambda a: a[1], reverse=True)\n",
    "[print(x) for x in interesting_combos]"
   ]
  },
  {
   "cell_type": "markdown",
   "id": "06b54219",
   "metadata": {},
   "source": [
    "# Over all datasets\n",
    "\n",
    "* Want to know:\n",
    "    * What do good hits look like when put through extensions?\n",
    "    * Only factor in the hits for which there exist a good hit from the b and y side. It doesn't make sense to talk about extensions for which we don't have good initial hits on both sides\n",
    "        * How often does this happen?\n",
    "        * Do we lose out on good combinations after penalizing double counting?"
   ]
  }
 ],
 "metadata": {
  "kernelspec": {
   "display_name": "Python 3",
   "language": "python",
   "name": "python3"
  },
  "language_info": {
   "codemirror_mode": {
    "name": "ipython",
    "version": 3
   },
   "file_extension": ".py",
   "mimetype": "text/x-python",
   "name": "python",
   "nbconvert_exporter": "python",
   "pygments_lexer": "ipython3",
   "version": "3.7.10"
  }
 },
 "nbformat": 4,
 "nbformat_minor": 5
}

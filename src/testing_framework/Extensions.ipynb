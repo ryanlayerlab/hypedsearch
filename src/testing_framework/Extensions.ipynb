{
 "cells": [
  {
   "cell_type": "markdown",
   "id": "b350d988",
   "metadata": {},
   "source": [
    "# Extensions\n",
    "\n",
    "The purpose of this notebook is to test everything related to generating extensions among hits"
   ]
  },
  {
   "cell_type": "code",
   "execution_count": 1,
   "id": "1963fedc",
   "metadata": {},
   "outputs": [],
   "source": [
    "import os\n",
    "import sys\n",
    "\n",
    "module_path = os.path.abspath(os.path.join('..'))\n",
    "if module_path not in sys.path:\n",
    "    sys.path.append(module_path)\n",
    "module_path = os.path.abspath(os.path.join('..', 'hypedsearch', 'src'))\n",
    "if module_path not in sys.path:\n",
    "    sys.path.append(module_path)\n",
    "    \n",
    "import testing_utils\n",
    "import database\n",
    "\n",
    "import operator\n",
    "\n",
    "ppm_tolerance = 20\n",
    "max_peptide_length = 20\n",
    "\n",
    "import matplotlib.pyplot as plt"
   ]
  },
  {
   "cell_type": "code",
   "execution_count": 2,
   "id": "1adbddf4",
   "metadata": {},
   "outputs": [
    {
     "name": "stdout",
     "output_type": "stream",
     "text": [
      "Loading spectra...\n",
      "Done\n"
     ]
    }
   ],
   "source": [
    "datasets = testing_utils.define_data()\n",
    "\n",
    "dataset = datasets[0]\n",
    "\n",
    "input_spectra_path = dataset[0]\n",
    "input_spectra, boundaries = testing_utils.preprocess_input_spectra(input_spectra_path, ppm_tolerance)\n",
    "\n",
    "correct_sequences = testing_utils.generate_truth_set(datasets[0])\n",
    "\n",
    "path = dataset[2]\n",
    "db = database.build(path)"
   ]
  },
  {
   "cell_type": "code",
   "execution_count": 3,
   "id": "a61567a9",
   "metadata": {},
   "outputs": [
    {
     "name": "stdout",
     "output_type": "stream",
     "text": [
      "On protein 279/279 [100%]\n",
      "Sorting the set of protein masses...\n",
      "Sorting the set of protein masses done\n",
      "Performing Merge\n",
      "Done\n",
      "Finished matching masses\n"
     ]
    }
   ],
   "source": [
    "matched_masses_b, matched_masses_y, database = testing_utils.modified_match_masses(boundaries, db, max_peptide_length)\n",
    "# matched_masses_b, matched_masses_y, database = match_masses(boundaries, db, max_peptide_length)\n",
    "print('Finished matching masses')"
   ]
  },
  {
   "cell_type": "markdown",
   "id": "339a6532",
   "metadata": {},
   "source": [
    "# Getting initial hits"
   ]
  },
  {
   "cell_type": "code",
   "execution_count": 4,
   "id": "eeeed96c",
   "metadata": {},
   "outputs": [
    {
     "name": "stdout",
     "output_type": "stream",
     "text": [
      "DPQVEQLEL\n"
     ]
    }
   ],
   "source": [
    "spectrum_num = 0\n",
    "correct_sequence = correct_sequences[spectrum_num]\n",
    "print(correct_sequence)\n",
    "\n",
    "input_spectrum = input_spectra[spectrum_num]"
   ]
  },
  {
   "cell_type": "code",
   "execution_count": 5,
   "id": "43241d60",
   "metadata": {},
   "outputs": [
    {
     "name": "stdout",
     "output_type": "stream",
     "text": [
      "Done\n"
     ]
    }
   ],
   "source": [
    "b_hits, y_hits, b_set, y_set, misses = testing_utils.find_hits(boundaries, input_spectrum, spectrum_num, matched_masses_b, matched_masses_y)\n",
    "correct_hits = testing_utils.append_correct_hits(correct_sequence, input_spectrum, ppm_tolerance)\n",
    "testing_utils.write_hits(b_hits, y_hits)\n",
    "ion = 'b'\n",
    "testing_utils.create_clusters(ion)\n",
    "b_sorted_clusters = testing_utils.sort_clusters_by_post_prob(ion, boundaries, matched_masses_b, matched_masses_y)\n",
    "ion = 'y'\n",
    "testing_utils.create_clusters(ion)\n",
    "y_sorted_clusters = testing_utils.sort_clusters_by_post_prob(ion, boundaries, matched_masses_b, matched_masses_y)"
   ]
  },
  {
   "cell_type": "markdown",
   "id": "fa96fc44",
   "metadata": {},
   "source": [
    "# Printing hits"
   ]
  },
  {
   "cell_type": "code",
   "execution_count": 6,
   "id": "00538a18",
   "metadata": {},
   "outputs": [
    {
     "name": "stdout",
     "output_type": "stream",
     "text": [
      "0.8674851509837346 7 DPQVEQLE\n",
      "0.5832415059687787 4 TVFSDFL\n",
      "0.5689800742992233 4 TQAGVEELDPENKIP\n",
      "0.5348891652083142 4 PAGDQKDV\n",
      "0.45824150596877866 4 DPEVQQI\n",
      "0.42904238878594025 4 GTYFEVKIPSDTFYDN\n",
      "0.42446275789051985 4 HSLMPMLE\n",
      "0.381750637069786 4 PDAGAPTSASGLSGHTTL\n",
      "0.6258241758241758 3 TTFV\n",
      "0.6258241758241758 3 TTFV\n",
      "0.5721812218122181 3 TTPGPD\n",
      "0.5676756625334306 3 KKEECP\n",
      "0.5570921985815603 3 TTSTRTY\n",
      "0.549407674478496 3 TTYNSIMK\n",
      "0.5428270042194093 3 TTQEPIWLT\n",
      "0.5399705014749262 3 KKDLEEWNQ\n",
      "0.5379931876241839 3 TTGFSTEVWQ\n",
      "0.5364167478091529 3 TTLRIEGNQG\n",
      "0.5309222423146475 3 KKAIPAGCGDE\n",
      "0.5309222423146475 3 TTTGPRAQIGS\n",
      "0.5300595238095238 3 TTVESNSSWWTN\n",
      "0.5280657395701643 3 TTSPNLGTREN\n",
      "0.5277367773677737 3 TTPATSTTCTAT\n",
      "0.5265676567656766 3 KKCGWFHPPANE\n",
      "0.5261603375527427 3 TTEAAPGTGRGA\n",
      "0.525892857142857 3 TTNPHVFPEGSEP\n",
      "0.5183733670459334 3 QPDV\n",
      "0.5178571428571428 3 KHHMY\n",
      "0.5170879922216821 3 KKEKKSLDSDESED\n",
      "0.5154565456545654 3 TTQPPAQPASQGSGS\n",
      "0.5111301625167736 3 TTESVKEQEMKWTDLA\n",
      "0.5084985835694051 3 TTTPCMLRDSDSILETL\n",
      "0.4917237934479313 3 KPEGRPGT\n",
      "0.4917237934479313 3 TLSFSSIS\n",
      "0.490079365079365 3 KNHTSE\n",
      "0.490079365079365 3 TSYTML\n",
      "0.490079365079365 3 TELSHE\n",
      "0.490079365079365 3 THNWGT\n",
      "0.48568414707655216 3 TSFLVNRDH\n",
      "0.48384955752212383 3 TQRPCRH\n",
      "0.4792738906662958 3 KPEGSQDKSL\n",
      "0.4724736423314105 3 TGAAGRNS\n",
      "0.47182539682539676 3 FSLHDP\n",
      "0.46942479962281936 3 KRCPTCHNIIDN\n",
      "0.46820330969267143 3 TMVQTHL\n",
      "0.46785714285714275 3 TNNPAQA\n",
      "0.46785714285714275 3 KEGGPNN\n",
      "0.4606054221098469 3 QPSVSS\n",
      "0.4502269117313365 3 PQDHPRSQPQ\n",
      "0.449407674478496 3 TFYDIVAE\n"
     ]
    }
   ],
   "source": [
    "# b_sorted_clusters = sorted(b_sorted_clusters, key=operator.attrgetter('post_prob', 'score', 'pid', 'prior'), reverse = True)\n",
    "b_sorted_clusters = sorted(b_sorted_clusters, key=operator.attrgetter('score', 'post_prob', 'pid', 'prior'), reverse = True)\n",
    "testing_utils.write_b_sorted_cluster(b_sorted_clusters)\n",
    "for i in range(0, 50):\n",
    "    x = b_sorted_clusters[i]\n",
    "    post_prob = x.post_prob\n",
    "    score = x.score\n",
    "    seq = x.seq\n",
    "    indices = x.indices\n",
    "    print(post_prob, score, seq)"
   ]
  },
  {
   "cell_type": "code",
   "execution_count": 7,
   "id": "f7e39bb6",
   "metadata": {},
   "outputs": [
    {
     "name": "stdout",
     "output_type": "stream",
     "text": [
      "0.7857723577235773 5 LDSFSEI\n",
      "0.6975386779184247 4 CGLYEL\n",
      "0.6975386779184247 4 HPDSEL\n",
      "0.5330623306233063 4 LESYGLE\n",
      "0.483033033033033 4 SSNWVGKGFFAVYEAIC\n",
      "0.42394212394212394 4 EISSIDEF\n",
      "0.42394212394212394 4 EIPHSELD\n",
      "0.41172391549750037 4 FVDLTMPYSV\n",
      "0.6505494505494506 3 HICL\n",
      "0.6102990033222592 3 ITCI\n",
      "0.6102990033222592 3 LTCI\n",
      "0.6102990033222592 3 TLCI\n",
      "0.5978738652651696 3 FSCL\n",
      "0.5978738652651696 3 SFCL\n",
      "0.5978738652651696 3 AYCL\n",
      "0.5844339622641509 3 NNPEL\n",
      "0.5734567901234567 3 DPLEEL\n",
      "0.5734567901234567 3 HVMSEI\n",
      "0.5721001221001221 3 PENPEI\n",
      "0.5721001221001221 3 YNVSCI\n",
      "0.5692411924119242 3 HWEPEI\n",
      "0.5654639175257732 3 TEEKMEL\n",
      "0.5606761565836299 3 YQASLEL\n",
      "0.5606761565836299 3 KPCLFCL\n",
      "0.5581300813008131 3 ESYGLEL\n",
      "0.5581300813008131 3 SFSEVEL\n",
      "0.5581300813008131 3 YGDLTEI\n",
      "0.5581300813008131 3 FSESVEL\n",
      "0.5563730084348641 3 SDIAMTEL\n",
      "0.5515852474927209 3 GYISAAEL\n",
      "0.549017199017199 3 PIDHLCEL\n",
      "0.5475513428120063 3 DPQVEQLEL\n",
      "0.5475513428120063 3 HGEIIYPEI\n",
      "0.5454301075268817 3 YENLNDQEL\n",
      "0.5454301075268817 3 IMTERDMEL\n",
      "0.5454301075268817 3 LYENLDEEL\n",
      "0.5414414414414415 3 SDNAPPPEL\n",
      "0.5363570391872279 3 DFTFVCPTEI\n",
      "0.5363570391872279 3 DFTFVCPTEI\n",
      "0.5363570391872279 3 DFTFVCPTEI\n",
      "0.5335253456221198 3 LRSSSCGDAEL\n",
      "0.5324175824175824 3 EKYKNIDEDEL\n",
      "0.5283398184176394 3 EGEDDRTVCKEI\n",
      "0.520630081300813 3 YFEEYGKIDTIEI\n",
      "0.518987341772152 3 SEYWL\n",
      "0.5169536107125777 3 LEDSDLKKSDIDEI\n",
      "0.5138658048630347 3 WLKGQGVYLGMPGCL\n",
      "0.5136856368563686 3 TAEIASLDSENIDEI\n",
      "0.5136636636636637 3 YNYVWANCFEITLEL\n",
      "0.5109418282548476 3 AAGCKVEAFAVQGEEL\n"
     ]
    }
   ],
   "source": [
    "testing_utils.write_y_sorted_cluster(y_sorted_clusters)  \n",
    "# y_sorted_clusters = sorted(y_sorted_clusters, key=operator.attrgetter('post_prob', 'score', 'pid', 'prior'), reverse = True)\n",
    "y_sorted_clusters = sorted(y_sorted_clusters, key=operator.attrgetter('score', 'post_prob', 'pid', 'prior'), reverse = True)\n",
    "for i in range(0, 50):\n",
    "    x = y_sorted_clusters[i]\n",
    "    post_prob = x.post_prob\n",
    "    score = x.score\n",
    "    seq = x.seq\n",
    "    indices = x.indices\n",
    "    print(post_prob, score, seq)"
   ]
  },
  {
   "cell_type": "markdown",
   "id": "2096e4c4",
   "metadata": {},
   "source": [
    "# To Filter data by parent prot\n",
    "\n",
    "I want to be able to only view the b or y hits from a certain protein"
   ]
  },
  {
   "cell_type": "code",
   "execution_count": 8,
   "id": "67fbf91e",
   "metadata": {},
   "outputs": [
    {
     "name": "stdout",
     "output_type": "stream",
     "text": [
      "7\t0.8674851509837346\t274\tDPQVEQLE\tTrue\t(60, 62, 'DPQ', '341.1453857421875')\t(60, 63, 'DPQV', '440.216064453125')\t(60, 64, 'DPQVE', '569.2589721679688')\t(60, 65, 'DPQVEQ', '349.1622619628906')\t(60, 65, 'DPQVEQ', '697.3143310546875')\t(60, 66, 'DPQVEQL', '810.3919677734375')\t(60, 67, 'DPQVEQLE', '939.4456176757812')\n",
      "2\t0.2215748132886943\t274\tEDPQVEQL\tFalse\t(59, 63, 'EDPQV', '569.2589721679688')\t(59, 66, 'EDPQVEQL', '939.4456176757812')\n",
      "1\t0.2501791793585379\t274\tT\tFalse\t(22, 22, 'T', '102.05448913574219')\n",
      "1\t0.2501791793585379\t274\tT\tFalse\t(51, 51, 'T', '102.05448913574219')\n",
      "1\t0.2501791793585379\t274\tT\tFalse\t(77, 77, 'T', '102.05448913574219')\n",
      "1\t0.2501791793585379\t274\tT\tFalse\t(95, 95, 'T', '102.05448913574219')\n",
      "1\t0.25013925637097895\t274\tK\tFalse\t(20, 20, 'K', '129.1007537841797')\n",
      "1\t0.25013925637097895\t274\tK\tFalse\t(27, 27, 'K', '129.1007537841797')\n",
      "1\t0.25013925637097895\t274\tK\tFalse\t(53, 53, 'K', '129.1007537841797')\n",
      "1\t0.25013925637097895\t274\tK\tFalse\t(86, 86, 'K', '129.1007537841797')\n",
      "1\t0.20128040973111397\t274\tPQ\tFalse\t(61, 62, 'PQ', '226.1183624267578')\n",
      "1\t0.20041322314049587\t274\tLE\tFalse\t(66, 67, 'LE', '243.13357543945312')\n",
      "1\t0.20041322314049587\t274\tEL\tFalse\t(67, 68, 'EL', '243.13357543945312')\n",
      "1\t0.20041322314049587\t274\tLE\tFalse\t(80, 81, 'LE', '243.13357543945312')\n",
      "1\t0.20041322314049587\t274\tLE\tFalse\t(103, 104, 'LE', '243.13357543945312')\n",
      "1\t0.128690036900369\t274\tVEDPQ\tFalse\t(58, 62, 'VEDPQ', '569.2589721679688')\n",
      "1\t0.1276525198938992\t274\tLGGSP\tFalse\t(68, 72, 'LGGSP', '412.21746826171875')\n"
     ]
    }
   ],
   "source": [
    "# b_hits\n",
    "target_pid = 274\n",
    "b_target_clusters = []\n",
    "for cluster in b_sorted_clusters:\n",
    "    if cluster.pid == target_pid:\n",
    "        b_target_clusters.append(cluster)\n",
    "\n",
    "for cluster in b_target_clusters:\n",
    "    assessment, _ = testing_utils.is_good_hit(cluster.seq, 'b', correct_sequence)\n",
    "    non_indices = str(cluster.score) + '\\t' + str(cluster.post_prob) + '\\t' + str(cluster.pid) + '\\t' + cluster.seq + '\\t' + str(assessment)\n",
    "    print(non_indices + '\\t'+ '\\t'.join([str(o) for o in cluster.indices]))\n"
   ]
  },
  {
   "cell_type": "code",
   "execution_count": 9,
   "id": "c8efcc2f",
   "metadata": {},
   "outputs": [
    {
     "name": "stdout",
     "output_type": "stream",
     "text": [
      "3\t0.5475513428120063\t274\tDPQVEQLEL\tTrue\t(60, 68, 'DPQVEQLEL', '535.772527')\t(67, 68, 'EL', '261.1429443359375')\t(68, 68, 'L', '132.10121154785156')\n",
      "1\t0.2500691802144587\t274\tL\tTrue\t(3, 3, 'L', '132.10121154785156')\n",
      "1\t0.2500691802144587\t274\tL\tTrue\t(4, 4, 'L', '132.10121154785156')\n",
      "1\t0.2500691802144587\t274\tL\tTrue\t(8, 8, 'L', '132.10121154785156')\n",
      "1\t0.2500691802144587\t274\tL\tTrue\t(10, 10, 'L', '132.10121154785156')\n",
      "1\t0.2500691802144587\t274\tL\tTrue\t(11, 11, 'L', '132.10121154785156')\n",
      "1\t0.2500691802144587\t274\tL\tTrue\t(13, 13, 'L', '132.10121154785156')\n",
      "1\t0.2500691802144587\t274\tL\tTrue\t(14, 14, 'L', '132.10121154785156')\n",
      "1\t0.2500691802144587\t274\tL\tTrue\t(16, 16, 'L', '132.10121154785156')\n",
      "1\t0.2500691802144587\t274\tL\tTrue\t(30, 30, 'L', '132.10121154785156')\n",
      "1\t0.2500691802144587\t274\tL\tTrue\t(35, 35, 'L', '132.10121154785156')\n",
      "1\t0.2500691802144587\t274\tL\tTrue\t(39, 39, 'L', '132.10121154785156')\n",
      "1\t0.2500691802144587\t274\tL\tTrue\t(41, 41, 'L', '132.10121154785156')\n",
      "1\t0.2500691802144587\t274\tL\tTrue\t(66, 66, 'L', '132.10121154785156')\n",
      "1\t0.2500691802144587\t274\tL\tTrue\t(75, 75, 'L', '132.10121154785156')\n",
      "1\t0.2500691802144587\t274\tL\tTrue\t(78, 78, 'L', '132.10121154785156')\n",
      "1\t0.2500691802144587\t274\tL\tTrue\t(80, 80, 'L', '132.10121154785156')\n",
      "1\t0.2500691802144587\t274\tI\tFalse\t(89, 89, 'I', '132.10121154785156')\n",
      "1\t0.2500691802144587\t274\tI\tFalse\t(97, 97, 'I', '132.10121154785156')\n",
      "1\t0.2500691802144587\t274\tL\tTrue\t(100, 100, 'L', '132.10121154785156')\n",
      "1\t0.2500691802144587\t274\tL\tTrue\t(103, 103, 'L', '132.10121154785156')\n",
      "1\t0.2016722408026756\t274\tLC\tFalse\t(30, 31, 'LC', '235.1075439453125')\n",
      "1\t0.2016722408026756\t274\tIC\tFalse\t(97, 98, 'IC', '235.1075439453125')\n",
      "1\t0.20098522167487687\t274\tSP\tFalse\t(71, 72, 'SP', '102.05448913574219')\n",
      "1\t0.20042390843577787\t274\tLE\tFalse\t(66, 67, 'LE', '261.1429443359375')\n",
      "1\t0.20042390843577787\t274\tLE\tFalse\t(80, 81, 'LE', '261.1429443359375')\n",
      "1\t0.20042390843577787\t274\tLE\tFalse\t(103, 104, 'LE', '261.1429443359375')\n",
      "1\t0.10271002710027101\t274\tEALYLVC\tFalse\t(37, 43, 'EALYLVC', '810.3919677734375')\n"
     ]
    }
   ],
   "source": [
    "# y_hits\n",
    "y_target_clusters = []\n",
    "for cluster in y_sorted_clusters:\n",
    "    if cluster.pid == target_pid:\n",
    "        y_target_clusters.append(cluster)\n",
    "\n",
    "for cluster in y_target_clusters:\n",
    "    assessment, _ = testing_utils.is_good_hit(cluster.seq, 'y', correct_sequence)\n",
    "    non_indices = str(cluster.score) + '\\t' + str(cluster.post_prob) + '\\t' + str(cluster.pid) + '\\t' + cluster.seq + '\\t' + str(assessment)\n",
    "    print(non_indices + '\\t'+ '\\t'.join([str(o) for o in cluster.indices]))"
   ]
  },
  {
   "cell_type": "markdown",
   "id": "7f3947d1",
   "metadata": {},
   "source": [
    "# Finding non-hybrid interesting Combos"
   ]
  },
  {
   "cell_type": "code",
   "execution_count": 10,
   "id": "28d0718a",
   "metadata": {},
   "outputs": [],
   "source": [
    "def get_top(b_clusters, y_clusters, top_num):\n",
    "    filtered_b = []\n",
    "    filtered_y = []\n",
    "    b_len = top_num if len(b_clusters) >= top_num else len(b_clusters)\n",
    "    y_len = top_num if len(y_clusters) >= top_num else len(y_clusters)\n",
    "    for x in range(0,b_len):\n",
    "        filtered_b.append(b_clusters[x])\n",
    "    for x in range(0,y_len):\n",
    "        filtered_y.append(y_clusters[x])\n",
    "    return filtered_b, filtered_y"
   ]
  },
  {
   "cell_type": "code",
   "execution_count": 11,
   "id": "153e3904",
   "metadata": {},
   "outputs": [
    {
     "ename": "SyntaxError",
     "evalue": "invalid syntax (<ipython-input-11-0cc46c058e3e>, line 3)",
     "output_type": "error",
     "traceback": [
      "\u001b[0;36m  File \u001b[0;32m\"<ipython-input-11-0cc46c058e3e>\"\u001b[0;36m, line \u001b[0;32m3\u001b[0m\n\u001b[0;31m    target_precursor =\u001b[0m\n\u001b[0m                       ^\u001b[0m\n\u001b[0;31mSyntaxError\u001b[0m\u001b[0;31m:\u001b[0m invalid syntax\n"
     ]
    }
   ],
   "source": [
    "# b side starting. Ideally, we would probably pick the higher scoring side to start\n",
    "filtered_b, filtered_y = get_top(b_target_clusters, y_target_clusters, 50)\n",
    "target_precursor = \n",
    "#Start with printing overlapping. Then will incorportate boundary overlaps between last of b and first of y\n",
    "for b_cluster in filtered_b:\n",
    "    interesting_combos = []\n",
    "    for y_cluster in filtered_y:\n",
    "        if b_cluster.start <= y_cluster.end:\n",
    "            interesting_combos.append(b_cluster.seq + '-' + y_cluster.seq)\n",
    "    print(interesting_combos)\n",
    "# # Calculating start and end indices for each interval\n",
    "# for b_cluster in filtered_b:\n",
    "#     interesting_combos = []\n",
    "#     b_index_set = set()\n",
    "#     for index in b_cluster.indices:\n",
    "#         index = index.replace('(', '')\n",
    "#         index = index.replace(')', '')\n",
    "#         A = index.rstrip().split(',')\n",
    "#         b_index_set.add(int(A[0]))\n",
    "#         b_index_set.add(int(A[1]))\n",
    "    \n",
    "#     b_start_pos = min(b_index_set)\n",
    "#     b_end_pos = max(b_index_set)\n",
    "    \n",
    "#     for y_cluster in filtered_y:\n",
    "#         y_index_set = set()\n",
    "#         for index in y_cluster.indices:\n",
    "#             index = index.replace('(', '')\n",
    "#             index = index.replace(')', '')\n",
    "#             A = index.rstrip().split(',')\n",
    "#             y_index_set.add(int(A[0]))\n",
    "#             y_index_set.add(int(A[1]))\n",
    "            \n",
    "#         y_start_pos = min(y_index_set)\n",
    "#         y_end_pos = max(y_index_set)\n",
    "        \n",
    "#         if (b_start_pos <= y_start_pos) and (b_end_pos == y_start_pos - 1):\n",
    "#             interesting_combos.append(b_cluster)\n",
    "#             interesting_combos.append(y_cluster)\n",
    "    \n",
    "#     print(interesting_combos)"
   ]
  },
  {
   "cell_type": "code",
   "execution_count": null,
   "id": "9c512d67",
   "metadata": {},
   "outputs": [],
   "source": [
    " "
   ]
  }
 ],
 "metadata": {
  "kernelspec": {
   "display_name": "Python 3",
   "language": "python",
   "name": "python3"
  },
  "language_info": {
   "codemirror_mode": {
    "name": "ipython",
    "version": 3
   },
   "file_extension": ".py",
   "mimetype": "text/x-python",
   "name": "python",
   "nbconvert_exporter": "python",
   "pygments_lexer": "ipython3",
   "version": "3.7.10"
  }
 },
 "nbformat": 4,
 "nbformat_minor": 5
}

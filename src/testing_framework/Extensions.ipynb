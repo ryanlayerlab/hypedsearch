{
 "cells": [
  {
   "cell_type": "markdown",
   "id": "b350d988",
   "metadata": {},
   "source": [
    "# Extensions\n",
    "\n",
    "The purpose of this notebook is to test everything related to generating extensions among hits"
   ]
  },
  {
   "cell_type": "code",
   "execution_count": 1,
   "id": "1963fedc",
   "metadata": {},
   "outputs": [],
   "source": [
    "import os\n",
    "import sys\n",
    "\n",
    "module_path = os.path.abspath(os.path.join('..'))\n",
    "if module_path not in sys.path:\n",
    "    sys.path.append(module_path)\n",
    "module_path = os.path.abspath(os.path.join('..', 'hypedsearch', 'src'))\n",
    "if module_path not in sys.path:\n",
    "    sys.path.append(module_path)\n",
    "    \n",
    "import testing_utils\n",
    "import database\n",
    "\n",
    "import operator\n",
    "\n",
    "ppm_tolerance = 20\n",
    "max_peptide_length = 20\n",
    "\n",
    "import matplotlib.pyplot as plt"
   ]
  },
  {
   "cell_type": "code",
   "execution_count": 2,
   "id": "1adbddf4",
   "metadata": {},
   "outputs": [
    {
     "name": "stdout",
     "output_type": "stream",
     "text": [
      "Loading spectra...\n",
      "Done\n"
     ]
    }
   ],
   "source": [
    "datasets = testing_utils.define_data()\n",
    "\n",
    "dataset = datasets[0]\n",
    "\n",
    "input_spectra_path = dataset[0]\n",
    "input_spectra, boundaries = testing_utils.preprocess_input_spectra(input_spectra_path, ppm_tolerance)\n",
    "\n",
    "correct_sequences = testing_utils.generate_truth_set(datasets[0])\n",
    "\n",
    "path = dataset[2]\n",
    "db = database.build(path)"
   ]
  },
  {
   "cell_type": "code",
   "execution_count": 3,
   "id": "a61567a9",
   "metadata": {},
   "outputs": [
    {
     "name": "stdout",
     "output_type": "stream",
     "text": [
      "On protein 279/279 [100%]\n",
      "Sorting the set of protein masses...\n",
      "Sorting the set of protein masses done\n",
      "Performing Merge\n",
      "Done\n",
      "Finished matching masses\n"
     ]
    }
   ],
   "source": [
    "matched_masses_b, matched_masses_y, database = testing_utils.modified_match_masses(boundaries, db, max_peptide_length)\n",
    "# matched_masses_b, matched_masses_y, database = match_masses(boundaries, db, max_peptide_length)\n",
    "print('Finished matching masses')"
   ]
  },
  {
   "cell_type": "markdown",
   "id": "339a6532",
   "metadata": {},
   "source": [
    "# Getting initial hits"
   ]
  },
  {
   "cell_type": "code",
   "execution_count": 24,
   "id": "eeeed96c",
   "metadata": {},
   "outputs": [
    {
     "name": "stdout",
     "output_type": "stream",
     "text": [
      "DGPVQGTIHFEQKASGEPVVLSGQITGLTEGQHGFHVHQYG\n"
     ]
    }
   ],
   "source": [
    "spectrum_num = 100\n",
    "\n",
    "correct_sequence = correct_sequences[spectrum_num]\n",
    "print(correct_sequence)\n",
    "\n",
    "input_spectrum = input_spectra[spectrum_num]"
   ]
  },
  {
   "cell_type": "code",
   "execution_count": 25,
   "id": "43241d60",
   "metadata": {},
   "outputs": [
    {
     "name": "stdout",
     "output_type": "stream",
     "text": [
      "Done\n"
     ]
    }
   ],
   "source": [
    "b_hits, y_hits, b_set, y_set, misses = testing_utils.find_hits(boundaries, input_spectrum, spectrum_num, matched_masses_b, matched_masses_y)\n",
    "correct_hits = testing_utils.append_correct_hits(correct_sequence, input_spectrum, ppm_tolerance)\n",
    "testing_utils.write_hits(b_hits, y_hits)\n",
    "ion = 'b'\n",
    "testing_utils.create_clusters(ion)\n",
    "b_sorted_clusters = testing_utils.sort_clusters_by_post_prob(ion, boundaries, matched_masses_b, matched_masses_y)\n",
    "ion = 'y'\n",
    "testing_utils.create_clusters(ion)\n",
    "y_sorted_clusters = testing_utils.sort_clusters_by_post_prob(ion, boundaries, matched_masses_b, matched_masses_y)"
   ]
  },
  {
   "cell_type": "markdown",
   "id": "fa96fc44",
   "metadata": {},
   "source": [
    "# Printing hits"
   ]
  },
  {
   "cell_type": "code",
   "execution_count": 26,
   "id": "00538a18",
   "metadata": {},
   "outputs": [
    {
     "name": "stdout",
     "output_type": "stream",
     "text": [
      "0.4825931870875691 3 GSQANS\n",
      "0.46677821156348764 3 GSQFFICT\n",
      "0.4510763209393346 3 PVGSPSR\n",
      "0.4305324715297014 3 SGQADDERVREYHLL\n",
      "0.42809046908769893 3 GSGAVALCPE\n",
      "0.42769607843137253 3 GSQYRVESMMLRIAKPM\n",
      "0.42769607843137253 3 ANSWNLDWGDNGFFKIL\n",
      "0.42649162917619293 3 GQGQSPSIRQ\n",
      "0.42497691597414583 3 QGSPVVQMAEDAVDGER\n",
      "0.4223938223938224 3 QGSPGAWAPLDPTSGSSA\n",
      "0.42117433930093773 3 GQSTVPPCTASPEPVKAAEQ\n",
      "0.416856336932205 3 GSQMEDARRPAEPSLGGLPQ\n",
      "0.4107948442534909 3 GSAGLMLVEFFAPWCG\n",
      "0.3996786444639205 3 PVPVDCSDEAGNSALQLA\n",
      "0.3744369369369369 3 SNSQQAYQEAFEI\n",
      "0.3462974111980735 3 GQVLPEMEIHLQTDAKKGT\n",
      "0.3142857142857143 3 GSPGSAGLVQHLEEYAAT\n",
      "0.31201298701298696 3 SSNGFLIDGYPREVKQGE\n",
      "0.30300736790803023 3 VPEMKPSMFDVSRELGSSV\n",
      "0.2988665811585478 3 GQVRLTYSTGESNTVVSPTV\n",
      "0.17540849673202613 3 IFVGTPYYGYVYEDTLP\n",
      "0.15911553616661975 3 QVNQSLASMPPMNPATTLP\n",
      "0.14827579466745225 3 MAEVDAAMAARPHSIDGRVV\n",
      "0.3698769395398609 2 GQS\n",
      "0.3698769395398609 2 QGS\n",
      "0.3698769395398609 2 GQS\n",
      "0.3698769395398609 2 NAS\n",
      "0.3698769395398609 2 QGS\n",
      "0.3698769395398609 2 SGQ\n",
      "0.3698769395398609 2 GSQ\n",
      "0.3698769395398609 2 ANS\n",
      "0.3698769395398609 2 QGS\n",
      "0.3698769395398609 2 GQS\n",
      "0.3698769395398609 2 NAS\n",
      "0.3698769395398609 2 SGQ\n",
      "0.3698769395398609 2 SGQ\n",
      "0.3698769395398609 2 GQS\n",
      "0.3698769395398609 2 SGQ\n",
      "0.3698769395398609 2 GQS\n",
      "0.3698769395398609 2 GSQ\n",
      "0.3698769395398609 2 QGS\n",
      "0.3698769395398609 2 SGQ\n",
      "0.3698769395398609 2 SGQ\n",
      "0.3698769395398609 2 GQS\n",
      "0.3698769395398609 2 NAS\n",
      "0.3698769395398609 2 NAS\n",
      "0.3698769395398609 2 SGQ\n",
      "0.3698769395398609 2 GQS\n",
      "0.3698769395398609 2 ANS\n",
      "0.3698769395398609 2 QGS\n"
     ]
    }
   ],
   "source": [
    "# b_sorted_clusters = sorted(b_sorted_clusters, key=operator.attrgetter('post_prob', 'score', 'pid', 'prior'), reverse = True)\n",
    "b_sorted_clusters = sorted(b_sorted_clusters, key=operator.attrgetter('score', 'post_prob', 'pid', 'prior'), reverse = True)\n",
    "testing_utils.write_b_sorted_cluster(b_sorted_clusters)\n",
    "for i in range(0, 50):\n",
    "    x = b_sorted_clusters[i]\n",
    "    post_prob = x.post_prob\n",
    "    score = x.score\n",
    "    seq = x.seq\n",
    "    indices = x.indices\n",
    "    print(post_prob, score, seq)"
   ]
  },
  {
   "cell_type": "code",
   "execution_count": 27,
   "id": "f7e39bb6",
   "metadata": {},
   "outputs": [
    {
     "name": "stdout",
     "output_type": "stream",
     "text": [
      "0.41561085972850675 3 YEAGEKRWGTDEVK\n",
      "0.39088600688323677 3 SRPCTPPQ\n",
      "0.387228531579996 3 DVHPSDLKPKGDDKDPSK\n",
      "0.3844489981785064 3 GLGNKTYEHFNAMGK\n",
      "0.35945075380221825 3 GRPSGEAFVELESEDEVK\n",
      "0.3586080586080586 3 VVWTSEYDPLASNPGWKK\n",
      "0.35402930402930405 3 VCPTEIIAFSDHAEDFRK\n",
      "0.35402930402930405 3 VTVTVLDVNDNRPEFTMK\n",
      "0.18003292889544734 3 TGLTEGQHGFHVHQYG\n",
      "0.44019607843137254 2 FVK\n",
      "0.44019607843137254 2 VFK\n",
      "0.44019607843137254 2 FVK\n",
      "0.44019607843137254 2 VFK\n",
      "0.44019607843137254 2 FVK\n",
      "0.44019607843137254 2 FVK\n",
      "0.44019607843137254 2 VFK\n",
      "0.44019607843137254 2 FVK\n",
      "0.44019607843137254 2 FVK\n",
      "0.44019607843137254 2 FVK\n",
      "0.44019607843137254 2 FVK\n",
      "0.44019607843137254 2 VFK\n",
      "0.44019607843137254 2 FVK\n",
      "0.44019607843137254 2 FVK\n",
      "0.44019607843137254 2 FVK\n",
      "0.44019607843137254 2 VFK\n",
      "0.44019607843137254 2 FVK\n",
      "0.44019607843137254 2 FVK\n",
      "0.44019607843137254 2 FVK\n",
      "0.44019607843137254 2 FVK\n",
      "0.44019607843137254 2 FVK\n",
      "0.44019607843137254 2 FVK\n",
      "0.44019607843137254 2 VFK\n",
      "0.44019607843137254 2 VFK\n",
      "0.44019607843137254 2 FVK\n",
      "0.44019607843137254 2 FVK\n",
      "0.44019607843137254 2 FVK\n",
      "0.44019607843137254 2 FVK\n",
      "0.44019607843137254 2 VFK\n",
      "0.44019607843137254 2 FVK\n",
      "0.44019607843137254 2 FVK\n",
      "0.3818493150684932 2 EYIEK\n",
      "0.3818493150684932 2 YEEIK\n",
      "0.3818493150684932 2 YEIEK\n",
      "0.3818493150684932 2 EEIYK\n",
      "0.3679604261796043 2 VAYNSK\n",
      "0.3679604261796043 2 GLNSYK\n",
      "0.3679604261796043 2 GSYNIK\n",
      "0.3679604261796043 2 KSDFGK\n",
      "0.3679604261796043 2 VAYNSK\n",
      "0.36665127731609726 2 NQFWYK\n"
     ]
    }
   ],
   "source": [
    "testing_utils.write_y_sorted_cluster(y_sorted_clusters)  \n",
    "# y_sorted_clusters = sorted(y_sorted_clusters, key=operator.attrgetter('post_prob', 'score', 'pid', 'prior'), reverse = True)\n",
    "y_sorted_clusters = sorted(y_sorted_clusters, key=operator.attrgetter('score', 'post_prob', 'pid', 'prior'), reverse = True)\n",
    "for i in range(0, 50):\n",
    "    x = y_sorted_clusters[i]\n",
    "    post_prob = x.post_prob\n",
    "    score = x.score\n",
    "    seq = x.seq\n",
    "    indices = x.indices\n",
    "    print(post_prob, score, seq)"
   ]
  },
  {
   "cell_type": "markdown",
   "id": "2096e4c4",
   "metadata": {},
   "source": [
    "# To Filter data by parent prot\n",
    "\n",
    "I want to be able to only view the b or y hits from a certain protein"
   ]
  },
  {
   "cell_type": "code",
   "execution_count": 28,
   "id": "67fbf91e",
   "metadata": {},
   "outputs": [
    {
     "name": "stdout",
     "output_type": "stream",
     "text": [
      "1\t0.20083892617449667\t274\tGS\tFalse\t(70, 71, 'GS', '145.0601806640625')\n",
      "1\t0.14363173619564013\t274\tLCGP\tFalse\t(30, 33, 'LCGP', '186.08746337890625')\n",
      "1\t0.11385083713850837\t274\tEPKPTQ\tFalse\t(18, 23, 'EPKPTQ', '341.1816101074219')\n",
      "1\t0.07366570789389582\t274\tLGGSPGDLQTL\tFalse\t(68, 78, 'LGGSPGDLQTL', '1039.521484375')\n",
      "1\t0.048765803732691154\t274\tRREVEDPQVEQLELGGSPG\tFalse\t(55, 73, 'RREVEDPQVEQLELGGSPG', '1039.0203857421875')\n",
      "1\t0.04772727272727273\t274\tDPQVEQLELGGSPGDLQTL\tFalse\t(60, 78, 'DPQVEQLELGGSPGDLQTL', '989.4848022460938')\n"
     ]
    }
   ],
   "source": [
    "# b_hits\n",
    "target_pid = 274\n",
    "b_target_clusters = []\n",
    "for cluster in b_sorted_clusters:\n",
    "    if cluster.pid == target_pid:\n",
    "        b_target_clusters.append(cluster)\n",
    "\n",
    "for cluster in b_target_clusters:\n",
    "    assessment, _ = testing_utils.is_good_hit(cluster.seq, 'b', correct_sequence)\n",
    "    non_indices = str(cluster.score) + '\\t' + str(cluster.post_prob) + '\\t' + str(cluster.pid) + '\\t' + cluster.seq + '\\t' + str(assessment)\n",
    "    print(non_indices + '\\t'+ '\\t'.join([str(o) for o in cluster.indices]))\n"
   ]
  },
  {
   "cell_type": "code",
   "execution_count": 29,
   "id": "c8efcc2f",
   "metadata": {},
   "outputs": [
    {
     "name": "stdout",
     "output_type": "stream",
     "text": [
      "2\t0.44019607843137254\t274\tFVK\tFalse\t(25, 27, 'FVK', '197.12884521484375')\t(27, 27, 'K', '74.06013488769531')\n",
      "1\t0.25015087507543754\t274\tK\tFalse\t(20, 20, 'K', '74.06013488769531')\n",
      "1\t0.25015087507543754\t274\tK\tFalse\t(53, 53, 'K', '74.06013488769531')\n",
      "1\t0.25015087507543754\t274\tK\tFalse\t(86, 86, 'K', '74.06013488769531')\n",
      "1\t0.11453576864535768\t274\tALYLVC\tFalse\t(38, 43, 'ALYLVC', '341.1816101074219')\n",
      "1\t0.06428801028608165\t274\tEALYLVCGERGFFY\tFalse\t(37, 50, 'EALYLVCGERGFFY', '833.8908081054688')\n",
      "1\t0.05867082035306334\t274\tEALYLVCGERGFFYT\tFalse\t(37, 51, 'EALYLVCGERGFFYT', '884.4120483398438')\n",
      "1\t0.054694835680751175\t274\tVEDPQVEQLELGGSPGD\tFalse\t(58, 74, 'VEDPQVEQLELGGSPGD', '884.9159545898438')\n",
      "1\t0.05128205128205128\t274\tLVEALYLVCGERGFFYTP\tFalse\t(35, 52, 'LVEALYLVCGERGFFYTP', '1039.0203857421875')\n"
     ]
    }
   ],
   "source": [
    "# y_hits\n",
    "y_target_clusters = []\n",
    "for cluster in y_sorted_clusters:\n",
    "    if cluster.pid == target_pid:\n",
    "        y_target_clusters.append(cluster)\n",
    "\n",
    "for cluster in y_target_clusters:\n",
    "    assessment, _ = testing_utils.is_good_hit(cluster.seq, 'y', correct_sequence)\n",
    "    non_indices = str(cluster.score) + '\\t' + str(cluster.post_prob) + '\\t' + str(cluster.pid) + '\\t' + cluster.seq + '\\t' + str(assessment)\n",
    "    print(non_indices + '\\t'+ '\\t'.join([str(o) for o in cluster.indices]))"
   ]
  },
  {
   "cell_type": "markdown",
   "id": "7f3947d1",
   "metadata": {},
   "source": [
    "# Finding non-hybrid interesting Combos"
   ]
  },
  {
   "cell_type": "code",
   "execution_count": 30,
   "id": "28d0718a",
   "metadata": {},
   "outputs": [],
   "source": [
    "def get_top(b_clusters, y_clusters, top_num):\n",
    "    filtered_b = []\n",
    "    filtered_y = []\n",
    "    b_len = top_num if len(b_clusters) >= top_num else len(b_clusters)\n",
    "    y_len = top_num if len(y_clusters) >= top_num else len(y_clusters)\n",
    "    for x in range(0,b_len):\n",
    "        filtered_b.append(b_clusters[x])\n",
    "    for x in range(0,y_len):\n",
    "        filtered_y.append(y_clusters[x])\n",
    "    return filtered_b, filtered_y"
   ]
  },
  {
   "cell_type": "code",
   "execution_count": 31,
   "id": "153e3904",
   "metadata": {
    "scrolled": true
   },
   "outputs": [
    {
     "name": "stdout",
     "output_type": "stream",
     "text": [
      "['GS-K', 'GS-VEDPQVEQLELGGSPGD']\n",
      "['LCGP-K', 'LCGP-K', 'LCGP-ALYLVC', 'LCGP-EALYLVCGERGFFY', 'LCGP-EALYLVCGERGFFYT', 'LCGP-VEDPQVEQLELGGSPGD', 'LCGP-LVEALYLVCGERGFFYTP']\n",
      "['EPKPTQ-FVK', 'EPKPTQ-K', 'EPKPTQ-K', 'EPKPTQ-K', 'EPKPTQ-ALYLVC', 'EPKPTQ-EALYLVCGERGFFY', 'EPKPTQ-EALYLVCGERGFFYT', 'EPKPTQ-VEDPQVEQLELGGSPGD', 'EPKPTQ-LVEALYLVCGERGFFYTP']\n",
      "['LGGSPGDLQTL-K', 'LGGSPGDLQTL-VEDPQVEQLELGGSPGD']\n",
      "['RREVEDPQVEQLELGGSPG-K', 'RREVEDPQVEQLELGGSPG-VEDPQVEQLELGGSPGD']\n",
      "['DPQVEQLELGGSPGDLQTL-K', 'DPQVEQLELGGSPGDLQTL-VEDPQVEQLELGGSPGD']\n"
     ]
    }
   ],
   "source": [
    "# b side starting. Ideally, we would probably pick the higher scoring side to start\n",
    "filtered_b, filtered_y = get_top(b_target_clusters, y_target_clusters, 50)\n",
    "target_precursor = input_spectrum.precursor_mass\n",
    "#Start with printing overlapping. Then will incorportate boundary overlaps between last of b and first of y\n",
    "for b_cluster in filtered_b:\n",
    "    interesting_combos = []\n",
    "    for y_cluster in filtered_y:\n",
    "        if b_cluster.start <= y_cluster.end:\n",
    "            interesting_combos.append(b_cluster.seq + '-' + y_cluster.seq)\n",
    "    print(interesting_combos)\n",
    "# # Calculating start and end indices for each interval\n",
    "# for b_cluster in filtered_b:\n",
    "#     interesting_combos = []\n",
    "#     b_index_set = set()\n",
    "#     for index in b_cluster.indices:\n",
    "#         index = index.replace('(', '')\n",
    "#         index = index.replace(')', '')\n",
    "#         A = index.rstrip().split(',')\n",
    "#         b_index_set.add(int(A[0]))\n",
    "#         b_index_set.add(int(A[1]))\n",
    "    \n",
    "#     b_start_pos = min(b_index_set)\n",
    "#     b_end_pos = max(b_index_set)\n",
    "    \n",
    "#     for y_cluster in filtered_y:\n",
    "#         y_index_set = set()\n",
    "#         for index in y_cluster.indices:\n",
    "#             index = index.replace('(', '')\n",
    "#             index = index.replace(')', '')\n",
    "#             A = index.rstrip().split(',')\n",
    "#             y_index_set.add(int(A[0]))\n",
    "#             y_index_set.add(int(A[1]))\n",
    "            \n",
    "#         y_start_pos = min(y_index_set)\n",
    "#         y_end_pos = max(y_index_set)\n",
    "        \n",
    "#         if (b_start_pos <= y_start_pos) and (b_end_pos == y_start_pos - 1):\n",
    "#             interesting_combos.append(b_cluster)\n",
    "#             interesting_combos.append(y_cluster)\n",
    "    \n",
    "#     print(interesting_combos)"
   ]
  },
  {
   "cell_type": "markdown",
   "id": "90dbdbcb",
   "metadata": {},
   "source": [
    "# Finding optimal \"hybrid\" combos\n",
    "\n",
    "* Hybrid is in quotation marks because all outputs will be a hybrid and then we can check if it is a non-hybrid"
   ]
  },
  {
   "cell_type": "code",
   "execution_count": 32,
   "id": "ea3189ee",
   "metadata": {},
   "outputs": [],
   "source": [
    "def parse_indices(index_set):\n",
    "    indices = []\n",
    "    for index in index_set:\n",
    "        string = str(index)\n",
    "        A = string.rstrip().split(',')\n",
    "        start = A[0]\n",
    "        end = A[1]\n",
    "        seq = A[2]\n",
    "        mz = A[3]\n",
    "        disallowed_characters = \" ()\\'\"\n",
    "        for character in disallowed_characters:\n",
    "            start = start.replace(character, \"\")\n",
    "            end = end.replace(character, \"\")\n",
    "            seq = seq.replace(character, \"\")\n",
    "            mz = mz.replace(character, \"\")\n",
    "        \n",
    "        target_tuple = (int(start), int(end), seq, float(mz))\n",
    "        indices.append(target_tuple)\n",
    "    \n",
    "    \n",
    "    return indices\n",
    "\n",
    "def calc_combined_score(b_indices, y_indices, b_score, y_score):\n",
    "    masses = []\n",
    "    combined_score = 0\n",
    "    for index in b_indices:\n",
    "        current_mass = float(index[3])\n",
    "        if current_mass not in masses:\n",
    "            masses.append(current_mass)\n",
    "            combined_score = combined_score + 1\n",
    "        else:\n",
    "            combined_score = combined_score - 2\n",
    "    for index in y_indices:\n",
    "        current_mass = float(index[3])\n",
    "        if current_mass not in masses:\n",
    "            masses.append(current_mass)\n",
    "            combined_score = combined_score + 1\n",
    "        else:\n",
    "            combined_score = combined_score - 2\n",
    "    return combined_score"
   ]
  },
  {
   "cell_type": "code",
   "execution_count": 33,
   "id": "d6060042",
   "metadata": {},
   "outputs": [
    {
     "name": "stdout",
     "output_type": "stream",
     "text": [
      "[('GSQFFICT-GLGNKTYEHFNAMGK', 6), ('GSQFFICT-VVWTSEYDPLASNPGWKK', 6), ('GSQFFICT-VTVTVLDVNDNRPEFTMK', 6), ('SGQADDERVREYHLL-GLGNKTYEHFNAMGK', 6), ('SGQADDERVREYHLL-VVWTSEYDPLASNPGWKK', 6), ('SGQADDERVREYHLL-VTVTVLDVNDNRPEFTMK', 6), ('GSGAVALCPE-GLGNKTYEHFNAMGK', 6), ('GSGAVALCPE-GRPSGEAFVELESEDEVK', 6), ('GSGAVALCPE-VVWTSEYDPLASNPGWKK', 6), ('GSGAVALCPE-VCPTEIIAFSDHAEDFRK', 6), ('GSGAVALCPE-VTVTVLDVNDNRPEFTMK', 6), ('ANSWNLDWGDNGFFKIL-VVWTSEYDPLASNPGWKK', 6), ('QGSPGAWAPLDPTSGSSA-GLGNKTYEHFNAMGK', 6), ('QGSPGAWAPLDPTSGSSA-VVWTSEYDPLASNPGWKK', 6), ('QGSPGAWAPLDPTSGSSA-VCPTEIIAFSDHAEDFRK', 6), ('QGSPGAWAPLDPTSGSSA-VTVTVLDVNDNRPEFTMK', 6), ('QGSPGAWAPLDPTSGSSA-TGLTEGQHGFHVHQYG', 6), ('GSAGLMLVEFFAPWCG-GRPSGEAFVELESEDEVK', 6), ('GSAGLMLVEFFAPWCG-VVWTSEYDPLASNPGWKK', 6), ('GSAGLMLVEFFAPWCG-VCPTEIIAFSDHAEDFRK', 6), ('GSAGLMLVEFFAPWCG-VTVTVLDVNDNRPEFTMK', 6), ('SNSQQAYQEAFEI-VVWTSEYDPLASNPGWKK', 6), ('SNSQQAYQEAFEI-VTVTVLDVNDNRPEFTMK', 6), ('GQVLPEMEIHLQTDAKKGT-GLGNKTYEHFNAMGK', 6), ('GQVLPEMEIHLQTDAKKGT-VTVTVLDVNDNRPEFTMK', 6), ('SSNGFLIDGYPREVKQGE-GLGNKTYEHFNAMGK', 6), ('SSNGFLIDGYPREVKQGE-VTVTVLDVNDNRPEFTMK', 6), ('VPEMKPSMFDVSRELGSSV-VTVTVLDVNDNRPEFTMK', 6), ('IFVGTPYYGYVYEDTLP-VVWTSEYDPLASNPGWKK', 6), ('QVNQSLASMPPMNPATTLP-VVWTSEYDPLASNPGWKK', 6), ('MAEVDAAMAARPHSIDGRVV-VVWTSEYDPLASNPGWKK', 6), ('GSQFFICT-FVK', 5), ('GSQFFICT-FVK', 5), ('GSQFFICT-FVK', 5), ('GSQFFICT-FVK', 5), ('GSQFFICT-FVK', 5), ('GSQFFICT-VFK', 5), ('GSQFFICT-FVK', 5), ('GSQFFICT-FVK', 5), ('GSQFFICT-FVK', 5), ('GSQFFICT-FVK', 5), ('GSQFFICT-FVK', 5), ('GSQFFICT-FVK', 5), ('GSQFFICT-FVK', 5), ('GSQFFICT-FVK', 5), ('GSQFFICT-VFK', 5), ('GSQFFICT-FVK', 5), ('GSQFFICT-FVK', 5), ('GSQFFICT-FVK', 5), ('GSQFFICT-FVK', 5), ('GSQFFICT-FVK', 5), ('GSQFFICT-YEEIK', 5), ('GSQFFICT-YEIEK', 5), ('GSQFFICT-VAYNSK', 5), ('GSQFFICT-GSYNIK', 5), ('GSQFFICT-VAYNSK', 5), ('GSQFFICT-NQFWYK', 5), ('SGQADDERVREYHLL-FVK', 5), ('SGQADDERVREYHLL-FVK', 5), ('SGQADDERVREYHLL-FVK', 5), ('SGQADDERVREYHLL-FVK', 5), ('SGQADDERVREYHLL-FVK', 5), ('SGQADDERVREYHLL-VFK', 5), ('SGQADDERVREYHLL-FVK', 5), ('SGQADDERVREYHLL-FVK', 5), ('SGQADDERVREYHLL-FVK', 5), ('SGQADDERVREYHLL-FVK', 5), ('SGQADDERVREYHLL-FVK', 5), ('SGQADDERVREYHLL-VFK', 5), ('SGQADDERVREYHLL-FVK', 5), ('SGQADDERVREYHLL-FVK', 5), ('SGQADDERVREYHLL-YEEIK', 5), ('SGQADDERVREYHLL-YEIEK', 5), ('SGQADDERVREYHLL-VAYNSK', 5), ('SGQADDERVREYHLL-VAYNSK', 5), ('GSGAVALCPE-VFK', 5), ('GSGAVALCPE-FVK', 5), ('GSGAVALCPE-FVK', 5), ('GSGAVALCPE-FVK', 5), ('GSGAVALCPE-FVK', 5), ('GSGAVALCPE-FVK', 5), ('GSGAVALCPE-FVK', 5), ('GSGAVALCPE-VFK', 5), ('GSGAVALCPE-FVK', 5), ('GSGAVALCPE-FVK', 5), ('GSGAVALCPE-VFK', 5), ('GSGAVALCPE-FVK', 5), ('GSGAVALCPE-FVK', 5), ('GSGAVALCPE-FVK', 5), ('GSGAVALCPE-FVK', 5), ('GSGAVALCPE-FVK', 5), ('GSGAVALCPE-FVK', 5), ('GSGAVALCPE-VFK', 5), ('GSGAVALCPE-VFK', 5), ('GSGAVALCPE-FVK', 5), ('GSGAVALCPE-FVK', 5), ('GSGAVALCPE-FVK', 5), ('GSGAVALCPE-VFK', 5), ('GSGAVALCPE-FVK', 5), ('GSGAVALCPE-FVK', 5), ('GSGAVALCPE-EYIEK', 5), ('GSGAVALCPE-YEEIK', 5), ('GSGAVALCPE-YEIEK', 5), ('GSGAVALCPE-EEIYK', 5), ('GSGAVALCPE-VAYNSK', 5), ('GSGAVALCPE-GLNSYK', 5), ('GSGAVALCPE-GSYNIK', 5), ('GSGAVALCPE-VAYNSK', 5), ('GSQYRVESMMLRIAKPM-FVK', 5), ('GSQYRVESMMLRIAKPM-YEEIK', 5), ('ANSWNLDWGDNGFFKIL-FVK', 5), ('ANSWNLDWGDNGFFKIL-FVK', 5), ('ANSWNLDWGDNGFFKIL-FVK', 5), ('ANSWNLDWGDNGFFKIL-FVK', 5), ('ANSWNLDWGDNGFFKIL-VFK', 5), ('ANSWNLDWGDNGFFKIL-FVK', 5), ('ANSWNLDWGDNGFFKIL-FVK', 5), ('ANSWNLDWGDNGFFKIL-FVK', 5), ('ANSWNLDWGDNGFFKIL-FVK', 5), ('ANSWNLDWGDNGFFKIL-FVK', 5), ('ANSWNLDWGDNGFFKIL-VFK', 5), ('ANSWNLDWGDNGFFKIL-FVK', 5), ('ANSWNLDWGDNGFFKIL-YEEIK', 5), ('ANSWNLDWGDNGFFKIL-YEIEK', 5), ('QGSPVVQMAEDAVDGER-FVK', 5), ('QGSPVVQMAEDAVDGER-FVK', 5), ('QGSPVVQMAEDAVDGER-FVK', 5), ('QGSPVVQMAEDAVDGER-YEEIK', 5), ('QGSPGAWAPLDPTSGSSA-FVK', 5), ('QGSPGAWAPLDPTSGSSA-VFK', 5), ('QGSPGAWAPLDPTSGSSA-FVK', 5), ('QGSPGAWAPLDPTSGSSA-VFK', 5), ('QGSPGAWAPLDPTSGSSA-FVK', 5), ('QGSPGAWAPLDPTSGSSA-FVK', 5), ('QGSPGAWAPLDPTSGSSA-VFK', 5), ('QGSPGAWAPLDPTSGSSA-FVK', 5), ('QGSPGAWAPLDPTSGSSA-FVK', 5), ('QGSPGAWAPLDPTSGSSA-FVK', 5), ('QGSPGAWAPLDPTSGSSA-FVK', 5), ('QGSPGAWAPLDPTSGSSA-VFK', 5), ('QGSPGAWAPLDPTSGSSA-FVK', 5), ('QGSPGAWAPLDPTSGSSA-FVK', 5), ('QGSPGAWAPLDPTSGSSA-FVK', 5), ('QGSPGAWAPLDPTSGSSA-VFK', 5), ('QGSPGAWAPLDPTSGSSA-FVK', 5), ('QGSPGAWAPLDPTSGSSA-FVK', 5), ('QGSPGAWAPLDPTSGSSA-FVK', 5), ('QGSPGAWAPLDPTSGSSA-FVK', 5), ('QGSPGAWAPLDPTSGSSA-FVK', 5), ('QGSPGAWAPLDPTSGSSA-FVK', 5), ('QGSPGAWAPLDPTSGSSA-VFK', 5), ('QGSPGAWAPLDPTSGSSA-VFK', 5), ('QGSPGAWAPLDPTSGSSA-FVK', 5), ('QGSPGAWAPLDPTSGSSA-FVK', 5), ('QGSPGAWAPLDPTSGSSA-FVK', 5), ('QGSPGAWAPLDPTSGSSA-FVK', 5), ('QGSPGAWAPLDPTSGSSA-VFK', 5), ('QGSPGAWAPLDPTSGSSA-FVK', 5), ('QGSPGAWAPLDPTSGSSA-FVK', 5), ('QGSPGAWAPLDPTSGSSA-EYIEK', 5), ('QGSPGAWAPLDPTSGSSA-YEEIK', 5), ('QGSPGAWAPLDPTSGSSA-YEIEK', 5), ('QGSPGAWAPLDPTSGSSA-EEIYK', 5), ('QGSPGAWAPLDPTSGSSA-VAYNSK', 5), ('QGSPGAWAPLDPTSGSSA-GLNSYK', 5), ('QGSPGAWAPLDPTSGSSA-GSYNIK', 5), ('QGSPGAWAPLDPTSGSSA-KSDFGK', 5), ('QGSPGAWAPLDPTSGSSA-VAYNSK', 5), ('QGSPGAWAPLDPTSGSSA-NQFWYK', 5), ('GQSTVPPCTASPEPVKAAEQ-FVK', 5), ('GQSTVPPCTASPEPVKAAEQ-VFK', 5), ('GQSTVPPCTASPEPVKAAEQ-FVK', 5), ('GQSTVPPCTASPEPVKAAEQ-FVK', 5), ('GQSTVPPCTASPEPVKAAEQ-FVK', 5), ('GQSTVPPCTASPEPVKAAEQ-FVK', 5), ('GQSTVPPCTASPEPVKAAEQ-YEEIK', 5), ('GSQMEDARRPAEPSLGGLPQ-FVK', 5), ('GSQMEDARRPAEPSLGGLPQ-FVK', 5), ('GSQMEDARRPAEPSLGGLPQ-FVK', 5), ('GSQMEDARRPAEPSLGGLPQ-YEEIK', 5), ('GSAGLMLVEFFAPWCG-VFK', 5), ('GSAGLMLVEFFAPWCG-FVK', 5), ('GSAGLMLVEFFAPWCG-VFK', 5), ('GSAGLMLVEFFAPWCG-FVK', 5), ('GSAGLMLVEFFAPWCG-FVK', 5), ('GSAGLMLVEFFAPWCG-VFK', 5), ('GSAGLMLVEFFAPWCG-FVK', 5), ('GSAGLMLVEFFAPWCG-FVK', 5), ('GSAGLMLVEFFAPWCG-FVK', 5), ('GSAGLMLVEFFAPWCG-VFK', 5), ('GSAGLMLVEFFAPWCG-FVK', 5), ('GSAGLMLVEFFAPWCG-FVK', 5), ('GSAGLMLVEFFAPWCG-VFK', 5), ('GSAGLMLVEFFAPWCG-FVK', 5), ('GSAGLMLVEFFAPWCG-FVK', 5), ('GSAGLMLVEFFAPWCG-FVK', 5), ('GSAGLMLVEFFAPWCG-FVK', 5), ('GSAGLMLVEFFAPWCG-FVK', 5), ('GSAGLMLVEFFAPWCG-FVK', 5), ('GSAGLMLVEFFAPWCG-VFK', 5), ('GSAGLMLVEFFAPWCG-VFK', 5), ('GSAGLMLVEFFAPWCG-FVK', 5), ('GSAGLMLVEFFAPWCG-FVK', 5), ('GSAGLMLVEFFAPWCG-FVK', 5), ('GSAGLMLVEFFAPWCG-VFK', 5), ('GSAGLMLVEFFAPWCG-FVK', 5), ('GSAGLMLVEFFAPWCG-FVK', 5), ('GSAGLMLVEFFAPWCG-EYIEK', 5), ('GSAGLMLVEFFAPWCG-YEEIK', 5), ('GSAGLMLVEFFAPWCG-YEIEK', 5), ('GSAGLMLVEFFAPWCG-EEIYK', 5), ('GSAGLMLVEFFAPWCG-VAYNSK', 5), ('GSAGLMLVEFFAPWCG-GLNSYK', 5), ('GSAGLMLVEFFAPWCG-GSYNIK', 5), ('GSAGLMLVEFFAPWCG-KSDFGK', 5), ('GSAGLMLVEFFAPWCG-VAYNSK', 5), ('GSAGLMLVEFFAPWCG-NQFWYK', 5), ('SNSQQAYQEAFEI-FVK', 5), ('SNSQQAYQEAFEI-FVK', 5), ('SNSQQAYQEAFEI-FVK', 5), ('SNSQQAYQEAFEI-FVK', 5), ('SNSQQAYQEAFEI-FVK', 5), ('SNSQQAYQEAFEI-VFK', 5), ('SNSQQAYQEAFEI-FVK', 5), ('SNSQQAYQEAFEI-FVK', 5), ('SNSQQAYQEAFEI-FVK', 5), ('SNSQQAYQEAFEI-FVK', 5), ('SNSQQAYQEAFEI-FVK', 5), ('SNSQQAYQEAFEI-FVK', 5), ('SNSQQAYQEAFEI-FVK', 5), ('SNSQQAYQEAFEI-FVK', 5), ('SNSQQAYQEAFEI-VFK', 5), ('SNSQQAYQEAFEI-FVK', 5), ('SNSQQAYQEAFEI-FVK', 5), ('SNSQQAYQEAFEI-FVK', 5), ('SNSQQAYQEAFEI-FVK', 5), ('SNSQQAYQEAFEI-YEEIK', 5), ('SNSQQAYQEAFEI-YEIEK', 5), ('SNSQQAYQEAFEI-VAYNSK', 5), ('SNSQQAYQEAFEI-GSYNIK', 5), ('SNSQQAYQEAFEI-VAYNSK', 5), ('SNSQQAYQEAFEI-NQFWYK', 5), ('GQVLPEMEIHLQTDAKKGT-FVK', 5), ('GQVLPEMEIHLQTDAKKGT-FVK', 5), ('GQVLPEMEIHLQTDAKKGT-FVK', 5), ('GQVLPEMEIHLQTDAKKGT-FVK', 5), ('GQVLPEMEIHLQTDAKKGT-FVK', 5), ('GQVLPEMEIHLQTDAKKGT-VFK', 5), ('GQVLPEMEIHLQTDAKKGT-FVK', 5), ('GQVLPEMEIHLQTDAKKGT-FVK', 5), ('GQVLPEMEIHLQTDAKKGT-FVK', 5), ('GQVLPEMEIHLQTDAKKGT-FVK', 5), ('GQVLPEMEIHLQTDAKKGT-FVK', 5), ('GQVLPEMEIHLQTDAKKGT-FVK', 5), ('GQVLPEMEIHLQTDAKKGT-FVK', 5), ('GQVLPEMEIHLQTDAKKGT-FVK', 5), ('GQVLPEMEIHLQTDAKKGT-VFK', 5), ('GQVLPEMEIHLQTDAKKGT-FVK', 5), ('GQVLPEMEIHLQTDAKKGT-FVK', 5), ('GQVLPEMEIHLQTDAKKGT-FVK', 5), ('GQVLPEMEIHLQTDAKKGT-FVK', 5), ('GQVLPEMEIHLQTDAKKGT-YEEIK', 5), ('GQVLPEMEIHLQTDAKKGT-YEIEK', 5), ('GQVLPEMEIHLQTDAKKGT-VAYNSK', 5), ('GQVLPEMEIHLQTDAKKGT-GSYNIK', 5), ('GQVLPEMEIHLQTDAKKGT-VAYNSK', 5), ('GQVLPEMEIHLQTDAKKGT-NQFWYK', 5), ('GSPGSAGLVQHLEEYAAT-FVK', 5), ('GSPGSAGLVQHLEEYAAT-YEEIK', 5), ('SSNGFLIDGYPREVKQGE-VFK', 5), ('SSNGFLIDGYPREVKQGE-FVK', 5), ('SSNGFLIDGYPREVKQGE-FVK', 5), ('SSNGFLIDGYPREVKQGE-FVK', 5), ('SSNGFLIDGYPREVKQGE-FVK', 5), ('SSNGFLIDGYPREVKQGE-FVK', 5), ('SSNGFLIDGYPREVKQGE-VFK', 5), ('SSNGFLIDGYPREVKQGE-FVK', 5), ('SSNGFLIDGYPREVKQGE-FVK', 5), ('SSNGFLIDGYPREVKQGE-VFK', 5), ('SSNGFLIDGYPREVKQGE-FVK', 5), ('SSNGFLIDGYPREVKQGE-FVK', 5), ('SSNGFLIDGYPREVKQGE-FVK', 5), ('SSNGFLIDGYPREVKQGE-FVK', 5), ('SSNGFLIDGYPREVKQGE-FVK', 5), ('SSNGFLIDGYPREVKQGE-FVK', 5), ('SSNGFLIDGYPREVKQGE-VFK', 5), ('SSNGFLIDGYPREVKQGE-VFK', 5), ('SSNGFLIDGYPREVKQGE-FVK', 5), ('SSNGFLIDGYPREVKQGE-FVK', 5), ('SSNGFLIDGYPREVKQGE-FVK', 5), ('SSNGFLIDGYPREVKQGE-VFK', 5), ('SSNGFLIDGYPREVKQGE-FVK', 5), ('SSNGFLIDGYPREVKQGE-FVK', 5), ('SSNGFLIDGYPREVKQGE-YEEIK', 5), ('SSNGFLIDGYPREVKQGE-YEIEK', 5), ('SSNGFLIDGYPREVKQGE-VAYNSK', 5), ('SSNGFLIDGYPREVKQGE-GSYNIK', 5), ('SSNGFLIDGYPREVKQGE-VAYNSK', 5), ('SSNGFLIDGYPREVKQGE-NQFWYK', 5), ('VPEMKPSMFDVSRELGSSV-YEEIK', 5), ('VPEMKPSMFDVSRELGSSV-YEIEK', 5), ('GQVRLTYSTGESNTVVSPTV-FVK', 5), ('GQVRLTYSTGESNTVVSPTV-FVK', 5), ('GQVRLTYSTGESNTVVSPTV-FVK', 5), ('GQVRLTYSTGESNTVVSPTV-YEEIK', 5), ('IFVGTPYYGYVYEDTLP-FVK', 5), ('IFVGTPYYGYVYEDTLP-FVK', 5), ('IFVGTPYYGYVYEDTLP-FVK', 5), ('IFVGTPYYGYVYEDTLP-FVK', 5), ('IFVGTPYYGYVYEDTLP-VFK', 5), ('IFVGTPYYGYVYEDTLP-FVK', 5), ('IFVGTPYYGYVYEDTLP-FVK', 5), ('IFVGTPYYGYVYEDTLP-FVK', 5), ('IFVGTPYYGYVYEDTLP-FVK', 5), ('IFVGTPYYGYVYEDTLP-FVK', 5), ('IFVGTPYYGYVYEDTLP-VFK', 5), ('IFVGTPYYGYVYEDTLP-FVK', 5), ('IFVGTPYYGYVYEDTLP-YEEIK', 5), ('IFVGTPYYGYVYEDTLP-YEIEK', 5), ('QVNQSLASMPPMNPATTLP-FVK', 5), ('QVNQSLASMPPMNPATTLP-FVK', 5), ('QVNQSLASMPPMNPATTLP-FVK', 5), ('QVNQSLASMPPMNPATTLP-FVK', 5), ('QVNQSLASMPPMNPATTLP-VFK', 5), ('QVNQSLASMPPMNPATTLP-FVK', 5), ('QVNQSLASMPPMNPATTLP-FVK', 5), ('QVNQSLASMPPMNPATTLP-FVK', 5), ('QVNQSLASMPPMNPATTLP-FVK', 5), ('QVNQSLASMPPMNPATTLP-FVK', 5), ('QVNQSLASMPPMNPATTLP-VFK', 5), ('QVNQSLASMPPMNPATTLP-FVK', 5), ('QVNQSLASMPPMNPATTLP-YEEIK', 5), ('QVNQSLASMPPMNPATTLP-YEIEK', 5), ('MAEVDAAMAARPHSIDGRVV-VFK', 5), ('MAEVDAAMAARPHSIDGRVV-FVK', 5), ('MAEVDAAMAARPHSIDGRVV-FVK', 5), ('MAEVDAAMAARPHSIDGRVV-FVK', 5), ('MAEVDAAMAARPHSIDGRVV-FVK', 5), ('MAEVDAAMAARPHSIDGRVV-FVK', 5), ('MAEVDAAMAARPHSIDGRVV-FVK', 5), ('MAEVDAAMAARPHSIDGRVV-VFK', 5), ('MAEVDAAMAARPHSIDGRVV-FVK', 5), ('MAEVDAAMAARPHSIDGRVV-FVK', 5), ('MAEVDAAMAARPHSIDGRVV-VFK', 5), ('MAEVDAAMAARPHSIDGRVV-FVK', 5), ('MAEVDAAMAARPHSIDGRVV-FVK', 5), ('MAEVDAAMAARPHSIDGRVV-FVK', 5), ('MAEVDAAMAARPHSIDGRVV-FVK', 5), ('MAEVDAAMAARPHSIDGRVV-FVK', 5), ('MAEVDAAMAARPHSIDGRVV-FVK', 5), ('MAEVDAAMAARPHSIDGRVV-VFK', 5), ('MAEVDAAMAARPHSIDGRVV-VFK', 5), ('MAEVDAAMAARPHSIDGRVV-FVK', 5), ('MAEVDAAMAARPHSIDGRVV-FVK', 5), ('MAEVDAAMAARPHSIDGRVV-FVK', 5), ('MAEVDAAMAARPHSIDGRVV-VFK', 5), ('MAEVDAAMAARPHSIDGRVV-FVK', 5), ('MAEVDAAMAARPHSIDGRVV-FVK', 5), ('MAEVDAAMAARPHSIDGRVV-YEEIK', 5), ('MAEVDAAMAARPHSIDGRVV-YEIEK', 5), ('MAEVDAAMAARPHSIDGRVV-EEIYK', 5), ('MAEVDAAMAARPHSIDGRVV-VAYNSK', 5), ('MAEVDAAMAARPHSIDGRVV-GLNSYK', 5), ('MAEVDAAMAARPHSIDGRVV-GSYNIK', 5), ('MAEVDAAMAARPHSIDGRVV-VAYNSK', 5), ('MAEVDAAMAARPHSIDGRVV-NQFWYK', 5), ('GQS-GLGNKTYEHFNAMGK', 5), ('GQS-VVWTSEYDPLASNPGWKK', 5), ('GQS-VTVTVLDVNDNRPEFTMK', 5), ('QGS-VVWTSEYDPLASNPGWKK', 5), ('QGS-VTVTVLDVNDNRPEFTMK', 5), ('GQS-VVWTSEYDPLASNPGWKK', 5), ('GQS-VTVTVLDVNDNRPEFTMK', 5), ('NAS-VVWTSEYDPLASNPGWKK', 5), ('NAS-VTVTVLDVNDNRPEFTMK', 5), ('QGS-GLGNKTYEHFNAMGK', 5), ('QGS-GRPSGEAFVELESEDEVK', 5), ('QGS-VVWTSEYDPLASNPGWKK', 5), ('QGS-VCPTEIIAFSDHAEDFRK', 5), ('QGS-VTVTVLDVNDNRPEFTMK', 5), ('QGS-TGLTEGQHGFHVHQYG', 5), ('SGQ-GLGNKTYEHFNAMGK', 5), ('SGQ-GRPSGEAFVELESEDEVK', 5), ('SGQ-VVWTSEYDPLASNPGWKK', 5), ('SGQ-VCPTEIIAFSDHAEDFRK', 5), ('SGQ-VTVTVLDVNDNRPEFTMK', 5), ('GSQ-VVWTSEYDPLASNPGWKK', 5), ('GSQ-VTVTVLDVNDNRPEFTMK', 5), ('ANS-GLGNKTYEHFNAMGK', 5), ('ANS-VVWTSEYDPLASNPGWKK', 5), ('ANS-VTVTVLDVNDNRPEFTMK', 5), ('QGS-VVWTSEYDPLASNPGWKK', 5), ('QGS-VTVTVLDVNDNRPEFTMK', 5), ('GQS-VTVTVLDVNDNRPEFTMK', 5), ('SGQ-GLGNKTYEHFNAMGK', 5), ('SGQ-VVWTSEYDPLASNPGWKK', 5), ('SGQ-VTVTVLDVNDNRPEFTMK', 5), ('SGQ-GLGNKTYEHFNAMGK', 5), ('SGQ-VVWTSEYDPLASNPGWKK', 5), ('SGQ-VTVTVLDVNDNRPEFTMK', 5), ('GQS-GLGNKTYEHFNAMGK', 5), ('GQS-VVWTSEYDPLASNPGWKK', 5), ('GQS-VTVTVLDVNDNRPEFTMK', 5), ('SGQ-GLGNKTYEHFNAMGK', 5), ('SGQ-GRPSGEAFVELESEDEVK', 5), ('SGQ-VVWTSEYDPLASNPGWKK', 5), ('SGQ-VCPTEIIAFSDHAEDFRK', 5), ('SGQ-VTVTVLDVNDNRPEFTMK', 5), ('SGQ-TGLTEGQHGFHVHQYG', 5), ('GQS-VVWTSEYDPLASNPGWKK', 5), ('GQS-VTVTVLDVNDNRPEFTMK', 5), ('GSQ-GLGNKTYEHFNAMGK', 5), ('GSQ-GRPSGEAFVELESEDEVK', 5), ('GSQ-VVWTSEYDPLASNPGWKK', 5), ('GSQ-VCPTEIIAFSDHAEDFRK', 5), ('GSQ-VTVTVLDVNDNRPEFTMK', 5), ('QGS-GLGNKTYEHFNAMGK', 5), ('QGS-VVWTSEYDPLASNPGWKK', 5), ('QGS-VTVTVLDVNDNRPEFTMK', 5), ('SGQ-GLGNKTYEHFNAMGK', 5), ('SGQ-VVWTSEYDPLASNPGWKK', 5), ('SGQ-VTVTVLDVNDNRPEFTMK', 5), ('SGQ-GLGNKTYEHFNAMGK', 5), ('SGQ-GRPSGEAFVELESEDEVK', 5), ('SGQ-VVWTSEYDPLASNPGWKK', 5), ('SGQ-VCPTEIIAFSDHAEDFRK', 5), ('SGQ-VTVTVLDVNDNRPEFTMK', 5), ('SGQ-TGLTEGQHGFHVHQYG', 5), ('NAS-GLGNKTYEHFNAMGK', 5), ('NAS-VVWTSEYDPLASNPGWKK', 5), ('NAS-VTVTVLDVNDNRPEFTMK', 5), ('SGQ-GLGNKTYEHFNAMGK', 5), ('SGQ-GRPSGEAFVELESEDEVK', 5), ('SGQ-VVWTSEYDPLASNPGWKK', 5), ('SGQ-VCPTEIIAFSDHAEDFRK', 5), ('SGQ-VTVTVLDVNDNRPEFTMK', 5), ('SGQ-TGLTEGQHGFHVHQYG', 5), ('GQS-VTVTVLDVNDNRPEFTMK', 5), ('GQS-FVK', 4), ('GQS-FVK', 4), ('GQS-FVK', 4), ('GQS-FVK', 4), ('GQS-FVK', 4), ('GQS-VFK', 4), ('GQS-FVK', 4), ('GQS-FVK', 4), ('GQS-FVK', 4), ('GQS-FVK', 4), ('GQS-FVK', 4), ('GQS-FVK', 4), ('GQS-FVK', 4), ('GQS-FVK', 4), ('GQS-VFK', 4), ('GQS-FVK', 4), ('GQS-FVK', 4), ('GQS-FVK', 4), ('GQS-FVK', 4), ('GQS-FVK', 4), ('GQS-YEEIK', 4), ('GQS-YEIEK', 4), ('GQS-VAYNSK', 4), ('GQS-GSYNIK', 4), ('GQS-VAYNSK', 4), ('GQS-NQFWYK', 4), ('QGS-FVK', 4), ('QGS-FVK', 4), ('QGS-FVK', 4), ('QGS-FVK', 4), ('QGS-FVK', 4), ('QGS-VFK', 4), ('QGS-FVK', 4), ('QGS-FVK', 4), ('QGS-FVK', 4), ('QGS-FVK', 4), ('QGS-FVK', 4), ('QGS-VFK', 4), ('QGS-FVK', 4), ('QGS-FVK', 4), ('QGS-YEEIK', 4), ('QGS-YEIEK', 4), ('QGS-VAYNSK', 4), ('QGS-VAYNSK', 4), ('GQS-FVK', 4), ('GQS-FVK', 4), ('GQS-FVK', 4), ('GQS-FVK', 4), ('GQS-VFK', 4), ('GQS-FVK', 4), ('GQS-FVK', 4), ('GQS-FVK', 4), ('GQS-FVK', 4), ('GQS-VFK', 4), ('GQS-FVK', 4), ('GQS-YEEIK', 4), ('GQS-YEIEK', 4), ('NAS-FVK', 4), ('NAS-FVK', 4), ('NAS-FVK', 4), ('NAS-FVK', 4), ('NAS-FVK', 4), ('NAS-VFK', 4), ('NAS-FVK', 4), ('NAS-FVK', 4), ('NAS-FVK', 4), ('NAS-FVK', 4), ('NAS-FVK', 4), ('NAS-VFK', 4), ('NAS-FVK', 4), ('NAS-FVK', 4), ('NAS-YEEIK', 4), ('NAS-YEIEK', 4), ('NAS-VAYNSK', 4), ('NAS-VAYNSK', 4), ('QGS-VFK', 4), ('QGS-FVK', 4), ('QGS-VFK', 4), ('QGS-FVK', 4), ('QGS-FVK', 4), ('QGS-FVK', 4), ('QGS-FVK', 4), ('QGS-FVK', 4), ('QGS-VFK', 4), ('QGS-FVK', 4), ('QGS-FVK', 4), ('QGS-VFK', 4), ('QGS-FVK', 4), ('QGS-FVK', 4), ('QGS-FVK', 4), ('QGS-FVK', 4), ('QGS-FVK', 4), ('QGS-FVK', 4), ('QGS-VFK', 4), ('QGS-VFK', 4), ('QGS-FVK', 4), ('QGS-FVK', 4), ('QGS-FVK', 4), ('QGS-VFK', 4), ('QGS-FVK', 4), ('QGS-FVK', 4), ('QGS-EYIEK', 4), ('QGS-YEEIK', 4), ('QGS-YEIEK', 4), ('QGS-EEIYK', 4), ('QGS-VAYNSK', 4), ('QGS-GLNSYK', 4), ('QGS-GSYNIK', 4), ('QGS-VAYNSK', 4), ('QGS-NQFWYK', 4), ('SGQ-VFK', 4), ('SGQ-FVK', 4), ('SGQ-VFK', 4), ('SGQ-FVK', 4), ('SGQ-FVK', 4), ('SGQ-FVK', 4), ('SGQ-FVK', 4), ('SGQ-FVK', 4), ('SGQ-VFK', 4), ('SGQ-FVK', 4), ('SGQ-FVK', 4), ('SGQ-VFK', 4), ('SGQ-FVK', 4), ('SGQ-FVK', 4), ('SGQ-FVK', 4), ('SGQ-FVK', 4), ('SGQ-FVK', 4), ('SGQ-FVK', 4), ('SGQ-VFK', 4), ('SGQ-VFK', 4), ('SGQ-FVK', 4), ('SGQ-FVK', 4), ('SGQ-FVK', 4), ('SGQ-VFK', 4), ('SGQ-FVK', 4), ('SGQ-FVK', 4), ('SGQ-EYIEK', 4), ('SGQ-YEEIK', 4), ('SGQ-YEIEK', 4), ('SGQ-EEIYK', 4), ('SGQ-VAYNSK', 4), ('SGQ-GLNSYK', 4), ('SGQ-GSYNIK', 4), ('SGQ-VAYNSK', 4), ('SGQ-NQFWYK', 4), ('GSQ-FVK', 4), ('GSQ-FVK', 4), ('GSQ-FVK', 4), ('GSQ-FVK', 4), ('GSQ-FVK', 4), ('GSQ-VFK', 4), ('GSQ-FVK', 4), ('GSQ-FVK', 4), ('GSQ-FVK', 4), ('GSQ-FVK', 4), ('GSQ-FVK', 4), ('GSQ-VFK', 4), ('GSQ-FVK', 4), ('GSQ-FVK', 4), ('GSQ-YEEIK', 4), ('GSQ-YEIEK', 4), ('GSQ-VAYNSK', 4), ('GSQ-VAYNSK', 4), ('ANS-FVK', 4), ('ANS-FVK', 4), ('ANS-FVK', 4), ('ANS-FVK', 4), ('ANS-FVK', 4), ('ANS-VFK', 4), ('ANS-FVK', 4), ('ANS-FVK', 4), ('ANS-FVK', 4), ('ANS-FVK', 4), ('ANS-FVK', 4), ('ANS-FVK', 4), ('ANS-FVK', 4), ('ANS-FVK', 4), ('ANS-VFK', 4), ('ANS-FVK', 4), ('ANS-FVK', 4), ('ANS-FVK', 4), ('ANS-FVK', 4), ('ANS-YEEIK', 4), ('ANS-YEIEK', 4), ('ANS-VAYNSK', 4), ('ANS-GSYNIK', 4), ('ANS-VAYNSK', 4), ('ANS-NQFWYK', 4), ('QGS-FVK', 4), ('QGS-FVK', 4), ('QGS-FVK', 4), ('QGS-FVK', 4), ('QGS-VFK', 4), ('QGS-FVK', 4), ('QGS-FVK', 4), ('QGS-FVK', 4), ('QGS-FVK', 4), ('QGS-FVK', 4), ('QGS-VFK', 4), ('QGS-FVK', 4), ('QGS-YEEIK', 4), ('QGS-YEIEK', 4), ('GQS-FVK', 4), ('GQS-VFK', 4), ('GQS-FVK', 4), ('GQS-FVK', 4), ('GQS-FVK', 4), ('GQS-FVK', 4), ('GQS-YEEIK', 4), ('NAS-FVK', 4), ('NAS-FVK', 4), ('NAS-FVK', 4), ('NAS-YEEIK', 4), ('SGQ-FVK', 4), ('SGQ-FVK', 4), ('SGQ-FVK', 4), ('SGQ-FVK', 4), ('SGQ-FVK', 4), ('SGQ-VFK', 4), ('SGQ-FVK', 4), ('SGQ-FVK', 4), ('SGQ-FVK', 4), ('SGQ-FVK', 4), ('SGQ-FVK', 4), ('SGQ-FVK', 4), ('SGQ-FVK', 4), ('SGQ-FVK', 4), ('SGQ-VFK', 4), ('SGQ-VFK', 4), ('SGQ-FVK', 4), ('SGQ-FVK', 4), ('SGQ-FVK', 4), ('SGQ-FVK', 4), ('SGQ-FVK', 4), ('SGQ-YEEIK', 4), ('SGQ-YEIEK', 4), ('SGQ-VAYNSK', 4), ('SGQ-GSYNIK', 4), ('SGQ-VAYNSK', 4), ('SGQ-NQFWYK', 4), ('SGQ-FVK', 4), ('SGQ-FVK', 4), ('SGQ-FVK', 4), ('SGQ-FVK', 4), ('SGQ-FVK', 4), ('SGQ-VFK', 4), ('SGQ-FVK', 4), ('SGQ-FVK', 4), ('SGQ-FVK', 4), ('SGQ-FVK', 4), ('SGQ-FVK', 4), ('SGQ-FVK', 4), ('SGQ-FVK', 4), ('SGQ-VFK', 4), ('SGQ-FVK', 4), ('SGQ-FVK', 4), ('SGQ-FVK', 4), ('SGQ-YEEIK', 4), ('SGQ-YEIEK', 4), ('SGQ-VAYNSK', 4), ('SGQ-GSYNIK', 4), ('SGQ-VAYNSK', 4), ('GQS-FVK', 4), ('GQS-FVK', 4), ('GQS-FVK', 4), ('GQS-FVK', 4), ('GQS-FVK', 4), ('GQS-VFK', 4), ('GQS-FVK', 4), ('GQS-FVK', 4), ('GQS-FVK', 4), ('GQS-FVK', 4), ('GQS-FVK', 4), ('GQS-FVK', 4), ('GQS-FVK', 4), ('GQS-FVK', 4), ('GQS-VFK', 4), ('GQS-FVK', 4), ('GQS-FVK', 4), ('GQS-FVK', 4), ('GQS-FVK', 4), ('GQS-YEEIK', 4), ('GQS-YEIEK', 4), ('GQS-VAYNSK', 4), ('GQS-GSYNIK', 4), ('GQS-VAYNSK', 4), ('GQS-NQFWYK', 4), ('SGQ-FVK', 4), ('SGQ-VFK', 4), ('SGQ-FVK', 4), ('SGQ-VFK', 4), ('SGQ-FVK', 4), ('SGQ-FVK', 4), ('SGQ-VFK', 4), ('SGQ-FVK', 4), ('SGQ-FVK', 4), ('SGQ-FVK', 4), ('SGQ-VFK', 4), ('SGQ-FVK', 4), ('SGQ-FVK', 4), ('SGQ-FVK', 4), ('SGQ-VFK', 4), ('SGQ-FVK', 4), ('SGQ-FVK', 4), ('SGQ-FVK', 4), ('SGQ-FVK', 4), ('SGQ-FVK', 4), ('SGQ-FVK', 4), ('SGQ-VFK', 4), ('SGQ-VFK', 4), ('SGQ-FVK', 4), ('SGQ-FVK', 4), ('SGQ-FVK', 4), ('SGQ-FVK', 4), ('SGQ-VFK', 4), ('SGQ-FVK', 4), ('SGQ-FVK', 4), ('SGQ-EYIEK', 4), ('SGQ-YEEIK', 4), ('SGQ-YEIEK', 4), ('SGQ-EEIYK', 4), ('SGQ-VAYNSK', 4), ('SGQ-GLNSYK', 4), ('SGQ-GSYNIK', 4), ('SGQ-KSDFGK', 4), ('SGQ-VAYNSK', 4), ('SGQ-NQFWYK', 4), ('GQS-FVK', 4), ('GQS-FVK', 4), ('GQS-FVK', 4), ('GQS-FVK', 4), ('GQS-VFK', 4), ('GQS-FVK', 4), ('GQS-FVK', 4), ('GQS-FVK', 4), ('GQS-FVK', 4), ('GQS-FVK', 4), ('GQS-VFK', 4), ('GQS-FVK', 4), ('GQS-YEEIK', 4), ('GQS-YEIEK', 4), ('GSQ-VFK', 4), ('GSQ-FVK', 4), ('GSQ-FVK', 4), ('GSQ-FVK', 4), ('GSQ-FVK', 4), ('GSQ-FVK', 4), ('GSQ-FVK', 4), ('GSQ-VFK', 4), ('GSQ-FVK', 4), ('GSQ-FVK', 4), ('GSQ-VFK', 4), ('GSQ-FVK', 4), ('GSQ-FVK', 4), ('GSQ-FVK', 4), ('GSQ-FVK', 4), ('GSQ-FVK', 4), ('GSQ-FVK', 4), ('GSQ-VFK', 4), ('GSQ-VFK', 4), ('GSQ-FVK', 4), ('GSQ-FVK', 4), ('GSQ-FVK', 4), ('GSQ-VFK', 4), ('GSQ-FVK', 4), ('GSQ-FVK', 4), ('GSQ-EYIEK', 4), ('GSQ-YEEIK', 4), ('GSQ-YEIEK', 4), ('GSQ-EEIYK', 4), ('GSQ-VAYNSK', 4), ('GSQ-GLNSYK', 4), ('GSQ-GSYNIK', 4), ('GSQ-VAYNSK', 4), ('GSQ-NQFWYK', 4), ('QGS-VFK', 4), ('QGS-FVK', 4), ('QGS-FVK', 4), ('QGS-FVK', 4), ('QGS-FVK', 4), ('QGS-FVK', 4), ('QGS-VFK', 4), ('QGS-FVK', 4), ('QGS-FVK', 4), ('QGS-VFK', 4), ('QGS-FVK', 4), ('QGS-FVK', 4), ('QGS-FVK', 4), ('QGS-FVK', 4), ('QGS-FVK', 4), ('QGS-FVK', 4), ('QGS-VFK', 4), ('QGS-VFK', 4), ('QGS-FVK', 4), ('QGS-FVK', 4), ('QGS-FVK', 4), ('QGS-VFK', 4), ('QGS-FVK', 4), ('QGS-FVK', 4), ('QGS-YEEIK', 4), ('QGS-YEIEK', 4), ('QGS-VAYNSK', 4), ('QGS-GSYNIK', 4), ('QGS-VAYNSK', 4), ('QGS-NQFWYK', 4), ('SGQ-FVK', 4), ('SGQ-FVK', 4), ('SGQ-FVK', 4), ('SGQ-FVK', 4), ('SGQ-FVK', 4), ('SGQ-VFK', 4), ('SGQ-FVK', 4), ('SGQ-FVK', 4), ('SGQ-FVK', 4), ('SGQ-FVK', 4), ('SGQ-FVK', 4), ('SGQ-FVK', 4), ('SGQ-FVK', 4), ('SGQ-VFK', 4), ('SGQ-FVK', 4), ('SGQ-FVK', 4), ('SGQ-FVK', 4), ('SGQ-YEEIK', 4), ('SGQ-YEIEK', 4), ('SGQ-VAYNSK', 4), ('SGQ-GSYNIK', 4), ('SGQ-VAYNSK', 4), ('SGQ-VFK', 4), ('SGQ-FVK', 4), ('SGQ-VFK', 4), ('SGQ-FVK', 4), ('SGQ-FVK', 4), ('SGQ-FVK', 4), ('SGQ-FVK', 4), ('SGQ-FVK', 4), ('SGQ-VFK', 4), ('SGQ-FVK', 4), ('SGQ-FVK', 4), ('SGQ-VFK', 4), ('SGQ-FVK', 4), ('SGQ-FVK', 4), ('SGQ-FVK', 4), ('SGQ-FVK', 4), ('SGQ-FVK', 4), ('SGQ-FVK', 4), ('SGQ-VFK', 4), ('SGQ-VFK', 4), ('SGQ-FVK', 4), ('SGQ-FVK', 4), ('SGQ-FVK', 4), ('SGQ-VFK', 4), ('SGQ-FVK', 4), ('SGQ-FVK', 4), ('SGQ-EYIEK', 4), ('SGQ-YEEIK', 4), ('SGQ-YEIEK', 4), ('SGQ-EEIYK', 4), ('SGQ-VAYNSK', 4), ('SGQ-GLNSYK', 4), ('SGQ-GSYNIK', 4), ('SGQ-VAYNSK', 4), ('SGQ-NQFWYK', 4), ('GQS-FVK', 4), ('GQS-FVK', 4), ('GQS-FVK', 4), ('GQS-YEEIK', 4), ('NAS-FVK', 4), ('NAS-FVK', 4), ('NAS-FVK', 4), ('NAS-YEEIK', 4), ('NAS-FVK', 4), ('NAS-FVK', 4), ('NAS-FVK', 4), ('NAS-FVK', 4), ('NAS-FVK', 4), ('NAS-VFK', 4), ('NAS-FVK', 4), ('NAS-FVK', 4), ('NAS-FVK', 4), ('NAS-FVK', 4), ('NAS-FVK', 4), ('NAS-FVK', 4), ('NAS-FVK', 4), ('NAS-FVK', 4), ('NAS-VFK', 4), ('NAS-FVK', 4), ('NAS-FVK', 4), ('NAS-FVK', 4), ('NAS-FVK', 4), ('NAS-YEEIK', 4), ('NAS-YEIEK', 4), ('NAS-VAYNSK', 4), ('NAS-GSYNIK', 4), ('NAS-VAYNSK', 4), ('NAS-NQFWYK', 4), ('SGQ-VFK', 4), ('SGQ-FVK', 4), ('SGQ-VFK', 4), ('SGQ-FVK', 4), ('SGQ-FVK', 4), ('SGQ-VFK', 4), ('SGQ-FVK', 4), ('SGQ-FVK', 4), ('SGQ-FVK', 4), ('SGQ-VFK', 4), ('SGQ-FVK', 4), ('SGQ-FVK', 4), ('SGQ-VFK', 4), ('SGQ-FVK', 4), ('SGQ-FVK', 4), ('SGQ-FVK', 4), ('SGQ-FVK', 4), ('SGQ-FVK', 4), ('SGQ-FVK', 4), ('SGQ-VFK', 4), ('SGQ-VFK', 4), ('SGQ-FVK', 4), ('SGQ-FVK', 4), ('SGQ-FVK', 4), ('SGQ-VFK', 4), ('SGQ-FVK', 4), ('SGQ-FVK', 4), ('SGQ-EYIEK', 4), ('SGQ-YEEIK', 4), ('SGQ-YEIEK', 4), ('SGQ-EEIYK', 4), ('SGQ-VAYNSK', 4), ('SGQ-GLNSYK', 4), ('SGQ-GSYNIK', 4), ('SGQ-KSDFGK', 4), ('SGQ-VAYNSK', 4), ('SGQ-NQFWYK', 4), ('GQS-FVK', 4), ('GQS-VFK', 4), ('GQS-FVK', 4), ('GQS-FVK', 4), ('GQS-FVK', 4), ('GQS-FVK', 4), ('GQS-YEEIK', 4), ('GQS-YEIEK', 4), ('ANS-VFK', 4), ('ANS-FVK', 4), ('ANS-FVK', 4), ('ANS-FVK', 4), ('ANS-FVK', 4), ('ANS-YEEIK', 4), ('QGS-FVK', 4), ('QGS-FVK', 4), ('QGS-FVK', 4), ('QGS-YEEIK', 4), ('GSQANS-GLGNKTYEHFNAMGK', 3), ('GSQANS-VVWTSEYDPLASNPGWKK', 3), ('GSQANS-VTVTVLDVNDNRPEFTMK', 3), ('GSQFFICT-YEAGEKRWGTDEVK', 3), ('GSQFFICT-DVHPSDLKPKGDDKDPSK', 3), ('PVGSPSR-VVWTSEYDPLASNPGWKK', 3), ('PVGSPSR-VTVTVLDVNDNRPEFTMK', 3), ('SGQADDERVREYHLL-YEAGEKRWGTDEVK', 3), ('GSGAVALCPE-YEAGEKRWGTDEVK', 3), ('GSGAVALCPE-DVHPSDLKPKGDDKDPSK', 3), ('ANSWNLDWGDNGFFKIL-VTVTVLDVNDNRPEFTMK', 3), ('QGSPGAWAPLDPTSGSSA-SRPCTPPQ', 3), ('QGSPGAWAPLDPTSGSSA-DVHPSDLKPKGDDKDPSK', 3), ('QGSPGAWAPLDPTSGSSA-GRPSGEAFVELESEDEVK', 3), ('GQSTVPPCTASPEPVKAAEQ-VTVTVLDVNDNRPEFTMK', 3), ('GSAGLMLVEFFAPWCG-YEAGEKRWGTDEVK', 3), ('GSAGLMLVEFFAPWCG-DVHPSDLKPKGDDKDPSK', 3), ('GSAGLMLVEFFAPWCG-GLGNKTYEHFNAMGK', 3), ('GSAGLMLVEFFAPWCG-TGLTEGQHGFHVHQYG', 3), ('PVPVDCSDEAGNSALQLA-GLGNKTYEHFNAMGK', 3), ('PVPVDCSDEAGNSALQLA-GRPSGEAFVELESEDEVK', 3), ('PVPVDCSDEAGNSALQLA-VVWTSEYDPLASNPGWKK', 3), ('PVPVDCSDEAGNSALQLA-VCPTEIIAFSDHAEDFRK', 3), ('PVPVDCSDEAGNSALQLA-VTVTVLDVNDNRPEFTMK', 3), ('SNSQQAYQEAFEI-YEAGEKRWGTDEVK', 3), ('SNSQQAYQEAFEI-GLGNKTYEHFNAMGK', 3), ('GQVLPEMEIHLQTDAKKGT-YEAGEKRWGTDEVK', 3), ('GQVLPEMEIHLQTDAKKGT-VVWTSEYDPLASNPGWKK', 3), ('SSNGFLIDGYPREVKQGE-VVWTSEYDPLASNPGWKK', 3), ('IFVGTPYYGYVYEDTLP-VTVTVLDVNDNRPEFTMK', 3), ('QVNQSLASMPPMNPATTLP-VTVTVLDVNDNRPEFTMK', 3), ('MAEVDAAMAARPHSIDGRVV-YEAGEKRWGTDEVK', 3), ('MAEVDAAMAARPHSIDGRVV-DVHPSDLKPKGDDKDPSK', 3), ('MAEVDAAMAARPHSIDGRVV-GLGNKTYEHFNAMGK', 3), ('GSQANS-FVK', 2), ('GSQANS-FVK', 2), ('GSQANS-FVK', 2), ('GSQANS-FVK', 2), ('GSQANS-FVK', 2), ('GSQANS-VFK', 2), ('GSQANS-FVK', 2), ('GSQANS-FVK', 2), ('GSQANS-FVK', 2), ('GSQANS-FVK', 2), ('GSQANS-FVK', 2), ('GSQANS-FVK', 2), ('GSQANS-FVK', 2), ('GSQANS-FVK', 2), ('GSQANS-VFK', 2), ('GSQANS-FVK', 2), ('GSQANS-FVK', 2), ('GSQANS-FVK', 2), ('GSQANS-FVK', 2), ('GSQANS-YEEIK', 2), ('GSQANS-YEIEK', 2), ('GSQANS-VAYNSK', 2), ('GSQANS-GSYNIK', 2), ('GSQANS-VAYNSK', 2), ('GSQANS-NQFWYK', 2), ('GSGAVALCPE-NQFWYK', 2), ('GQGQSPSIRQ-FVK', 2), ('GQGQSPSIRQ-VFK', 2), ('GQGQSPSIRQ-FVK', 2), ('GQGQSPSIRQ-FVK', 2), ('GQGQSPSIRQ-FVK', 2), ('GQGQSPSIRQ-FVK', 2), ('GQGQSPSIRQ-YEEIK', 2), ('GQGQSPSIRQ-YEIEK', 2), ('PVPVDCSDEAGNSALQLA-EYIEK', 2), ('PVPVDCSDEAGNSALQLA-YEEIK', 2), ('PVPVDCSDEAGNSALQLA-YEIEK', 2), ('PVPVDCSDEAGNSALQLA-EEIYK', 2), ('PVPVDCSDEAGNSALQLA-VAYNSK', 2), ('PVPVDCSDEAGNSALQLA-GLNSYK', 2), ('PVPVDCSDEAGNSALQLA-GSYNIK', 2), ('PVPVDCSDEAGNSALQLA-VAYNSK', 2), ('PVPVDCSDEAGNSALQLA-NQFWYK', 2), ('VPEMKPSMFDVSRELGSSV-FVK', 2), ('VPEMKPSMFDVSRELGSSV-FVK', 2), ('VPEMKPSMFDVSRELGSSV-FVK', 2), ('VPEMKPSMFDVSRELGSSV-FVK', 2), ('VPEMKPSMFDVSRELGSSV-VFK', 2), ('VPEMKPSMFDVSRELGSSV-FVK', 2), ('VPEMKPSMFDVSRELGSSV-FVK', 2), ('VPEMKPSMFDVSRELGSSV-FVK', 2), ('VPEMKPSMFDVSRELGSSV-FVK', 2), ('VPEMKPSMFDVSRELGSSV-VFK', 2), ('VPEMKPSMFDVSRELGSSV-FVK', 2), ('GQS-YEAGEKRWGTDEVK', 2), ('GQS-DVHPSDLKPKGDDKDPSK', 2), ('QGS-YEAGEKRWGTDEVK', 2), ('QGS-DVHPSDLKPKGDDKDPSK', 2), ('SGQ-YEAGEKRWGTDEVK', 2), ('SGQ-DVHPSDLKPKGDDKDPSK', 2), ('ANS-YEAGEKRWGTDEVK', 2), ('SGQ-YEAGEKRWGTDEVK', 2), ('SGQ-DVHPSDLKPKGDDKDPSK', 2), ('SGQ-YEAGEKRWGTDEVK', 2), ('GQS-YEAGEKRWGTDEVK', 2), ('SGQ-YEAGEKRWGTDEVK', 2), ('SGQ-SRPCTPPQ', 2), ('SGQ-DVHPSDLKPKGDDKDPSK', 2), ('GSQ-YEAGEKRWGTDEVK', 2), ('GSQ-DVHPSDLKPKGDDKDPSK', 2), ('QGS-YEAGEKRWGTDEVK', 2), ('QGS-DVHPSDLKPKGDDKDPSK', 2), ('SGQ-YEAGEKRWGTDEVK', 2), ('SGQ-YEAGEKRWGTDEVK', 2), ('SGQ-DVHPSDLKPKGDDKDPSK', 2), ('NAS-YEAGEKRWGTDEVK', 2), ('SGQ-YEAGEKRWGTDEVK', 2), ('SGQ-DVHPSDLKPKGDDKDPSK', 2), ('GSQANS-YEAGEKRWGTDEVK', 0), ('GQGQSPSIRQ-VTVTVLDVNDNRPEFTMK', 0), ('QGSPGAWAPLDPTSGSSA-YEAGEKRWGTDEVK', 0), ('PVPVDCSDEAGNSALQLA-YEAGEKRWGTDEVK', 0), ('PVPVDCSDEAGNSALQLA-DVHPSDLKPKGDDKDPSK', 0), ('SSNGFLIDGYPREVKQGE-YEAGEKRWGTDEVK', 0), ('SSNGFLIDGYPREVKQGE-DVHPSDLKPKGDDKDPSK', 0), ('VPEMKPSMFDVSRELGSSV-VVWTSEYDPLASNPGWKK', 0), ('MAEVDAAMAARPHSIDGRVV-VTVTVLDVNDNRPEFTMK', 0), ('PVGSPSR-FVK', -1), ('PVGSPSR-FVK', -1), ('PVGSPSR-FVK', -1), ('PVGSPSR-FVK', -1), ('PVGSPSR-VFK', -1), ('PVGSPSR-FVK', -1), ('PVGSPSR-FVK', -1), ('PVGSPSR-FVK', -1), ('PVGSPSR-FVK', -1), ('PVGSPSR-VFK', -1), ('PVGSPSR-FVK', -1), ('PVGSPSR-YEEIK', -1), ('PVGSPSR-YEIEK', -1), ('PVPVDCSDEAGNSALQLA-VFK', -1), ('PVPVDCSDEAGNSALQLA-FVK', -1), ('PVPVDCSDEAGNSALQLA-FVK', -1), ('PVPVDCSDEAGNSALQLA-FVK', -1), ('PVPVDCSDEAGNSALQLA-FVK', -1), ('PVPVDCSDEAGNSALQLA-FVK', -1), ('PVPVDCSDEAGNSALQLA-FVK', -1), ('PVPVDCSDEAGNSALQLA-VFK', -1), ('PVPVDCSDEAGNSALQLA-FVK', -1), ('PVPVDCSDEAGNSALQLA-FVK', -1), ('PVPVDCSDEAGNSALQLA-VFK', -1), ('PVPVDCSDEAGNSALQLA-FVK', -1), ('PVPVDCSDEAGNSALQLA-FVK', -1), ('PVPVDCSDEAGNSALQLA-FVK', -1), ('PVPVDCSDEAGNSALQLA-FVK', -1), ('PVPVDCSDEAGNSALQLA-FVK', -1), ('PVPVDCSDEAGNSALQLA-FVK', -1), ('PVPVDCSDEAGNSALQLA-VFK', -1), ('PVPVDCSDEAGNSALQLA-VFK', -1), ('PVPVDCSDEAGNSALQLA-FVK', -1), ('PVPVDCSDEAGNSALQLA-FVK', -1), ('PVPVDCSDEAGNSALQLA-FVK', -1), ('PVPVDCSDEAGNSALQLA-VFK', -1), ('PVPVDCSDEAGNSALQLA-FVK', -1), ('PVPVDCSDEAGNSALQLA-FVK', -1)]\n"
     ]
    }
   ],
   "source": [
    "# b side starting. Ideally, we would probably pick the higher scoring side to start\n",
    "filtered_b, filtered_y = get_top(b_sorted_clusters, y_sorted_clusters, 50)\n",
    "target_precursor = input_spectrum.precursor_mass\n",
    "#Start with printing overlapping. Then will incorportate boundary overlaps between last of b and first of y\n",
    "interesting_combos = []\n",
    "for b_cluster in filtered_b:\n",
    "    for y_cluster in filtered_y:\n",
    "        if b_cluster.start <= y_cluster.end:\n",
    "            seq = b_cluster.seq + '-' + y_cluster.seq\n",
    "            b_indices = parse_indices(b_cluster.indices)\n",
    "            y_indices = parse_indices(y_cluster.indices)\n",
    "            score = calc_combined_score(b_indices, y_indices, b_cluster.score, y_cluster.score)\n",
    "            tup = (seq, score)\n",
    "            interesting_combos.append(tup)\n",
    "interesting_combos.sort(key=lambda a: a[1], reverse=True)\n",
    "print(interesting_combos)\n",
    "            \n",
    "            \n",
    "# # Calculating start and end indices for each interval\n",
    "# for b_cluster in filtered_b:\n",
    "#     interesting_combos = []\n",
    "#     b_index_set = set()\n",
    "#     for index in b_cluster.indices:\n",
    "#         index = index.replace('(', '')\n",
    "#         index = index.replace(')', '')\n",
    "#         A = index.rstrip().split(',')\n",
    "#         b_index_set.add(int(A[0]))\n",
    "#         b_index_set.add(int(A[1]))\n",
    "    \n",
    "#     b_start_pos = min(b_index_set)\n",
    "#     b_end_pos = max(b_index_set)\n",
    "    \n",
    "#     for y_cluster in filtered_y:\n",
    "#         y_index_set = set()\n",
    "#         for index in y_cluster.indices:\n",
    "#             index = index.replace('(', '')\n",
    "#             index = index.replace(')', '')\n",
    "#             A = index.rstrip().split(',')\n",
    "#             y_index_set.add(int(A[0]))\n",
    "#             y_index_set.add(int(A[1]))\n",
    "            \n",
    "#         y_start_pos = min(y_index_set)\n",
    "#         y_end_pos = max(y_index_set)\n",
    "        \n",
    "#         if (b_start_pos <= y_start_pos) and (b_end_pos == y_start_pos - 1):\n",
    "#             interesting_combos.append(b_cluster)\n",
    "#             interesting_combos.append(y_cluster)\n",
    "    \n",
    "#     print(interesting_combos)"
   ]
  },
  {
   "cell_type": "code",
   "execution_count": null,
   "id": "4a2874d0",
   "metadata": {},
   "outputs": [],
   "source": []
  }
 ],
 "metadata": {
  "kernelspec": {
   "display_name": "Python 3",
   "language": "python",
   "name": "python3"
  },
  "language_info": {
   "codemirror_mode": {
    "name": "ipython",
    "version": 3
   },
   "file_extension": ".py",
   "mimetype": "text/x-python",
   "name": "python",
   "nbconvert_exporter": "python",
   "pygments_lexer": "ipython3",
   "version": "3.7.10"
  }
 },
 "nbformat": 4,
 "nbformat_minor": 5
}

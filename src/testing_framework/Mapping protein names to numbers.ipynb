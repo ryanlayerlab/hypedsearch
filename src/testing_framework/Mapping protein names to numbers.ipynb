{
 "cells": [
  {
   "cell_type": "markdown",
   "id": "3441a067",
   "metadata": {},
   "source": [
    "# Mapping protein names to numbers\n",
    "\n",
    "The purpose of this notebook is to create a dictionary mapping protein names to their index"
   ]
  },
  {
   "cell_type": "code",
   "execution_count": 1,
   "id": "3fe1c73c",
   "metadata": {},
   "outputs": [],
   "source": [
    "import os\n",
    "import sys\n",
    "module_path = os.path.abspath(os.path.join('..'))\n",
    "if module_path not in sys.path:\n",
    "    sys.path.append(module_path)\n",
    "    \n",
    "import database"
   ]
  },
  {
   "cell_type": "code",
   "execution_count": 14,
   "id": "0483b090",
   "metadata": {},
   "outputs": [],
   "source": [
    "path = '/home/ncol107453/jaime_hypedsearch/hypedsearch/data/database/sample_database.fasta'\n",
    "db = database.build(path)\n",
    "name_list = []\n",
    "[name_list.append(x) for x in db.proteins]\n",
    "\n",
    "num_to_prot_name = dict()\n",
    "for i, x in enumerate(name_list):\n",
    "    num_to_prot_name[name_list[i]] = i"
   ]
  },
  {
   "cell_type": "code",
   "execution_count": 18,
   "id": "4500e147",
   "metadata": {},
   "outputs": [
    {
     "name": "stdout",
     "output_type": "stream",
     "text": [
      "274\n"
     ]
    }
   ],
   "source": [
    "#To lookup a protein name given number\n",
    "# prot_num = 0\n",
    "# print(name_list[prot_num])\n",
    "\n",
    "#To lookup a protein number given name\n",
    "prot_name = 'INS1_MOUSE'\n",
    "print(num_to_prot_name[prot_name])"
   ]
  },
  {
   "cell_type": "code",
   "execution_count": null,
   "id": "678c2dc1",
   "metadata": {},
   "outputs": [],
   "source": []
  }
 ],
 "metadata": {
  "kernelspec": {
   "display_name": "Python 3",
   "language": "python",
   "name": "python3"
  },
  "language_info": {
   "codemirror_mode": {
    "name": "ipython",
    "version": 3
   },
   "file_extension": ".py",
   "mimetype": "text/x-python",
   "name": "python",
   "nbconvert_exporter": "python",
   "pygments_lexer": "ipython3",
   "version": "3.7.10"
  }
 },
 "nbformat": 4,
 "nbformat_minor": 5
}

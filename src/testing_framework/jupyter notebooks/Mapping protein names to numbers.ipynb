{
 "cells": [
  {
   "cell_type": "markdown",
   "id": "3441a067",
   "metadata": {},
   "source": [
    "# Mapping protein names to numbers\n",
    "\n",
    "The purpose of this notebook is to create a dictionary mapping protein names to their index"
   ]
  },
  {
   "cell_type": "code",
   "execution_count": 1,
   "id": "3fe1c73c",
   "metadata": {},
   "outputs": [],
   "source": [
    "import os\n",
    "import sys\n",
    "module_path = os.path.abspath(os.path.join('../..'))\n",
    "if module_path not in sys.path:\n",
    "    sys.path.append(module_path)\n",
    "    \n",
    "import database"
   ]
  },
  {
   "cell_type": "code",
   "execution_count": 2,
   "id": "0483b090",
   "metadata": {},
   "outputs": [],
   "source": [
    "path = '/home/ncol107453/jaime_hypedsearch/hypedsearch/data/database/sample_database.fasta'\n",
    "db = database.build(path)\n",
    "name_list = []\n",
    "[name_list.append(x) for x in db.proteins]\n",
    "\n",
    "num_to_prot_name = dict()\n",
    "for i, x in enumerate(name_list):\n",
    "    num_to_prot_name[name_list[i]] = i"
   ]
  },
  {
   "cell_type": "code",
   "execution_count": 4,
   "id": "4500e147",
   "metadata": {},
   "outputs": [
    {
     "name": "stdout",
     "output_type": "stream",
     "text": [
      "126\n"
     ]
    }
   ],
   "source": [
    "#To lookup a protein name given number\n",
    "# prot_num = 272\n",
    "# print(name_list[prot_num])\n",
    "\n",
    "#To lookup a protein number given name\n",
    "prot_name = 'INS2_MOUSE'\n",
    "print(num_to_prot_name[prot_name])"
   ]
  },
  {
   "cell_type": "markdown",
   "id": "c2c8ae01",
   "metadata": {},
   "source": [
    "# Mapping spectrum_num to (correct_sequence, parent_prot)"
   ]
  },
  {
   "cell_type": "code",
   "execution_count": 7,
   "id": "36984bc1",
   "metadata": {},
   "outputs": [],
   "source": [
    "import testing_utils\n",
    "datasets = testing_utils.define_data()\n",
    "\n",
    "dataset = datasets[0]\n",
    "\n",
    "\n",
    "correct_sequences = testing_utils.generate_truth_set(datasets[0])"
   ]
  },
  {
   "cell_type": "code",
   "execution_count": 8,
   "id": "17cfa3b9",
   "metadata": {},
   "outputs": [
    {
     "ename": "SyntaxError",
     "evalue": "unexpected EOF while parsing (<ipython-input-8-bb0b2d992695>, line 2)",
     "output_type": "error",
     "traceback": [
      "\u001b[0;36m  File \u001b[0;32m\"<ipython-input-8-bb0b2d992695>\"\u001b[0;36m, line \u001b[0;32m2\u001b[0m\n\u001b[0;31m    for i in range(0,1086):\u001b[0m\n\u001b[0m                           ^\u001b[0m\n\u001b[0;31mSyntaxError\u001b[0m\u001b[0;31m:\u001b[0m unexpected EOF while parsing\n"
     ]
    }
   ],
   "source": [
    "total_\n",
    "with open(datasets[0], 'r') as d:\n",
    "    \n",
    "spectrum_num_to_seq_pair = dict()\n",
    "for i in range(0,1086):\n",
    "    \n",
    "    # spectrum_num_to_seq_pair[i].add(correct_sequences[i], parent_prot)"
   ]
  },
  {
   "cell_type": "code",
   "execution_count": null,
   "id": "b09b1405",
   "metadata": {},
   "outputs": [],
   "source": []
  }
 ],
 "metadata": {
  "kernelspec": {
   "display_name": "Python 3",
   "language": "python",
   "name": "python3"
  },
  "language_info": {
   "codemirror_mode": {
    "name": "ipython",
    "version": 3
   },
   "file_extension": ".py",
   "mimetype": "text/x-python",
   "name": "python",
   "nbconvert_exporter": "python",
   "pygments_lexer": "ipython3",
   "version": "3.7.10"
  }
 },
 "nbformat": 4,
 "nbformat_minor": 5
}

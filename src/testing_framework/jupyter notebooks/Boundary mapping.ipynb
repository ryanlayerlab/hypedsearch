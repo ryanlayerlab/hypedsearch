{
 "cells": [
  {
   "cell_type": "markdown",
   "id": "82afa258",
   "metadata": {},
   "source": [
    "# Boundary mapping\n",
    "\n",
    "The purpose of this notebook is to mess around with all the different options available with boundary mapping"
   ]
  },
  {
   "cell_type": "code",
   "execution_count": 1,
   "id": "8e2247c9",
   "metadata": {},
   "outputs": [],
   "source": [
    "import os\n",
    "import sys\n",
    "\n",
    "module_path = os.path.abspath(os.path.join('../..'))\n",
    "if module_path not in sys.path:\n",
    "    sys.path.append(module_path)\n",
    "\n",
    "import database\n",
    "from testing_framework import testing_utils\n",
    "from preprocessing import preprocessing_utils, merge_search\n",
    "from identification import create_hits\n",
    "import operator\n",
    "import collections\n",
    "\n",
    "\n",
    "#Assumptions:\n",
    "max_peptide_length = 23\n",
    "ppm_tolerance = 20\n",
    "peak_filter = 25\n",
    "relative_abundance_filter = 0.1\n",
    "\n",
    "import matplotlib.pyplot as plt"
   ]
  },
  {
   "cell_type": "code",
   "execution_count": 2,
   "id": "58256063",
   "metadata": {},
   "outputs": [],
   "source": [
    "datasets = testing_utils.define_data()\n",
    "\n",
    "dataset = datasets[0]\n",
    "\n",
    "input_spectra_path = [os.path.join(dataset[0], 'NOD2_E3.mzML')]\n",
    "input_spectra, boundaries = preprocessing_utils.load_spectra(input_spectra_path, ppm_tolerance, peak_filter=peak_filter, relative_abundance_filter=relative_abundance_filter)\n",
    "\n",
    "correct_sequences = testing_utils.generate_truth_set(datasets[0])\n",
    "\n",
    "path = dataset[2]\n",
    "db = database.build(path)"
   ]
  },
  {
   "cell_type": "code",
   "execution_count": 4,
   "id": "67235693",
   "metadata": {
    "scrolled": true
   },
   "outputs": [
    {
     "name": "stdout",
     "output_type": "stream",
     "text": [
      "On protein 279/279 [100%]\n",
      "Sorting the set of protein masses...\n",
      "Sorting the set of protein masses done\n",
      "Performing Merge\n",
      "Done\n",
      "Finished matching masses\n"
     ]
    }
   ],
   "source": [
    "write_path = os.path.abspath(os.path.join(module_path, 'intermediate_files'))\n",
    "matched_masses_b, matched_masses_y, kmer_set = merge_search.modified_match_masses(boundaries, db, max_peptide_length, True, write_path)\n",
    "print('Finished matching masses')"
   ]
  },
  {
   "cell_type": "markdown",
   "id": "3c0613d2",
   "metadata": {},
   "source": [
    "# Grabbing hits"
   ]
  },
  {
   "cell_type": "code",
   "execution_count": null,
   "id": "425c78e5",
   "metadata": {
    "scrolled": true
   },
   "outputs": [],
   "source": [
    "spectrum_num = 100\n",
    "correct_sequence = correct_sequences[spectrum_num]\n",
    "print(correct_sequence)\n",
    "\n",
    "input_spectrum = input_spectra[spectrum_num]\n",
    "\n",
    "#Remember to add in abundance if it is helpful\n",
    "location = os.path.join(module_path, 'intermediate_files')\n",
    "b_hits, y_hits = create_hits(spectrum_num, input_spectrum, matched_masses_b, matched_masses_y, False, location)\n",
    "correct_hits = testing_utils.append_correct_hits(correct_sequence, input_spectrum, ppm_tolerance)"
   ]
  },
  {
   "cell_type": "code",
   "execution_count": null,
   "id": "8b265aa8",
   "metadata": {
    "scrolled": true
   },
   "outputs": [],
   "source": [
    "print(input_spectrum.mz_values)"
   ]
  },
  {
   "cell_type": "markdown",
   "id": "0709f803",
   "metadata": {},
   "source": [
    "# Scoring hits"
   ]
  },
  {
   "cell_type": "code",
   "execution_count": null,
   "id": "3d86f98a",
   "metadata": {},
   "outputs": [],
   "source": [
    "from utils import hashable_boundaries\n",
    "\n",
    "def get_unique_matched_masses(boundaries, matched_masses_b, matched_masses_y):\n",
    "    unique_b,unique_y = dict(), dict()\n",
    "    for mz in boundaries.keys():\n",
    "        unique_b[mz],unique_y[mz] = [],[]\n",
    "        for x in matched_masses_b[mz]:\n",
    "            seq = x[2]\n",
    "            charge = x[5]\n",
    "            if seq not in unique_b[mz]:\n",
    "                unique_b[mz].append(seq)\n",
    "        for x in matched_masses_y[mz]:\n",
    "            seq = x[2]\n",
    "            charge = x[5]\n",
    "            if seq not in unique_y[mz]:\n",
    "                unique_y[mz].append(seq)\n",
    "    return unique_b, unique_y\n",
    "\n",
    "unique_b,unique_y = get_unique_matched_masses(boundaries, matched_masses_b, matched_masses_y)"
   ]
  },
  {
   "cell_type": "markdown",
   "id": "d43ace39",
   "metadata": {},
   "source": [
    "# Clustering b hits"
   ]
  },
  {
   "cell_type": "code",
   "execution_count": null,
   "id": "2f20a788",
   "metadata": {},
   "outputs": [],
   "source": [
    "def write_cluster(cluster):\n",
    "    if len(cluster) == 0 : return None\n",
    "    O = []\n",
    "    O.append(len(cluster))\n",
    "    O.append(cluster[0].pid)\n",
    "    max_len = 0\n",
    "    max_hit = None\n",
    "    for hit in cluster:\n",
    "        l = hit.end - hit.start + 1\n",
    "        if l > max_len:\n",
    "            max_len = l\n",
    "            max_hit = hit\n",
    "    O.append(max_hit.seq)\n",
    "    O.append(max_hit.mz)\n",
    "    O.append(max_hit.start)\n",
    "    O.append(max_hit.end)\n",
    "    for hit in cluster:\n",
    "        O.append( (hit.start, hit.end, hit.seq, hit.mz) ) \n",
    "    return O\n",
    "def parse_hits(Hit, all_hits):\n",
    "    hits = []\n",
    "    for A in all_hits:\n",
    "        pid = int(A[2][1])\n",
    "        start = int(A[2][3].split('-')[0])\n",
    "        end = int(A[2][3].split('-')[1])\n",
    "        seq = A[2][2]\n",
    "        mz = A[1]\n",
    "\n",
    "        hits.append( Hit(pid=pid, start=start, end=end, seq=seq, mz=mz) )\n",
    "    return hits\n",
    "\n",
    "def create_clusters(ion, b_hits, y_hits):\n",
    "    clusters = []\n",
    "    Hit = collections.namedtuple('Hit', 'pid start end seq mz')\n",
    "    if ion == 'b':\n",
    "        hits = parse_hits(Hit, b_hits)\n",
    "        sorted_hits = sorted(hits, key=operator.attrgetter('pid', 'start', 'end'))\n",
    "        last_pid = None\n",
    "        last_start = None\n",
    "        cluster = []\n",
    "        if ion == 'b':\n",
    "            for hit in sorted_hits:\n",
    "                if last_pid == hit.pid and last_start == hit.start:\n",
    "                    cluster.append(hit)\n",
    "                else:\n",
    "                    if cluster != []:\n",
    "                        clusters.append(write_cluster(cluster))\n",
    "                    cluster = [hit]\n",
    "                last_pid = hit.pid\n",
    "                last_start = hit.start\n",
    "    else:\n",
    "        hits = parse_hits(Hit, y_hits)\n",
    "        sorted_hits = sorted(hits, key=operator.attrgetter('pid', 'end', 'start'))\n",
    "        last_pid = None\n",
    "        last_start = None\n",
    "        cluster = []\n",
    "        if ion == 'y':\n",
    "            for hit in sorted_hits:\n",
    "                if last_pid == hit.pid and last_end == hit.end:\n",
    "                    cluster.append(hit)\n",
    "                else:\n",
    "                    if cluster != []:\n",
    "                        clusters.append(write_cluster(cluster))\n",
    "                    cluster = [hit]\n",
    "                last_pid = hit.pid\n",
    "                last_end = hit.end\n",
    "    return clusters"
   ]
  },
  {
   "cell_type": "code",
   "execution_count": null,
   "id": "fd3ee412",
   "metadata": {},
   "outputs": [],
   "source": [
    "import utils\n",
    "\n",
    "def calc_mass_given_other_explanations(unique_m, seq, mz):\n",
    "    oEXPnum = (len(unique_m[mz]) - 1)/ len(unique_m[mz])\n",
    "    if oEXPnum == 0:\n",
    "        return 0\n",
    "    else:\n",
    "        p = 0\n",
    "        for i, seq2 in enumerate(unique_m[mz]):\n",
    "            if seq == seq2:\n",
    "                continue\n",
    "            else:\n",
    "                p = p + 1/len(seq2)\n",
    "        return p\n",
    "\n",
    "def Bayes_given_mass(pH, seq, mz, unique_m):\n",
    "    pEH = 1/len(seq)\n",
    "    pnH = 1-pH\n",
    "    pEnH = calc_mass_given_other_explanations(unique_m, seq, mz)\n",
    "    prob = (pH * pEH)/((pH*pEH)+(pnH*pEnH))\n",
    "#     print(seq,pH,pEH,(pH*pEH),(pnH*pEnH),pnH,pEnH)\n",
    "    return prob\n",
    "\n",
    "def Bayes(seq, mz, unique_m, indices, kmer_set):\n",
    "    pH = len(seq)/len(kmer_set)\n",
    "    for index in reversed(indices):\n",
    "        prob = Bayes_given_mass(pH, seq, mz, unique_m)\n",
    "        pH = prob\n",
    "    return prob\n",
    "\n",
    "def parse_indices(index_set):\n",
    "    indices = []\n",
    "    for index in index_set:\n",
    "        string = str(index)\n",
    "        A = string.rstrip().split(',')\n",
    "        start = A[0]\n",
    "        end = A[1]\n",
    "        seq = A[2]\n",
    "        mz = A[3]\n",
    "        disallowed_characters = \" ()\\'\"\n",
    "        for character in disallowed_characters:\n",
    "            start = start.replace(character, \"\")\n",
    "            end = end.replace(character, \"\")\n",
    "            seq = seq.replace(character, \"\")\n",
    "            mz = mz.replace(character, \"\")\n",
    "        \n",
    "        target_tuple = (int(start), int(end), seq, float(mz))\n",
    "        indices.append(target_tuple)\n",
    "    \n",
    "    \n",
    "    return indices\n",
    "\n",
    "def Bayes_clusters(ion, clusters, path, unique_b, unique_y, kmer_set):\n",
    "    cluster = collections.namedtuple('cluster', 'prob score pid start end seq mz indices')\n",
    "    if ion == 'b':\n",
    "        b_cluster_array = []\n",
    "        for A in clusters:\n",
    "            score = A[0]\n",
    "            pid = int(A[1])\n",
    "            seq = A[2]\n",
    "            mz = float(A[3])\n",
    "            start = int(A[4])\n",
    "            end = int(A[5])\n",
    "            indices = A[6:]\n",
    "            prob = Bayes(seq, mz, unique_b, indices, kmer_set)\n",
    "            target_cluster = cluster(prob=prob, score=score, pid=pid, start=start, end=end, seq=seq, mz=mz, indices=indices)\n",
    "\n",
    "            b_cluster_array.append(target_cluster)\n",
    "\n",
    "        b_sorted_clusters = sorted(b_cluster_array, key=operator.attrgetter('score', 'pid'), reverse = True)\n",
    "        return b_sorted_clusters\n",
    "    else:\n",
    "        y_cluster_array = []\n",
    "        for A in clusters:\n",
    "            score = A[0]\n",
    "            pid = int(A[1])\n",
    "            seq = A[2]\n",
    "            mz = float(A[3])\n",
    "            start = int(A[4])\n",
    "            end = int(A[5])\n",
    "            indices = A[6:]\n",
    "            prob = Bayes(seq, mz, unique_y, indices, kmer_set)\n",
    "            target_cluster = cluster(prob=prob, score=score, pid=pid, start=start, end=end, seq=seq, mz=mz, indices=indices)\n",
    "            y_cluster_array.append(target_cluster)\n",
    "\n",
    "        y_sorted_clusters = sorted(y_cluster_array, key=operator.attrgetter('score', 'pid'), reverse = True)\n",
    "        return y_sorted_clusters"
   ]
  },
  {
   "cell_type": "code",
   "execution_count": null,
   "id": "2e07f566",
   "metadata": {
    "scrolled": true
   },
   "outputs": [],
   "source": [
    "ion = 'b'\n",
    "path = os.path.join(os.path.abspath(os.path.join('../..')), 'intermediate_files/')\n",
    "clusters = create_clusters(ion, b_hits, y_hits)\n",
    "print(clusters[0])\n",
    "b_sorted_clusters = Bayes_clusters(ion, clusters, path, unique_b, unique_y, kmer_set)"
   ]
  },
  {
   "cell_type": "markdown",
   "id": "a0386f7c",
   "metadata": {},
   "source": [
    "# Printing data"
   ]
  },
  {
   "cell_type": "code",
   "execution_count": null,
   "id": "db533d63",
   "metadata": {
    "scrolled": true
   },
   "outputs": [],
   "source": [
    "# b_sorted_clusters = sorted(b_sorted_clusters, key=operator.attrgetter('score', 'prob', 'pid'), reverse = True)\n",
    "b_sorted_clusters = sorted(b_sorted_clusters, key=operator.attrgetter('prob', 'score', 'pid'))\n",
    "testing_utils.write_b_sorted_cluster(b_sorted_clusters)\n",
    "for i in range(0,50):\n",
    "    x = b_sorted_clusters[i]\n",
    "    post_prob = x.prob\n",
    "    score = x.score\n",
    "    seq = x.seq\n",
    "    indices = x.indices\n",
    "    print(post_prob, score, seq)"
   ]
  },
  {
   "cell_type": "markdown",
   "id": "131f4e93",
   "metadata": {},
   "source": [
    "# Clustering y_hits"
   ]
  },
  {
   "cell_type": "code",
   "execution_count": 57,
   "id": "a7b5d395",
   "metadata": {
    "scrolled": true
   },
   "outputs": [],
   "source": [
    "ion = 'y'\n",
    "path = os.path.join(os.path.abspath(os.path.join('../..')), 'intermediate_files/')\n",
    "clusters = create_clusters(ion, b_hits, y_hits)\n",
    "y_sorted_clusters = Bayes_clusters(ion, clusters, path, kmer_set)"
   ]
  },
  {
   "cell_type": "markdown",
   "id": "b773daf9",
   "metadata": {},
   "source": [
    "# Printing data"
   ]
  },
  {
   "cell_type": "code",
   "execution_count": 77,
   "id": "c91d7f6b",
   "metadata": {
    "scrolled": true
   },
   "outputs": [
    {
     "name": "stdout",
     "output_type": "stream",
     "text": [
      "6.251216361254701e-18 5 VQSSRSGRGGNFGFG\n",
      "7.93187399385487e-18 5 EQIKEYFG\n",
      "3.7744989088666756e-17 4 TNHFLVELHKDG\n",
      "9.212250774596327e-16 4 NVGAGGPAPAAGAAPAGGAAPS\n",
      "1.124874206212982e-15 4 PGFGAPAASQVASAQPG\n",
      "1.3006481413536612e-14 3 NIGEQGHMALLG\n",
      "1.3737665244739614e-14 3 VAAAASVPAQSTARTG\n",
      "1.53786417388688e-14 3 AVPAASYGRIYAGGG\n",
      "1.5634100899348267e-14 3 ALANVNIGSLICNVG\n",
      "1.5634100899348267e-14 3 GLTSLTEPPKGPGFG\n",
      "1.7952154651857537e-14 3 RAHYITVIAKDGGG\n",
      "1.7952154651857544e-14 3 PEKVTPVAAVQDGF\n",
      "2.2736368109813266e-14 3 DHGVQGPVAGTGDFG\n",
      "2.6627539105973593e-14 3 QVAQFLKAAEDYG\n",
      "3.522508843246268e-14 3 ARTKCQEVVGTFG\n",
      "3.522508843246268e-14 3 RILENPQGLSDPG\n",
      "4.135847291853432e-14 3 VIVFDTDNRIFG\n",
      "5.526307802019468e-14 3 LLDEGHYPVRESP\n",
      "5.541605281949941e-14 3 VMSDPNRPPCRKN\n",
      "5.5575772511336463e-14 3 NVAVALQFGAEIGNYSCAAAG\n",
      "5.795815072607436e-14 3 PESYFSPGKAFEG\n",
      "6.128808359836822e-14 3 GGRGGARGRGRGQGQNWNQG\n",
      "6.506968632377694e-14 3 QFHFKDFNRAFG\n",
      "6.792858752491663e-14 3 YGYTHLSTGDLLRAEVSSG\n",
      "6.792858752491663e-14 3 VCKCFCRSKGHGFITPADG\n",
      "7.57098382075783e-14 3 GKCAQEGNKPSTQKQYRC\n",
      "8.405229148112464e-14 3 MARQFQDVSFG\n",
      "8.405229148112464e-14 3 YEDTLVVQDFG\n",
      "8.490890749631664e-14 3 DAIYKEFSFKNFNQAFG\n",
      "1.049147183554128e-13 3 VNDGVFG\n",
      "1.1117783336109395e-13 3 SLGGQYGVQG\n",
      "1.536347079421443e-13 3 GSRGGAFG\n",
      "1.740776223218704e-13 3 RPDNFIFG\n",
      "1.9212355210169362e-13 3 HKTSTSP\n",
      "3.000996848023583e-13 3 AINVFHPATYFG\n",
      "3.000996848023583e-13 3 TDRQSGKKRGFG\n",
      "4.3047282639751124e-13 3 VLDDLDPESATLPAG\n",
      "4.945687267298963e-13 3 CIGEYSLIVNTATE\n",
      "4.945687267298963e-13 3 ENFRALSTGEKGFG\n",
      "6.366236801756488e-13 3 GLAKQPSFRQYSG\n",
      "6.638532643252598e-13 3 ELTQDMELVETRPAG\n",
      "7.627954768770411e-13 3 VARYNSYQSFQTPQ\n",
      "9.779859711026875e-13 3 PMVSPAEASPQSIGSQG\n",
      "1.105049166178841e-12 3 QTTDVVHSPSTDTTPG\n",
      "1.1219352339834567e-12 3 EYTVMAITGMAID\n",
      "1.2585847518386335e-12 3 DLELAVDLDDIPEAD\n",
      "1.5717096400445622e-12 3 EQKDSENYRVF\n",
      "5.4758168562444436e-12 2 ASGRTTGIVLDSG\n",
      "5.933022996145067e-12 2 AAVLATPTEDVF\n",
      "5.933022996145067e-12 2 PLVTEETPPPPG\n"
     ]
    }
   ],
   "source": [
    "# y_sorted_clusters = sorted(y_sorted_clusters, key=operator.attrgetter('score', 'prob', 'pid'), reverse = True)\n",
    "y_sorted_clusters = sorted(y_sorted_clusters, key=operator.attrgetter('prob', 'score', 'pid'))\n",
    "for i in range(0, 50):\n",
    "    x = y_sorted_clusters[i]\n",
    "    post_prob = x.prob\n",
    "    score = x.score\n",
    "    seq = x.seq\n",
    "    indices = x.indices\n",
    "    print(post_prob, score, seq)"
   ]
  },
  {
   "cell_type": "markdown",
   "id": "de10fca2",
   "metadata": {},
   "source": [
    "# Plotting"
   ]
  },
  {
   "cell_type": "code",
   "execution_count": 59,
   "id": "d0677a9d",
   "metadata": {
    "scrolled": true
   },
   "outputs": [
    {
     "name": "stdout",
     "output_type": "stream",
     "text": [
      "Collecting data...\n",
      "Done\n"
     ]
    }
   ],
   "source": [
    "from scoring import mass_comparisons\n",
    "import gen_spectra\n",
    "print(\"Collecting data...\")\n",
    "score_array = []\n",
    "posterior_array = []\n",
    "bscore_array = []\n",
    "for cluster in b_sorted_clusters:\n",
    "    score_array.append(mass_comparisons.optimized_compare_masses(input_spectrum.mz_values, gen_spectra.gen_spectrum(cluster.seq, ion='b')))\n",
    "    posterior_array.append(cluster.prob)\n",
    "    bscore_array.append(cluster.score)\n",
    "for cluster in y_sorted_clusters:\n",
    "    score_array.append(mass_comparisons.optimized_compare_masses(input_spectrum.mz_values, gen_spectra.gen_spectrum(cluster.seq, ion='y')))\n",
    "    posterior_array.append(cluster.prob)\n",
    "    bscore_array.append(cluster.score)\n",
    "print(\"Done\")\n"
   ]
  },
  {
   "cell_type": "code",
   "execution_count": 60,
   "id": "ae6351ef",
   "metadata": {
    "scrolled": false
   },
   "outputs": [
    {
     "data": {
      "text/plain": [
       "Text(0.5, 1.0, 'Posterior probability vs Simple additive scoring')"
      ]
     },
     "execution_count": 60,
     "metadata": {},
     "output_type": "execute_result"
    },
    {
     "data": {
      "image/png": "[encoded data removed]",
      "text/plain": [
       "<Figure size 432x288 with 1 Axes>"
      ]
     },
     "metadata": {
      "needs_background": "light"
     },
     "output_type": "display_data"
    }
   ],
   "source": [
    "plt.scatter(posterior_array, score_array, s=None)\n",
    "plt.ylabel('Score by simple additive scoring')\n",
    "plt.xlabel('Posterior probability')\n",
    "plt.title(\"Posterior probability vs Simple additive scoring\")"
   ]
  },
  {
   "cell_type": "code",
   "execution_count": 61,
   "id": "65b906a6",
   "metadata": {
    "scrolled": false
   },
   "outputs": [
    {
     "data": {
      "text/plain": [
       "Text(0.5, 1.0, 'Posterior probability vs cluster scoring')"
      ]
     },
     "execution_count": 61,
     "metadata": {},
     "output_type": "execute_result"
    },
    {
     "data": {
      "image/png": "[encoded data removed]",
      "text/plain": [
       "<Figure size 432x288 with 1 Axes>"
      ]
     },
     "metadata": {
      "needs_background": "light"
     },
     "output_type": "display_data"
    }
   ],
   "source": [
    "plt.scatter(posterior_array, bscore_array, s=None)\n",
    "plt.xlabel(\"Posterior probability\")\n",
    "plt.ylabel(\"Score by clustering\")\n",
    "plt.title(\"Posterior probability vs cluster scoring\")"
   ]
  },
  {
   "cell_type": "markdown",
   "id": "9408ce41",
   "metadata": {},
   "source": [
    "# Probability of true positives"
   ]
  },
  {
   "cell_type": "code",
   "execution_count": 62,
   "id": "87993cb4",
   "metadata": {},
   "outputs": [],
   "source": [
    "def calc_average(list):\n",
    "    total = 0\n",
    "    for x in list:\n",
    "        total = total + x\n",
    "    return total / len(list)"
   ]
  },
  {
   "cell_type": "code",
   "execution_count": 63,
   "id": "e09edede",
   "metadata": {},
   "outputs": [],
   "source": [
    "for cluster in b_sorted_clusters:\n",
    "    assessment, _ = testing_utils.is_good_hit(cluster.seq, ion, correct_sequence)\n",
    "    if assessment == True:\n",
    "        print('Yay')\n",
    "# for cluster in y_sorted_clusters:\n",
    "#     assessment, _ = testing_utils.is_good_hit(cluster.seq, ion, correct_sequence)\n",
    "#     if assessment == True:\n",
    "#         print('Yay')"
   ]
  },
  {
   "cell_type": "code",
   "execution_count": 64,
   "id": "6dba6c1d",
   "metadata": {},
   "outputs": [
    {
     "name": "stdout",
     "output_type": "stream",
     "text": [
      "Average probability of b true positives in first spectrum: 9.133419527453328e-09\n",
      "Average count of b true positives in first spectrum: 1.0\n",
      "Average probability of y true positives in first spectrum: 0.964401820621643\n",
      "Average count of y true positives in first spectrum: 1.0360858257477243\n",
      "Average probability of false positives in the first spectrum: 7.425941806848212e-05\n",
      "Average count of false positives in the first spectrum: 1.1115293770298198\n",
      "Number of true b positives 1\n",
      "Number of true y positives 6152\n",
      "Number of bad clusters 27096\n"
     ]
    }
   ],
   "source": [
    "b_sorted_clusters = sorted(b_sorted_clusters, key=operator.attrgetter('prob', 'score', 'pid'), reverse = True)\n",
    "y_sorted_clusters = sorted(y_sorted_clusters, key=operator.attrgetter('prob', 'score', 'pid'), reverse = True)\n",
    "\n",
    "\n",
    "b_post_prob_array = []\n",
    "b_score_array = []\n",
    "y_post_prob_array = []\n",
    "y_score_array = []\n",
    "bad_clusters_prob = []\n",
    "bad_clusters_score = []\n",
    "ion = 'b'\n",
    "for cluster in b_sorted_clusters:\n",
    "    assessment, _ = testing_utils.is_good_hit(cluster.seq, ion, correct_sequence)\n",
    "    if assessment == True:\n",
    "        b_post_prob_array.append(cluster.prob)\n",
    "        b_score_array.append(cluster.score)\n",
    "    else:\n",
    "        bad_clusters_prob.append(cluster.prob)\n",
    "        bad_clusters_score.append(cluster.score)\n",
    "ion = 'y'\n",
    "for cluster in y_sorted_clusters:\n",
    "    assessment, _ = testing_utils.is_good_hit(cluster.seq, ion, correct_sequence)\n",
    "    if assessment == True:\n",
    "        y_post_prob_array.append(cluster.prob)\n",
    "        y_score_array.append(cluster.score)\n",
    "    else:\n",
    "        bad_clusters_prob.append(cluster.prob)\n",
    "        bad_clusters_score.append(cluster.score)   \n",
    "\n",
    "b_range = []\n",
    "y_range = []\n",
    "for i, x in enumerate(b_post_prob_array):\n",
    "    b_range.append(i)\n",
    "for i, x in enumerate(y_post_prob_array):\n",
    "    y_range.append(i)\n",
    "print('Average probability of b true positives in first spectrum:' ,calc_average(b_post_prob_array))\n",
    "print('Average count of b true positives in first spectrum:' ,calc_average(b_score_array))\n",
    "print('Average probability of y true positives in first spectrum:' ,calc_average(y_post_prob_array))\n",
    "print('Average count of y true positives in first spectrum:' ,calc_average(y_score_array))\n",
    "print('Average probability of false positives in the first spectrum:', calc_average(bad_clusters_prob))\n",
    "print('Average count of false positives in the first spectrum:', calc_average(bad_clusters_score))\n",
    "print('Number of true b positives', len(b_range))\n",
    "print('Number of true y positives', len(y_range))\n",
    "print('Number of bad clusters', len(bad_clusters_prob))"
   ]
  },
  {
   "cell_type": "code",
   "execution_count": 65,
   "id": "82638419",
   "metadata": {
    "scrolled": false
   },
   "outputs": [
    {
     "data": {
      "image/png": "[encoded data removed]",
      "text/plain": [
       "<Figure size 432x288 with 1 Axes>"
      ]
     },
     "metadata": {
      "needs_background": "light"
     },
     "output_type": "display_data"
    }
   ],
   "source": [
    "fig1, ax1 = plt.subplots()\n",
    "ax1.scatter(x = b_range, y = b_post_prob_array)\n",
    "plt.title(\"Distribution of posterior_probabilities for b ions of \" + correct_sequence)\n",
    "plt.xlabel(\"good_hit_num\")\n",
    "plt.ylabel(\"Posterior probability\")\n",
    "plt.show()"
   ]
  },
  {
   "cell_type": "code",
   "execution_count": 66,
   "id": "7e8c194a",
   "metadata": {
    "scrolled": true
   },
   "outputs": [
    {
     "data": {
      "image/png": "[encoded data removed]",
      "text/plain": [
       "<Figure size 432x288 with 1 Axes>"
      ]
     },
     "metadata": {
      "needs_background": "light"
     },
     "output_type": "display_data"
    }
   ],
   "source": [
    "fig1, ax1 = plt.subplots()\n",
    "ax1.scatter(x = y_range, y = y_post_prob_array)\n",
    "plt.title(\"Distribution of posterior_probabilities for y ions of \" + correct_sequence)\n",
    "plt.xlabel(\"good_hit_num\")\n",
    "plt.ylabel(\"Posterior probability\")\n",
    "plt.show()"
   ]
  },
  {
   "cell_type": "markdown",
   "id": "a841dcae",
   "metadata": {},
   "source": [
    "# Seed Location\n",
    "\n",
    "Want to know where the good seeds rank compared to the bad seeds when sorted by score and sorted by posterior probability\n",
    "\n",
    "Bottom is going to be enumerated array while vertical will be the score or posterior probability. The graph will be colored red or green depending on true or not"
   ]
  },
  {
   "cell_type": "code",
   "execution_count": 67,
   "id": "e9aaa009",
   "metadata": {},
   "outputs": [
    {
     "name": "stdout",
     "output_type": "stream",
     "text": [
      "Collecting Data...\n",
      "Done\n"
     ]
    }
   ],
   "source": [
    "print(\"Collecting Data...\")\n",
    "b_sorted_clusters = sorted(b_sorted_clusters, key=operator.attrgetter('prob', 'score', 'pid'), reverse = True)\n",
    "y_sorted_clusters = sorted(y_sorted_clusters, key=operator.attrgetter('prob', 'score', 'pid'), reverse = True)\n",
    "b_good_indexes = []\n",
    "b_bad_indexes = []\n",
    "b_good_cluster_prob = []\n",
    "b_bad_cluster_prob = []\n",
    "y_good_indexes = []\n",
    "y_bad_indexes = []\n",
    "y_good_cluster_prob = []\n",
    "y_bad_cluster_prob = []\n",
    "ion = 'b'\n",
    "for i, cluster in enumerate(b_sorted_clusters):\n",
    "    assessment, _ = testing_utils.is_good_hit(cluster.seq, ion, correct_sequence)\n",
    "    if assessment == True:\n",
    "        b_good_indexes.append(i)\n",
    "        b_good_cluster_prob.append(cluster.prob)\n",
    "    else:\n",
    "        b_bad_indexes.append(i)\n",
    "        b_bad_cluster_prob.append(cluster.prob)\n",
    "ion = 'y'\n",
    "for i, cluster in enumerate(y_sorted_clusters):\n",
    "    assessment, _ = testing_utils.is_good_hit(cluster.seq, ion, correct_sequence)\n",
    "    if assessment == True:\n",
    "        y_good_indexes.append(i)\n",
    "        y_good_cluster_prob.append(cluster.prob)\n",
    "    else:\n",
    "        y_bad_indexes.append(i)\n",
    "        y_bad_cluster_prob.append(cluster.prob)\n",
    "print('Done')"
   ]
  },
  {
   "cell_type": "code",
   "execution_count": 68,
   "id": "6e7795e0",
   "metadata": {
    "scrolled": true
   },
   "outputs": [
    {
     "name": "stdout",
     "output_type": "stream",
     "text": [
      "No good hit found in the top 50 clusters\n"
     ]
    },
    {
     "data": {
      "text/plain": [
       "<matplotlib.legend.Legend at 0x7f02dad1d150>"
      ]
     },
     "execution_count": 68,
     "metadata": {},
     "output_type": "execute_result"
    },
    {
     "data": {
      "image/png": "[encoded data removed]",
      "text/plain": [
       "<Figure size 432x288 with 1 Axes>"
      ]
     },
     "metadata": {
      "needs_background": "light"
     },
     "output_type": "display_data"
    }
   ],
   "source": [
    "ion = 'b'\n",
    "found = False\n",
    "for i in range(0,50):\n",
    "    target_cluster = b_sorted_clusters[i]\n",
    "    assessment, _ = testing_utils.is_good_hit(target_cluster.seq, ion, correct_sequence)\n",
    "    if assessment == True:\n",
    "        print('Good hit found at:', i)\n",
    "        found = True\n",
    "if not found:\n",
    "    print(\"No good hit found in the top 50 clusters\")\n",
    "plt.scatter(b_bad_indexes, b_bad_cluster_prob, color = 'r', label = 'Bad hits')\n",
    "plt.scatter(b_good_indexes, b_good_cluster_prob, color = 'g', label = 'Good hits')\n",
    "plt.title('Rank of b hits when sorted by posterior probability')\n",
    "plt.xlabel('Rank of hits')\n",
    "plt.ylabel('Posterior Probability')\n",
    "plt.legend()"
   ]
  },
  {
   "cell_type": "code",
   "execution_count": 69,
   "id": "4502f087",
   "metadata": {
    "scrolled": false
   },
   "outputs": [
    {
     "name": "stdout",
     "output_type": "stream",
     "text": [
      "Good hit found at: 0\n",
      "Good hit found at: 1\n",
      "Good hit found at: 2\n",
      "Good hit found at: 3\n",
      "Good hit found at: 4\n",
      "Good hit found at: 5\n",
      "Good hit found at: 6\n",
      "Good hit found at: 7\n",
      "Good hit found at: 8\n",
      "Good hit found at: 9\n",
      "Good hit found at: 10\n",
      "Good hit found at: 11\n",
      "Good hit found at: 12\n",
      "Good hit found at: 13\n",
      "Good hit found at: 14\n",
      "Good hit found at: 15\n",
      "Good hit found at: 16\n",
      "Good hit found at: 17\n",
      "Good hit found at: 18\n",
      "Good hit found at: 19\n",
      "Good hit found at: 20\n",
      "Good hit found at: 21\n",
      "Good hit found at: 22\n",
      "Good hit found at: 23\n",
      "Good hit found at: 24\n",
      "Good hit found at: 25\n",
      "Good hit found at: 26\n",
      "Good hit found at: 27\n",
      "Good hit found at: 28\n",
      "Good hit found at: 29\n",
      "Good hit found at: 30\n",
      "Good hit found at: 31\n",
      "Good hit found at: 32\n",
      "Good hit found at: 33\n",
      "Good hit found at: 34\n",
      "Good hit found at: 35\n",
      "Good hit found at: 36\n",
      "Good hit found at: 37\n",
      "Good hit found at: 38\n",
      "Good hit found at: 39\n",
      "Good hit found at: 40\n",
      "Good hit found at: 41\n",
      "Good hit found at: 42\n",
      "Good hit found at: 43\n",
      "Good hit found at: 44\n",
      "Good hit found at: 45\n",
      "Good hit found at: 46\n",
      "Good hit found at: 47\n",
      "Good hit found at: 48\n",
      "Good hit found at: 49\n"
     ]
    },
    {
     "data": {
      "text/plain": [
       "<matplotlib.legend.Legend at 0x7f0220c7d2d0>"
      ]
     },
     "execution_count": 69,
     "metadata": {},
     "output_type": "execute_result"
    },
    {
     "data": {
      "image/png": "[encoded data removed]",
      "text/plain": [
       "<Figure size 432x288 with 1 Axes>"
      ]
     },
     "metadata": {
      "needs_background": "light"
     },
     "output_type": "display_data"
    }
   ],
   "source": [
    "ion = 'y'\n",
    "found = False\n",
    "for i in range(0,50):\n",
    "    target_cluster = y_sorted_clusters[i]\n",
    "    assessment, _ = testing_utils.is_good_hit(target_cluster.seq, ion, correct_sequence)\n",
    "    if assessment == True:\n",
    "        print('Good hit found at:', i)\n",
    "        found = True\n",
    "if not found:\n",
    "    print(\"No good hit found in the top 50 clusters\")\n",
    "plt.scatter(y_bad_indexes, y_bad_cluster_prob, color = 'r', label = 'Bad hits')\n",
    "plt.scatter(y_good_indexes, y_good_cluster_prob, color = 'g', label = 'Good hits')\n",
    "plt.title('Rank of y hits when sorted by posterior probability')\n",
    "plt.xlabel('Rank of hits')\n",
    "plt.ylabel('Posterior Probability')\n",
    "plt.legend()"
   ]
  },
  {
   "cell_type": "code",
   "execution_count": 70,
   "id": "9f4f866c",
   "metadata": {},
   "outputs": [
    {
     "name": "stdout",
     "output_type": "stream",
     "text": [
      "Collecting Data...\n",
      "Done\n"
     ]
    }
   ],
   "source": [
    "print(\"Collecting Data...\")\n",
    "b_sorted_clusters = sorted(b_sorted_clusters, key=operator.attrgetter('score', 'prob', 'pid'), reverse = True)\n",
    "y_sorted_clusters = sorted(y_sorted_clusters, key=operator.attrgetter('score', 'prob', 'pid'), reverse = True)\n",
    "b_good_indexes = []\n",
    "b_bad_indexes = []\n",
    "b_good_scores = []\n",
    "b_bad_scores = []\n",
    "y_good_indexes = []\n",
    "y_bad_indexes = []\n",
    "y_good_scores = []\n",
    "y_bad_scores = []\n",
    "ion = 'b'\n",
    "for i, cluster in enumerate(b_sorted_clusters):\n",
    "    assessment, _ = testing_utils.is_good_hit(cluster.seq, ion, correct_sequence)\n",
    "    if assessment == True:\n",
    "        b_good_indexes.append(i)\n",
    "        b_good_scores.append(cluster.score)\n",
    "    else:\n",
    "        b_bad_indexes.append(i)\n",
    "        b_bad_scores.append(cluster.score)\n",
    "ion = 'y'\n",
    "for i, cluster in enumerate(y_sorted_clusters):\n",
    "    assessment, _ = testing_utils.is_good_hit(cluster.seq, ion, correct_sequence)\n",
    "    if assessment == True:\n",
    "        y_good_indexes.append(i)\n",
    "        y_good_scores.append(cluster.score)\n",
    "    else:\n",
    "        y_bad_indexes.append(i)\n",
    "        y_bad_scores.append(cluster.score)\n",
    "print('Done')"
   ]
  },
  {
   "cell_type": "code",
   "execution_count": 71,
   "id": "908be6cc",
   "metadata": {
    "scrolled": true
   },
   "outputs": [
    {
     "name": "stdout",
     "output_type": "stream",
     "text": [
      "No good hit found in the top 50 clusters\n"
     ]
    },
    {
     "data": {
      "text/plain": [
       "<matplotlib.legend.Legend at 0x7f018684f990>"
      ]
     },
     "execution_count": 71,
     "metadata": {},
     "output_type": "execute_result"
    },
    {
     "data": {
      "image/png": "[encoded data removed]",
      "text/plain": [
       "<Figure size 432x288 with 1 Axes>"
      ]
     },
     "metadata": {
      "needs_background": "light"
     },
     "output_type": "display_data"
    }
   ],
   "source": [
    "ion = 'b'\n",
    "found = False\n",
    "for i in range(0,134):\n",
    "    target_cluster = b_sorted_clusters[i]\n",
    "    assessment, _ = testing_utils.is_good_hit(target_cluster.seq, ion, correct_sequence)    \n",
    "    if assessment == True:\n",
    "        print('Good hit found at:', i)\n",
    "        found = True\n",
    "if found == False:\n",
    "    print(\"No good hit found in the top 50 clusters\")\n",
    "plt.scatter(b_bad_indexes, b_bad_scores, color = 'r', label = 'Bad hits', s=1)\n",
    "plt.scatter(b_good_indexes, b_good_scores, color = 'g', label = 'Good hits', s=20)\n",
    "plt.title('Rank of b hits when sorted by score')\n",
    "plt.xlabel('Rank of hits')\n",
    "plt.ylabel('Score')\n",
    "plt.legend()"
   ]
  },
  {
   "cell_type": "code",
   "execution_count": 72,
   "id": "8ebfc20f",
   "metadata": {
    "scrolled": false
   },
   "outputs": [
    {
     "name": "stdout",
     "output_type": "stream",
     "text": [
      "Good hit found at: 1\n"
     ]
    },
    {
     "data": {
      "text/plain": [
       "<matplotlib.legend.Legend at 0x7f018cd506d0>"
      ]
     },
     "execution_count": 72,
     "metadata": {},
     "output_type": "execute_result"
    },
    {
     "data": {
      "image/png": "[encoded data removed]",
      "text/plain": [
       "<Figure size 432x288 with 1 Axes>"
      ]
     },
     "metadata": {
      "needs_background": "light"
     },
     "output_type": "display_data"
    }
   ],
   "source": [
    "ion = 'y'\n",
    "found = False\n",
    "for i in range(0,10):\n",
    "    target_cluster = y_sorted_clusters[i]\n",
    "    assessment, _ = testing_utils.is_good_hit(target_cluster.seq, ion, correct_sequence)\n",
    "    if assessment == True:\n",
    "        print('Good hit found at:', i)\n",
    "        found = True\n",
    "if not found:\n",
    "    print(\"No good hit found in the top 50 clusters\")\n",
    "plt.scatter(y_bad_indexes, y_bad_scores, color = 'r', label = 'Bad hits', s = 20)\n",
    "plt.scatter(y_good_indexes, y_good_scores, color = 'g', label = 'Good hits', s = 20)\n",
    "plt.title('Rank of y hits when sorted by score')\n",
    "plt.xlabel('Rank of hits')\n",
    "plt.ylabel('Score')\n",
    "plt.legend()"
   ]
  },
  {
   "cell_type": "markdown",
   "id": "d14b2b4d",
   "metadata": {},
   "source": [
    "# Distribution of size of seq vs weight"
   ]
  },
  {
   "cell_type": "code",
   "execution_count": 73,
   "id": "96dc6650",
   "metadata": {},
   "outputs": [],
   "source": [
    "size_array = []\n",
    "weight_array = []\n",
    "prot_size_array = []\n",
    "prot_weight_array = []\n",
    "for seq in correct_sequences:\n",
    "    size_array.append(len(seq))\n",
    "    weight_array.append(gen_spectra.get_precursor(seq))"
   ]
  },
  {
   "cell_type": "code",
   "execution_count": 74,
   "id": "22d0055c",
   "metadata": {},
   "outputs": [
    {
     "data": {
      "text/plain": [
       "Text(0, 0.5, 'Weight of result')"
      ]
     },
     "execution_count": 74,
     "metadata": {},
     "output_type": "execute_result"
    },
    {
     "data": {
      "image/png": "[encoded data removed]",
      "text/plain": [
       "<Figure size 432x288 with 1 Axes>"
      ]
     },
     "metadata": {
      "needs_background": "light"
     },
     "output_type": "display_data"
    }
   ],
   "source": [
    "plt.scatter(size_array, weight_array)\n",
    "plt.xlabel('Len of spectrummill result')\n",
    "plt.ylabel('Weight of result')"
   ]
  },
  {
   "cell_type": "code",
   "execution_count": 75,
   "id": "ec47d589",
   "metadata": {},
   "outputs": [
    {
     "data": {
      "text/plain": [
       "Text(0, 0.5, 'Weight of Protein')"
      ]
     },
     "execution_count": 75,
     "metadata": {},
     "output_type": "execute_result"
    },
    {
     "data": {
      "image/png": "[encoded data removed]",
      "text/plain": [
       "<Figure size 432x288 with 1 Axes>"
      ]
     },
     "metadata": {
      "needs_background": "light"
     },
     "output_type": "display_data"
    }
   ],
   "source": [
    "prot_size_array = []\n",
    "prot_weight_array = []\n",
    "for prot in db.proteins:\n",
    "    target_prot = db.proteins[prot]\n",
    "    if len(target_prot) != 0:\n",
    "        target_prot = target_prot[0]\n",
    "        seq = target_prot[1]\n",
    "        prot_size_array.append(len(seq))\n",
    "        prot_weight_array.append(gen_spectra.get_precursor(seq))\n",
    "plt.scatter(prot_size_array, prot_weight_array)\n",
    "plt.title('Size vs Weight of Proteome')\n",
    "plt.xlabel('Len of Protein')\n",
    "plt.ylabel('Weight of Protein')"
   ]
  },
  {
   "cell_type": "code",
   "execution_count": null,
   "id": "181508ff",
   "metadata": {},
   "outputs": [],
   "source": []
  }
 ],
 "metadata": {
  "kernelspec": {
   "display_name": "Python 3",
   "language": "python",
   "name": "python3"
  },
  "language_info": {
   "codemirror_mode": {
    "name": "ipython",
    "version": 3
   },
   "file_extension": ".py",
   "mimetype": "text/x-python",
   "name": "python",
   "nbconvert_exporter": "python",
   "pygments_lexer": "ipython3",
   "version": "3.7.10"
  }
 },
 "nbformat": 4,
 "nbformat_minor": 5
}

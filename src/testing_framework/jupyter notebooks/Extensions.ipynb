{
 "cells": [
  {
   "cell_type": "markdown",
   "id": "b350d988",
   "metadata": {},
   "source": [
    "# Extensions\n",
    "\n",
    "The purpose of this notebook is to test everything related to generating extensions among hits"
   ]
  },
  {
   "cell_type": "code",
   "execution_count": 16,
   "id": "1963fedc",
   "metadata": {},
   "outputs": [],
   "source": [
    "import os\n",
    "import sys\n",
    "\n",
    "module_path = os.path.abspath(os.path.join('../..'))\n",
    "if module_path not in sys.path:\n",
    "    sys.path.append(module_path)\n",
    "\n",
    "from testing_framework import testing_utils\n",
    "import database\n",
    "from preprocessing import merge_search\n",
    "from identification import create_hits\n",
    "import utils\n",
    "\n",
    "import operator\n",
    "\n",
    "ppm_tolerance = 20\n",
    "max_peptide_length = 20\n",
    "precursor_tolerance = 10\n",
    "\n",
    "import matplotlib.pyplot as plt"
   ]
  },
  {
   "cell_type": "code",
   "execution_count": 2,
   "id": "1adbddf4",
   "metadata": {},
   "outputs": [
    {
     "name": "stdout",
     "output_type": "stream",
     "text": [
      "Loading spectra...\n",
      "Done\n"
     ]
    }
   ],
   "source": [
    "datasets = testing_utils.define_data()\n",
    "\n",
    "dataset = datasets[0]\n",
    "\n",
    "input_spectra_path = dataset[0]\n",
    "input_spectra, boundaries = testing_utils.preprocess_input_spectra(input_spectra_path, ppm_tolerance)\n",
    "\n",
    "correct_sequences = testing_utils.generate_truth_set(datasets[0])\n",
    "\n",
    "path = dataset[2]\n",
    "db = database.build(path)"
   ]
  },
  {
   "cell_type": "code",
   "execution_count": 3,
   "id": "a61567a9",
   "metadata": {},
   "outputs": [
    {
     "name": "stdout",
     "output_type": "stream",
     "text": [
      "On protein 279/279 [100%]\n",
      "Sorting the set of protein masses...\n",
      "Sorting the set of protein masses done\n",
      "Performing Merge\n",
      "Done\n",
      "Finished matching masses\n"
     ]
    }
   ],
   "source": [
    "write_path = os.path.abspath(os.path.join(module_path, 'intermediate_files'))\n",
    "matched_masses_b, matched_masses_y, kmer_set = merge_search.modified_match_masses(boundaries, db, max_peptide_length, True, write_path)\n",
    "print('Finished matching masses')"
   ]
  },
  {
   "cell_type": "markdown",
   "id": "339a6532",
   "metadata": {},
   "source": [
    "# Getting initial hits"
   ]
  },
  {
   "cell_type": "code",
   "execution_count": 4,
   "id": "eeeed96c",
   "metadata": {},
   "outputs": [
    {
     "name": "stdout",
     "output_type": "stream",
     "text": [
      "DPQVEQLEL\n"
     ]
    }
   ],
   "source": [
    "from gen_spectra import gen_spectrum\n",
    "spectrum_num = 0\n",
    "\n",
    "correct_sequence = correct_sequences[spectrum_num]\n",
    "print(correct_sequence)\n",
    "\n",
    "input_spectrum = input_spectra[spectrum_num]"
   ]
  },
  {
   "cell_type": "code",
   "execution_count": 5,
   "id": "43241d60",
   "metadata": {},
   "outputs": [],
   "source": [
    "unique_b,unique_y = testing_utils.get_unique_matched_masses(boundaries, matched_masses_b, matched_masses_y)"
   ]
  },
  {
   "cell_type": "code",
   "execution_count": 6,
   "id": "ded1f3c9",
   "metadata": {},
   "outputs": [],
   "source": [
    "location = os.path.join(os.path.abspath(os.path.join('../..')), 'intermediate_files/')\n",
    "b_hits, y_hits = create_hits(spectrum_num, input_spectrum, matched_masses_b, matched_masses_y, False, location)\n",
    "correct_hits = testing_utils.append_correct_hits(correct_sequence, input_spectrum, ppm_tolerance)\n",
    "ion = 'b'\n",
    "clusters = testing_utils.create_clusters(ion, b_hits, y_hits)\n",
    "b_sorted_clusters = testing_utils.Bayes_clusters(ion, clusters, location, kmer_set, unique_b)\n",
    "ion = 'y'\n",
    "clusters = testing_utils.create_clusters(ion, b_hits, y_hits)\n",
    "y_sorted_clusters = testing_utils.Bayes_clusters(ion, clusters, location, kmer_set, unique_y)"
   ]
  },
  {
   "cell_type": "markdown",
   "id": "fa96fc44",
   "metadata": {},
   "source": [
    "# Printing hits"
   ]
  },
  {
   "cell_type": "code",
   "execution_count": 7,
   "id": "00538a18",
   "metadata": {},
   "outputs": [
    {
     "name": "stdout",
     "output_type": "stream",
     "text": [
      "7.37632168378539e-24 8 DPQVEQLEL\n",
      "4.4528149180897643e-17 4 PDAGAPTSASGLSGHTTL\n",
      "7.703189449090993e-17 4 TQAGVEELDPENKIP\n",
      "1.9373592979518995e-16 4 GTYFEVKIPSDTFYDN\n",
      "5.108142991660681e-16 4 PAGDQKDV\n",
      "1.56303178756188e-15 4 HSLMPMLE\n",
      "1.833341688635198e-15 4 TVFSDFL\n",
      "1.833341688635198e-15 4 DPEVQQI\n",
      "9.091538461518476e-15 4 IQEYYNKL\n",
      "2.1668429667773813e-14 3 TTSPNLGTREN\n",
      "2.6230409769948193e-14 3 PQDHPRSQPQ\n",
      "3.24007561622655e-14 3 KKDLEEWNQ\n",
      "4.523368031382904e-14 3 PQQPQPPPQQQAAPQ\n",
      "4.523368031382904e-14 3 GDEPGPQRSVEGWIL\n",
      "5.1945340793898446e-14 3 IEKNTDGVNFYNIL\n",
      "5.974174096356828e-14 3 TGAAGRNS\n",
      "6.171904971593171e-14 3 KPEGRPGT\n",
      "6.171904971593175e-14 3 TLSFSSIS\n",
      "6.23782502402988e-14 3 AGPQPAQTGA\n",
      "6.720993999005019e-14 3 TTQPPAQPASQGSGS\n",
      "7.309947871977779e-14 3 QPSVSS\n",
      "7.718635778598766e-14 3 PGGEEVLREQAGGD\n",
      "8.129325868558074e-14 3 TDMTKLEECVRSIQADG\n",
      "8.129325868558074e-14 3 TTTPCMLRDSDSILETL\n",
      "8.229287530506726e-14 3 TTPATSTTCTAT\n",
      "9.180659198563205e-14 3 TTESVKEQEMKWTDLA\n",
      "1.0002839007505794e-13 3 KYFDSGDYNMAKAK\n",
      "1.0002839007505794e-13 3 KKEKKSLDSDESED\n",
      "1.0002839007505794e-13 3 KYFDSGDYNMAKAK\n",
      "1.0203589521656124e-13 3 AGGATVEPAG\n",
      "1.0516854235220689e-13 3 KKCGWFHPPANE\n",
      "1.0516854235220689e-13 3 KRCPTCHNIIDN\n",
      "1.0645248756153068e-13 3 KKEECP\n",
      "1.1606998657706258e-13 3 AFVKSYENLAFYW\n",
      "1.1866096709583156e-13 3 TTGFSTEVWQ\n",
      "1.27658128983773e-13 3 TQRPCRH\n",
      "1.4362308610291208e-13 3 TTEAAPGTGRGA\n",
      "1.7104898806447951e-13 3 TTTGPRAQIGS\n",
      "1.7104898806447951e-13 3 KKAIPAGCGDE\n",
      "2.0715193557973397e-13 3 TTLRIEGNQG\n",
      "2.0715193557973397e-13 3 SFHLPSRSSA\n",
      "2.0715193557973397e-13 3 KPEGSQDKSL\n",
      "2.0715193557973397e-13 3 TSGRQNAQNL\n",
      "2.0892213741969651e-13 3 TMVQTHL\n",
      "2.0892213741969651e-13 3 DPRAEEI\n",
      "2.0892213741969651e-13 3 NEPQSVR\n",
      "2.0892213741969651e-13 3 TTSTRTY\n",
      "2.2643927612091783e-13 3 TTNPHVFPEGSEP\n",
      "2.359190118237845e-13 3 TPPPAGEAAF\n",
      "2.560191444069928e-13 3 TTQEPIWLT\n"
     ]
    }
   ],
   "source": [
    "b_sorted_clusters = sorted(b_sorted_clusters, key=operator.attrgetter('prob', 'score', 'pid'))\n",
    "# b_sorted_clusters = sorted(b_sorted_clusters, key=operator.attrgetter('score', 'prob', 'pid'), reverse = True)\n",
    "testing_utils.write_b_sorted_cluster(b_sorted_clusters)\n",
    "for i in range(0, 50):\n",
    "    x = b_sorted_clusters[i]\n",
    "    post_prob = x.prob\n",
    "    score = x.score\n",
    "    seq = x.seq\n",
    "    indices = x.indices\n",
    "    print(post_prob, score, seq)"
   ]
  },
  {
   "cell_type": "code",
   "execution_count": 8,
   "id": "f7e39bb6",
   "metadata": {},
   "outputs": [
    {
     "name": "stdout",
     "output_type": "stream",
     "text": [
      "4.16818804282123e-18 5 LDSFSEI\n",
      "1.1616080807536527e-16 4 SSNWVGKGFFAVYEAIC\n",
      "2.512036051166044e-16 4 FVDLTMPYSV\n",
      "1.05226703890205e-15 4 LESYGLE\n",
      "1.12385997955871e-15 4 EIPHSELD\n",
      "1.12385997955871e-15 4 EISSIDEF\n",
      "3.347163330282923e-15 4 IEVLETDPH\n",
      "1.2869227751022117e-14 4 HPDSEL\n",
      "1.2869227751022117e-14 4 CGLYEL\n",
      "5.663227040807141e-14 3 LSNPTGLQESISDVTTCL\n",
      "5.7487143274934e-14 3 TAEIASLDSENIDEI\n",
      "6.37719274049424e-14 3 AAGCKVEAFAVQGEEL\n",
      "6.601894630036116e-14 3 LLMAASIYFHDQNP\n",
      "6.601894630036116e-14 3 LEDSDLKKSDIDEI\n",
      "7.172157438730102e-14 3 LSIHQLVENTDETYCI\n",
      "7.258536525544357e-14 3 DLNINMTSPMGTKSI\n",
      "7.258536525544357e-14 3 WLKGQGVYLGMPGCL\n",
      "7.258536525544357e-14 3 DTNAPAHQLIQTESP\n",
      "7.258536525544357e-14 3 AKDLDTVASDMMVLL\n",
      "7.660124169797852e-14 3 YFEEYGKIDTIEI\n",
      "8.163489183127015e-14 3 YNYVWANCFEITLEL\n",
      "8.163489183127015e-14 3 QQQPPKQQQQQQQQQ\n",
      "8.163489183127015e-14 3 QQPPKQQQQQQQQQQ\n",
      "8.336059504994219e-14 3 EIEGEIKRDFMAAL\n",
      "8.336059504994219e-14 3 LQCYSEAIKLDPQN\n",
      "9.91871119161064e-14 3 TSQDARFYAL\n",
      "9.91871119161064e-14 3 DFTFVCPTEI\n",
      "9.91871119161064e-14 3 DFTFVCPTEI\n",
      "9.91871119161064e-14 3 DFTFVCPTEI\n",
      "1.1830408588891987e-13 3 LFSHVDFSGDGKS\n",
      "1.3719426858496284e-13 3 LRSSSCGDAEL\n",
      "1.56918265647775e-13 3 EGEDDRTVCKEI\n",
      "1.6545643005522683e-13 3 EKYKNIDEDEL\n",
      "1.6614117489206299e-13 3 EYFTGATFCV\n",
      "2.0308415788304278e-13 3 LGEGSYGK\n",
      "2.0531821756735375e-13 3 LYENLDEEL\n",
      "2.0531821756735375e-13 3 IMTERDMEL\n",
      "2.0531821756735375e-13 3 YENLNDQEL\n",
      "2.0655848236426985e-13 3 GYISAAEL\n",
      "2.2770569624307196e-13 3 QIAQNDPGP\n",
      "2.2770569624307196e-13 3 SDNAPPPEL\n",
      "2.6564682537929494e-13 3 LESDPIH\n",
      "2.6564682537929494e-13 3 IVETDSF\n",
      "2.6564682537929494e-13 3 FSESVEL\n",
      "2.6564682537929494e-13 3 LFFPEGT\n",
      "2.6564682537929494e-13 3 LEMSALF\n",
      "2.6564682537929494e-13 3 YGDLTEI\n",
      "2.6564682537929494e-13 3 IVESDFT\n",
      "2.6564682537929494e-13 3 LDLADYT\n",
      "2.6564682537929494e-13 3 LLDSFSE\n"
     ]
    }
   ],
   "source": [
    "y_sorted_clusters = sorted(y_sorted_clusters, key=operator.attrgetter('prob', 'score', 'pid'))\n",
    "# y_sorted_clusters = sorted(y_sorted_clusters, key=operator.attrgetter('score', 'prob', 'pid'), reverse = True)\n",
    "testing_utils.write_y_sorted_cluster(y_sorted_clusters)\n",
    "for i in range(0, 50):\n",
    "    x = y_sorted_clusters[i]\n",
    "    post_prob = x.prob\n",
    "    score = x.score\n",
    "    seq = x.seq\n",
    "    indices = x.indices\n",
    "    print(post_prob, score, seq)"
   ]
  },
  {
   "cell_type": "markdown",
   "id": "2096e4c4",
   "metadata": {},
   "source": [
    "# To Filter data by parent prot\n",
    "\n",
    "I want to be able to only view the b or y hits from a certain protein"
   ]
  },
  {
   "cell_type": "code",
   "execution_count": 9,
   "id": "67fbf91e",
   "metadata": {},
   "outputs": [
    {
     "name": "stdout",
     "output_type": "stream",
     "text": [
      "8\t7.37632168378539e-24\t274\tDPQVEQLEL\tTrue\t(60, 62, 'DPQ', 341.1453857421875)\t(60, 63, 'DPQV', 440.216064453125)\t(60, 64, 'DPQVE', 569.2589721679688)\t(60, 65, 'DPQVEQ', 349.1622619628906)\t(60, 65, 'DPQVEQ', 697.3143310546875)\t(60, 66, 'DPQVEQL', 810.3919677734375)\t(60, 67, 'DPQVEQLE', 939.4456176757812)\t(60, 68, 'DPQVEQLEL', 526.7672446181209)\n",
      "2\t8.737764218909832e-11\t274\tEDPQVEQL\tFalse\t(59, 63, 'EDPQV', 569.2589721679688)\t(59, 66, 'EDPQVEQL', 939.4456176757812)\n",
      "1\t1.139291460182141e-08\t274\tLGGSP\tFalse\t(68, 72, 'LGGSP', 412.21746826171875)\n",
      "1\t1.646011061622541e-08\t274\tVEDPQ\tFalse\t(58, 62, 'VEDPQ', 569.2589721679688)\n",
      "1\t2.0627639582379252e-08\t274\tLE\tFalse\t(66, 67, 'LE', 243.13357543945312)\n",
      "1\t2.0627639582379252e-08\t274\tEL\tFalse\t(67, 68, 'EL', 243.13357543945312)\n",
      "1\t2.0627639582379252e-08\t274\tLE\tFalse\t(80, 81, 'LE', 243.13357543945312)\n",
      "1\t2.0627639582379252e-08\t274\tLE\tFalse\t(103, 104, 'LE', 243.13357543945312)\n",
      "1\t3.719257593041041e-08\t274\tPQ\tFalse\t(61, 62, 'PQ', 226.1183624267578)\n",
      "1\t1.221154051636499e-06\t274\tK\tFalse\t(20, 20, 'K', 129.1007537841797)\n",
      "1\t1.221154051636499e-06\t274\tT\tFalse\t(22, 22, 'T', 102.05448913574219)\n",
      "1\t1.221154051636499e-06\t274\tK\tFalse\t(27, 27, 'K', 129.1007537841797)\n",
      "1\t1.221154051636499e-06\t274\tT\tFalse\t(51, 51, 'T', 102.05448913574219)\n",
      "1\t1.221154051636499e-06\t274\tK\tFalse\t(53, 53, 'K', 129.1007537841797)\n",
      "1\t1.221154051636499e-06\t274\tT\tFalse\t(77, 77, 'T', 102.05448913574219)\n",
      "1\t1.221154051636499e-06\t274\tK\tFalse\t(86, 86, 'K', 129.1007537841797)\n",
      "1\t1.221154051636499e-06\t274\tT\tFalse\t(95, 95, 'T', 102.05448913574219)\n"
     ]
    }
   ],
   "source": [
    "# b_hits\n",
    "target_pid = 274\n",
    "b_target_clusters = []\n",
    "for cluster in b_sorted_clusters:\n",
    "    if cluster.pid == target_pid:\n",
    "        b_target_clusters.append(cluster)\n",
    "\n",
    "for cluster in b_target_clusters:\n",
    "    assessment, _ = testing_utils.is_good_hit(cluster.seq, 'b', correct_sequence)\n",
    "    non_indices = str(cluster.score) + '\\t' + str(cluster.prob) + '\\t' + str(cluster.pid) + '\\t' + cluster.seq + '\\t' + str(assessment)\n",
    "    print(non_indices + '\\t'+ '\\t'.join([str(o) for o in cluster.indices]))\n"
   ]
  },
  {
   "cell_type": "code",
   "execution_count": 10,
   "id": "c8efcc2f",
   "metadata": {},
   "outputs": [
    {
     "name": "stdout",
     "output_type": "stream",
     "text": [
      "3\t7.553986085145072e-13\t274\tDPQVEQLEL\tTrue\t(60, 68, 'DPQVEQLEL', 535.7725269681209)\t(67, 68, 'EL', 261.1429443359375)\t(68, 68, 'L', 132.10121154785156)\n",
      "1\t1.6930194586815518e-08\t274\tEALYLVC\tFalse\t(37, 43, 'EALYLVC', 810.3919677734375)\n",
      "1\t2.029622598916721e-08\t274\tLE\tFalse\t(66, 67, 'LE', 261.1429443359375)\n",
      "1\t2.029622598916721e-08\t274\tLE\tFalse\t(80, 81, 'LE', 261.1429443359375)\n",
      "1\t2.029622598916721e-08\t274\tLE\tFalse\t(103, 104, 'LE', 261.1429443359375)\n",
      "1\t3.15816271525945e-08\t274\tLC\tFalse\t(30, 31, 'LC', 235.1075439453125)\n",
      "1\t3.15816271525945e-08\t274\tIC\tFalse\t(97, 98, 'IC', 235.1075439453125)\n",
      "1\t6.105773986227816e-07\t274\tL\tTrue\t(3, 3, 'L', 132.10121154785156)\n",
      "1\t6.105773986227816e-07\t274\tL\tTrue\t(4, 4, 'L', 132.10121154785156)\n",
      "1\t6.105773986227816e-07\t274\tL\tTrue\t(8, 8, 'L', 132.10121154785156)\n",
      "1\t6.105773986227816e-07\t274\tL\tTrue\t(10, 10, 'L', 132.10121154785156)\n",
      "1\t6.105773986227816e-07\t274\tL\tTrue\t(11, 11, 'L', 132.10121154785156)\n",
      "1\t6.105773986227816e-07\t274\tL\tTrue\t(13, 13, 'L', 132.10121154785156)\n",
      "1\t6.105773986227816e-07\t274\tL\tTrue\t(14, 14, 'L', 132.10121154785156)\n",
      "1\t6.105773986227816e-07\t274\tL\tTrue\t(16, 16, 'L', 132.10121154785156)\n",
      "1\t6.105773986227816e-07\t274\tL\tTrue\t(30, 30, 'L', 132.10121154785156)\n",
      "1\t6.105773986227816e-07\t274\tL\tTrue\t(35, 35, 'L', 132.10121154785156)\n",
      "1\t6.105773986227816e-07\t274\tL\tTrue\t(39, 39, 'L', 132.10121154785156)\n",
      "1\t6.105773986227816e-07\t274\tL\tTrue\t(41, 41, 'L', 132.10121154785156)\n",
      "1\t6.105773986227816e-07\t274\tL\tTrue\t(66, 66, 'L', 132.10121154785156)\n",
      "1\t6.105773986227816e-07\t274\tL\tTrue\t(75, 75, 'L', 132.10121154785156)\n",
      "1\t6.105773986227816e-07\t274\tL\tTrue\t(78, 78, 'L', 132.10121154785156)\n",
      "1\t6.105773986227816e-07\t274\tL\tTrue\t(80, 80, 'L', 132.10121154785156)\n",
      "1\t6.105773986227816e-07\t274\tI\tFalse\t(89, 89, 'I', 132.10121154785156)\n",
      "1\t6.105773986227816e-07\t274\tI\tFalse\t(97, 97, 'I', 132.10121154785156)\n",
      "1\t6.105773986227816e-07\t274\tL\tTrue\t(100, 100, 'L', 132.10121154785156)\n",
      "1\t6.105773986227816e-07\t274\tL\tTrue\t(103, 103, 'L', 132.10121154785156)\n",
      "1\t1.2211547972455632e-06\t274\tSP\tFalse\t(71, 72, 'SP', 102.05448913574219)\n"
     ]
    }
   ],
   "source": [
    "# y_hits\n",
    "y_target_clusters = []\n",
    "for cluster in y_sorted_clusters:\n",
    "    if cluster.pid == target_pid:\n",
    "        y_target_clusters.append(cluster)\n",
    "\n",
    "for cluster in y_target_clusters:\n",
    "    assessment, _ = testing_utils.is_good_hit(cluster.seq, 'y', correct_sequence)\n",
    "    non_indices = str(cluster.score) + '\\t' + str(cluster.prob) + '\\t' + str(cluster.pid) + '\\t' + cluster.seq + '\\t' + str(assessment)\n",
    "    print(non_indices + '\\t'+ '\\t'.join([str(o) for o in cluster.indices]))"
   ]
  },
  {
   "cell_type": "markdown",
   "id": "90dbdbcb",
   "metadata": {},
   "source": [
    "# Finding optimal \"hybrid\" combos\n",
    "\n",
    "* Hybrid is in quotation marks because all outputs will be a hybrid and then we can check if it is a non-hybrid"
   ]
  },
  {
   "cell_type": "code",
   "execution_count": 11,
   "id": "7f3d2113",
   "metadata": {},
   "outputs": [],
   "source": [
    "def get_top_X(b_clusters, y_clusters, top_num):\n",
    "    filtered_b = []\n",
    "    filtered_y = []\n",
    "    b_len = top_num if len(b_clusters) >= top_num else len(b_clusters)\n",
    "    y_len = top_num if len(y_clusters) >= top_num else len(y_clusters)\n",
    "    for x in range(0,b_len):\n",
    "        filtered_b.append(b_clusters[x])\n",
    "    for x in range(0,y_len):\n",
    "        filtered_y.append(y_clusters[x])\n",
    "    return filtered_b, filtered_y\n",
    "\n",
    "def combine(b_cluster, y_cluster):\n",
    "    b_start, b_end, y_start, y_end = b_cluster.start, b_cluster.end, y_cluster.start, y_cluster.end\n",
    "    if b_cluster.pid == y_cluster.pid:\n",
    "        score_add = 2\n",
    "        hybrid = False\n",
    "        if  (b_end <= y_end) and (b_start <= y_start) and (b_end >= y_start): #overlap\n",
    "            overlap = True\n",
    "            score_add = 2\n",
    "            seq = b_cluster.seq\n",
    "            rem_chars = y_start - b_end\n",
    "            while (rem_chars >= 0):\n",
    "                seq = seq + y_cluster.seq[len(y_cluster.seq)-1 - rem_chars]\n",
    "                rem_chars = rem_chars - 1\n",
    "        else:                                                                #no overlap\n",
    "            hybrid = False\n",
    "            overlap = False\n",
    "            score_add = 2\n",
    "            seq = b_cluster.seq + '-' + y_cluster.seq\n",
    "    else:                                                                    #hybrid\n",
    "        hybrid = True\n",
    "        overlap = False\n",
    "        score_add = 0\n",
    "        seq = b_cluster.seq + '-' + y_cluster.seq\n",
    "    return seq, score_add, hybrid, overlap\n",
    "\n",
    "def filter_by_validity(b_cluster, y_cluster):\n",
    "    valid = True\n",
    "    for b in b_cluster.indices:\n",
    "        for y in y_cluster.indices:\n",
    "            if b[3] == y[3]:\n",
    "                valid = False\n",
    "    return valid\n",
    "\n",
    "def filter_by_precursor(seq, pc, overlap, obs_prec, precursor_tolerance):\n",
    "    new_seq = seq.replace(\"-\", \"\") if overlap == False else seq\n",
    "    tol = ppm_to_da(obs_prec, precursor_tolerance)\n",
    "    if get_precursor(new_seq, charge=pc) > obs_prec + tol:\n",
    "        return False\n",
    "    else:\n",
    "        return True\n",
    "\n",
    "def filter_by_dist(b, y, x):\n",
    "    if y.start - b.end > x:\n",
    "        return False\n",
    "    else:\n",
    "        return True\n",
    "\n",
    "def merge_clusters(b_clusters, y_clusters, target_precursor, precursor_tolerance):\n",
    "    # filtered_b, filtered_y = get_top_X(b_sorted_clusters, y_sorted_clusters, 50)\n",
    "    #Start with printing overlapping. Then will incorportate boundary overlaps between last of b and first of y\n",
    "    interesting_combos = []\n",
    "    for b_cluster in b_sorted_clusters:\n",
    "        for y_cluster in y_sorted_clusters:\n",
    "            if b_cluster.start <= y_cluster.end:\n",
    "                # b_indices = parse_indices(b_cluster.indices)\n",
    "                # y_indices = parse_indices(y_cluster.indices)\n",
    "                if filter_by_validity(b_cluster, y_cluster):\n",
    "                    comb_seq, score_add, hybrid, overlap = combine(b_cluster, y_cluster)\n",
    "                    if filter_by_precursor(comb_seq, 2, overlap, target_precursor, precursor_tolerance):\n",
    "                        if filter_by_dist(b_cluster, y_cluster, 10):\n",
    "                            tup = (comb_seq, b_cluster.score + y_cluster.score + score_add, overlap)\n",
    "                            interesting_combos.append(tup)\n",
    "\n",
    "    interesting_combos.sort(key=lambda a: a[1], reverse=True)\n",
    "    return interesting_combos"
   ]
  },
  {
   "cell_type": "code",
   "execution_count": 12,
   "id": "12110fda",
   "metadata": {},
   "outputs": [
    {
     "name": "stdout",
     "output_type": "stream",
     "text": [
      "19756 20184\n"
     ]
    }
   ],
   "source": [
    "print(len(b_sorted_clusters), len(y_sorted_clusters))\n",
    "def get_unique_sorted_clusters(b_sorted_clusters, y_sorted_clusters):\n",
    "    b_sorted_set = set()\n",
    "    for b in b_sorted_clusters:\n",
    "        seq = b.seq\n",
    "        b_sorted_set.add(seq)\n",
    "    y_sorted_set = set()\n",
    "    for y in y_sorted_clusters:\n",
    "        seq = y.seq\n",
    "        y_sorted_set.add(seq)\n",
    "    return b_sorted_set, y_sorted_set\n",
    "\n",
    "b_sorted_set, y_sorted_set = get_unique_sorted_clusters(b_sorted_clusters, y_sorted_clusters)"
   ]
  },
  {
   "cell_type": "code",
   "execution_count": 15,
   "id": "ff003fed",
   "metadata": {
    "scrolled": true
   },
   "outputs": [
    {
     "ename": "NameError",
     "evalue": "name 'ppm_to_da' is not defined",
     "output_type": "error",
     "traceback": [
      "\u001b[0;31m---------------------------------------------------------------------------\u001b[0m",
      "\u001b[0;31mNameError\u001b[0m                                 Traceback (most recent call last)",
      "\u001b[0;32m<ipython-input-15-864eb11d7384>\u001b[0m in \u001b[0;36m<module>\u001b[0;34m\u001b[0m\n\u001b[0;32m----> 1\u001b[0;31m \u001b[0mmerged_seqs\u001b[0m \u001b[0;34m=\u001b[0m \u001b[0mmerge_clusters\u001b[0m\u001b[0;34m(\u001b[0m\u001b[0mb_sorted_clusters\u001b[0m\u001b[0;34m,\u001b[0m \u001b[0my_sorted_clusters\u001b[0m\u001b[0;34m,\u001b[0m \u001b[0minput_spectrum\u001b[0m\u001b[0;34m.\u001b[0m\u001b[0mprecursor_mass\u001b[0m\u001b[0;34m,\u001b[0m \u001b[0mprecursor_tolerance\u001b[0m\u001b[0;34m)\u001b[0m\u001b[0;34m\u001b[0m\u001b[0;34m\u001b[0m\u001b[0m\n\u001b[0m\u001b[1;32m      2\u001b[0m \u001b[0;34m[\u001b[0m\u001b[0mprint\u001b[0m\u001b[0;34m(\u001b[0m\u001b[0mmerged_seqs\u001b[0m\u001b[0;34m[\u001b[0m\u001b[0mx\u001b[0m\u001b[0;34m]\u001b[0m\u001b[0;34m)\u001b[0m \u001b[0;32mfor\u001b[0m \u001b[0mx\u001b[0m \u001b[0;32min\u001b[0m \u001b[0mrange\u001b[0m\u001b[0;34m(\u001b[0m\u001b[0;36m0\u001b[0m\u001b[0;34m,\u001b[0m\u001b[0;36m50\u001b[0m\u001b[0;34m)\u001b[0m\u001b[0;34m]\u001b[0m\u001b[0;34m\u001b[0m\u001b[0;34m\u001b[0m\u001b[0m\n",
      "\u001b[0;32m<ipython-input-11-80ea08d9e371>\u001b[0m in \u001b[0;36mmerge_clusters\u001b[0;34m(b_clusters, y_clusters, target_precursor, precursor_tolerance)\u001b[0m\n\u001b[1;32m     68\u001b[0m                 \u001b[0;32mif\u001b[0m \u001b[0mfilter_by_validity\u001b[0m\u001b[0;34m(\u001b[0m\u001b[0mb_cluster\u001b[0m\u001b[0;34m,\u001b[0m \u001b[0my_cluster\u001b[0m\u001b[0;34m)\u001b[0m\u001b[0;34m:\u001b[0m\u001b[0;34m\u001b[0m\u001b[0;34m\u001b[0m\u001b[0m\n\u001b[1;32m     69\u001b[0m                     \u001b[0mcomb_seq\u001b[0m\u001b[0;34m,\u001b[0m \u001b[0mscore_add\u001b[0m\u001b[0;34m,\u001b[0m \u001b[0mhybrid\u001b[0m\u001b[0;34m,\u001b[0m \u001b[0moverlap\u001b[0m \u001b[0;34m=\u001b[0m \u001b[0mcombine\u001b[0m\u001b[0;34m(\u001b[0m\u001b[0mb_cluster\u001b[0m\u001b[0;34m,\u001b[0m \u001b[0my_cluster\u001b[0m\u001b[0;34m)\u001b[0m\u001b[0;34m\u001b[0m\u001b[0;34m\u001b[0m\u001b[0m\n\u001b[0;32m---> 70\u001b[0;31m                     \u001b[0;32mif\u001b[0m \u001b[0mfilter_by_precursor\u001b[0m\u001b[0;34m(\u001b[0m\u001b[0mcomb_seq\u001b[0m\u001b[0;34m,\u001b[0m \u001b[0;36m2\u001b[0m\u001b[0;34m,\u001b[0m \u001b[0moverlap\u001b[0m\u001b[0;34m,\u001b[0m \u001b[0mtarget_precursor\u001b[0m\u001b[0;34m,\u001b[0m \u001b[0mprecursor_tolerance\u001b[0m\u001b[0;34m)\u001b[0m\u001b[0;34m:\u001b[0m\u001b[0;34m\u001b[0m\u001b[0;34m\u001b[0m\u001b[0m\n\u001b[0m\u001b[1;32m     71\u001b[0m                         \u001b[0;32mif\u001b[0m \u001b[0mfilter_by_dist\u001b[0m\u001b[0;34m(\u001b[0m\u001b[0mb_cluster\u001b[0m\u001b[0;34m,\u001b[0m \u001b[0my_cluster\u001b[0m\u001b[0;34m,\u001b[0m \u001b[0;36m10\u001b[0m\u001b[0;34m)\u001b[0m\u001b[0;34m:\u001b[0m\u001b[0;34m\u001b[0m\u001b[0;34m\u001b[0m\u001b[0m\n\u001b[1;32m     72\u001b[0m                             \u001b[0mtup\u001b[0m \u001b[0;34m=\u001b[0m \u001b[0;34m(\u001b[0m\u001b[0mcomb_seq\u001b[0m\u001b[0;34m,\u001b[0m \u001b[0mb_cluster\u001b[0m\u001b[0;34m.\u001b[0m\u001b[0mscore\u001b[0m \u001b[0;34m+\u001b[0m \u001b[0my_cluster\u001b[0m\u001b[0;34m.\u001b[0m\u001b[0mscore\u001b[0m \u001b[0;34m+\u001b[0m \u001b[0mscore_add\u001b[0m\u001b[0;34m,\u001b[0m \u001b[0moverlap\u001b[0m\u001b[0;34m)\u001b[0m\u001b[0;34m\u001b[0m\u001b[0;34m\u001b[0m\u001b[0m\n",
      "\u001b[0;32m<ipython-input-11-80ea08d9e371>\u001b[0m in \u001b[0;36mfilter_by_precursor\u001b[0;34m(seq, pc, overlap, obs_prec, precursor_tolerance)\u001b[0m\n\u001b[1;32m     45\u001b[0m \u001b[0;32mdef\u001b[0m \u001b[0mfilter_by_precursor\u001b[0m\u001b[0;34m(\u001b[0m\u001b[0mseq\u001b[0m\u001b[0;34m,\u001b[0m \u001b[0mpc\u001b[0m\u001b[0;34m,\u001b[0m \u001b[0moverlap\u001b[0m\u001b[0;34m,\u001b[0m \u001b[0mobs_prec\u001b[0m\u001b[0;34m,\u001b[0m \u001b[0mprecursor_tolerance\u001b[0m\u001b[0;34m)\u001b[0m\u001b[0;34m:\u001b[0m\u001b[0;34m\u001b[0m\u001b[0;34m\u001b[0m\u001b[0m\n\u001b[1;32m     46\u001b[0m     \u001b[0mnew_seq\u001b[0m \u001b[0;34m=\u001b[0m \u001b[0mseq\u001b[0m\u001b[0;34m.\u001b[0m\u001b[0mreplace\u001b[0m\u001b[0;34m(\u001b[0m\u001b[0;34m\"-\"\u001b[0m\u001b[0;34m,\u001b[0m \u001b[0;34m\"\"\u001b[0m\u001b[0;34m)\u001b[0m \u001b[0;32mif\u001b[0m \u001b[0moverlap\u001b[0m \u001b[0;34m==\u001b[0m \u001b[0;32mFalse\u001b[0m \u001b[0;32melse\u001b[0m \u001b[0mseq\u001b[0m\u001b[0;34m\u001b[0m\u001b[0;34m\u001b[0m\u001b[0m\n\u001b[0;32m---> 47\u001b[0;31m     \u001b[0mtol\u001b[0m \u001b[0;34m=\u001b[0m \u001b[0mppm_to_da\u001b[0m\u001b[0;34m(\u001b[0m\u001b[0mobs_prec\u001b[0m\u001b[0;34m,\u001b[0m \u001b[0mprecursor_tolerance\u001b[0m\u001b[0;34m)\u001b[0m\u001b[0;34m\u001b[0m\u001b[0;34m\u001b[0m\u001b[0m\n\u001b[0m\u001b[1;32m     48\u001b[0m     \u001b[0;32mif\u001b[0m \u001b[0mget_precursor\u001b[0m\u001b[0;34m(\u001b[0m\u001b[0mnew_seq\u001b[0m\u001b[0;34m,\u001b[0m \u001b[0mcharge\u001b[0m\u001b[0;34m=\u001b[0m\u001b[0mpc\u001b[0m\u001b[0;34m)\u001b[0m \u001b[0;34m>\u001b[0m \u001b[0mobs_prec\u001b[0m \u001b[0;34m+\u001b[0m \u001b[0mtol\u001b[0m\u001b[0;34m:\u001b[0m\u001b[0;34m\u001b[0m\u001b[0;34m\u001b[0m\u001b[0m\n\u001b[1;32m     49\u001b[0m         \u001b[0;32mreturn\u001b[0m \u001b[0;32mFalse\u001b[0m\u001b[0;34m\u001b[0m\u001b[0;34m\u001b[0m\u001b[0m\n",
      "\u001b[0;31mNameError\u001b[0m: name 'ppm_to_da' is not defined"
     ]
    }
   ],
   "source": [
    "merged_seqs = merge_clusters(b_sorted_clusters, y_sorted_clusters, input_spectrum.precursor_mass, precursor_tolerance)\n",
    "[print(merged_seqs[x]) for x in range(0,50)]"
   ]
  },
  {
   "cell_type": "code",
   "execution_count": null,
   "id": "41c4248e",
   "metadata": {
    "scrolled": true
   },
   "outputs": [],
   "source": [
    "print(len(b_sorted_set), len(y_sorted_set))"
   ]
  },
  {
   "cell_type": "code",
   "execution_count": 17,
   "id": "43da06b3",
   "metadata": {},
   "outputs": [],
   "source": [
    "import sys\n",
    "import collections\n",
    "import operator\n",
    "\n",
    "def min_info(cluster):\n",
    "    return (cluster.pid, cluster.start, cluster.end, cluster.score, cluster.seq)\n",
    "\n",
    "def bsearch(key, Y):\n",
    "        lo = -1\n",
    "        hi = len(Y)\n",
    "        mid = -1\n",
    "        while (hi - lo > 1):\n",
    "            mid = int((hi+lo) / 2)\n",
    "            if Y[mid].start < key:\n",
    "                lo = mid\n",
    "            else:\n",
    "                hi = mid\n",
    "        return hi\n",
    "def Ryan_merge(b_sorted_clusters, y_sorted_clusters):\n",
    "    Cluster = collections.namedtuple('Cluster', 'score pid seq mass start end ion hits')\n",
    "    merge_seqs = []\n",
    "\n",
    "    B = {}\n",
    "    for c in b_sorted_clusters:\n",
    "        if c.pid not in B:\n",
    "            B[c.pid] = []\n",
    "        B[c.pid].append(c)\n",
    "\n",
    "    Y = {}\n",
    "    for c in y_sorted_clusters:\n",
    "        if c.pid not in Y:\n",
    "            Y[c.pid] = []\n",
    "        Y[c.pid].append(c)\n",
    "\n",
    "    for pid in B:\n",
    "        if pid not in Y:\n",
    "            continue\n",
    "\n",
    "        sorted_B = sorted(B[pid], key=operator.attrgetter('pid', 'start', 'end'))\n",
    "        sorted_Y = sorted(Y[pid], key=operator.attrgetter('pid', 'start', 'end'))\n",
    "\n",
    "        for b in sorted_B:\n",
    "            y_i = bsearch(b.start, sorted_Y)\n",
    "\n",
    "            if y_i >= len(sorted_Y): break\n",
    "\n",
    "            y = sorted_Y[y_i]\n",
    "\n",
    "            while y_i < len(sorted_Y) and y.start - b.end < 10:\n",
    "                y = sorted_Y[y_i]\n",
    "                merge_seqs.append((b.score + y.score, b.end - y.start, y.end-b.start,min_info(b), min_info(y)))\n",
    "                y_i += 1\n",
    "    return merge_seqs"
   ]
  },
  {
   "cell_type": "code",
   "execution_count": 18,
   "id": "5be0dd5c",
   "metadata": {},
   "outputs": [
    {
     "name": "stdout",
     "output_type": "stream",
     "text": [
      "(11, 8, 8, (274, 60, 68, 8, 'DPQVEQLEL'), (274, 60, 68, 3, 'DPQVEQLEL'))\n",
      "(9, 2, 6, (274, 60, 68, 8, 'DPQVEQLEL'), (274, 66, 66, 1, 'L'))\n",
      "(9, 2, 7, (274, 60, 68, 8, 'DPQVEQLEL'), (274, 66, 67, 1, 'LE'))\n",
      "(9, -3, 12, (274, 60, 68, 8, 'DPQVEQLEL'), (274, 71, 72, 1, 'SP'))\n",
      "(9, -7, 15, (274, 60, 68, 8, 'DPQVEQLEL'), (274, 75, 75, 1, 'L'))\n",
      "(9, -10, 18, (274, 60, 68, 8, 'DPQVEQLEL'), (274, 78, 78, 1, 'L'))\n",
      "(7, -6, 25, (201, 45, 56, 3, 'IEPPDTGLYYDE'), (201, 62, 70, 4, 'IEVLETDPH'))\n",
      "(6, 8, 7, (112, 57, 71, 4, 'TQAGVEELDPENKIP'), (112, 63, 64, 2, 'EL'))\n",
      "(6, 7, 7, (159, 1061, 1068, 4, 'IQEYYNKL'), (159, 1061, 1068, 2, 'IQEYYNKL'))\n",
      "(6, 7, 6, (76, 640, 648, 3, 'KYNVSCIMI'), (76, 641, 646, 3, 'YNVSCI'))\n",
      "(6, -6, 16, (76, 1399, 1402, 2, 'ELIE'), (76, 1408, 1415, 4, 'EIPHSELD'))\n",
      "(6, -2, 22, (175, 46, 61, 3, 'TTESVKEQEMKWTDLA'), (175, 63, 68, 3, 'QGLHEN'))\n",
      "(6, 1, 8, (259, 59, 62, 2, 'YYLE'), (259, 61, 67, 4, 'LESYGLE'))\n",
      "(5, 6, 9, (274, 59, 66, 2, 'EDPQVEQL'), (274, 60, 68, 3, 'DPQVEQLEL'))\n",
      "(5, 8, 13, (127, 16, 24, 2, 'EIEGEIKRD'), (127, 16, 29, 3, 'EIEGEIKRDFMAAL'))\n",
      "(5, -11, 17, (127, 259, 264, 3, 'TTPGPD'), (127, 275, 276, 2, 'EI'))\n",
      "(5, 6, 11, (127, 1087, 1104, 4, 'PDAGAPTSASGLSGHTTL'), (127, 1098, 1098, 1, 'L'))\n",
      "(5, 3, 16, (127, 1087, 1104, 4, 'PDAGAPTSASGLSGHTTL'), (127, 1101, 1103, 1, 'HTT'))\n",
      "(5, 0, 17, (127, 1087, 1104, 4, 'PDAGAPTSASGLSGHTTL'), (127, 1104, 1104, 1, 'L'))\n",
      "(5, -12, 29, (127, 1087, 1104, 4, 'PDAGAPTSASGLSGHTTL'), (127, 1116, 1116, 1, 'L'))\n",
      "(5, 1, 13, (112, 57, 71, 4, 'TQAGVEELDPENKIP'), (112, 70, 70, 1, 'I'))\n",
      "(5, 15, 5, (249, 509, 524, 4, 'GTYFEVKIPSDTFYDN'), (249, 509, 514, 1, 'GTYFEV'))\n",
      "(5, 8, 7, (249, 509, 524, 4, 'GTYFEVKIPSDTFYDN'), (249, 516, 516, 1, 'I'))\n",
      "(5, 7, 9, (249, 509, 524, 4, 'GTYFEVKIPSDTFYDN'), (249, 517, 518, 1, 'PS'))\n",
      "(5, -8, 23, (249, 509, 524, 4, 'GTYFEVKIPSDTFYDN'), (249, 532, 532, 1, 'L'))\n",
      "(5, -10, 25, (249, 509, 524, 4, 'GTYFEVKIPSDTFYDN'), (249, 534, 534, 1, 'L'))\n",
      "(5, 7, 5, (41, 237, 244, 4, 'HSLMPMLE'), (41, 237, 242, 1, 'HSLMPM'))\n",
      "(5, 5, 2, (41, 237, 244, 4, 'HSLMPMLE'), (41, 239, 239, 1, 'L'))\n",
      "(5, 1, 6, (41, 237, 244, 4, 'HSLMPMLE'), (41, 243, 243, 1, 'L'))\n",
      "(5, 1, 7, (41, 237, 244, 4, 'HSLMPMLE'), (41, 243, 244, 1, 'LE'))\n",
      "(5, -2, 9, (41, 237, 244, 4, 'HSLMPMLE'), (41, 246, 246, 1, 'L'))\n",
      "(5, -10, 17, (41, 237, 244, 4, 'HSLMPMLE'), (41, 254, 254, 1, 'I'))\n",
      "(5, 6, 5, (18, 254, 260, 4, 'TVFSDFL'), (18, 254, 259, 1, 'TVFSDF'))\n",
      "(5, 0, 6, (18, 254, 260, 4, 'TVFSDFL'), (18, 260, 260, 1, 'L'))\n",
      "(5, -20, 26, (18, 254, 260, 4, 'TVFSDFL'), (18, 280, 280, 1, 'I'))\n",
      "(5, 0, 6, (212, 492, 498, 4, 'DPEVQQI'), (212, 498, 498, 1, 'I'))\n",
      "(5, -8, 14, (212, 492, 498, 4, 'DPEVQQI'), (212, 506, 506, 1, 'L'))\n",
      "(5, -9, 15, (212, 492, 498, 4, 'DPEVQQI'), (212, 507, 507, 1, 'I'))\n",
      "(5, -10, 16, (212, 492, 498, 4, 'DPEVQQI'), (212, 508, 508, 1, 'L'))\n",
      "(5, 4, 2, (159, 22, 27, 3, 'TELSHE'), (159, 23, 24, 2, 'EL'))\n",
      "(5, 7, 0, (159, 1061, 1068, 4, 'IQEYYNKL'), (159, 1061, 1061, 1, 'I'))\n",
      "(5, 7, 4, (159, 1061, 1068, 4, 'IQEYYNKL'), (159, 1061, 1065, 1, 'IQEYY'))\n",
      "(5, 0, 8, (159, 1061, 1068, 4, 'IQEYYNKL'), (159, 1068, 1069, 1, 'LC'))\n",
      "(5, -1, 20, (159, 1061, 1068, 4, 'IQEYYNKL'), (159, 1069, 1081, 1, 'CQEVTNRERNDQK'))\n",
      "(5, -15, 22, (159, 1061, 1068, 4, 'IQEYYNKL'), (159, 1083, 1083, 1, 'L'))\n",
      "(5, 9, 9, (76, 474, 484, 2, 'EIMTERDMELF'), (76, 475, 483, 3, 'IMTERDMEL'))\n",
      "(5, 0, 12, (76, 557, 568, 3, 'KKCGWFHPPANE'), (76, 568, 569, 2, 'EI'))\n",
      "(5, 8, 8, (76, 640, 648, 3, 'KYNVSCIMI'), (76, 640, 648, 2, 'KYNVSCIMI'))\n",
      "(5, -5, 20, (76, 926, 935, 2, 'QVQADGKPDI'), (76, 940, 946, 3, 'FSESVEL'))\n",
      "(5, -7, 17, (76, 1398, 1401, 1, 'EELI'), (76, 1408, 1415, 4, 'EIPHSELD'))\n"
     ]
    },
    {
     "data": {
      "text/plain": [
       "[None,\n",
       " None,\n",
       " None,\n",
       " None,\n",
       " None,\n",
       " None,\n",
       " None,\n",
       " None,\n",
       " None,\n",
       " None,\n",
       " None,\n",
       " None,\n",
       " None,\n",
       " None,\n",
       " None,\n",
       " None,\n",
       " None,\n",
       " None,\n",
       " None,\n",
       " None,\n",
       " None,\n",
       " None,\n",
       " None,\n",
       " None,\n",
       " None,\n",
       " None,\n",
       " None,\n",
       " None,\n",
       " None,\n",
       " None,\n",
       " None,\n",
       " None,\n",
       " None,\n",
       " None,\n",
       " None,\n",
       " None,\n",
       " None,\n",
       " None,\n",
       " None,\n",
       " None,\n",
       " None,\n",
       " None,\n",
       " None,\n",
       " None,\n",
       " None,\n",
       " None,\n",
       " None,\n",
       " None,\n",
       " None,\n",
       " None]"
      ]
     },
     "execution_count": 18,
     "metadata": {},
     "output_type": "execute_result"
    }
   ],
   "source": [
    "m = Ryan_merge(b_sorted_clusters, y_sorted_clusters)\n",
    "m.sort(key = lambda x: x[0], reverse = True) \n",
    "[print(m[x]) for x in range(0,50)]"
   ]
  },
  {
   "cell_type": "code",
   "execution_count": 37,
   "id": "b906b96a",
   "metadata": {},
   "outputs": [
    {
     "name": "stdout",
     "output_type": "stream",
     "text": [
      "[('DPQVEQLEL', 13, True), ('EDPQVEQL', 7, True), ('VEDPQ', 6, True), ('EDPQVEQLL', 5, True), ('EDPQVEQL-L', 5, False), ('LGGSP-LE', 4, False), ('LGGSP-L', 4, False), ('LGGSP-L', 4, False), ('LGGSP-L', 4, False), ('LGGSP', 4, True), ('VEDPQ-LE', 4, False), ('VEDPQ-L', 4, False), ('VEDPQ-SP', 4, False), ('LE', 4, True), ('LE-L', 4, False), ('LE-L', 4, False), ('LE-SP', 4, False), ('EL-LE', 4, False), ('EL-L', 4, False), ('EL-L', 4, False), ('EL-SP', 4, False), ('LE', 4, True), ('LE-L', 4, False), ('LE-I', 4, False), ('LE', 4, True), ('LE-L', 4, False), ('PQ-LE', 4, False), ('PQ-L', 4, False), ('PQ-SP', 4, False), ('K-LC', 4, False), ('K-L', 4, False), ('T-LC', 4, False), ('T-L', 4, False), ('K-EALYLVC', 4, False), ('K-LC', 4, False), ('K-L', 4, False), ('K-L', 4, False), ('T-LE', 4, False), ('T-L', 4, False), ('T-L', 4, False), ('K-I', 4, False), ('T-LE', 4, False), ('T-IC', 4, False), ('T-I', 4, False), ('T-L', 4, False), ('T-L', 4, False)]\n",
      "46\n"
     ]
    }
   ],
   "source": [
    "target_combos = merge_clusters(b_target_clusters, y_target_clusters, input_spectrum.precursor_mass, precursor_tolerance)\n",
    "print(target_combos)\n",
    "print(len(target_combos))"
   ]
  },
  {
   "cell_type": "code",
   "execution_count": 33,
   "id": "469dfc15",
   "metadata": {},
   "outputs": [
    {
     "name": "stdout",
     "output_type": "stream",
     "text": [
      "653528\n"
     ]
    }
   ],
   "source": [
    "def modified_filter_by_precursor(b, y, pc, obs_prec, precursor_tolerance):\n",
    "    new_seq = b + y\n",
    "    tol = ppm_to_da(obs_prec, precursor_tolerance)\n",
    "    if get_precursor(new_seq, charge=pc) > obs_prec + tol:\n",
    "        return False\n",
    "    else:\n",
    "        return True\n",
    "\n",
    "interesting_combos = []\n",
    "for b in b_sorted_set:\n",
    "    for y in y_sorted_set:\n",
    "        if modified_filter_by_precursor(b, y, 2, input_spectrum.precursor_mass, precursor_tolerance):\n",
    "            interesting_combos.append(b + '-' + y)\n",
    "print(len(interesting_combos))"
   ]
  },
  {
   "cell_type": "code",
   "execution_count": 22,
   "id": "3b6e793d",
   "metadata": {},
   "outputs": [
    {
     "ename": "KeyboardInterrupt",
     "evalue": "",
     "output_type": "error",
     "traceback": [
      "\u001b[0;31m---------------------------------------------------------------------------\u001b[0m",
      "\u001b[0;31mKeyboardInterrupt\u001b[0m                         Traceback (most recent call last)",
      "\u001b[0;32m<ipython-input-22-80b9e78eff15>\u001b[0m in \u001b[0;36m<module>\u001b[0;34m\u001b[0m\n\u001b[0;32m----> 1\u001b[0;31m \u001b[0mprint\u001b[0m\u001b[0;34m(\u001b[0m\u001b[0mmerge_clusters\u001b[0m\u001b[0;34m(\u001b[0m\u001b[0mb_sorted_clusters\u001b[0m\u001b[0;34m,\u001b[0m \u001b[0my_sorted_clusters\u001b[0m\u001b[0;34m,\u001b[0m \u001b[0minput_spectrum\u001b[0m\u001b[0;34m.\u001b[0m\u001b[0mprecursor_mass\u001b[0m\u001b[0;34m,\u001b[0m \u001b[0mprecursor_tolerance\u001b[0m\u001b[0;34m)\u001b[0m\u001b[0;34m)\u001b[0m\u001b[0;34m\u001b[0m\u001b[0;34m\u001b[0m\u001b[0m\n\u001b[0m",
      "\u001b[0;32m<ipython-input-21-613703cd0cbc>\u001b[0m in \u001b[0;36mmerge_clusters\u001b[0;34m(b_sorted_clusters, y_sorted_clusters, target_precursor, precursor_tolerance)\u001b[0m\n\u001b[1;32m     68\u001b[0m                 \u001b[0;32mif\u001b[0m \u001b[0mfilter_by_validity\u001b[0m\u001b[0;34m(\u001b[0m\u001b[0mb_cluster\u001b[0m\u001b[0;34m,\u001b[0m \u001b[0my_cluster\u001b[0m\u001b[0;34m)\u001b[0m\u001b[0;34m:\u001b[0m\u001b[0;34m\u001b[0m\u001b[0;34m\u001b[0m\u001b[0m\n\u001b[1;32m     69\u001b[0m                     \u001b[0mcomb_seq\u001b[0m\u001b[0;34m,\u001b[0m \u001b[0mscore_add\u001b[0m\u001b[0;34m,\u001b[0m \u001b[0mhybrid\u001b[0m\u001b[0;34m,\u001b[0m \u001b[0moverlap\u001b[0m \u001b[0;34m=\u001b[0m \u001b[0mcombine\u001b[0m\u001b[0;34m(\u001b[0m\u001b[0mb_cluster\u001b[0m\u001b[0;34m,\u001b[0m \u001b[0my_cluster\u001b[0m\u001b[0;34m)\u001b[0m\u001b[0;34m\u001b[0m\u001b[0;34m\u001b[0m\u001b[0m\n\u001b[0;32m---> 70\u001b[0;31m                     \u001b[0;32mif\u001b[0m \u001b[0mfilter_by_precursor\u001b[0m\u001b[0;34m(\u001b[0m\u001b[0mcomb_seq\u001b[0m\u001b[0;34m,\u001b[0m \u001b[0;36m2\u001b[0m\u001b[0;34m,\u001b[0m \u001b[0moverlap\u001b[0m\u001b[0;34m,\u001b[0m \u001b[0mtarget_precursor\u001b[0m\u001b[0;34m,\u001b[0m \u001b[0mprecursor_tolerance\u001b[0m\u001b[0;34m)\u001b[0m\u001b[0;34m:\u001b[0m\u001b[0;34m\u001b[0m\u001b[0;34m\u001b[0m\u001b[0m\n\u001b[0m\u001b[1;32m     71\u001b[0m                         \u001b[0;32mif\u001b[0m \u001b[0mfilter_by_dist\u001b[0m\u001b[0;34m(\u001b[0m\u001b[0mb_cluster\u001b[0m\u001b[0;34m,\u001b[0m \u001b[0my_cluster\u001b[0m\u001b[0;34m,\u001b[0m \u001b[0;36m10\u001b[0m\u001b[0;34m)\u001b[0m\u001b[0;34m:\u001b[0m\u001b[0;34m\u001b[0m\u001b[0;34m\u001b[0m\u001b[0m\n\u001b[1;32m     72\u001b[0m                             \u001b[0mtup\u001b[0m \u001b[0;34m=\u001b[0m \u001b[0;34m(\u001b[0m\u001b[0mcomb_seq\u001b[0m\u001b[0;34m,\u001b[0m \u001b[0mb_cluster\u001b[0m\u001b[0;34m.\u001b[0m\u001b[0mscore\u001b[0m \u001b[0;34m+\u001b[0m \u001b[0my_cluster\u001b[0m\u001b[0;34m.\u001b[0m\u001b[0mscore\u001b[0m \u001b[0;34m+\u001b[0m \u001b[0mscore_add\u001b[0m\u001b[0;34m,\u001b[0m \u001b[0moverlap\u001b[0m\u001b[0;34m)\u001b[0m\u001b[0;34m\u001b[0m\u001b[0;34m\u001b[0m\u001b[0m\n",
      "\u001b[0;31mKeyboardInterrupt\u001b[0m: "
     ]
    }
   ],
   "source": [
    "print(merge_clusters(b_sorted_clusters, y_sorted_clusters, input_spectrum.precursor_mass, precursor_tolerance))"
   ]
  },
  {
   "cell_type": "markdown",
   "id": "999ffeb4",
   "metadata": {},
   "source": [
    "# How big does mass have to be to get matches from both b and y ions"
   ]
  },
  {
   "cell_type": "code",
   "execution_count": 4,
   "id": "1f2029ee",
   "metadata": {},
   "outputs": [
    {
     "name": "stdout",
     "output_type": "stream",
     "text": [
      "0.02\n"
     ]
    }
   ],
   "source": [
    "from utils import ppm_to_da\n",
    "ppm_tolerance = 20\n",
    "\n",
    "m = 1000\n",
    "\n",
    "print(ppm_to_da(m, ppm_tolerance))"
   ]
  },
  {
   "cell_type": "markdown",
   "id": "d0175ea3",
   "metadata": {},
   "source": [
    "# Occurance\n",
    "\n",
    "Q: How does occurance scale with the length of the peptide"
   ]
  },
  {
   "cell_type": "code",
   "execution_count": null,
   "id": "4fa43eb5",
   "metadata": {},
   "outputs": [],
   "source": [
    "mz_array = []\n",
    "occurance_array = []\n",
    "for key in matched_masses_b:\n",
    "    for tup in matched_masses_b[key]:\n",
    "        mz = tup[]\n",
    "        "
   ]
  },
  {
   "cell_type": "markdown",
   "id": "06b54219",
   "metadata": {},
   "source": [
    "# Over all datasets\n",
    "\n",
    "* Want to know:\n",
    "    * What do good hits look like when put through extensions?\n",
    "    * Only factor in the hits for which there exist a good hit from the b and y side. It doesn't make sense to talk about extensions for which we don't have good initial hits on both sides\n",
    "        * How often does this happen?\n",
    "        * Do we lose out on good combinations after penalizing double counting?"
   ]
  }
 ],
 "metadata": {
  "kernelspec": {
   "display_name": "Python 3",
   "language": "python",
   "name": "python3"
  },
  "language_info": {
   "codemirror_mode": {
    "name": "ipython",
    "version": 3
   },
   "file_extension": ".py",
   "mimetype": "text/x-python",
   "name": "python",
   "nbconvert_exporter": "python",
   "pygments_lexer": "ipython3",
   "version": "3.7.10"
  }
 },
 "nbformat": 4,
 "nbformat_minor": 5
}

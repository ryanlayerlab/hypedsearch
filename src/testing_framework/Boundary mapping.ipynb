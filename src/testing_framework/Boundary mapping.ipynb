{
 "cells": [
  {
   "cell_type": "markdown",
   "id": "82afa258",
   "metadata": {},
   "source": [
    "# Boundary mapping\n",
    "\n",
    "The purpose of this notebook is to mess around with all the different options available with boundary mapping"
   ]
  },
  {
   "cell_type": "code",
   "execution_count": 1,
   "id": "8e2247c9",
   "metadata": {},
   "outputs": [],
   "source": [
    "import os\n",
    "import sys\n",
    "\n",
    "module_path = os.path.abspath(os.path.join('..'))\n",
    "if module_path not in sys.path:\n",
    "    sys.path.append(module_path)\n",
    "module_path = os.path.abspath(os.path.join('..', 'hypedsearch', 'src'))\n",
    "if module_path not in sys.path:\n",
    "    sys.path.append(module_path)\n",
    "\n",
    "\n",
    "import database\n",
    "import testing_utils\n",
    "import operator\n",
    "import collections\n",
    "\n",
    "\n",
    "#Assumptions:\n",
    "max_peptide_length = 20\n",
    "ppm_tolerance = 20\n",
    "\n",
    "import matplotlib.pyplot as plt"
   ]
  },
  {
   "cell_type": "code",
   "execution_count": 2,
   "id": "58256063",
   "metadata": {},
   "outputs": [
    {
     "name": "stdout",
     "output_type": "stream",
     "text": [
      "Loading spectra...\n",
      "Done\n"
     ]
    }
   ],
   "source": [
    "datasets = testing_utils.define_data()\n",
    "\n",
    "dataset = datasets[0]\n",
    "\n",
    "input_spectra_path = dataset[0]\n",
    "input_spectra, boundaries = testing_utils.preprocess_input_spectra(input_spectra_path, ppm_tolerance)\n",
    "\n",
    "correct_sequences = testing_utils.generate_truth_set(datasets[0])\n",
    "\n",
    "path = dataset[2]\n",
    "db = database.build(path)"
   ]
  },
  {
   "cell_type": "code",
   "execution_count": 3,
   "id": "67235693",
   "metadata": {
    "scrolled": true
   },
   "outputs": [
    {
     "name": "stdout",
     "output_type": "stream",
     "text": [
      "On protein 279/279 [100%]\n",
      "Sorting the set of protein masses...\n",
      "Sorting the set of protein masses done\n",
      "Performing Merge\n",
      "Done\n",
      "Finished matching masses\n"
     ]
    }
   ],
   "source": [
    "matched_masses_b, matched_masses_y, database = testing_utils.modified_match_masses(boundaries, db, max_peptide_length)\n",
    "# matched_masses_b, matched_masses_y, database = match_masses(boundaries, db, max_peptide_length)\n",
    "print('Finished matching masses')"
   ]
  },
  {
   "cell_type": "markdown",
   "id": "3c0613d2",
   "metadata": {},
   "source": [
    "# Grabbing hits"
   ]
  },
  {
   "cell_type": "code",
   "execution_count": 4,
   "id": "425c78e5",
   "metadata": {},
   "outputs": [
    {
     "name": "stdout",
     "output_type": "stream",
     "text": [
      "DPQVEQLEL\n"
     ]
    }
   ],
   "source": [
    "spectrum_num = 0\n",
    "correct_sequence = correct_sequences[spectrum_num]\n",
    "print(correct_sequence)\n",
    "\n",
    "input_spectrum = input_spectra[spectrum_num]\n",
    "\n",
    "#Remember to add in abundance if it is helpful\n",
    "b_hits, y_hits, b_set, y_set, misses = testing_utils.find_hits(boundaries, input_spectrum, spectrum_num, matched_masses_b, matched_masses_y)\n",
    "correct_hits = testing_utils.append_correct_hits(correct_sequence, input_spectrum, ppm_tolerance)"
   ]
  },
  {
   "cell_type": "markdown",
   "id": "75605959",
   "metadata": {},
   "source": [
    "# Writing hits"
   ]
  },
  {
   "cell_type": "code",
   "execution_count": 5,
   "id": "60fa4dd9",
   "metadata": {},
   "outputs": [
    {
     "name": "stdout",
     "output_type": "stream",
     "text": [
      "Done\n"
     ]
    }
   ],
   "source": [
    "testing_utils.write_hits(b_hits, y_hits)"
   ]
  },
  {
   "cell_type": "code",
   "execution_count": 59,
   "id": "8127b3da",
   "metadata": {},
   "outputs": [],
   "source": [
    "import utils\n",
    "\n",
    "def parse_indices(index_set):\n",
    "    indices = []\n",
    "    for index in index_set:\n",
    "        string = str(index)\n",
    "        A = string.rstrip().split(',')\n",
    "        start = A[0]\n",
    "        end = A[1]\n",
    "        seq = A[2]\n",
    "        mz = A[3]\n",
    "        disallowed_characters = \" ()\\'\"\n",
    "        for character in disallowed_characters:\n",
    "            start = start.replace(character, \"\")\n",
    "            end = end.replace(character, \"\")\n",
    "            seq = seq.replace(character, \"\")\n",
    "            mz = mz.replace(character, \"\")\n",
    "        \n",
    "        target_tuple = (int(start), int(end), seq, float(mz))\n",
    "        indices.append(target_tuple)\n",
    "    \n",
    "    \n",
    "    return indices\n",
    "\n",
    "def calc_weighted_sum(indices, boundaries, matched_masses):\n",
    "    total_sum = 0\n",
    "    for subCluster in indices:\n",
    "        mass = subCluster[3]\n",
    "        boundary = boundaries[mass]\n",
    "        boundary = utils.hashable_boundaries(boundary)\n",
    "        if len(matched_masses[boundary]) != 0:\n",
    "            total_sum = total_sum + (1/ len(matched_masses[boundary]) ) + set_prior(mass, boundaries, matched_masses)\n",
    "        else:\n",
    "            total_sum = total_sum\n",
    "    return total_sum\n",
    "\n",
    "# weighted_sum_array = []\n",
    "# score_array = []\n",
    "# for cluster in b_sorted_clusters:\n",
    "#     indices = parse_indices(cluster)\n",
    "#     weighted_sum_array.append(calc_weighted_sum(indices, matched_masses_b))\n",
    "#     score_array.append(cluster.score)\n",
    "# for cluster in y_sorted_clusters:\n",
    "#     indices = parse_indices(cluster)\n",
    "#     weighted_sum_array.append(calc_weighted_sum(indices, matched_masses_y))\n",
    "#     score_array.append(cluster.score)\n",
    "    \n",
    "# def create_tuple_from_element(A):\n",
    "#     start = A[0]\n",
    "#     second = A[1]\n",
    "#     seq = A[2]\n",
    "#     mass = A[3]\n",
    "#     disallowed_characters = \" ()\\'\"\n",
    "#     for character in disallowed_characters:\n",
    "#         start = start.replace(character, \"\")\n",
    "#         seq = seq.replace(character, \"\")\n",
    "#         mass = mass.replace(character, \"\")\n",
    "#     start = int(start)\n",
    "#     second = int(second)\n",
    "#     mass = float(mass)\n",
    "    \n",
    "#     target_tuple = (start, second, seq, mass)\n",
    "#     return target_tuple\n",
    "\n",
    "# def calc_post_prob(indices, ion, boundaries, matched_masses_b, matched_masses_y):\n",
    "#     post_prob_array = []\n",
    "#     post_prob = 0\n",
    "#     for element in indices:\n",
    "#         A = element.split(',')\n",
    "#         A = create_tuple_from_element(A)\n",
    "#         seq = A[2]\n",
    "#         mz = A[3]\n",
    "#         b = boundaries[mz]\n",
    "#         b = utils.hashable_boundaries(b)\n",
    "#         that_prior = set_prior(mz, ion, boundaries, matched_masses_b, matched_masses_y)\n",
    "#         if ion == 'b':\n",
    "#             that_post_prob =  1/len(seq) * that_prior\n",
    "#         else:\n",
    "#             that_post_prob =  1/len(seq) * that_prior\n",
    "#         post_prob_array.append(that_post_prob)\n",
    "#     for prob in post_prob_array:\n",
    "#         post_prob = post_prob + prob\n",
    "        \n",
    "#     return post_prob\n",
    "    \n",
    "    \n",
    "def set_prior(mz, boundaries, matched_masses):\n",
    "    # for i in range (0, len(b_sorted_clusters)):\n",
    "    # prior = 1 / # of occurances\n",
    "    b = boundaries[mz]\n",
    "    b = utils.hashable_boundaries(b)\n",
    "    P_A = 1/len(matched_masses[b])    \n",
    "    return P_A\n",
    "\n",
    "# def calc_post_prob(prior, indices):\n",
    "#     #Should calculate it's own posterior and add to each posterior in indices\n",
    "#     post = 0\n",
    "#     for element in indices:\n",
    "#         A = element.rstrip().split(',')\n",
    "#         string = A[2]\n",
    "#         mz = (A[3])\n",
    "#         mz = mz[:-1]\n",
    "#         mz = mz[2:]\n",
    "#         that_prior\n",
    "#         post = post + (1/len(string) * that)\n",
    "#     return post\n",
    "\n",
    "def sort_clusters_by_post_prob(ion, boundaries, matched_masses_b, matched_masses_y):\n",
    "    cluster = collections.namedtuple('cluster', 'post_prob prior score pid start end seq mz indices')\n",
    "    if ion == 'b':\n",
    "        b_cluster_array = []\n",
    "        with open('clusters.txt', 'r') as c:\n",
    "            for line in c:\n",
    "                A = line.rstrip().split('\\t')\n",
    "                score = int(A[0])\n",
    "                pid = int(A[1])\n",
    "                seq = A[2]\n",
    "                mz = float(A[3])\n",
    "                start = int(A[4])\n",
    "                end = int(A[5])\n",
    "                indices = []\n",
    "                [indices.append(A[x]) for x in range(6,len(A))]\n",
    "                prior = set_prior(mz, boundaries, matched_masses_b)\n",
    "                indices = parse_indices(indices)\n",
    "                post_prob = score + calc_weighted_sum(indices, boundaries, matched_masses_b)\n",
    "\n",
    "                b_cluster_array.append(cluster(post_prob=post_prob, prior=prior, score=score, pid=pid, start=start, end=end, seq=seq, mz=mz, indices=indices) )\n",
    "\n",
    "        b_sorted_clusters = sorted(b_cluster_array, key=operator.attrgetter('post_prob', 'score', 'pid', 'prior'), reverse = True)\n",
    "        return b_sorted_clusters\n",
    "    else:\n",
    "        y_cluster_array = []\n",
    "        with open('clusters.txt', 'r') as c:\n",
    "            for line in c:\n",
    "                A = line.rstrip().split('\\t')\n",
    "                score = int(A[0])\n",
    "                pid = int(A[1])\n",
    "                seq = A[2]\n",
    "                mz = float(A[3])\n",
    "                start = int(A[4])\n",
    "                end = int(A[5])\n",
    "                indices = []\n",
    "                [indices.append(A[x]) for x in range(6,len(A))]\n",
    "                prior = set_prior(mz, boundaries, matched_masses_y)\n",
    "                indices = parse_indices(indices)\n",
    "                post_prob = score + calc_weighted_sum(indices, boundaries, matched_masses_b)\n",
    "\n",
    "                y_cluster_array.append(cluster(post_prob=post_prob, prior=prior, score=score, pid=pid, start=start, end=end, seq=seq, mz=mz, indices=indices) )\n",
    "\n",
    "        y_sorted_clusters = sorted(y_cluster_array, key=operator.attrgetter('post_prob', 'score', 'pid', 'prior'), reverse = True)\n",
    "        return y_sorted_clusters"
   ]
  },
  {
   "cell_type": "markdown",
   "id": "d43ace39",
   "metadata": {},
   "source": [
    "# Clustering b hits"
   ]
  },
  {
   "cell_type": "code",
   "execution_count": 60,
   "id": "2c355f8c",
   "metadata": {},
   "outputs": [],
   "source": [
    "ion = 'b'\n",
    "testing_utils.create_clusters(ion)\n",
    "b_sorted_clusters = sort_clusters_by_post_prob(ion, boundaries, matched_masses_b, matched_masses_y)"
   ]
  },
  {
   "cell_type": "markdown",
   "id": "a0386f7c",
   "metadata": {},
   "source": [
    "# Printing data"
   ]
  },
  {
   "cell_type": "code",
   "execution_count": 61,
   "id": "db533d63",
   "metadata": {
    "scrolled": true
   },
   "outputs": [
    {
     "name": "stdout",
     "output_type": "stream",
     "text": [
      "7.052751162968867 7 DPQVEQLE\n",
      "4.0337230490073495 4 DPEVQQI\n",
      "4.033024152288204 4 PDAGAPTSASGLSGHTTL\n",
      "4.032008697586215 4 HSLMPMLE\n",
      "4.028463692255176 4 GTYFEVKIPSDTFYDN\n",
      "4.026701333923687 4 TVFSDFL\n",
      "4.016716274959339 4 PAGDQKDV\n",
      "4.013887637480725 4 TQAGVEELDPENKIP\n",
      "3.031340536792882 3 TPPPAGEAAF\n",
      "3.0286654946191485 3 TSFLVNRDH\n",
      "3.0282134071340714 3 LNCHTQ\n",
      "3.0282134071340714 3 PSPSEAQ\n",
      "3.0282134071340714 3 YYEIQ\n",
      "3.0282134071340714 3 QAGPGASQ\n",
      "3.0282134071340714 3 EDNLPQ\n",
      "3.0282134071340714 3 YYEIQ\n",
      "3.027641420482896 3 TLSFSSIS\n",
      "3.0264990557129368 3 HTDTNKIE\n",
      "3.0264990557129368 3 IQEYYNK\n",
      "3.0264990557129368 3 REENAPKN\n",
      "3.0263429752066116 3 IYEGYAL\n",
      "3.0263429752066116 3 IYEGYAL\n",
      "3.0263429752066116 3 HCQQLSI\n",
      "3.0263429752066116 3 IYEGYAL\n",
      "3.0263429752066116 3 HLTDTEI\n",
      "3.0263429752066116 3 SHANTWL\n",
      "3.0233941527955612 3 QPARED\n",
      "3.022797969875573 3 YALYDA\n",
      "3.022797969875573 3 YANNHP\n",
      "3.022797969875573 3 GQPADDI\n",
      "3.0226947394121737 3 TTFV\n",
      "3.0226947394121737 3 TTFV\n",
      "3.0214434204339087 3 PGGEEVLREQAGGD\n",
      "3.021191692050409 3 TSYTML\n",
      "3.021191692050409 3 TELSHE\n",
      "3.021191692050409 3 THNWGT\n",
      "3.021191692050409 3 TNNPAQA\n",
      "3.0211118460752915 3 KNHTSE\n",
      "3.0211118460752915 3 KHHMY\n",
      "3.0211118460752915 3 KEGGPNN\n",
      "3.0203524022411803 3 NPEEVLQ\n",
      "3.018791479020878 3 GDEPGPQRSVEGWIL\n",
      "3.0187894206887655 3 INPDEAVA\n",
      "3.0187894206887655 3 PSSAPELQ\n",
      "3.0187088662544515 3 DPRAEEI\n",
      "3.0183571014816244 3 ANATNPE\n",
      "3.015923211044141 3 QPDV\n",
      "3.0150600574973616 3 IEPPDTGLYYDE\n",
      "3.014952652525251 3 TDMTKLEECVRSIQADG\n",
      "3.0146958447279935 3 FSLHDP\n"
     ]
    }
   ],
   "source": [
    "# b_sorted_clusters = sorted(b_sorted_clusters, key=operator.attrgetter('score', 'post_prob', 'pid', 'prior'), reverse = True)\n",
    "b_sorted_clusters = sorted(b_sorted_clusters, key=operator.attrgetter('post_prob', 'score', 'pid', 'prior'), reverse = True)\n",
    "testing_utils.write_b_sorted_cluster(b_sorted_clusters)\n",
    "for i in range(0, 50):\n",
    "    x = b_sorted_clusters[i]\n",
    "    post_prob = x.post_prob\n",
    "    score = x.score\n",
    "    seq = x.seq\n",
    "    indices = x.indices\n",
    "    print(post_prob, score, seq)"
   ]
  },
  {
   "cell_type": "markdown",
   "id": "131f4e93",
   "metadata": {},
   "source": [
    "# Clustering y_hits"
   ]
  },
  {
   "cell_type": "code",
   "execution_count": 62,
   "id": "a7b5d395",
   "metadata": {
    "scrolled": true
   },
   "outputs": [],
   "source": [
    "ion = 'y'\n",
    "testing_utils.create_clusters(ion)\n",
    "y_sorted_clusters = sort_clusters_by_post_prob(ion, boundaries, matched_masses_b, matched_masses_y)"
   ]
  },
  {
   "cell_type": "markdown",
   "id": "b773daf9",
   "metadata": {},
   "source": [
    "# Printing data"
   ]
  },
  {
   "cell_type": "code",
   "execution_count": 63,
   "id": "c91d7f6b",
   "metadata": {
    "scrolled": true
   },
   "outputs": [
    {
     "name": "stdout",
     "output_type": "stream",
     "text": [
      "5.051659430902814 5 LDSFSEI\n",
      "4.051659430902814 4 LESYGLE\n",
      "4.046149789029536 4 CGLYEL\n",
      "4.046149789029536 4 HPDSEL\n",
      "4.032008697586215 4 EISSIDEF\n",
      "4.032008697586215 4 EIPHSELD\n",
      "4.030767753967673 4 FVDLTMPYSV\n",
      "4.028463692255176 4 SSNWVGKGFFAVYEAIC\n",
      "3.034245027124774 3 EGEDDRTVCKEI\n",
      "3.0326965294969406 3 YENLNDQEL\n",
      "3.0326965294969406 3 IMTERDMEL\n",
      "3.0326965294969406 3 LRSSSCGDAEL\n",
      "3.0326965294969406 3 LYENLDEEL\n",
      "3.031917115762209 3 PENPEI\n",
      "3.031917115762209 3 EKYKNIDEDEL\n",
      "3.0316455696202533 3 DPQVEQLEL\n",
      "3.0316455696202533 3 HGEIIYPEI\n",
      "3.031216160710952 3 SDIAMTEL\n",
      "3.031216160710952 3 TEEKMEL\n",
      "3.030982178075806 3 SDNAPPPEL\n",
      "3.030982178075806 3 YNYVWANCFEITLEL\n",
      "3.030982178075806 3 PIDHLCEL\n",
      "3.0308260975694807 3 TAEIASLDSENIDEI\n",
      "3.0308260975694807 3 ESYGLEL\n",
      "3.0308260975694807 3 HWEPEI\n",
      "3.0308260975694807 3 SFSEVEL\n",
      "3.0308260975694807 3 LEDSDLKKSDIDEI\n",
      "3.0308260975694807 3 YFEEYGKIDTIEI\n",
      "3.0308260975694807 3 YGDLTEI\n",
      "3.0308260975694807 3 FSESVEL\n",
      "3.030621495484001 3 GYISAAEL\n",
      "3.030621495484001 3 YQASLEL\n",
      "3.0300445880839093 3 AAGCKVEAFAVQGEEL\n",
      "3.0297412344572643 3 DFTFVCPTEI\n",
      "3.0297412344572643 3 NNPEL\n",
      "3.0297412344572643 3 DFTFVCPTEI\n",
      "3.0297412344572643 3 DFTFVCPTEI\n",
      "3.0296928233110823 3 DPLEEL\n",
      "3.0296928233110823 3 HVMSEI\n",
      "3.0282134071340714 3 QGLHEN\n",
      "3.0282134071340714 3 QFSTQS\n",
      "3.0282134071340714 3 AGHGQEV\n",
      "3.0282134071340714 3 QCRSGF\n",
      "3.0282134071340714 3 QLHNGE\n",
      "3.0282134071340714 3 QMGPHQ\n",
      "3.02743399339934 3 LFSHVDFSGDGKS\n",
      "3.027162447257384 3 YIPLVEFSC\n",
      "3.0263429752066116 3 LGEGSYGK\n",
      "3.0263429752066116 3 LCAPNRH\n",
      "3.0263429752066116 3 LLFTDDS\n"
     ]
    }
   ],
   "source": [
    "# y_sorted_clusters = sorted(y_sorted_clusters, key=operator.attrgetter('score', 'post_prob', 'pid', 'prior'), reverse = True)\n",
    "y_sorted_clusters = sorted(y_sorted_clusters, key=operator.attrgetter('post_prob', 'score', 'pid', 'prior'), reverse = True)\n",
    "for i in range(0, 50):\n",
    "    x = y_sorted_clusters[i]\n",
    "    post_prob = x.post_prob\n",
    "    score = x.score\n",
    "    seq = x.seq\n",
    "    indices = x.indices\n",
    "    print(post_prob, score, seq)"
   ]
  },
  {
   "cell_type": "markdown",
   "id": "de10fca2",
   "metadata": {},
   "source": [
    "# Plotting"
   ]
  },
  {
   "cell_type": "code",
   "execution_count": 64,
   "id": "d0677a9d",
   "metadata": {
    "scrolled": true
   },
   "outputs": [
    {
     "name": "stdout",
     "output_type": "stream",
     "text": [
      "Collecting data...\n",
      "Done\n"
     ]
    }
   ],
   "source": [
    "from scoring import mass_comparisons\n",
    "import gen_spectra\n",
    "print(\"Collecting data...\")\n",
    "score_array = []\n",
    "posterior_array = []\n",
    "bscore_array = []\n",
    "for cluster in b_sorted_clusters:\n",
    "    score_array.append(mass_comparisons.optimized_compare_masses(input_spectrum.mz_values, gen_spectra.gen_spectrum(cluster.seq, ion='b')))\n",
    "    posterior_array.append(cluster.post_prob)\n",
    "    bscore_array.append(cluster.score)\n",
    "for cluster in y_sorted_clusters:\n",
    "    score_array.append(mass_comparisons.optimized_compare_masses(input_spectrum.mz_values, gen_spectra.gen_spectrum(cluster.seq, ion='y')))\n",
    "    posterior_array.append(cluster.post_prob)\n",
    "    bscore_array.append(cluster.score)\n",
    "print(\"Done\")\n"
   ]
  },
  {
   "cell_type": "code",
   "execution_count": 65,
   "id": "ae6351ef",
   "metadata": {
    "scrolled": false
   },
   "outputs": [
    {
     "data": {
      "text/plain": [
       "Text(0.5, 1.0, 'Posterior probability vs Simple additive scoring')"
      ]
     },
     "execution_count": 65,
     "metadata": {},
     "output_type": "execute_result"
    },
    {
     "data": {
      "image/png": "[encoded data removed]",
      "text/plain": [
       "<Figure size 432x288 with 1 Axes>"
      ]
     },
     "metadata": {
      "needs_background": "light"
     },
     "output_type": "display_data"
    }
   ],
   "source": [
    "plt.scatter(posterior_array, score_array, s=None)\n",
    "plt.ylabel('Score by simple additive scoring')\n",
    "plt.xlabel('Posterior probability')\n",
    "plt.title(\"Posterior probability vs Simple additive scoring\")"
   ]
  },
  {
   "cell_type": "code",
   "execution_count": 66,
   "id": "65b906a6",
   "metadata": {
    "scrolled": false
   },
   "outputs": [
    {
     "data": {
      "text/plain": [
       "Text(0.5, 1.0, 'Posterior probability vs cluster scoring')"
      ]
     },
     "execution_count": 66,
     "metadata": {},
     "output_type": "execute_result"
    },
    {
     "data": {
      "image/png": "[encoded data removed]",
      "text/plain": [
       "<Figure size 432x288 with 1 Axes>"
      ]
     },
     "metadata": {
      "needs_background": "light"
     },
     "output_type": "display_data"
    }
   ],
   "source": [
    "plt.scatter(posterior_array, bscore_array, s=None)\n",
    "plt.xlabel(\"Posterior probability\")\n",
    "plt.ylabel(\"Score by clustering\")\n",
    "plt.title(\"Posterior probability vs cluster scoring\")"
   ]
  },
  {
   "cell_type": "markdown",
   "id": "94e60842",
   "metadata": {},
   "source": [
    "# Prior vs Scoring"
   ]
  },
  {
   "cell_type": "code",
   "execution_count": 67,
   "id": "c557e5ba",
   "metadata": {},
   "outputs": [
    {
     "name": "stdout",
     "output_type": "stream",
     "text": [
      "Done\n"
     ]
    }
   ],
   "source": [
    "prior_array = []\n",
    "Likelihood_array = []\n",
    "score_array = []\n",
    "for cluster in b_sorted_clusters:\n",
    "    prior_array.append(cluster.prior)\n",
    "    Likelihood_array.append((1/len(cluster.seq)))\n",
    "    score_array.append(cluster.score)\n",
    "for cluster in y_sorted_clusters:\n",
    "    prior_array.append(cluster.prior)\n",
    "    Likelihood_array.append((1/len(cluster.seq)))\n",
    "    score_array.append(cluster.score)\n",
    "print(\"Done\")"
   ]
  },
  {
   "cell_type": "code",
   "execution_count": 68,
   "id": "9fa148f4",
   "metadata": {
    "scrolled": true
   },
   "outputs": [
    {
     "data": {
      "text/plain": [
       "Text(0.5, 1.0, 'Prior probability vs cluster scoring')"
      ]
     },
     "execution_count": 68,
     "metadata": {},
     "output_type": "execute_result"
    },
    {
     "data": {
      "image/png": "[encoded data removed]",
      "text/plain": [
       "<Figure size 432x288 with 1 Axes>"
      ]
     },
     "metadata": {
      "needs_background": "light"
     },
     "output_type": "display_data"
    }
   ],
   "source": [
    "plt.scatter(prior_array, score_array, s=None)\n",
    "plt.xlabel(\"Prior probability\")\n",
    "plt.ylabel(\"Score by clustering\")\n",
    "plt.title(\"Prior probability vs cluster scoring\")"
   ]
  },
  {
   "cell_type": "code",
   "execution_count": 69,
   "id": "51dcd8d0",
   "metadata": {
    "scrolled": false
   },
   "outputs": [
    {
     "data": {
      "text/plain": [
       "Text(0.5, 1.0, 'Likelihood vs cluster scoring')"
      ]
     },
     "execution_count": 69,
     "metadata": {},
     "output_type": "execute_result"
    },
    {
     "data": {
      "image/png": "[encoded data removed]",
      "text/plain": [
       "<Figure size 432x288 with 1 Axes>"
      ]
     },
     "metadata": {
      "needs_background": "light"
     },
     "output_type": "display_data"
    }
   ],
   "source": [
    "plt.scatter(Likelihood_array, score_array, s=None)\n",
    "plt.xlabel(\"Likelihood\")\n",
    "plt.ylabel(\"Score by clustering\")\n",
    "plt.title(\"Likelihood vs cluster scoring\")"
   ]
  },
  {
   "cell_type": "markdown",
   "id": "64352152",
   "metadata": {},
   "source": [
    "# Weighted Sum vs Scoring"
   ]
  },
  {
   "cell_type": "code",
   "execution_count": 70,
   "id": "db4a08f4",
   "metadata": {},
   "outputs": [],
   "source": [
    "weighted_sum_array = []\n",
    "score_array = []\n",
    "for cluster in b_sorted_clusters:\n",
    "    weighted_sum_array.append(calc_weighted_sum(cluster.indices, boundaries, matched_masses_b))\n",
    "    score_array.append(cluster.score)\n",
    "for cluster in y_sorted_clusters:\n",
    "    weighted_sum_array.append(calc_weighted_sum(cluster.indices, boundaries, matched_masses_y))\n",
    "    score_array.append(cluster.score)"
   ]
  },
  {
   "cell_type": "code",
   "execution_count": 71,
   "id": "9c899b50",
   "metadata": {},
   "outputs": [
    {
     "data": {
      "text/plain": [
       "Text(0.5, 1.0, 'Weighted sum vs cluster scoring')"
      ]
     },
     "execution_count": 71,
     "metadata": {},
     "output_type": "execute_result"
    },
    {
     "data": {
      "image/png": "[encoded data removed]",
      "text/plain": [
       "<Figure size 432x288 with 1 Axes>"
      ]
     },
     "metadata": {
      "needs_background": "light"
     },
     "output_type": "display_data"
    }
   ],
   "source": [
    "plt.scatter(weighted_sum_array, score_array, s=None)\n",
    "plt.xlabel(\"Weighted_sum\")\n",
    "plt.ylabel(\"Score by clustering\")\n",
    "plt.title(\"Weighted sum vs cluster scoring\")"
   ]
  },
  {
   "cell_type": "markdown",
   "id": "9408ce41",
   "metadata": {},
   "source": [
    "# Probability of true positives"
   ]
  },
  {
   "cell_type": "code",
   "execution_count": 72,
   "id": "87993cb4",
   "metadata": {},
   "outputs": [],
   "source": [
    "def calc_average(list):\n",
    "    total = 0\n",
    "    for x in list:\n",
    "        total = total + x\n",
    "    return total / len(list)"
   ]
  },
  {
   "cell_type": "code",
   "execution_count": 73,
   "id": "6dba6c1d",
   "metadata": {},
   "outputs": [
    {
     "name": "stdout",
     "output_type": "stream",
     "text": [
      "Average probability of b true positives in first spectrum: 1.6112953226618982\n",
      "Average count of b true positives in first spectrum: 1.6\n",
      "Average probability of y true positives in first spectrum: 1.0837233554141774\n",
      "Average count of y true positives in first spectrum: 1.081658031088083\n",
      "Average probability of false positives in the first spectrum: 1.1085285761691313\n",
      "Average count of false positives in the first spectrum: 1.104994665244065\n",
      "Number of true b positives 15\n",
      "Number of true y positives 9650\n",
      "Number of bad clusters 29992\n"
     ]
    }
   ],
   "source": [
    "b_sorted_clusters = sorted(b_sorted_clusters, key=operator.attrgetter('post_prob', 'score', 'pid', 'prior'), reverse = True)\n",
    "y_sorted_clusters = sorted(y_sorted_clusters, key=operator.attrgetter('post_prob', 'score', 'pid', 'prior'), reverse = True)\n",
    "\n",
    "\n",
    "b_post_prob_array = []\n",
    "b_score_array = []\n",
    "y_post_prob_array = []\n",
    "y_score_array = []\n",
    "bad_clusters_prob = []\n",
    "bad_clusters_score = []\n",
    "for cluster in b_sorted_clusters:\n",
    "    ion = 'b'\n",
    "    assessment, _ = testing_utils.is_good_hit(cluster.seq, ion, correct_sequence)\n",
    "    if assessment == True:\n",
    "        b_post_prob_array.append(cluster.post_prob)\n",
    "        b_score_array.append(cluster.score)\n",
    "    else:\n",
    "        bad_clusters_prob.append(cluster.post_prob)\n",
    "        bad_clusters_score.append(cluster.score)\n",
    "for cluster in y_sorted_clusters:\n",
    "    ion = 'y'\n",
    "    assessment, _ = testing_utils.is_good_hit(cluster.seq, ion, correct_sequence)\n",
    "    if assessment == True:\n",
    "        y_post_prob_array.append(cluster.post_prob)\n",
    "        y_score_array.append(cluster.score)\n",
    "    else:\n",
    "        bad_clusters_prob.append(cluster.post_prob)\n",
    "        bad_clusters_score.append(cluster.score)   \n",
    "\n",
    "b_range = []\n",
    "y_range = []\n",
    "for i, x in enumerate(b_post_prob_array):\n",
    "    b_range.append(i)\n",
    "for i, x in enumerate(y_post_prob_array):\n",
    "    y_range.append(i)\n",
    "print('Average probability of b true positives in first spectrum:' ,calc_average(b_post_prob_array))\n",
    "print('Average count of b true positives in first spectrum:' ,calc_average(b_score_array))\n",
    "print('Average probability of y true positives in first spectrum:' ,calc_average(y_post_prob_array))\n",
    "print('Average count of y true positives in first spectrum:' ,calc_average(y_score_array))\n",
    "print('Average probability of false positives in the first spectrum:', calc_average(bad_clusters_prob))\n",
    "print('Average count of false positives in the first spectrum:', calc_average(bad_clusters_score))\n",
    "print('Number of true b positives', len(b_range))\n",
    "print('Number of true y positives', len(y_range))\n",
    "print('Number of bad clusters', len(bad_clusters_prob))"
   ]
  },
  {
   "cell_type": "code",
   "execution_count": 74,
   "id": "82638419",
   "metadata": {
    "scrolled": true
   },
   "outputs": [
    {
     "data": {
      "image/png": "[encoded data removed]",
      "text/plain": [
       "<Figure size 432x288 with 1 Axes>"
      ]
     },
     "metadata": {
      "needs_background": "light"
     },
     "output_type": "display_data"
    }
   ],
   "source": [
    "fig1, ax1 = plt.subplots()\n",
    "ax1.scatter(x = b_range, y = b_post_prob_array)\n",
    "plt.title(\"Distribution of posterior_probabilities for b ions of \" + correct_sequence)\n",
    "plt.xlabel(\"good_hit_num\")\n",
    "plt.ylabel(\"Posterior probability\")\n",
    "plt.show()"
   ]
  },
  {
   "cell_type": "code",
   "execution_count": 75,
   "id": "7e8c194a",
   "metadata": {
    "scrolled": true
   },
   "outputs": [
    {
     "data": {
      "image/png": "[encoded data removed]",
      "text/plain": [
       "<Figure size 432x288 with 1 Axes>"
      ]
     },
     "metadata": {
      "needs_background": "light"
     },
     "output_type": "display_data"
    }
   ],
   "source": [
    "fig1, ax1 = plt.subplots()\n",
    "ax1.scatter(x = y_range, y = y_post_prob_array)\n",
    "plt.title(\"Distribution of posterior_probabilities for y ions of \" + correct_sequence)\n",
    "plt.xlabel(\"good_hit_num\")\n",
    "plt.ylabel(\"Posterior probability\")\n",
    "plt.show()"
   ]
  },
  {
   "cell_type": "markdown",
   "id": "a841dcae",
   "metadata": {},
   "source": [
    "# Seed Location\n",
    "\n",
    "Want to know where the good seeds rank compared to the bad seeds when sorted by score and sorted by posterior probability\n",
    "\n",
    "Bottom is going to be enumerated array while vertical will be the score or posterior probability. The graph will be colored red or green depending on true or not"
   ]
  },
  {
   "cell_type": "code",
   "execution_count": 76,
   "id": "e9aaa009",
   "metadata": {},
   "outputs": [
    {
     "name": "stdout",
     "output_type": "stream",
     "text": [
      "Collecting Data...\n",
      "Done\n"
     ]
    }
   ],
   "source": [
    "print(\"Collecting Data...\")\n",
    "b_sorted_clusters = sorted(b_sorted_clusters, key=operator.attrgetter('post_prob', 'score', 'pid', 'prior'), reverse = True)\n",
    "y_sorted_clusters = sorted(y_sorted_clusters, key=operator.attrgetter('post_prob', 'score', 'pid', 'prior'), reverse = True)\n",
    "b_good_indexes = []\n",
    "b_bad_indexes = []\n",
    "b_good_cluster_prob = []\n",
    "b_bad_cluster_prob = []\n",
    "y_good_indexes = []\n",
    "y_bad_indexes = []\n",
    "y_good_cluster_prob = []\n",
    "y_bad_cluster_prob = []\n",
    "ion = 'b'\n",
    "for i, cluster in enumerate(b_sorted_clusters):\n",
    "    assessment, _ = testing_utils.is_good_hit(cluster.seq, ion, correct_sequence)\n",
    "    if assessment == True:\n",
    "        b_good_indexes.append(i)\n",
    "        b_good_cluster_prob.append(cluster.post_prob)\n",
    "    else:\n",
    "        b_bad_indexes.append(i)\n",
    "        b_bad_cluster_prob.append(cluster.post_prob)\n",
    "ion = 'y'\n",
    "for i, cluster in enumerate(y_sorted_clusters):\n",
    "    assessment, _ = testing_utils.is_good_hit(cluster.seq, ion, correct_sequence)\n",
    "    if assessment == True:\n",
    "        y_good_indexes.append(i)\n",
    "        y_good_cluster_prob.append(cluster.post_prob)\n",
    "    else:\n",
    "        y_bad_indexes.append(i)\n",
    "        y_bad_cluster_prob.append(cluster.post_prob)\n",
    "print('Done')"
   ]
  },
  {
   "cell_type": "code",
   "execution_count": 77,
   "id": "6e7795e0",
   "metadata": {
    "scrolled": true
   },
   "outputs": [
    {
     "name": "stdout",
     "output_type": "stream",
     "text": [
      "Good hit found at: 0\n"
     ]
    },
    {
     "data": {
      "text/plain": [
       "<matplotlib.legend.Legend at 0x7f2dd79b3d10>"
      ]
     },
     "execution_count": 77,
     "metadata": {},
     "output_type": "execute_result"
    },
    {
     "data": {
      "image/png": "[encoded data removed]",
      "text/plain": [
       "<Figure size 432x288 with 1 Axes>"
      ]
     },
     "metadata": {
      "needs_background": "light"
     },
     "output_type": "display_data"
    }
   ],
   "source": [
    "ion = 'b'\n",
    "found = False\n",
    "for i in range(0,50):\n",
    "    target_cluster = b_sorted_clusters[i]\n",
    "    assessment, _ = testing_utils.is_good_hit(target_cluster.seq, ion, correct_sequence)\n",
    "    if assessment == True:\n",
    "        print('Good hit found at:', i)\n",
    "        found = True\n",
    "if not found:\n",
    "    print(\"No good hit found in the top 50 clusters\")\n",
    "plt.scatter(b_bad_indexes, b_bad_cluster_prob, color = 'r', label = 'Bad hits')\n",
    "plt.scatter(b_good_indexes, b_good_cluster_prob, color = 'g', label = 'Good hits')\n",
    "plt.title('Rank of b hits when sorted by posterior probability')\n",
    "plt.xlabel('Rank of hits')\n",
    "plt.ylabel('Posterior Probability')\n",
    "plt.legend()"
   ]
  },
  {
   "cell_type": "code",
   "execution_count": 78,
   "id": "4502f087",
   "metadata": {
    "scrolled": false
   },
   "outputs": [
    {
     "name": "stdout",
     "output_type": "stream",
     "text": [
      "Good hit found at: 15\n"
     ]
    },
    {
     "data": {
      "text/plain": [
       "<matplotlib.legend.Legend at 0x7f2e17062350>"
      ]
     },
     "execution_count": 78,
     "metadata": {},
     "output_type": "execute_result"
    },
    {
     "data": {
      "image/png": "[encoded data removed]",
      "text/plain": [
       "<Figure size 432x288 with 1 Axes>"
      ]
     },
     "metadata": {
      "needs_background": "light"
     },
     "output_type": "display_data"
    }
   ],
   "source": [
    "ion = 'y'\n",
    "found = False\n",
    "for i in range(0,50):\n",
    "    target_cluster = y_sorted_clusters[i]\n",
    "    assessment, _ = testing_utils.is_good_hit(target_cluster.seq, ion, correct_sequence)\n",
    "    if assessment == True:\n",
    "        print('Good hit found at:', i)\n",
    "        found = True\n",
    "if not found:\n",
    "    print(\"No good hit found in the top 50 clusters\")\n",
    "plt.scatter(y_bad_indexes, y_bad_cluster_prob, color = 'r', label = 'Bad hits')\n",
    "plt.scatter(y_good_indexes, y_good_cluster_prob, color = 'g', label = 'Good hits')\n",
    "plt.title('Rank of y hits when sorted by posterior probability')\n",
    "plt.xlabel('Rank of hits')\n",
    "plt.ylabel('Posterior Probability')\n",
    "plt.legend()"
   ]
  },
  {
   "cell_type": "code",
   "execution_count": 56,
   "id": "9f4f866c",
   "metadata": {},
   "outputs": [
    {
     "name": "stdout",
     "output_type": "stream",
     "text": [
      "Collecting Data...\n",
      "Done\n"
     ]
    }
   ],
   "source": [
    "print(\"Collecting Data...\")\n",
    "b_sorted_clusters = sorted(b_sorted_clusters, key=operator.attrgetter('score', 'post_prob', 'pid', 'prior'), reverse = True)\n",
    "y_sorted_clusters = sorted(y_sorted_clusters, key=operator.attrgetter('score', 'post_prob', 'pid', 'prior'), reverse = True)\n",
    "b_good_indexes = []\n",
    "b_bad_indexes = []\n",
    "b_good_scores = []\n",
    "b_bad_scores = []\n",
    "y_good_indexes = []\n",
    "y_bad_indexes = []\n",
    "y_good_scores = []\n",
    "y_bad_scores = []\n",
    "ion = 'b'\n",
    "for i, cluster in enumerate(b_sorted_clusters):\n",
    "    assessment, _ = testing_utils.is_good_hit(cluster.seq, ion, correct_sequence)\n",
    "    if assessment == True:\n",
    "        b_good_indexes.append(i)\n",
    "        b_good_scores.append(cluster.score)\n",
    "    else:\n",
    "        b_bad_indexes.append(i)\n",
    "        b_bad_scores.append(cluster.score)\n",
    "ion = 'y'\n",
    "for i, cluster in enumerate(y_sorted_clusters):\n",
    "    assessment, _ = testing_utils.is_good_hit(cluster.seq, ion, correct_sequence)\n",
    "    if assessment == True:\n",
    "        y_good_indexes.append(i)\n",
    "        y_good_scores.append(cluster.score)\n",
    "    else:\n",
    "        y_bad_indexes.append(i)\n",
    "        y_bad_scores.append(cluster.score)\n",
    "print('Done')"
   ]
  },
  {
   "cell_type": "code",
   "execution_count": 57,
   "id": "908be6cc",
   "metadata": {
    "scrolled": true
   },
   "outputs": [
    {
     "name": "stdout",
     "output_type": "stream",
     "text": [
      "Good hit found at: 0\n"
     ]
    },
    {
     "data": {
      "text/plain": [
       "<matplotlib.legend.Legend at 0x7f2e317af750>"
      ]
     },
     "execution_count": 57,
     "metadata": {},
     "output_type": "execute_result"
    },
    {
     "data": {
      "image/png": "[encoded data removed]",
      "text/plain": [
       "<Figure size 432x288 with 1 Axes>"
      ]
     },
     "metadata": {
      "needs_background": "light"
     },
     "output_type": "display_data"
    }
   ],
   "source": [
    "ion = 'b'\n",
    "found = False\n",
    "for i in range(0,50):\n",
    "    target_cluster = b_sorted_clusters[i]\n",
    "    assessment, _ = testing_utils.is_good_hit(target_cluster.seq, ion, correct_sequence)    \n",
    "    if assessment == True:\n",
    "        print('Good hit found at:', i)\n",
    "        found = True\n",
    "if found == False:\n",
    "    print(\"No good hit found in the top 50 clusters\")\n",
    "plt.scatter(b_bad_indexes, b_bad_scores, color = 'r', label = 'Bad hits', s=1)\n",
    "plt.scatter(b_good_indexes, b_good_scores, color = 'g', label = 'Good hits', s=20)\n",
    "plt.title('Rank of b hits when sorted by score')\n",
    "plt.xlabel('Rank of hits')\n",
    "plt.ylabel('Score')\n",
    "plt.legend()"
   ]
  },
  {
   "cell_type": "code",
   "execution_count": 58,
   "id": "8ebfc20f",
   "metadata": {
    "scrolled": false
   },
   "outputs": [
    {
     "name": "stdout",
     "output_type": "stream",
     "text": [
      "Good hit found at: 15\n"
     ]
    },
    {
     "data": {
      "text/plain": [
       "<matplotlib.legend.Legend at 0x7f2e886cb690>"
      ]
     },
     "execution_count": 58,
     "metadata": {},
     "output_type": "execute_result"
    },
    {
     "data": {
      "image/png": "[encoded data removed]",
      "text/plain": [
       "<Figure size 432x288 with 1 Axes>"
      ]
     },
     "metadata": {
      "needs_background": "light"
     },
     "output_type": "display_data"
    }
   ],
   "source": [
    "ion = 'y'\n",
    "found = False\n",
    "for i in range(0,50):\n",
    "    target_cluster = y_sorted_clusters[i]\n",
    "    assessment, _ = testing_utils.is_good_hit(target_cluster.seq, ion, correct_sequence)\n",
    "    if assessment == True:\n",
    "        print('Good hit found at:', i)\n",
    "        found = True\n",
    "if not found:\n",
    "    print(\"No good hit found in the top 50 clusters\")\n",
    "plt.scatter(y_bad_indexes, y_bad_scores, color = 'r', label = 'Bad hits', s = 20)\n",
    "plt.scatter(y_good_indexes, y_good_scores, color = 'g', label = 'Good hits', s = 20)\n",
    "plt.title('Rank of y hits when sorted by score')\n",
    "plt.xlabel('Rank of hits')\n",
    "plt.ylabel('Score')\n",
    "plt.legend()"
   ]
  },
  {
   "cell_type": "markdown",
   "id": "d14b2b4d",
   "metadata": {},
   "source": [
    "# Distribution of size of seq vs weight"
   ]
  },
  {
   "cell_type": "code",
   "execution_count": 29,
   "id": "96dc6650",
   "metadata": {},
   "outputs": [],
   "source": [
    "size_array = []\n",
    "weight_array = []\n",
    "prot_size_array = []\n",
    "prot_weight_array = []\n",
    "for seq in correct_sequences:\n",
    "    size_array.append(len(seq))\n",
    "    weight_array.append(gen_spectra.get_precursor(seq))"
   ]
  },
  {
   "cell_type": "code",
   "execution_count": 30,
   "id": "22d0055c",
   "metadata": {},
   "outputs": [
    {
     "data": {
      "text/plain": [
       "Text(0, 0.5, 'Weight of result')"
      ]
     },
     "execution_count": 30,
     "metadata": {},
     "output_type": "execute_result"
    },
    {
     "data": {
      "image/png": "[encoded data removed]",
      "text/plain": [
       "<Figure size 432x288 with 1 Axes>"
      ]
     },
     "metadata": {
      "needs_background": "light"
     },
     "output_type": "display_data"
    }
   ],
   "source": [
    "plt.scatter(size_array, weight_array)\n",
    "plt.xlabel('Len of spectrummill result')\n",
    "plt.ylabel('Weight of result')"
   ]
  },
  {
   "cell_type": "code",
   "execution_count": 31,
   "id": "ec47d589",
   "metadata": {},
   "outputs": [
    {
     "data": {
      "text/plain": [
       "Text(0, 0.5, 'Weight of Protein')"
      ]
     },
     "execution_count": 31,
     "metadata": {},
     "output_type": "execute_result"
    },
    {
     "data": {
      "image/png": "[encoded data removed]",
      "text/plain": [
       "<Figure size 432x288 with 1 Axes>"
      ]
     },
     "metadata": {
      "needs_background": "light"
     },
     "output_type": "display_data"
    }
   ],
   "source": [
    "prot_size_array = []\n",
    "prot_weight_array = []\n",
    "for prot in db.proteins:\n",
    "    target_prot = db.proteins[prot]\n",
    "    if len(target_prot) != 0:\n",
    "        target_prot = target_prot[0]\n",
    "        seq = target_prot[1]\n",
    "        prot_size_array.append(len(seq))\n",
    "        prot_weight_array.append(gen_spectra.get_precursor(seq))\n",
    "plt.scatter(prot_size_array, prot_weight_array)\n",
    "plt.title('Size vs Weight of Proteome')\n",
    "plt.xlabel('Len of Protein')\n",
    "plt.ylabel('Weight of Protein')"
   ]
  }
 ],
 "metadata": {
  "kernelspec": {
   "display_name": "Python 3",
   "language": "python",
   "name": "python3"
  },
  "language_info": {
   "codemirror_mode": {
    "name": "ipython",
    "version": 3
   },
   "file_extension": ".py",
   "mimetype": "text/x-python",
   "name": "python",
   "nbconvert_exporter": "python",
   "pygments_lexer": "ipython3",
   "version": "3.7.10"
  }
 },
 "nbformat": 4,
 "nbformat_minor": 5
}

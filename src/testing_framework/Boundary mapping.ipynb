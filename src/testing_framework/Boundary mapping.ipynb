{
 "cells": [
  {
   "cell_type": "markdown",
   "id": "82afa258",
   "metadata": {},
   "source": [
    "# Boundary mapping\n",
    "\n",
    "The purpose of this notebook is to mess around with all the different options available with boundary mapping"
   ]
  },
  {
   "cell_type": "code",
   "execution_count": 1,
   "id": "8e2247c9",
   "metadata": {},
   "outputs": [],
   "source": [
    "import os\n",
    "import sys\n",
    "\n",
    "module_path = os.path.abspath(os.path.join('..'))\n",
    "if module_path not in sys.path:\n",
    "    sys.path.append(module_path)\n",
    "module_path = os.path.abspath(os.path.join('..', 'hypedsearch', 'src'))\n",
    "if module_path not in sys.path:\n",
    "    sys.path.append(module_path)\n",
    "\n",
    "\n",
    "import database\n",
    "import testing_utils\n",
    "import operator\n",
    "import collections\n",
    "\n",
    "\n",
    "#Assumptions:\n",
    "max_peptide_length = 20\n",
    "ppm_tolerance = 20\n",
    "\n",
    "import matplotlib.pyplot as plt"
   ]
  },
  {
   "cell_type": "code",
   "execution_count": 2,
   "id": "58256063",
   "metadata": {},
   "outputs": [
    {
     "name": "stdout",
     "output_type": "stream",
     "text": [
      "Loading spectra...\n",
      "Done\n"
     ]
    }
   ],
   "source": [
    "datasets = testing_utils.define_data()\n",
    "\n",
    "dataset = datasets[0]\n",
    "\n",
    "input_spectra_path = dataset[0]\n",
    "input_spectra, boundaries = testing_utils.preprocess_input_spectra(input_spectra_path, ppm_tolerance)\n",
    "\n",
    "correct_sequences = testing_utils.generate_truth_set(datasets[0])\n",
    "\n",
    "path = dataset[2]\n",
    "db = database.build(path)"
   ]
  },
  {
   "cell_type": "code",
   "execution_count": 3,
   "id": "67235693",
   "metadata": {
    "scrolled": true
   },
   "outputs": [
    {
     "name": "stdout",
     "output_type": "stream",
     "text": [
      "On protein 279/279 [100%]\n",
      "Sorting the set of protein masses...\n",
      "Sorting the set of protein masses done\n",
      "Performing Merge\n",
      "Done\n",
      "Finished matching masses\n"
     ]
    }
   ],
   "source": [
    "matched_masses_b, matched_masses_y, database = testing_utils.modified_match_masses(boundaries, db, max_peptide_length)\n",
    "# matched_masses_b, matched_masses_y, database = match_masses(boundaries, db, max_peptide_length)\n",
    "print('Finished matching masses')"
   ]
  },
  {
   "cell_type": "markdown",
   "id": "3c0613d2",
   "metadata": {},
   "source": [
    "# Grabbing hits"
   ]
  },
  {
   "cell_type": "code",
   "execution_count": 4,
   "id": "425c78e5",
   "metadata": {},
   "outputs": [
    {
     "name": "stdout",
     "output_type": "stream",
     "text": [
      "DGPVQGTIHFEQKASGEPVVLSGQITGLTEGQHGFHVHQYG\n"
     ]
    }
   ],
   "source": [
    "spectrum_num = 100\n",
    "correct_sequence = correct_sequences[spectrum_num]\n",
    "print(correct_sequence)\n",
    "\n",
    "input_spectrum = input_spectra[spectrum_num]\n",
    "\n",
    "#Remember to add in abundance if it is helpful\n",
    "b_hits, y_hits, b_set, y_set, misses = testing_utils.find_hits(boundaries, input_spectrum, spectrum_num, matched_masses_b, matched_masses_y)\n",
    "correct_hits = testing_utils.append_correct_hits(correct_sequence, input_spectrum, ppm_tolerance)"
   ]
  },
  {
   "cell_type": "markdown",
   "id": "75605959",
   "metadata": {},
   "source": [
    "# Writing hits"
   ]
  },
  {
   "cell_type": "code",
   "execution_count": 5,
   "id": "60fa4dd9",
   "metadata": {},
   "outputs": [
    {
     "name": "stdout",
     "output_type": "stream",
     "text": [
      "Done\n"
     ]
    }
   ],
   "source": [
    "testing_utils.write_hits(b_hits, y_hits)"
   ]
  },
  {
   "cell_type": "markdown",
   "id": "d43ace39",
   "metadata": {},
   "source": [
    "# Clustering b hits"
   ]
  },
  {
   "cell_type": "code",
   "execution_count": 6,
   "id": "2c355f8c",
   "metadata": {},
   "outputs": [],
   "source": [
    "ion = 'b'\n",
    "testing_utils.create_clusters(ion)\n",
    "b_sorted_clusters = testing_utils.sort_clusters_by_post_prob(ion, boundaries, matched_masses_b, matched_masses_y)"
   ]
  },
  {
   "cell_type": "markdown",
   "id": "a0386f7c",
   "metadata": {},
   "source": [
    "# Printing data"
   ]
  },
  {
   "cell_type": "code",
   "execution_count": 7,
   "id": "db533d63",
   "metadata": {
    "scrolled": true
   },
   "outputs": [
    {
     "name": "stdout",
     "output_type": "stream",
     "text": [
      "0.4825931870875691 3 GSQANS\n",
      "0.46677821156348764 3 GSQFFICT\n",
      "0.4510763209393346 3 PVGSPSR\n",
      "0.4305324715297014 3 SGQADDERVREYHLL\n",
      "0.42809046908769893 3 GSGAVALCPE\n",
      "0.42769607843137253 3 GSQYRVESMMLRIAKPM\n",
      "0.42769607843137253 3 ANSWNLDWGDNGFFKIL\n",
      "0.42649162917619293 3 GQGQSPSIRQ\n",
      "0.42497691597414583 3 QGSPVVQMAEDAVDGER\n",
      "0.4223938223938224 3 QGSPGAWAPLDPTSGSSA\n",
      "0.42117433930093773 3 GQSTVPPCTASPEPVKAAEQ\n",
      "0.416856336932205 3 GSQMEDARRPAEPSLGGLPQ\n",
      "0.4107948442534909 3 GSAGLMLVEFFAPWCG\n",
      "0.3996786444639205 3 PVPVDCSDEAGNSALQLA\n",
      "0.3744369369369369 3 SNSQQAYQEAFEI\n",
      "0.3462974111980735 3 GQVLPEMEIHLQTDAKKGT\n",
      "0.3142857142857143 3 GSPGSAGLVQHLEEYAAT\n",
      "0.31201298701298696 3 SSNGFLIDGYPREVKQGE\n",
      "0.30300736790803023 3 VPEMKPSMFDVSRELGSSV\n",
      "0.2988665811585478 3 GQVRLTYSTGESNTVVSPTV\n",
      "0.17540849673202613 3 IFVGTPYYGYVYEDTLP\n",
      "0.15911553616661975 3 QVNQSLASMPPMNPATTLP\n",
      "0.14827579466745225 3 MAEVDAAMAARPHSIDGRVV\n",
      "0.3698769395398609 2 GQS\n",
      "0.3698769395398609 2 QGS\n",
      "0.3698769395398609 2 GQS\n",
      "0.3698769395398609 2 NAS\n",
      "0.3698769395398609 2 QGS\n",
      "0.3698769395398609 2 SGQ\n",
      "0.3698769395398609 2 GSQ\n",
      "0.3698769395398609 2 ANS\n",
      "0.3698769395398609 2 QGS\n",
      "0.3698769395398609 2 GQS\n",
      "0.3698769395398609 2 NAS\n",
      "0.3698769395398609 2 SGQ\n",
      "0.3698769395398609 2 SGQ\n",
      "0.3698769395398609 2 GQS\n",
      "0.3698769395398609 2 SGQ\n",
      "0.3698769395398609 2 GQS\n",
      "0.3698769395398609 2 GSQ\n",
      "0.3698769395398609 2 QGS\n",
      "0.3698769395398609 2 SGQ\n",
      "0.3698769395398609 2 SGQ\n",
      "0.3698769395398609 2 GQS\n",
      "0.3698769395398609 2 NAS\n",
      "0.3698769395398609 2 NAS\n",
      "0.3698769395398609 2 SGQ\n",
      "0.3698769395398609 2 GQS\n",
      "0.3698769395398609 2 ANS\n",
      "0.3698769395398609 2 QGS\n"
     ]
    }
   ],
   "source": [
    "b_sorted_clusters = sorted(b_sorted_clusters, key=operator.attrgetter('score', 'post_prob', 'pid', 'prior'), reverse = True)\n",
    "testing_utils.write_b_sorted_cluster(b_sorted_clusters)\n",
    "for i in range(0, 50):\n",
    "    x = b_sorted_clusters[i]\n",
    "    post_prob = x.post_prob\n",
    "    score = x.score\n",
    "    seq = x.seq\n",
    "    indices = x.indices\n",
    "    print(post_prob, score, seq)"
   ]
  },
  {
   "cell_type": "markdown",
   "id": "131f4e93",
   "metadata": {},
   "source": [
    "# Clustering y_hits"
   ]
  },
  {
   "cell_type": "code",
   "execution_count": 8,
   "id": "a7b5d395",
   "metadata": {},
   "outputs": [],
   "source": [
    "ion = 'y'\n",
    "testing_utils.create_clusters(ion)\n",
    "y_sorted_clusters = testing_utils.sort_clusters_by_post_prob(ion, boundaries, matched_masses_b, matched_masses_y)"
   ]
  },
  {
   "cell_type": "markdown",
   "id": "b773daf9",
   "metadata": {},
   "source": [
    "# Printing data"
   ]
  },
  {
   "cell_type": "code",
   "execution_count": 9,
   "id": "c91d7f6b",
   "metadata": {
    "scrolled": true
   },
   "outputs": [
    {
     "name": "stdout",
     "output_type": "stream",
     "text": [
      "0.41561085972850675 3 YEAGEKRWGTDEVK\n",
      "0.39088600688323677 3 SRPCTPPQ\n",
      "0.387228531579996 3 DVHPSDLKPKGDDKDPSK\n",
      "0.3844489981785064 3 GLGNKTYEHFNAMGK\n",
      "0.35945075380221825 3 GRPSGEAFVELESEDEVK\n",
      "0.3586080586080586 3 VVWTSEYDPLASNPGWKK\n",
      "0.35402930402930405 3 VCPTEIIAFSDHAEDFRK\n",
      "0.35402930402930405 3 VTVTVLDVNDNRPEFTMK\n",
      "0.18003292889544734 3 TGLTEGQHGFHVHQYG\n",
      "0.44019607843137254 2 FVK\n",
      "0.44019607843137254 2 VFK\n",
      "0.44019607843137254 2 FVK\n",
      "0.44019607843137254 2 VFK\n",
      "0.44019607843137254 2 FVK\n",
      "0.44019607843137254 2 FVK\n",
      "0.44019607843137254 2 VFK\n",
      "0.44019607843137254 2 FVK\n",
      "0.44019607843137254 2 FVK\n",
      "0.44019607843137254 2 FVK\n",
      "0.44019607843137254 2 FVK\n",
      "0.44019607843137254 2 VFK\n",
      "0.44019607843137254 2 FVK\n",
      "0.44019607843137254 2 FVK\n",
      "0.44019607843137254 2 FVK\n",
      "0.44019607843137254 2 VFK\n",
      "0.44019607843137254 2 FVK\n",
      "0.44019607843137254 2 FVK\n",
      "0.44019607843137254 2 FVK\n",
      "0.44019607843137254 2 FVK\n",
      "0.44019607843137254 2 FVK\n",
      "0.44019607843137254 2 FVK\n",
      "0.44019607843137254 2 VFK\n",
      "0.44019607843137254 2 VFK\n",
      "0.44019607843137254 2 FVK\n",
      "0.44019607843137254 2 FVK\n",
      "0.44019607843137254 2 FVK\n",
      "0.44019607843137254 2 FVK\n",
      "0.44019607843137254 2 VFK\n",
      "0.44019607843137254 2 FVK\n",
      "0.44019607843137254 2 FVK\n",
      "0.3818493150684932 2 EYIEK\n",
      "0.3818493150684932 2 YEEIK\n",
      "0.3818493150684932 2 YEIEK\n",
      "0.3818493150684932 2 EEIYK\n",
      "0.3679604261796043 2 VAYNSK\n",
      "0.3679604261796043 2 GLNSYK\n",
      "0.3679604261796043 2 GSYNIK\n",
      "0.3679604261796043 2 KSDFGK\n",
      "0.3679604261796043 2 VAYNSK\n",
      "0.36665127731609726 2 NQFWYK\n"
     ]
    }
   ],
   "source": [
    "testing_utils.write_y_sorted_cluster(y_sorted_clusters)  \n",
    "y_sorted_clusters = sorted(y_sorted_clusters, key=operator.attrgetter('score', 'post_prob', 'pid', 'prior'), reverse = True)\n",
    "for i in range(0, 50):\n",
    "    x = y_sorted_clusters[i]\n",
    "    post_prob = x.post_prob\n",
    "    score = x.score\n",
    "    seq = x.seq\n",
    "    indices = x.indices\n",
    "    print(post_prob, score, seq)"
   ]
  },
  {
   "cell_type": "markdown",
   "id": "de10fca2",
   "metadata": {},
   "source": [
    "# Plotting"
   ]
  },
  {
   "cell_type": "code",
   "execution_count": 10,
   "id": "d0677a9d",
   "metadata": {
    "scrolled": true
   },
   "outputs": [
    {
     "name": "stdout",
     "output_type": "stream",
     "text": [
      "Collecting data...\n",
      "Done\n"
     ]
    }
   ],
   "source": [
    "from scoring import mass_comparisons\n",
    "import gen_spectra\n",
    "print(\"Collecting data...\")\n",
    "score_array = []\n",
    "posterior_array = []\n",
    "bscore_array = []\n",
    "for cluster in b_sorted_clusters:\n",
    "    score_array.append(mass_comparisons.optimized_compare_masses(input_spectrum.mz_values, gen_spectra.gen_spectrum(cluster.seq, ion='b')))\n",
    "    posterior_array.append(cluster.post_prob)\n",
    "    bscore_array.append(cluster.score)\n",
    "for cluster in y_sorted_clusters:\n",
    "    score_array.append(mass_comparisons.optimized_compare_masses(input_spectrum.mz_values, gen_spectra.gen_spectrum(cluster.seq, ion='y')))\n",
    "    posterior_array.append(cluster.post_prob)\n",
    "    bscore_array.append(cluster.score)\n",
    "print(\"Done\")\n"
   ]
  },
  {
   "cell_type": "code",
   "execution_count": 11,
   "id": "ae6351ef",
   "metadata": {
    "scrolled": false
   },
   "outputs": [
    {
     "data": {
      "text/plain": [
       "Text(0.5, 1.0, 'Posterior probability vs Simple additive scoring')"
      ]
     },
     "execution_count": 11,
     "metadata": {},
     "output_type": "execute_result"
    },
    {
     "data": {
      "image/png": "[encoded data removed]",
      "text/plain": [
       "<Figure size 432x288 with 1 Axes>"
      ]
     },
     "metadata": {
      "needs_background": "light"
     },
     "output_type": "display_data"
    }
   ],
   "source": [
    "plt.scatter(posterior_array, score_array, s=None)\n",
    "plt.ylabel('Score by simple additive scoring')\n",
    "plt.xlabel('Posterior probability')\n",
    "plt.title(\"Posterior probability vs Simple additive scoring\")"
   ]
  },
  {
   "cell_type": "code",
   "execution_count": 12,
   "id": "65b906a6",
   "metadata": {
    "scrolled": true
   },
   "outputs": [
    {
     "data": {
      "text/plain": [
       "Text(0.5, 1.0, 'Posterior probability vs cluster scoring')"
      ]
     },
     "execution_count": 12,
     "metadata": {},
     "output_type": "execute_result"
    },
    {
     "data": {
      "image/png": "[encoded data removed]",
      "text/plain": [
       "<Figure size 432x288 with 1 Axes>"
      ]
     },
     "metadata": {
      "needs_background": "light"
     },
     "output_type": "display_data"
    }
   ],
   "source": [
    "plt.scatter(posterior_array, bscore_array, s=None)\n",
    "plt.xlabel(\"Posterior probability\")\n",
    "plt.ylabel(\"Score by clustering\")\n",
    "plt.title(\"Posterior probability vs cluster scoring\")"
   ]
  },
  {
   "cell_type": "markdown",
   "id": "9408ce41",
   "metadata": {},
   "source": [
    "# Probability of true positives"
   ]
  },
  {
   "cell_type": "code",
   "execution_count": 13,
   "id": "87993cb4",
   "metadata": {},
   "outputs": [],
   "source": [
    "def calc_average(list):\n",
    "    total = 0\n",
    "    for x in list:\n",
    "        total = total + x\n",
    "    return total / len(list)"
   ]
  },
  {
   "cell_type": "code",
   "execution_count": 14,
   "id": "6dba6c1d",
   "metadata": {},
   "outputs": [
    {
     "name": "stdout",
     "output_type": "stream",
     "text": [
      "Average probability of b true positives in first spectrum: 0.16507283091362696\n",
      "Average count of b true positives in first spectrum: 1.025\n",
      "Average probability of y true positives in first spectrum: 0.14380090454393143\n",
      "Average count of y true positives in first spectrum: 1.5\n",
      "Average probability of false positives in the first spectrum: 0.1744254486915615\n",
      "Average count of false positives in the first spectrum: 1.047832318165532\n",
      "Number of true b positives 40\n",
      "Number of true y positives 4\n",
      "Number of bad clusters 16746\n"
     ]
    }
   ],
   "source": [
    "b_sorted_clusters = sorted(b_sorted_clusters, key=operator.attrgetter('post_prob', 'score', 'pid', 'prior'), reverse = True)\n",
    "y_sorted_clusters = sorted(y_sorted_clusters, key=operator.attrgetter('post_prob', 'score', 'pid', 'prior'), reverse = True)\n",
    "\n",
    "\n",
    "b_post_prob_array = []\n",
    "b_score_array = []\n",
    "y_post_prob_array = []\n",
    "y_score_array = []\n",
    "bad_clusters_prob = []\n",
    "bad_clusters_score = []\n",
    "for cluster in b_sorted_clusters:\n",
    "    ion = 'b'\n",
    "    assessment, _ = testing_utils.is_good_hit(cluster.seq, ion, correct_sequence)\n",
    "    if assessment == True:\n",
    "        b_post_prob_array.append(cluster.post_prob)\n",
    "        b_score_array.append(cluster.score)\n",
    "    else:\n",
    "        bad_clusters_prob.append(cluster.post_prob)\n",
    "        bad_clusters_score.append(cluster.score)\n",
    "for cluster in y_sorted_clusters:\n",
    "    ion = 'y'\n",
    "    assessment, _ = testing_utils.is_good_hit(cluster.seq, ion, correct_sequence)\n",
    "    if assessment == True:\n",
    "        y_post_prob_array.append(cluster.post_prob)\n",
    "        y_score_array.append(cluster.score)\n",
    "    else:\n",
    "        bad_clusters_prob.append(cluster.post_prob)\n",
    "        bad_clusters_score.append(cluster.score)   \n",
    "\n",
    "b_range = []\n",
    "y_range = []\n",
    "for i, x in enumerate(b_post_prob_array):\n",
    "    b_range.append(i)\n",
    "for i, x in enumerate(y_post_prob_array):\n",
    "    y_range.append(i)\n",
    "print('Average probability of b true positives in first spectrum:' ,calc_average(b_post_prob_array))\n",
    "print('Average count of b true positives in first spectrum:' ,calc_average(b_score_array))\n",
    "print('Average probability of y true positives in first spectrum:' ,calc_average(y_post_prob_array))\n",
    "print('Average count of y true positives in first spectrum:' ,calc_average(y_score_array))\n",
    "print('Average probability of false positives in the first spectrum:', calc_average(bad_clusters_prob))\n",
    "print('Average count of false positives in the first spectrum:', calc_average(bad_clusters_score))\n",
    "print('Number of true b positives', len(b_range))\n",
    "print('Number of true y positives', len(y_range))\n",
    "print('Number of bad clusters', len(bad_clusters_prob))"
   ]
  },
  {
   "cell_type": "code",
   "execution_count": 15,
   "id": "82638419",
   "metadata": {
    "scrolled": false
   },
   "outputs": [
    {
     "data": {
      "image/png": "[encoded data removed]",
      "text/plain": [
       "<Figure size 432x288 with 1 Axes>"
      ]
     },
     "metadata": {
      "needs_background": "light"
     },
     "output_type": "display_data"
    }
   ],
   "source": [
    "fig1, ax1 = plt.subplots()\n",
    "ax1.scatter(x = b_range, y = b_post_prob_array)\n",
    "plt.title(\"Distribution of posterior_probabilities for b ions of \" + correct_sequence)\n",
    "plt.xlabel(\"good_hit_num\")\n",
    "plt.ylabel(\"Posterior probability\")\n",
    "plt.show()"
   ]
  },
  {
   "cell_type": "code",
   "execution_count": 16,
   "id": "7e8c194a",
   "metadata": {
    "scrolled": true
   },
   "outputs": [
    {
     "data": {
      "image/png": "[encoded data removed]",
      "text/plain": [
       "<Figure size 432x288 with 1 Axes>"
      ]
     },
     "metadata": {
      "needs_background": "light"
     },
     "output_type": "display_data"
    }
   ],
   "source": [
    "fig1, ax1 = plt.subplots()\n",
    "ax1.scatter(x = y_range, y = y_post_prob_array)\n",
    "plt.title(\"Distribution of posterior_probabilities for y ions of \" + correct_sequence)\n",
    "plt.xlabel(\"good_hit_num\")\n",
    "plt.ylabel(\"Posterior probability\")\n",
    "plt.show()"
   ]
  },
  {
   "cell_type": "markdown",
   "id": "a841dcae",
   "metadata": {},
   "source": [
    "# Seed Location\n",
    "\n",
    "Want to know where the good seeds rank compared to the bad seeds when sorted by score and sorted by posterior probability\n",
    "\n",
    "Bottom is going to be enumerated array while vertical will be the score or posterior probability. The graph will be colored red or green depending on true or not"
   ]
  },
  {
   "cell_type": "code",
   "execution_count": 17,
   "id": "e9aaa009",
   "metadata": {},
   "outputs": [
    {
     "name": "stdout",
     "output_type": "stream",
     "text": [
      "Collecting Data...\n",
      "Done\n"
     ]
    }
   ],
   "source": [
    "print(\"Collecting Data...\")\n",
    "b_sorted_clusters = sorted(b_sorted_clusters, key=operator.attrgetter('post_prob', 'score', 'pid', 'prior'), reverse = True)\n",
    "y_sorted_clusters = sorted(y_sorted_clusters, key=operator.attrgetter('post_prob', 'score', 'pid', 'prior'), reverse = True)\n",
    "b_good_indexes = []\n",
    "b_bad_indexes = []\n",
    "b_good_cluster_prob = []\n",
    "b_bad_cluster_prob = []\n",
    "y_good_indexes = []\n",
    "y_bad_indexes = []\n",
    "y_good_cluster_prob = []\n",
    "y_bad_cluster_prob = []\n",
    "ion = 'b'\n",
    "for i, cluster in enumerate(b_sorted_clusters):\n",
    "    assessment, _ = testing_utils.is_good_hit(cluster.seq, ion, correct_sequence)\n",
    "    if assessment == True:\n",
    "        b_good_indexes.append(i)\n",
    "        b_good_cluster_prob.append(cluster.post_prob)\n",
    "    else:\n",
    "        b_bad_indexes.append(i)\n",
    "        b_bad_cluster_prob.append(cluster.post_prob)\n",
    "ion = 'y'\n",
    "for i, cluster in enumerate(y_sorted_clusters):\n",
    "    assessment, _ = testing_utils.is_good_hit(cluster.seq, ion, correct_sequence)\n",
    "    if assessment == True:\n",
    "        y_good_indexes.append(i)\n",
    "        y_good_cluster_prob.append(cluster.post_prob)\n",
    "    else:\n",
    "        y_bad_indexes.append(i)\n",
    "        y_bad_cluster_prob.append(cluster.post_prob)\n",
    "print('Done')"
   ]
  },
  {
   "cell_type": "code",
   "execution_count": 18,
   "id": "6e7795e0",
   "metadata": {
    "scrolled": true
   },
   "outputs": [
    {
     "name": "stdout",
     "output_type": "stream",
     "text": [
      "No good hit found in the top 50 clusters\n"
     ]
    },
    {
     "data": {
      "text/plain": [
       "<matplotlib.legend.Legend at 0x7fef87254450>"
      ]
     },
     "execution_count": 18,
     "metadata": {},
     "output_type": "execute_result"
    },
    {
     "data": {
      "image/png": "[encoded data removed]",
      "text/plain": [
       "<Figure size 432x288 with 1 Axes>"
      ]
     },
     "metadata": {
      "needs_background": "light"
     },
     "output_type": "display_data"
    }
   ],
   "source": [
    "ion = 'b'\n",
    "found = False\n",
    "for i in range(0,50):\n",
    "    target_cluster = b_sorted_clusters[i]\n",
    "    assessment, _ = testing_utils.is_good_hit(target_cluster.seq, ion, correct_sequence)\n",
    "    if assessment == True:\n",
    "        print('Good hit found at:', i)\n",
    "        found = True\n",
    "if not found:\n",
    "    print(\"No good hit found in the top 50 clusters\")\n",
    "plt.scatter(b_bad_indexes, b_bad_cluster_prob, color = 'r', label = 'Bad hits')\n",
    "plt.scatter(b_good_indexes, b_good_cluster_prob, color = 'g', label = 'Good hits')\n",
    "plt.title('Rank of b hits when sorted by posterior probability')\n",
    "plt.xlabel('Rank of hits')\n",
    "plt.ylabel('Posterior Probability')\n",
    "plt.legend()"
   ]
  },
  {
   "cell_type": "code",
   "execution_count": 19,
   "id": "4502f087",
   "metadata": {
    "scrolled": false
   },
   "outputs": [
    {
     "name": "stdout",
     "output_type": "stream",
     "text": [
      "No good hit found in the top 50 clusters\n"
     ]
    },
    {
     "data": {
      "text/plain": [
       "<matplotlib.legend.Legend at 0x7feeb5d21590>"
      ]
     },
     "execution_count": 19,
     "metadata": {},
     "output_type": "execute_result"
    },
    {
     "data": {
      "image/png": "[encoded data removed]",
      "text/plain": [
       "<Figure size 432x288 with 1 Axes>"
      ]
     },
     "metadata": {
      "needs_background": "light"
     },
     "output_type": "display_data"
    }
   ],
   "source": [
    "ion = 'y'\n",
    "found = False\n",
    "for i in range(0,50):\n",
    "    target_cluster = y_sorted_clusters[i]\n",
    "    assessment, _ = testing_utils.is_good_hit(target_cluster.seq, ion, correct_sequence)\n",
    "    if assessment == True:\n",
    "        print('Good hit found at:', i)\n",
    "        found = True\n",
    "if not found:\n",
    "    print(\"No good hit found in the top 50 clusters\")\n",
    "plt.scatter(y_bad_indexes, y_bad_cluster_prob, color = 'r', label = 'Bad hits')\n",
    "plt.scatter(y_good_indexes, y_good_cluster_prob, color = 'g', label = 'Good hits')\n",
    "plt.title('Rank of y hits when sorted by posterior probability')\n",
    "plt.xlabel('Rank of hits')\n",
    "plt.ylabel('Posterior Probability')\n",
    "plt.legend()"
   ]
  },
  {
   "cell_type": "code",
   "execution_count": 20,
   "id": "9f4f866c",
   "metadata": {},
   "outputs": [
    {
     "name": "stdout",
     "output_type": "stream",
     "text": [
      "Collecting Data...\n",
      "Done\n"
     ]
    }
   ],
   "source": [
    "print(\"Collecting Data...\")\n",
    "b_sorted_clusters = sorted(b_sorted_clusters, key=operator.attrgetter('score', 'post_prob', 'pid', 'prior'), reverse = True)\n",
    "y_sorted_clusters = sorted(y_sorted_clusters, key=operator.attrgetter('score', 'post_prob', 'pid', 'prior'), reverse = True)\n",
    "b_good_indexes = []\n",
    "b_bad_indexes = []\n",
    "b_good_scores = []\n",
    "b_bad_scores = []\n",
    "y_good_indexes = []\n",
    "y_bad_indexes = []\n",
    "y_good_scores = []\n",
    "y_bad_scores = []\n",
    "ion = 'b'\n",
    "for i, cluster in enumerate(b_sorted_clusters):\n",
    "    assessment, _ = testing_utils.is_good_hit(cluster.seq, ion, correct_sequence)\n",
    "    if assessment == True:\n",
    "        b_good_indexes.append(i)\n",
    "        b_good_scores.append(cluster.score)\n",
    "    else:\n",
    "        b_bad_indexes.append(i)\n",
    "        b_bad_scores.append(cluster.score)\n",
    "ion = 'y'\n",
    "for i, cluster in enumerate(y_sorted_clusters):\n",
    "    assessment, _ = testing_utils.is_good_hit(cluster.seq, ion, correct_sequence)\n",
    "    if assessment == True:\n",
    "        y_good_indexes.append(i)\n",
    "        y_good_scores.append(cluster.score)\n",
    "    else:\n",
    "        y_bad_indexes.append(i)\n",
    "        y_bad_scores.append(cluster.score)\n",
    "print('Done')"
   ]
  },
  {
   "cell_type": "code",
   "execution_count": 21,
   "id": "908be6cc",
   "metadata": {
    "scrolled": true
   },
   "outputs": [
    {
     "name": "stdout",
     "output_type": "stream",
     "text": [
      "No good hit found in the top 50 clusters\n"
     ]
    },
    {
     "data": {
      "text/plain": [
       "<matplotlib.legend.Legend at 0x7feeb1d8e710>"
      ]
     },
     "execution_count": 21,
     "metadata": {},
     "output_type": "execute_result"
    },
    {
     "data": {
      "image/png": "[encoded data removed]",
      "text/plain": [
       "<Figure size 432x288 with 1 Axes>"
      ]
     },
     "metadata": {
      "needs_background": "light"
     },
     "output_type": "display_data"
    }
   ],
   "source": [
    "ion = 'b'\n",
    "found = False\n",
    "for i in range(0,50):\n",
    "    target_cluster = b_sorted_clusters[i]\n",
    "    assessment, _ = testing_utils.is_good_hit(target_cluster.seq, ion, correct_sequence)    \n",
    "    if assessment == True:\n",
    "        print('Good hit found at:', i)\n",
    "        found = True\n",
    "if found == False:\n",
    "    print(\"No good hit found in the top 50 clusters\")\n",
    "plt.scatter(b_bad_indexes, b_bad_scores, color = 'r', label = 'Bad hits', s=1)\n",
    "plt.scatter(b_good_indexes, b_good_scores, color = 'g', label = 'Good hits', s=20)\n",
    "plt.title('Rank of b hits when sorted by score')\n",
    "plt.xlabel('Rank of hits')\n",
    "plt.ylabel('Score')\n",
    "plt.legend()"
   ]
  },
  {
   "cell_type": "code",
   "execution_count": 22,
   "id": "8ebfc20f",
   "metadata": {
    "scrolled": false
   },
   "outputs": [
    {
     "name": "stdout",
     "output_type": "stream",
     "text": [
      "Good hit found at: 8\n"
     ]
    },
    {
     "data": {
      "text/plain": [
       "<matplotlib.legend.Legend at 0x7fef5bbcd510>"
      ]
     },
     "execution_count": 22,
     "metadata": {},
     "output_type": "execute_result"
    },
    {
     "data": {
      "image/png": "[encoded data removed]",
      "text/plain": [
       "<Figure size 432x288 with 1 Axes>"
      ]
     },
     "metadata": {
      "needs_background": "light"
     },
     "output_type": "display_data"
    }
   ],
   "source": [
    "ion = 'y'\n",
    "found = False\n",
    "for i in range(0,50):\n",
    "    target_cluster = y_sorted_clusters[i]\n",
    "    assessment, _ = testing_utils.is_good_hit(target_cluster.seq, ion, correct_sequence)\n",
    "    if assessment == True:\n",
    "        print('Good hit found at:', i)\n",
    "        found = True\n",
    "if not found:\n",
    "    print(\"No good hit found in the top 50 clusters\")\n",
    "plt.scatter(y_bad_indexes, y_bad_scores, color = 'r', label = 'Bad hits', s = 20)\n",
    "plt.scatter(y_good_indexes, y_good_scores, color = 'g', label = 'Good hits', s = 20)\n",
    "plt.title('Rank of y hits when sorted by score')\n",
    "plt.xlabel('Rank of hits')\n",
    "plt.ylabel('Score')\n",
    "plt.legend()"
   ]
  },
  {
   "cell_type": "markdown",
   "id": "d14b2b4d",
   "metadata": {},
   "source": [
    "# Distribution of size of seq vs weight"
   ]
  },
  {
   "cell_type": "code",
   "execution_count": 25,
   "id": "96dc6650",
   "metadata": {},
   "outputs": [],
   "source": [
    "size_array = []\n",
    "weight_array = []\n",
    "prot_size_array = []\n",
    "prot_weight_array = []\n",
    "for seq in correct_sequences:\n",
    "    size_array.append(len(seq))\n",
    "    weight_array.append(gen_spectra.get_precursor(seq))"
   ]
  },
  {
   "cell_type": "code",
   "execution_count": 26,
   "id": "22d0055c",
   "metadata": {},
   "outputs": [
    {
     "data": {
      "text/plain": [
       "Text(0, 0.5, 'Weight of result')"
      ]
     },
     "execution_count": 26,
     "metadata": {},
     "output_type": "execute_result"
    },
    {
     "data": {
      "image/png": "[encoded data removed]",
      "text/plain": [
       "<Figure size 432x288 with 1 Axes>"
      ]
     },
     "metadata": {
      "needs_background": "light"
     },
     "output_type": "display_data"
    }
   ],
   "source": [
    "plt.scatter(size_array, weight_array)\n",
    "plt.xlabel('Len of spectrummill result')\n",
    "plt.ylabel('Weight of result')"
   ]
  },
  {
   "cell_type": "code",
   "execution_count": 29,
   "id": "ec47d589",
   "metadata": {},
   "outputs": [
    {
     "data": {
      "text/plain": [
       "Text(0, 0.5, 'Weight of Protein')"
      ]
     },
     "execution_count": 29,
     "metadata": {},
     "output_type": "execute_result"
    },
    {
     "data": {
      "image/png": "[encoded data removed]",
      "text/plain": [
       "<Figure size 432x288 with 1 Axes>"
      ]
     },
     "metadata": {
      "needs_background": "light"
     },
     "output_type": "display_data"
    }
   ],
   "source": [
    "prot_size_array = []\n",
    "prot_weight_array = []\n",
    "for prot in db.proteins:\n",
    "    target_prot = db.proteins[prot]\n",
    "    if len(target_prot) != 0:\n",
    "        target_prot = target_prot[0]\n",
    "        seq = target_prot[1]\n",
    "        prot_size_array.append(len(seq))\n",
    "        prot_weight_array.append(gen_spectra.get_precursor(seq))\n",
    "plt.scatter(prot_size_array, prot_weight_array)\n",
    "plt.title('Size vs Weight of Proteome')\n",
    "plt.xlabel('Len of Protein')\n",
    "plt.ylabel('Weight of Protein')"
   ]
  },
  {
   "cell_type": "code",
   "execution_count": null,
   "id": "47363fe8",
   "metadata": {},
   "outputs": [],
   "source": []
  }
 ],
 "metadata": {
  "kernelspec": {
   "display_name": "Python 3",
   "language": "python",
   "name": "python3"
  },
  "language_info": {
   "codemirror_mode": {
    "name": "ipython",
    "version": 3
   },
   "file_extension": ".py",
   "mimetype": "text/x-python",
   "name": "python",
   "nbconvert_exporter": "python",
   "pygments_lexer": "ipython3",
   "version": "3.7.10"
  }
 },
 "nbformat": 4,
 "nbformat_minor": 5
}
